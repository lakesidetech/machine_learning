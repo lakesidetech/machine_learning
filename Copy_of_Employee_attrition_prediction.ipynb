{
  "nbformat": 4,
  "nbformat_minor": 0,
  "metadata": {
    "colab": {
      "name": "Copy of Employee_attrition_prediction.ipynb",
      "provenance": [],
      "collapsed_sections": [],
      "include_colab_link": true
    },
    "kernelspec": {
      "name": "python3",
      "display_name": "Python 3"
    },
    "language_info": {
      "name": "python"
    }
  },
  "cells": [
    {
      "cell_type": "markdown",
      "metadata": {
        "id": "view-in-github",
        "colab_type": "text"
      },
      "source": [
        "<a href=\"https://colab.research.google.com/github/lakesidetech/machine_learning/blob/main/Copy_of_Employee_attrition_prediction.ipynb\" target=\"_parent\"><img src=\"https://colab.research.google.com/assets/colab-badge.svg\" alt=\"Open In Colab\"/></a>"
      ]
    },
    {
      "cell_type": "markdown",
      "metadata": {
        "id": "1O1zmn8QuYzM"
      },
      "source": [
        "#Machine Learning Model for Predicting Employee Attrition\n",
        "We are building a simple model using the ***employee_attrition_test.csv*** data set for predicting an employee attrition. This project is organized as follows: (a) data preprocessing and variable selection; (b) basic regression model; (c) hyper-parameters tuning; and (d) techniques for dimensionality reduction.\n",
        "\n",
        "Author: Ruth A. Amolo & Nancy Wachira Date: 5/15/2021\n"
      ]
    },
    {
      "cell_type": "markdown",
      "metadata": {
        "id": "3GE50E-UdSIX"
      },
      "source": [
        "# Import essential libraries"
      ]
    },
    {
      "cell_type": "code",
      "metadata": {
        "id": "jlc15nvGu03F"
      },
      "source": [
        "#data processing\n",
        "import pandas as pd\n",
        "\n",
        "# linear algebra\n",
        "import numpy as np\n",
        "\n",
        "# data visualization\n",
        "import matplotlib.pyplot as plt\n",
        "%matplotlib inline\n",
        "import seaborn as sns\n",
        "from pandas import read_csv\n",
        "\n",
        "#Algorithms\n",
        "from sklearn import linear_model\n",
        "from sklearn.linear_model import SGDClassifier\n",
        "from sklearn.linear_model import Perceptron\n",
        "from sklearn.linear_model import LogisticRegression\n",
        "from sklearn.neighbors import KNeighborsClassifier\n",
        "from sklearn.svm import SVC,LinearSVC\n",
        "from sklearn.tree import DecisionTreeClassifier\n",
        "from sklearn.ensemble import RandomForestClassifier\n",
        "\n"
      ],
      "execution_count": null,
      "outputs": []
    },
    {
      "cell_type": "markdown",
      "metadata": {
        "id": "lFWAuSPfwujS"
      },
      "source": [
        "**Read dataset and display columns¶**\n"
      ]
    },
    {
      "cell_type": "code",
      "metadata": {
        "id": "pX7o6ppDyEAW"
      },
      "source": [
        "#hr_attrition_test_df=pd.read_csv('/content/employee_attrition_test.csv')\n",
        "#hr_attrition_train_df=pd.read_csv('/content/employee_attrition_train.csv')\n",
        "\n",
        "hr_attrition_test_df=pd.read_csv('/content/employee_attrition_test.csv')\n",
        "hr_attrition_train_df=pd.read_csv('/content/employee_attrition_train.csv')"
      ],
      "execution_count": null,
      "outputs": []
    },
    {
      "cell_type": "code",
      "metadata": {
        "id": "Wx481SCh0h-I"
      },
      "source": [
        "test_data = hr_attrition_test_df=pd.read_csv('/content/employee_attrition_test.csv')\n",
        "train_data = hr_attrition_train_df=pd.read_csv('/content/employee_attrition_train.csv')\n",
        "\n"
      ],
      "execution_count": null,
      "outputs": []
    },
    {
      "cell_type": "markdown",
      "metadata": {
        "id": "4QYCkcn69L2k"
      },
      "source": [
        "**A quick preview the first 10 Training Dataset**"
      ]
    },
    {
      "cell_type": "code",
      "metadata": {
        "id": "uUWcTj5OTi5g",
        "colab": {
          "base_uri": "https://localhost:8080/",
          "height": 555
        },
        "outputId": "1dbc804f-f186-474d-9009-f1a562b02124"
      },
      "source": [
        "\n",
        "train_data.head(10)\n"
      ],
      "execution_count": 74,
      "outputs": [
        {
          "output_type": "execute_result",
          "data": {
            "text/html": [
              "<div>\n",
              "<style scoped>\n",
              "    .dataframe tbody tr th:only-of-type {\n",
              "        vertical-align: middle;\n",
              "    }\n",
              "\n",
              "    .dataframe tbody tr th {\n",
              "        vertical-align: top;\n",
              "    }\n",
              "\n",
              "    .dataframe thead th {\n",
              "        text-align: right;\n",
              "    }\n",
              "</style>\n",
              "<table border=\"1\" class=\"dataframe\">\n",
              "  <thead>\n",
              "    <tr style=\"text-align: right;\">\n",
              "      <th></th>\n",
              "      <th>Age</th>\n",
              "      <th>Attrition</th>\n",
              "      <th>BusinessTravel</th>\n",
              "      <th>DailyRate</th>\n",
              "      <th>Department</th>\n",
              "      <th>DistanceFromHome</th>\n",
              "      <th>Education</th>\n",
              "      <th>EducationField</th>\n",
              "      <th>EmployeeCount</th>\n",
              "      <th>EmployeeNumber</th>\n",
              "      <th>EnvironmentSatisfaction</th>\n",
              "      <th>Gender</th>\n",
              "      <th>HourlyRate</th>\n",
              "      <th>JobInvolvement</th>\n",
              "      <th>JobLevel</th>\n",
              "      <th>JobRole</th>\n",
              "      <th>JobSatisfaction</th>\n",
              "      <th>MaritalStatus</th>\n",
              "      <th>MonthlyIncome</th>\n",
              "      <th>MonthlyRate</th>\n",
              "      <th>NumCompaniesWorked</th>\n",
              "      <th>Over18</th>\n",
              "      <th>OverTime</th>\n",
              "      <th>PercentSalaryHike</th>\n",
              "      <th>PerformanceRating</th>\n",
              "      <th>RelationshipSatisfaction</th>\n",
              "      <th>StandardHours</th>\n",
              "      <th>StockOptionLevel</th>\n",
              "      <th>TotalWorkingYears</th>\n",
              "      <th>TrainingTimesLastYear</th>\n",
              "      <th>WorkLifeBalance</th>\n",
              "      <th>YearsAtCompany</th>\n",
              "      <th>YearsInCurrentRole</th>\n",
              "      <th>YearsSinceLastPromotion</th>\n",
              "      <th>YearsWithCurrManager</th>\n",
              "    </tr>\n",
              "  </thead>\n",
              "  <tbody>\n",
              "    <tr>\n",
              "      <th>0</th>\n",
              "      <td>50.0</td>\n",
              "      <td>No</td>\n",
              "      <td>Travel_Rarely</td>\n",
              "      <td>1126.0</td>\n",
              "      <td>Research &amp; Development</td>\n",
              "      <td>1.0</td>\n",
              "      <td>2</td>\n",
              "      <td>Medical</td>\n",
              "      <td>1</td>\n",
              "      <td>997</td>\n",
              "      <td>4</td>\n",
              "      <td>Male</td>\n",
              "      <td>66</td>\n",
              "      <td>3</td>\n",
              "      <td>4</td>\n",
              "      <td>Research Director</td>\n",
              "      <td>4</td>\n",
              "      <td>Divorced</td>\n",
              "      <td>17399</td>\n",
              "      <td>6615</td>\n",
              "      <td>9</td>\n",
              "      <td>Y</td>\n",
              "      <td>No</td>\n",
              "      <td>22</td>\n",
              "      <td>4</td>\n",
              "      <td>3</td>\n",
              "      <td>80</td>\n",
              "      <td>1</td>\n",
              "      <td>32</td>\n",
              "      <td>1</td>\n",
              "      <td>2</td>\n",
              "      <td>5</td>\n",
              "      <td>4</td>\n",
              "      <td>1</td>\n",
              "      <td>3</td>\n",
              "    </tr>\n",
              "    <tr>\n",
              "      <th>1</th>\n",
              "      <td>36.0</td>\n",
              "      <td>No</td>\n",
              "      <td>Travel_Rarely</td>\n",
              "      <td>216.0</td>\n",
              "      <td>Research &amp; Development</td>\n",
              "      <td>6.0</td>\n",
              "      <td>2</td>\n",
              "      <td>Medical</td>\n",
              "      <td>1</td>\n",
              "      <td>178</td>\n",
              "      <td>2</td>\n",
              "      <td>Male</td>\n",
              "      <td>84</td>\n",
              "      <td>3</td>\n",
              "      <td>2</td>\n",
              "      <td>Manufacturing Director</td>\n",
              "      <td>2</td>\n",
              "      <td>Divorced</td>\n",
              "      <td>4941</td>\n",
              "      <td>2819</td>\n",
              "      <td>6</td>\n",
              "      <td>Y</td>\n",
              "      <td>No</td>\n",
              "      <td>20</td>\n",
              "      <td>4</td>\n",
              "      <td>4</td>\n",
              "      <td>80</td>\n",
              "      <td>2</td>\n",
              "      <td>7</td>\n",
              "      <td>0</td>\n",
              "      <td>3</td>\n",
              "      <td>3</td>\n",
              "      <td>2</td>\n",
              "      <td>0</td>\n",
              "      <td>1</td>\n",
              "    </tr>\n",
              "    <tr>\n",
              "      <th>2</th>\n",
              "      <td>21.0</td>\n",
              "      <td>Yes</td>\n",
              "      <td>Travel_Rarely</td>\n",
              "      <td>337.0</td>\n",
              "      <td>Sales</td>\n",
              "      <td>7.0</td>\n",
              "      <td>1</td>\n",
              "      <td>Marketing</td>\n",
              "      <td>1</td>\n",
              "      <td>1780</td>\n",
              "      <td>2</td>\n",
              "      <td>Male</td>\n",
              "      <td>31</td>\n",
              "      <td>3</td>\n",
              "      <td>1</td>\n",
              "      <td>Sales Representative</td>\n",
              "      <td>2</td>\n",
              "      <td>Single</td>\n",
              "      <td>2679</td>\n",
              "      <td>4567</td>\n",
              "      <td>1</td>\n",
              "      <td>Y</td>\n",
              "      <td>No</td>\n",
              "      <td>13</td>\n",
              "      <td>3</td>\n",
              "      <td>2</td>\n",
              "      <td>80</td>\n",
              "      <td>0</td>\n",
              "      <td>1</td>\n",
              "      <td>3</td>\n",
              "      <td>3</td>\n",
              "      <td>1</td>\n",
              "      <td>0</td>\n",
              "      <td>1</td>\n",
              "      <td>0</td>\n",
              "    </tr>\n",
              "    <tr>\n",
              "      <th>3</th>\n",
              "      <td>50.0</td>\n",
              "      <td>No</td>\n",
              "      <td>Travel_Frequently</td>\n",
              "      <td>1246.0</td>\n",
              "      <td>Human Resources</td>\n",
              "      <td>NaN</td>\n",
              "      <td>3</td>\n",
              "      <td>Medical</td>\n",
              "      <td>1</td>\n",
              "      <td>644</td>\n",
              "      <td>1</td>\n",
              "      <td>Male</td>\n",
              "      <td>99</td>\n",
              "      <td>3</td>\n",
              "      <td>5</td>\n",
              "      <td>Manager</td>\n",
              "      <td>2</td>\n",
              "      <td>Married</td>\n",
              "      <td>18200</td>\n",
              "      <td>7999</td>\n",
              "      <td>1</td>\n",
              "      <td>Y</td>\n",
              "      <td>No</td>\n",
              "      <td>11</td>\n",
              "      <td>3</td>\n",
              "      <td>3</td>\n",
              "      <td>80</td>\n",
              "      <td>1</td>\n",
              "      <td>32</td>\n",
              "      <td>2</td>\n",
              "      <td>3</td>\n",
              "      <td>32</td>\n",
              "      <td>5</td>\n",
              "      <td>10</td>\n",
              "      <td>7</td>\n",
              "    </tr>\n",
              "    <tr>\n",
              "      <th>4</th>\n",
              "      <td>52.0</td>\n",
              "      <td>No</td>\n",
              "      <td>Travel_Rarely</td>\n",
              "      <td>994.0</td>\n",
              "      <td>Research &amp; Development</td>\n",
              "      <td>7.0</td>\n",
              "      <td>4</td>\n",
              "      <td>Life Sciences</td>\n",
              "      <td>1</td>\n",
              "      <td>1118</td>\n",
              "      <td>2</td>\n",
              "      <td>Male</td>\n",
              "      <td>87</td>\n",
              "      <td>3</td>\n",
              "      <td>3</td>\n",
              "      <td>Healthcare Representative</td>\n",
              "      <td>2</td>\n",
              "      <td>Single</td>\n",
              "      <td>10445</td>\n",
              "      <td>15322</td>\n",
              "      <td>7</td>\n",
              "      <td>Y</td>\n",
              "      <td>No</td>\n",
              "      <td>19</td>\n",
              "      <td>3</td>\n",
              "      <td>4</td>\n",
              "      <td>80</td>\n",
              "      <td>0</td>\n",
              "      <td>18</td>\n",
              "      <td>4</td>\n",
              "      <td>3</td>\n",
              "      <td>8</td>\n",
              "      <td>6</td>\n",
              "      <td>4</td>\n",
              "      <td>0</td>\n",
              "    </tr>\n",
              "    <tr>\n",
              "      <th>5</th>\n",
              "      <td>33.0</td>\n",
              "      <td>Yes</td>\n",
              "      <td>Travel_Rarely</td>\n",
              "      <td>1277.0</td>\n",
              "      <td>Research &amp; Development</td>\n",
              "      <td>15.0</td>\n",
              "      <td>1</td>\n",
              "      <td>Medical</td>\n",
              "      <td>1</td>\n",
              "      <td>582</td>\n",
              "      <td>2</td>\n",
              "      <td>Male</td>\n",
              "      <td>56</td>\n",
              "      <td>3</td>\n",
              "      <td>3</td>\n",
              "      <td>Manager</td>\n",
              "      <td>3</td>\n",
              "      <td>Married</td>\n",
              "      <td>13610</td>\n",
              "      <td>24619</td>\n",
              "      <td>7</td>\n",
              "      <td>Y</td>\n",
              "      <td>Yes</td>\n",
              "      <td>12</td>\n",
              "      <td>3</td>\n",
              "      <td>4</td>\n",
              "      <td>80</td>\n",
              "      <td>0</td>\n",
              "      <td>15</td>\n",
              "      <td>2</td>\n",
              "      <td>4</td>\n",
              "      <td>7</td>\n",
              "      <td>6</td>\n",
              "      <td>7</td>\n",
              "      <td>7</td>\n",
              "    </tr>\n",
              "    <tr>\n",
              "      <th>6</th>\n",
              "      <td>47.0</td>\n",
              "      <td>No</td>\n",
              "      <td>Travel_Rarely</td>\n",
              "      <td>1001.0</td>\n",
              "      <td>Research &amp; Development</td>\n",
              "      <td>4.0</td>\n",
              "      <td>3</td>\n",
              "      <td>Life Sciences</td>\n",
              "      <td>1</td>\n",
              "      <td>1827</td>\n",
              "      <td>3</td>\n",
              "      <td>Female</td>\n",
              "      <td>92</td>\n",
              "      <td>2</td>\n",
              "      <td>3</td>\n",
              "      <td>Manufacturing Director</td>\n",
              "      <td>2</td>\n",
              "      <td>Divorced</td>\n",
              "      <td>10333</td>\n",
              "      <td>19271</td>\n",
              "      <td>8</td>\n",
              "      <td>Y</td>\n",
              "      <td>Yes</td>\n",
              "      <td>12</td>\n",
              "      <td>3</td>\n",
              "      <td>3</td>\n",
              "      <td>80</td>\n",
              "      <td>1</td>\n",
              "      <td>28</td>\n",
              "      <td>4</td>\n",
              "      <td>3</td>\n",
              "      <td>22</td>\n",
              "      <td>11</td>\n",
              "      <td>14</td>\n",
              "      <td>10</td>\n",
              "    </tr>\n",
              "    <tr>\n",
              "      <th>7</th>\n",
              "      <td>22.0</td>\n",
              "      <td>No</td>\n",
              "      <td>Travel_Rarely</td>\n",
              "      <td>1230.0</td>\n",
              "      <td>Research &amp; Development</td>\n",
              "      <td>1.0</td>\n",
              "      <td>2</td>\n",
              "      <td>Life Sciences</td>\n",
              "      <td>1</td>\n",
              "      <td>872</td>\n",
              "      <td>4</td>\n",
              "      <td>Male</td>\n",
              "      <td>33</td>\n",
              "      <td>2</td>\n",
              "      <td>2</td>\n",
              "      <td>Manufacturing Director</td>\n",
              "      <td>4</td>\n",
              "      <td>Married</td>\n",
              "      <td>4775</td>\n",
              "      <td>19146</td>\n",
              "      <td>6</td>\n",
              "      <td>Y</td>\n",
              "      <td>No</td>\n",
              "      <td>22</td>\n",
              "      <td>4</td>\n",
              "      <td>1</td>\n",
              "      <td>80</td>\n",
              "      <td>2</td>\n",
              "      <td>4</td>\n",
              "      <td>2</td>\n",
              "      <td>1</td>\n",
              "      <td>2</td>\n",
              "      <td>2</td>\n",
              "      <td>2</td>\n",
              "      <td>2</td>\n",
              "    </tr>\n",
              "    <tr>\n",
              "      <th>8</th>\n",
              "      <td>NaN</td>\n",
              "      <td>Yes</td>\n",
              "      <td>Travel_Rarely</td>\n",
              "      <td>890.0</td>\n",
              "      <td>Research &amp; Development</td>\n",
              "      <td>2.0</td>\n",
              "      <td>4</td>\n",
              "      <td>Medical</td>\n",
              "      <td>1</td>\n",
              "      <td>828</td>\n",
              "      <td>3</td>\n",
              "      <td>Male</td>\n",
              "      <td>46</td>\n",
              "      <td>3</td>\n",
              "      <td>1</td>\n",
              "      <td>Research Scientist</td>\n",
              "      <td>3</td>\n",
              "      <td>Single</td>\n",
              "      <td>4382</td>\n",
              "      <td>16374</td>\n",
              "      <td>6</td>\n",
              "      <td>Y</td>\n",
              "      <td>No</td>\n",
              "      <td>17</td>\n",
              "      <td>3</td>\n",
              "      <td>4</td>\n",
              "      <td>80</td>\n",
              "      <td>0</td>\n",
              "      <td>5</td>\n",
              "      <td>3</td>\n",
              "      <td>2</td>\n",
              "      <td>2</td>\n",
              "      <td>2</td>\n",
              "      <td>2</td>\n",
              "      <td>1</td>\n",
              "    </tr>\n",
              "    <tr>\n",
              "      <th>9</th>\n",
              "      <td>33.0</td>\n",
              "      <td>No</td>\n",
              "      <td>Non-Travel</td>\n",
              "      <td>530.0</td>\n",
              "      <td>Sales</td>\n",
              "      <td>16.0</td>\n",
              "      <td>3</td>\n",
              "      <td>Life Sciences</td>\n",
              "      <td>1</td>\n",
              "      <td>1681</td>\n",
              "      <td>3</td>\n",
              "      <td>Female</td>\n",
              "      <td>36</td>\n",
              "      <td>3</td>\n",
              "      <td>2</td>\n",
              "      <td>Sales Executive</td>\n",
              "      <td>4</td>\n",
              "      <td>Divorced</td>\n",
              "      <td>5368</td>\n",
              "      <td>16130</td>\n",
              "      <td>1</td>\n",
              "      <td>Y</td>\n",
              "      <td>Yes</td>\n",
              "      <td>25</td>\n",
              "      <td>4</td>\n",
              "      <td>3</td>\n",
              "      <td>80</td>\n",
              "      <td>1</td>\n",
              "      <td>7</td>\n",
              "      <td>2</td>\n",
              "      <td>3</td>\n",
              "      <td>6</td>\n",
              "      <td>5</td>\n",
              "      <td>1</td>\n",
              "      <td>2</td>\n",
              "    </tr>\n",
              "  </tbody>\n",
              "</table>\n",
              "</div>"
            ],
            "text/plain": [
              "    Age Attrition  ... YearsSinceLastPromotion  YearsWithCurrManager\n",
              "0  50.0        No  ...                       1                     3\n",
              "1  36.0        No  ...                       0                     1\n",
              "2  21.0       Yes  ...                       1                     0\n",
              "3  50.0        No  ...                      10                     7\n",
              "4  52.0        No  ...                       4                     0\n",
              "5  33.0       Yes  ...                       7                     7\n",
              "6  47.0        No  ...                      14                    10\n",
              "7  22.0        No  ...                       2                     2\n",
              "8   NaN       Yes  ...                       2                     1\n",
              "9  33.0        No  ...                       1                     2\n",
              "\n",
              "[10 rows x 35 columns]"
            ]
          },
          "metadata": {
            "tags": []
          },
          "execution_count": 74
        }
      ]
    },
    {
      "cell_type": "code",
      "metadata": {
        "colab": {
          "base_uri": "https://localhost:8080/"
        },
        "id": "o9dCOD069jQX",
        "outputId": "4d05f1c7-f91c-4d7c-e9c6-3c8267369149"
      },
      "source": [
        "train_data.shape #Total rows and columns in Training dataset\n"
      ],
      "execution_count": 75,
      "outputs": [
        {
          "output_type": "execute_result",
          "data": {
            "text/plain": [
              "(1029, 35)"
            ]
          },
          "metadata": {
            "tags": []
          },
          "execution_count": 75
        }
      ]
    },
    {
      "cell_type": "markdown",
      "metadata": {
        "id": "3y5tSdYr90pe"
      },
      "source": [
        "**We can see that there are 1029 rows and 35 columns in our training dataset.**"
      ]
    },
    {
      "cell_type": "code",
      "metadata": {
        "colab": {
          "base_uri": "https://localhost:8080/"
        },
        "id": "FFVMUe6jNiMW",
        "outputId": "10814736-ea9a-4602-ce8b-0274b2daaedf"
      },
      "source": [
        "train_data.info()"
      ],
      "execution_count": 77,
      "outputs": [
        {
          "output_type": "stream",
          "text": [
            "<class 'pandas.core.frame.DataFrame'>\n",
            "RangeIndex: 1029 entries, 0 to 1028\n",
            "Data columns (total 35 columns):\n",
            " #   Column                    Non-Null Count  Dtype  \n",
            "---  ------                    --------------  -----  \n",
            " 0   Age                       893 non-null    float64\n",
            " 1   Attrition                 1029 non-null   object \n",
            " 2   BusinessTravel            1024 non-null   object \n",
            " 3   DailyRate                 1002 non-null   float64\n",
            " 4   Department                1029 non-null   object \n",
            " 5   DistanceFromHome          934 non-null    float64\n",
            " 6   Education                 1029 non-null   int64  \n",
            " 7   EducationField            1029 non-null   object \n",
            " 8   EmployeeCount             1029 non-null   int64  \n",
            " 9   EmployeeNumber            1029 non-null   int64  \n",
            " 10  EnvironmentSatisfaction   1029 non-null   int64  \n",
            " 11  Gender                    1029 non-null   object \n",
            " 12  HourlyRate                1029 non-null   int64  \n",
            " 13  JobInvolvement            1029 non-null   int64  \n",
            " 14  JobLevel                  1029 non-null   int64  \n",
            " 15  JobRole                   1029 non-null   object \n",
            " 16  JobSatisfaction           1029 non-null   int64  \n",
            " 17  MaritalStatus             1024 non-null   object \n",
            " 18  MonthlyIncome             1029 non-null   int64  \n",
            " 19  MonthlyRate               1029 non-null   int64  \n",
            " 20  NumCompaniesWorked        1029 non-null   int64  \n",
            " 21  Over18                    1029 non-null   object \n",
            " 22  OverTime                  1029 non-null   object \n",
            " 23  PercentSalaryHike         1029 non-null   int64  \n",
            " 24  PerformanceRating         1029 non-null   int64  \n",
            " 25  RelationshipSatisfaction  1029 non-null   int64  \n",
            " 26  StandardHours             1029 non-null   int64  \n",
            " 27  StockOptionLevel          1029 non-null   int64  \n",
            " 28  TotalWorkingYears         1029 non-null   int64  \n",
            " 29  TrainingTimesLastYear     1029 non-null   int64  \n",
            " 30  WorkLifeBalance           1029 non-null   int64  \n",
            " 31  YearsAtCompany            1029 non-null   int64  \n",
            " 32  YearsInCurrentRole        1029 non-null   int64  \n",
            " 33  YearsSinceLastPromotion   1029 non-null   int64  \n",
            " 34  YearsWithCurrManager      1029 non-null   int64  \n",
            "dtypes: float64(3), int64(23), object(9)\n",
            "memory usage: 281.5+ KB\n"
          ],
          "name": "stdout"
        }
      ]
    },
    {
      "cell_type": "code",
      "metadata": {
        "colab": {
          "base_uri": "https://localhost:8080/"
        },
        "id": "ivMo4dpIMKSh",
        "outputId": "a402582c-e96f-4f0d-cb9a-8a0de9410253"
      },
      "source": [
        "train_data.isnull().sum()\n"
      ],
      "execution_count": 76,
      "outputs": [
        {
          "output_type": "execute_result",
          "data": {
            "text/plain": [
              "Age                         136\n",
              "Attrition                     0\n",
              "BusinessTravel                5\n",
              "DailyRate                    27\n",
              "Department                    0\n",
              "DistanceFromHome             95\n",
              "Education                     0\n",
              "EducationField                0\n",
              "EmployeeCount                 0\n",
              "EmployeeNumber                0\n",
              "EnvironmentSatisfaction       0\n",
              "Gender                        0\n",
              "HourlyRate                    0\n",
              "JobInvolvement                0\n",
              "JobLevel                      0\n",
              "JobRole                       0\n",
              "JobSatisfaction               0\n",
              "MaritalStatus                 5\n",
              "MonthlyIncome                 0\n",
              "MonthlyRate                   0\n",
              "NumCompaniesWorked            0\n",
              "Over18                        0\n",
              "OverTime                      0\n",
              "PercentSalaryHike             0\n",
              "PerformanceRating             0\n",
              "RelationshipSatisfaction      0\n",
              "StandardHours                 0\n",
              "StockOptionLevel              0\n",
              "TotalWorkingYears             0\n",
              "TrainingTimesLastYear         0\n",
              "WorkLifeBalance               0\n",
              "YearsAtCompany                0\n",
              "YearsInCurrentRole            0\n",
              "YearsSinceLastPromotion       0\n",
              "YearsWithCurrManager          0\n",
              "dtype: int64"
            ]
          },
          "metadata": {
            "tags": []
          },
          "execution_count": 76
        }
      ]
    },
    {
      "cell_type": "code",
      "metadata": {
        "id": "RwIEY4kpWKdo",
        "colab": {
          "base_uri": "https://localhost:8080/",
          "height": 200
        },
        "outputId": "66afd946-9882-4521-cc51-7838be7f31ce"
      },
      "source": [
        "#Let’s take a more detailed look at what data is actually missing:\n",
        "total = df500_train_data.isnull().sum().sort_values(ascending=False)\n",
        "percent_1 = df500_train_data.isnull().sum()/df500_train_data.isnull().count()*100\n",
        "percent_2 = (round(percent_1, 1)).sort_values(ascending=False)\n",
        "missing_data = pd.concat([total, percent_2], axis=1, keys=['Total', '%'])\n",
        "missing_data.head(5)\n"
      ],
      "execution_count": null,
      "outputs": [
        {
          "output_type": "execute_result",
          "data": {
            "text/html": [
              "<div>\n",
              "<style scoped>\n",
              "    .dataframe tbody tr th:only-of-type {\n",
              "        vertical-align: middle;\n",
              "    }\n",
              "\n",
              "    .dataframe tbody tr th {\n",
              "        vertical-align: top;\n",
              "    }\n",
              "\n",
              "    .dataframe thead th {\n",
              "        text-align: right;\n",
              "    }\n",
              "</style>\n",
              "<table border=\"1\" class=\"dataframe\">\n",
              "  <thead>\n",
              "    <tr style=\"text-align: right;\">\n",
              "      <th></th>\n",
              "      <th>Total</th>\n",
              "      <th>%</th>\n",
              "    </tr>\n",
              "  </thead>\n",
              "  <tbody>\n",
              "    <tr>\n",
              "      <th>Age</th>\n",
              "      <td>136</td>\n",
              "      <td>13.2</td>\n",
              "    </tr>\n",
              "    <tr>\n",
              "      <th>DistanceFromHome</th>\n",
              "      <td>95</td>\n",
              "      <td>9.2</td>\n",
              "    </tr>\n",
              "    <tr>\n",
              "      <th>DailyRate</th>\n",
              "      <td>27</td>\n",
              "      <td>2.6</td>\n",
              "    </tr>\n",
              "    <tr>\n",
              "      <th>BusinessTravel</th>\n",
              "      <td>5</td>\n",
              "      <td>0.5</td>\n",
              "    </tr>\n",
              "    <tr>\n",
              "      <th>MaritalStatus</th>\n",
              "      <td>5</td>\n",
              "      <td>0.5</td>\n",
              "    </tr>\n",
              "  </tbody>\n",
              "</table>\n",
              "</div>"
            ],
            "text/plain": [
              "                  Total     %\n",
              "Age                 136  13.2\n",
              "DistanceFromHome     95   9.2\n",
              "DailyRate            27   2.6\n",
              "BusinessTravel        5   0.5\n",
              "MaritalStatus         5   0.5"
            ]
          },
          "metadata": {
            "tags": []
          },
          "execution_count": 8
        }
      ]
    },
    {
      "cell_type": "markdown",
      "metadata": {
        "id": "cMOiCjDvMWEH"
      },
      "source": [
        "There are 136 rows with missing Age, 27 rows with missing DailyRate, 5 rows with mssing BussinessTravel, 95 rows with missing DistanceFromHome, and 5 rows with missing MaritalStatus information.\n",
        "\n"
      ]
    },
    {
      "cell_type": "code",
      "metadata": {
        "id": "ZODWcQSlou-O",
        "colab": {
          "base_uri": "https://localhost:8080/",
          "height": 863
        },
        "outputId": "87af8181-4bb4-450d-bbe4-658da8b58c90"
      },
      "source": [
        "train_data.describe().T\n"
      ],
      "execution_count": 78,
      "outputs": [
        {
          "output_type": "execute_result",
          "data": {
            "text/html": [
              "<div>\n",
              "<style scoped>\n",
              "    .dataframe tbody tr th:only-of-type {\n",
              "        vertical-align: middle;\n",
              "    }\n",
              "\n",
              "    .dataframe tbody tr th {\n",
              "        vertical-align: top;\n",
              "    }\n",
              "\n",
              "    .dataframe thead th {\n",
              "        text-align: right;\n",
              "    }\n",
              "</style>\n",
              "<table border=\"1\" class=\"dataframe\">\n",
              "  <thead>\n",
              "    <tr style=\"text-align: right;\">\n",
              "      <th></th>\n",
              "      <th>count</th>\n",
              "      <th>mean</th>\n",
              "      <th>std</th>\n",
              "      <th>min</th>\n",
              "      <th>25%</th>\n",
              "      <th>50%</th>\n",
              "      <th>75%</th>\n",
              "      <th>max</th>\n",
              "    </tr>\n",
              "  </thead>\n",
              "  <tbody>\n",
              "    <tr>\n",
              "      <th>Age</th>\n",
              "      <td>893.0</td>\n",
              "      <td>37.930571</td>\n",
              "      <td>9.395978</td>\n",
              "      <td>18.0</td>\n",
              "      <td>31.00</td>\n",
              "      <td>37.0</td>\n",
              "      <td>44.0</td>\n",
              "      <td>60.0</td>\n",
              "    </tr>\n",
              "    <tr>\n",
              "      <th>DailyRate</th>\n",
              "      <td>1002.0</td>\n",
              "      <td>800.528942</td>\n",
              "      <td>408.109828</td>\n",
              "      <td>102.0</td>\n",
              "      <td>458.25</td>\n",
              "      <td>801.5</td>\n",
              "      <td>1162.0</td>\n",
              "      <td>1496.0</td>\n",
              "    </tr>\n",
              "    <tr>\n",
              "      <th>DistanceFromHome</th>\n",
              "      <td>934.0</td>\n",
              "      <td>9.930407</td>\n",
              "      <td>8.421791</td>\n",
              "      <td>1.0</td>\n",
              "      <td>2.00</td>\n",
              "      <td>8.0</td>\n",
              "      <td>16.0</td>\n",
              "      <td>29.0</td>\n",
              "    </tr>\n",
              "    <tr>\n",
              "      <th>Education</th>\n",
              "      <td>1029.0</td>\n",
              "      <td>2.892128</td>\n",
              "      <td>1.053541</td>\n",
              "      <td>1.0</td>\n",
              "      <td>2.00</td>\n",
              "      <td>3.0</td>\n",
              "      <td>4.0</td>\n",
              "      <td>5.0</td>\n",
              "    </tr>\n",
              "    <tr>\n",
              "      <th>EmployeeCount</th>\n",
              "      <td>1029.0</td>\n",
              "      <td>1.000000</td>\n",
              "      <td>0.000000</td>\n",
              "      <td>1.0</td>\n",
              "      <td>1.00</td>\n",
              "      <td>1.0</td>\n",
              "      <td>1.0</td>\n",
              "      <td>1.0</td>\n",
              "    </tr>\n",
              "    <tr>\n",
              "      <th>EmployeeNumber</th>\n",
              "      <td>1029.0</td>\n",
              "      <td>1024.367347</td>\n",
              "      <td>606.301635</td>\n",
              "      <td>1.0</td>\n",
              "      <td>496.00</td>\n",
              "      <td>1019.0</td>\n",
              "      <td>1553.0</td>\n",
              "      <td>2068.0</td>\n",
              "    </tr>\n",
              "    <tr>\n",
              "      <th>EnvironmentSatisfaction</th>\n",
              "      <td>1029.0</td>\n",
              "      <td>2.683188</td>\n",
              "      <td>1.096829</td>\n",
              "      <td>1.0</td>\n",
              "      <td>2.00</td>\n",
              "      <td>3.0</td>\n",
              "      <td>4.0</td>\n",
              "      <td>4.0</td>\n",
              "    </tr>\n",
              "    <tr>\n",
              "      <th>HourlyRate</th>\n",
              "      <td>1029.0</td>\n",
              "      <td>66.680272</td>\n",
              "      <td>20.474094</td>\n",
              "      <td>30.0</td>\n",
              "      <td>48.00</td>\n",
              "      <td>67.0</td>\n",
              "      <td>84.0</td>\n",
              "      <td>100.0</td>\n",
              "    </tr>\n",
              "    <tr>\n",
              "      <th>JobInvolvement</th>\n",
              "      <td>1029.0</td>\n",
              "      <td>2.713314</td>\n",
              "      <td>0.710146</td>\n",
              "      <td>1.0</td>\n",
              "      <td>2.00</td>\n",
              "      <td>3.0</td>\n",
              "      <td>3.0</td>\n",
              "      <td>4.0</td>\n",
              "    </tr>\n",
              "    <tr>\n",
              "      <th>JobLevel</th>\n",
              "      <td>1029.0</td>\n",
              "      <td>2.043732</td>\n",
              "      <td>1.118918</td>\n",
              "      <td>1.0</td>\n",
              "      <td>1.00</td>\n",
              "      <td>2.0</td>\n",
              "      <td>3.0</td>\n",
              "      <td>5.0</td>\n",
              "    </tr>\n",
              "    <tr>\n",
              "      <th>JobSatisfaction</th>\n",
              "      <td>1029.0</td>\n",
              "      <td>2.712342</td>\n",
              "      <td>1.096889</td>\n",
              "      <td>1.0</td>\n",
              "      <td>2.00</td>\n",
              "      <td>3.0</td>\n",
              "      <td>4.0</td>\n",
              "      <td>4.0</td>\n",
              "    </tr>\n",
              "    <tr>\n",
              "      <th>MonthlyIncome</th>\n",
              "      <td>1029.0</td>\n",
              "      <td>6449.796890</td>\n",
              "      <td>4794.525367</td>\n",
              "      <td>1009.0</td>\n",
              "      <td>2814.00</td>\n",
              "      <td>4735.0</td>\n",
              "      <td>8446.0</td>\n",
              "      <td>19999.0</td>\n",
              "    </tr>\n",
              "    <tr>\n",
              "      <th>MonthlyRate</th>\n",
              "      <td>1029.0</td>\n",
              "      <td>14250.629738</td>\n",
              "      <td>7088.757938</td>\n",
              "      <td>2094.0</td>\n",
              "      <td>7950.00</td>\n",
              "      <td>14295.0</td>\n",
              "      <td>20392.0</td>\n",
              "      <td>26999.0</td>\n",
              "    </tr>\n",
              "    <tr>\n",
              "      <th>NumCompaniesWorked</th>\n",
              "      <td>1029.0</td>\n",
              "      <td>2.653061</td>\n",
              "      <td>2.508186</td>\n",
              "      <td>0.0</td>\n",
              "      <td>1.00</td>\n",
              "      <td>1.0</td>\n",
              "      <td>4.0</td>\n",
              "      <td>9.0</td>\n",
              "    </tr>\n",
              "    <tr>\n",
              "      <th>PercentSalaryHike</th>\n",
              "      <td>1029.0</td>\n",
              "      <td>15.260447</td>\n",
              "      <td>3.665779</td>\n",
              "      <td>11.0</td>\n",
              "      <td>12.00</td>\n",
              "      <td>14.0</td>\n",
              "      <td>18.0</td>\n",
              "      <td>25.0</td>\n",
              "    </tr>\n",
              "    <tr>\n",
              "      <th>PerformanceRating</th>\n",
              "      <td>1029.0</td>\n",
              "      <td>3.159378</td>\n",
              "      <td>0.366206</td>\n",
              "      <td>3.0</td>\n",
              "      <td>3.00</td>\n",
              "      <td>3.0</td>\n",
              "      <td>3.0</td>\n",
              "      <td>4.0</td>\n",
              "    </tr>\n",
              "    <tr>\n",
              "      <th>RelationshipSatisfaction</th>\n",
              "      <td>1029.0</td>\n",
              "      <td>2.689990</td>\n",
              "      <td>1.077767</td>\n",
              "      <td>1.0</td>\n",
              "      <td>2.00</td>\n",
              "      <td>3.0</td>\n",
              "      <td>4.0</td>\n",
              "      <td>4.0</td>\n",
              "    </tr>\n",
              "    <tr>\n",
              "      <th>StandardHours</th>\n",
              "      <td>1029.0</td>\n",
              "      <td>80.000000</td>\n",
              "      <td>0.000000</td>\n",
              "      <td>80.0</td>\n",
              "      <td>80.00</td>\n",
              "      <td>80.0</td>\n",
              "      <td>80.0</td>\n",
              "      <td>80.0</td>\n",
              "    </tr>\n",
              "    <tr>\n",
              "      <th>StockOptionLevel</th>\n",
              "      <td>1029.0</td>\n",
              "      <td>0.822157</td>\n",
              "      <td>0.874662</td>\n",
              "      <td>0.0</td>\n",
              "      <td>0.00</td>\n",
              "      <td>1.0</td>\n",
              "      <td>1.0</td>\n",
              "      <td>3.0</td>\n",
              "    </tr>\n",
              "    <tr>\n",
              "      <th>TotalWorkingYears</th>\n",
              "      <td>1029.0</td>\n",
              "      <td>11.196307</td>\n",
              "      <td>7.857581</td>\n",
              "      <td>0.0</td>\n",
              "      <td>6.00</td>\n",
              "      <td>10.0</td>\n",
              "      <td>15.0</td>\n",
              "      <td>40.0</td>\n",
              "    </tr>\n",
              "    <tr>\n",
              "      <th>TrainingTimesLastYear</th>\n",
              "      <td>1029.0</td>\n",
              "      <td>2.782313</td>\n",
              "      <td>1.283401</td>\n",
              "      <td>0.0</td>\n",
              "      <td>2.00</td>\n",
              "      <td>3.0</td>\n",
              "      <td>3.0</td>\n",
              "      <td>6.0</td>\n",
              "    </tr>\n",
              "    <tr>\n",
              "      <th>WorkLifeBalance</th>\n",
              "      <td>1029.0</td>\n",
              "      <td>2.748299</td>\n",
              "      <td>0.697278</td>\n",
              "      <td>1.0</td>\n",
              "      <td>2.00</td>\n",
              "      <td>3.0</td>\n",
              "      <td>3.0</td>\n",
              "      <td>4.0</td>\n",
              "    </tr>\n",
              "    <tr>\n",
              "      <th>YearsAtCompany</th>\n",
              "      <td>1029.0</td>\n",
              "      <td>6.942663</td>\n",
              "      <td>6.068322</td>\n",
              "      <td>0.0</td>\n",
              "      <td>3.00</td>\n",
              "      <td>5.0</td>\n",
              "      <td>10.0</td>\n",
              "      <td>37.0</td>\n",
              "    </tr>\n",
              "    <tr>\n",
              "      <th>YearsInCurrentRole</th>\n",
              "      <td>1029.0</td>\n",
              "      <td>4.215743</td>\n",
              "      <td>3.658595</td>\n",
              "      <td>0.0</td>\n",
              "      <td>2.00</td>\n",
              "      <td>3.0</td>\n",
              "      <td>7.0</td>\n",
              "      <td>18.0</td>\n",
              "    </tr>\n",
              "    <tr>\n",
              "      <th>YearsSinceLastPromotion</th>\n",
              "      <td>1029.0</td>\n",
              "      <td>2.119534</td>\n",
              "      <td>3.108651</td>\n",
              "      <td>0.0</td>\n",
              "      <td>0.00</td>\n",
              "      <td>1.0</td>\n",
              "      <td>2.0</td>\n",
              "      <td>15.0</td>\n",
              "    </tr>\n",
              "    <tr>\n",
              "      <th>YearsWithCurrManager</th>\n",
              "      <td>1029.0</td>\n",
              "      <td>4.005831</td>\n",
              "      <td>3.522574</td>\n",
              "      <td>0.0</td>\n",
              "      <td>2.00</td>\n",
              "      <td>3.0</td>\n",
              "      <td>7.0</td>\n",
              "      <td>17.0</td>\n",
              "    </tr>\n",
              "  </tbody>\n",
              "</table>\n",
              "</div>"
            ],
            "text/plain": [
              "                           count          mean  ...      75%      max\n",
              "Age                        893.0     37.930571  ...     44.0     60.0\n",
              "DailyRate                 1002.0    800.528942  ...   1162.0   1496.0\n",
              "DistanceFromHome           934.0      9.930407  ...     16.0     29.0\n",
              "Education                 1029.0      2.892128  ...      4.0      5.0\n",
              "EmployeeCount             1029.0      1.000000  ...      1.0      1.0\n",
              "EmployeeNumber            1029.0   1024.367347  ...   1553.0   2068.0\n",
              "EnvironmentSatisfaction   1029.0      2.683188  ...      4.0      4.0\n",
              "HourlyRate                1029.0     66.680272  ...     84.0    100.0\n",
              "JobInvolvement            1029.0      2.713314  ...      3.0      4.0\n",
              "JobLevel                  1029.0      2.043732  ...      3.0      5.0\n",
              "JobSatisfaction           1029.0      2.712342  ...      4.0      4.0\n",
              "MonthlyIncome             1029.0   6449.796890  ...   8446.0  19999.0\n",
              "MonthlyRate               1029.0  14250.629738  ...  20392.0  26999.0\n",
              "NumCompaniesWorked        1029.0      2.653061  ...      4.0      9.0\n",
              "PercentSalaryHike         1029.0     15.260447  ...     18.0     25.0\n",
              "PerformanceRating         1029.0      3.159378  ...      3.0      4.0\n",
              "RelationshipSatisfaction  1029.0      2.689990  ...      4.0      4.0\n",
              "StandardHours             1029.0     80.000000  ...     80.0     80.0\n",
              "StockOptionLevel          1029.0      0.822157  ...      1.0      3.0\n",
              "TotalWorkingYears         1029.0     11.196307  ...     15.0     40.0\n",
              "TrainingTimesLastYear     1029.0      2.782313  ...      3.0      6.0\n",
              "WorkLifeBalance           1029.0      2.748299  ...      3.0      4.0\n",
              "YearsAtCompany            1029.0      6.942663  ...     10.0     37.0\n",
              "YearsInCurrentRole        1029.0      4.215743  ...      7.0     18.0\n",
              "YearsSinceLastPromotion   1029.0      2.119534  ...      2.0     15.0\n",
              "YearsWithCurrManager      1029.0      4.005831  ...      7.0     17.0\n",
              "\n",
              "[26 rows x 8 columns]"
            ]
          },
          "metadata": {
            "tags": []
          },
          "execution_count": 78
        }
      ]
    },
    {
      "cell_type": "markdown",
      "metadata": {
        "id": "tTu82VaHPp-T"
      },
      "source": [
        "*Looking into the testing dataset*"
      ]
    },
    {
      "cell_type": "code",
      "metadata": {
        "colab": {
          "base_uri": "https://localhost:8080/"
        },
        "id": "t3-mmChNPynP",
        "outputId": "6ed0ec0a-1690-47a2-e930-6c78467d6384"
      },
      "source": [
        "test_data.shape"
      ],
      "execution_count": 79,
      "outputs": [
        {
          "output_type": "execute_result",
          "data": {
            "text/plain": [
              "(441, 34)"
            ]
          },
          "metadata": {
            "tags": []
          },
          "execution_count": 79
        }
      ]
    },
    {
      "cell_type": "code",
      "metadata": {
        "colab": {
          "base_uri": "https://localhost:8080/",
          "height": 312
        },
        "id": "Q4ANhky5T8ir",
        "outputId": "9258501a-2914-490b-908e-2591f99de803"
      },
      "source": [
        "test_data.head()\n"
      ],
      "execution_count": 82,
      "outputs": [
        {
          "output_type": "execute_result",
          "data": {
            "text/html": [
              "<div>\n",
              "<style scoped>\n",
              "    .dataframe tbody tr th:only-of-type {\n",
              "        vertical-align: middle;\n",
              "    }\n",
              "\n",
              "    .dataframe tbody tr th {\n",
              "        vertical-align: top;\n",
              "    }\n",
              "\n",
              "    .dataframe thead th {\n",
              "        text-align: right;\n",
              "    }\n",
              "</style>\n",
              "<table border=\"1\" class=\"dataframe\">\n",
              "  <thead>\n",
              "    <tr style=\"text-align: right;\">\n",
              "      <th></th>\n",
              "      <th>Age</th>\n",
              "      <th>BusinessTravel</th>\n",
              "      <th>DailyRate</th>\n",
              "      <th>Department</th>\n",
              "      <th>DistanceFromHome</th>\n",
              "      <th>Education</th>\n",
              "      <th>EducationField</th>\n",
              "      <th>EmployeeCount</th>\n",
              "      <th>EmployeeNumber</th>\n",
              "      <th>EnvironmentSatisfaction</th>\n",
              "      <th>Gender</th>\n",
              "      <th>HourlyRate</th>\n",
              "      <th>JobInvolvement</th>\n",
              "      <th>JobLevel</th>\n",
              "      <th>JobRole</th>\n",
              "      <th>JobSatisfaction</th>\n",
              "      <th>MaritalStatus</th>\n",
              "      <th>MonthlyIncome</th>\n",
              "      <th>MonthlyRate</th>\n",
              "      <th>NumCompaniesWorked</th>\n",
              "      <th>Over18</th>\n",
              "      <th>OverTime</th>\n",
              "      <th>PercentSalaryHike</th>\n",
              "      <th>PerformanceRating</th>\n",
              "      <th>RelationshipSatisfaction</th>\n",
              "      <th>StandardHours</th>\n",
              "      <th>StockOptionLevel</th>\n",
              "      <th>TotalWorkingYears</th>\n",
              "      <th>TrainingTimesLastYear</th>\n",
              "      <th>WorkLifeBalance</th>\n",
              "      <th>YearsAtCompany</th>\n",
              "      <th>YearsInCurrentRole</th>\n",
              "      <th>YearsSinceLastPromotion</th>\n",
              "      <th>YearsWithCurrManager</th>\n",
              "    </tr>\n",
              "  </thead>\n",
              "  <tbody>\n",
              "    <tr>\n",
              "      <th>0</th>\n",
              "      <td>NaN</td>\n",
              "      <td>Travel_Rarely</td>\n",
              "      <td>866.0</td>\n",
              "      <td>Sales</td>\n",
              "      <td>NaN</td>\n",
              "      <td>3</td>\n",
              "      <td>Medical</td>\n",
              "      <td>1</td>\n",
              "      <td>1469</td>\n",
              "      <td>4</td>\n",
              "      <td>Male</td>\n",
              "      <td>84</td>\n",
              "      <td>3</td>\n",
              "      <td>2</td>\n",
              "      <td>Sales Executive</td>\n",
              "      <td>1</td>\n",
              "      <td>Single</td>\n",
              "      <td>8463</td>\n",
              "      <td>23490</td>\n",
              "      <td>0</td>\n",
              "      <td>Y</td>\n",
              "      <td>No</td>\n",
              "      <td>18</td>\n",
              "      <td>3</td>\n",
              "      <td>4</td>\n",
              "      <td>80</td>\n",
              "      <td>0</td>\n",
              "      <td>6</td>\n",
              "      <td>4</td>\n",
              "      <td>3</td>\n",
              "      <td>5</td>\n",
              "      <td>4</td>\n",
              "      <td>1</td>\n",
              "      <td>3</td>\n",
              "    </tr>\n",
              "    <tr>\n",
              "      <th>1</th>\n",
              "      <td>53.0</td>\n",
              "      <td>Travel_Rarely</td>\n",
              "      <td>1084.0</td>\n",
              "      <td>Research &amp; Development</td>\n",
              "      <td>13.0</td>\n",
              "      <td>2</td>\n",
              "      <td>Medical</td>\n",
              "      <td>1</td>\n",
              "      <td>250</td>\n",
              "      <td>4</td>\n",
              "      <td>Female</td>\n",
              "      <td>57</td>\n",
              "      <td>4</td>\n",
              "      <td>2</td>\n",
              "      <td>Manufacturing Director</td>\n",
              "      <td>1</td>\n",
              "      <td>Divorced</td>\n",
              "      <td>4450</td>\n",
              "      <td>26250</td>\n",
              "      <td>1</td>\n",
              "      <td>Y</td>\n",
              "      <td>No</td>\n",
              "      <td>11</td>\n",
              "      <td>3</td>\n",
              "      <td>3</td>\n",
              "      <td>80</td>\n",
              "      <td>2</td>\n",
              "      <td>5</td>\n",
              "      <td>3</td>\n",
              "      <td>3</td>\n",
              "      <td>4</td>\n",
              "      <td>2</td>\n",
              "      <td>1</td>\n",
              "      <td>3</td>\n",
              "    </tr>\n",
              "    <tr>\n",
              "      <th>2</th>\n",
              "      <td>24.0</td>\n",
              "      <td>Travel_Rarely</td>\n",
              "      <td>240.0</td>\n",
              "      <td>Human Resources</td>\n",
              "      <td>22.0</td>\n",
              "      <td>1</td>\n",
              "      <td>Human Resources</td>\n",
              "      <td>1</td>\n",
              "      <td>1714</td>\n",
              "      <td>4</td>\n",
              "      <td>Male</td>\n",
              "      <td>58</td>\n",
              "      <td>1</td>\n",
              "      <td>1</td>\n",
              "      <td>Human Resources</td>\n",
              "      <td>3</td>\n",
              "      <td>Married</td>\n",
              "      <td>1555</td>\n",
              "      <td>11585</td>\n",
              "      <td>1</td>\n",
              "      <td>Y</td>\n",
              "      <td>No</td>\n",
              "      <td>11</td>\n",
              "      <td>3</td>\n",
              "      <td>3</td>\n",
              "      <td>80</td>\n",
              "      <td>1</td>\n",
              "      <td>1</td>\n",
              "      <td>2</td>\n",
              "      <td>3</td>\n",
              "      <td>1</td>\n",
              "      <td>0</td>\n",
              "      <td>0</td>\n",
              "      <td>0</td>\n",
              "    </tr>\n",
              "    <tr>\n",
              "      <th>3</th>\n",
              "      <td>45.0</td>\n",
              "      <td>Travel_Rarely</td>\n",
              "      <td>1339.0</td>\n",
              "      <td>Research &amp; Development</td>\n",
              "      <td>7.0</td>\n",
              "      <td>3</td>\n",
              "      <td>Life Sciences</td>\n",
              "      <td>1</td>\n",
              "      <td>86</td>\n",
              "      <td>2</td>\n",
              "      <td>Male</td>\n",
              "      <td>59</td>\n",
              "      <td>3</td>\n",
              "      <td>3</td>\n",
              "      <td>Research Scientist</td>\n",
              "      <td>1</td>\n",
              "      <td>Divorced</td>\n",
              "      <td>9724</td>\n",
              "      <td>18787</td>\n",
              "      <td>2</td>\n",
              "      <td>Y</td>\n",
              "      <td>No</td>\n",
              "      <td>17</td>\n",
              "      <td>3</td>\n",
              "      <td>3</td>\n",
              "      <td>80</td>\n",
              "      <td>1</td>\n",
              "      <td>25</td>\n",
              "      <td>2</td>\n",
              "      <td>3</td>\n",
              "      <td>1</td>\n",
              "      <td>0</td>\n",
              "      <td>0</td>\n",
              "      <td>0</td>\n",
              "    </tr>\n",
              "    <tr>\n",
              "      <th>4</th>\n",
              "      <td>36.0</td>\n",
              "      <td>Travel_Rarely</td>\n",
              "      <td>1396.0</td>\n",
              "      <td>Research &amp; Development</td>\n",
              "      <td>NaN</td>\n",
              "      <td>2</td>\n",
              "      <td>Life Sciences</td>\n",
              "      <td>1</td>\n",
              "      <td>304</td>\n",
              "      <td>4</td>\n",
              "      <td>Male</td>\n",
              "      <td>62</td>\n",
              "      <td>3</td>\n",
              "      <td>2</td>\n",
              "      <td>Laboratory Technician</td>\n",
              "      <td>2</td>\n",
              "      <td>Single</td>\n",
              "      <td>5914</td>\n",
              "      <td>9945</td>\n",
              "      <td>8</td>\n",
              "      <td>Y</td>\n",
              "      <td>No</td>\n",
              "      <td>16</td>\n",
              "      <td>3</td>\n",
              "      <td>4</td>\n",
              "      <td>80</td>\n",
              "      <td>0</td>\n",
              "      <td>16</td>\n",
              "      <td>3</td>\n",
              "      <td>4</td>\n",
              "      <td>13</td>\n",
              "      <td>11</td>\n",
              "      <td>3</td>\n",
              "      <td>7</td>\n",
              "    </tr>\n",
              "  </tbody>\n",
              "</table>\n",
              "</div>"
            ],
            "text/plain": [
              "    Age BusinessTravel  ...  YearsSinceLastPromotion YearsWithCurrManager\n",
              "0   NaN  Travel_Rarely  ...                        1                    3\n",
              "1  53.0  Travel_Rarely  ...                        1                    3\n",
              "2  24.0  Travel_Rarely  ...                        0                    0\n",
              "3  45.0  Travel_Rarely  ...                        0                    0\n",
              "4  36.0  Travel_Rarely  ...                        3                    7\n",
              "\n",
              "[5 rows x 34 columns]"
            ]
          },
          "metadata": {
            "tags": []
          },
          "execution_count": 82
        }
      ]
    },
    {
      "cell_type": "code",
      "metadata": {
        "colab": {
          "base_uri": "https://localhost:8080/"
        },
        "id": "ki3HAqqEUH8y",
        "outputId": "e8ab7b74-6198-4aab-f6eb-237bd85bdf4c"
      },
      "source": [
        "test_data.info()"
      ],
      "execution_count": 83,
      "outputs": [
        {
          "output_type": "stream",
          "text": [
            "<class 'pandas.core.frame.DataFrame'>\n",
            "RangeIndex: 441 entries, 0 to 440\n",
            "Data columns (total 34 columns):\n",
            " #   Column                    Non-Null Count  Dtype  \n",
            "---  ------                    --------------  -----  \n",
            " 0   Age                       386 non-null    float64\n",
            " 1   BusinessTravel            436 non-null    object \n",
            " 2   DailyRate                 427 non-null    float64\n",
            " 3   Department                441 non-null    object \n",
            " 4   DistanceFromHome          387 non-null    float64\n",
            " 5   Education                 441 non-null    int64  \n",
            " 6   EducationField            441 non-null    object \n",
            " 7   EmployeeCount             441 non-null    int64  \n",
            " 8   EmployeeNumber            441 non-null    int64  \n",
            " 9   EnvironmentSatisfaction   441 non-null    int64  \n",
            " 10  Gender                    441 non-null    object \n",
            " 11  HourlyRate                441 non-null    int64  \n",
            " 12  JobInvolvement            441 non-null    int64  \n",
            " 13  JobLevel                  441 non-null    int64  \n",
            " 14  JobRole                   441 non-null    object \n",
            " 15  JobSatisfaction           441 non-null    int64  \n",
            " 16  MaritalStatus             438 non-null    object \n",
            " 17  MonthlyIncome             441 non-null    int64  \n",
            " 18  MonthlyRate               441 non-null    int64  \n",
            " 19  NumCompaniesWorked        441 non-null    int64  \n",
            " 20  Over18                    441 non-null    object \n",
            " 21  OverTime                  441 non-null    object \n",
            " 22  PercentSalaryHike         441 non-null    int64  \n",
            " 23  PerformanceRating         441 non-null    int64  \n",
            " 24  RelationshipSatisfaction  441 non-null    int64  \n",
            " 25  StandardHours             441 non-null    int64  \n",
            " 26  StockOptionLevel          441 non-null    int64  \n",
            " 27  TotalWorkingYears         441 non-null    int64  \n",
            " 28  TrainingTimesLastYear     441 non-null    int64  \n",
            " 29  WorkLifeBalance           441 non-null    int64  \n",
            " 30  YearsAtCompany            441 non-null    int64  \n",
            " 31  YearsInCurrentRole        441 non-null    int64  \n",
            " 32  YearsSinceLastPromotion   441 non-null    int64  \n",
            " 33  YearsWithCurrManager      441 non-null    int64  \n",
            "dtypes: float64(3), int64(23), object(8)\n",
            "memory usage: 117.3+ KB\n"
          ],
          "name": "stdout"
        }
      ]
    },
    {
      "cell_type": "code",
      "metadata": {
        "colab": {
          "base_uri": "https://localhost:8080/",
          "height": 205
        },
        "id": "UGEp3knhUShj",
        "outputId": "9a68d716-4eea-4655-9380-f1b4e0790042"
      },
      "source": [
        "# Percentage of missing test data\n",
        "#Check for missing value in any column in test_data\n",
        "\n",
        "total = test_data.isnull().sum().sort_values(ascending=False)\n",
        "percent_1 = test_data.isnull().sum()/test_data.isnull().count()*100\n",
        "percent_2 = (round(percent_1, 1)).sort_values(ascending=False)\n",
        "missing_data = pd.concat([total, percent_2], axis=1, keys=['Total', '%'])\n",
        "missing_data.head(5)\n"
      ],
      "execution_count": 84,
      "outputs": [
        {
          "output_type": "execute_result",
          "data": {
            "text/html": [
              "<div>\n",
              "<style scoped>\n",
              "    .dataframe tbody tr th:only-of-type {\n",
              "        vertical-align: middle;\n",
              "    }\n",
              "\n",
              "    .dataframe tbody tr th {\n",
              "        vertical-align: top;\n",
              "    }\n",
              "\n",
              "    .dataframe thead th {\n",
              "        text-align: right;\n",
              "    }\n",
              "</style>\n",
              "<table border=\"1\" class=\"dataframe\">\n",
              "  <thead>\n",
              "    <tr style=\"text-align: right;\">\n",
              "      <th></th>\n",
              "      <th>Total</th>\n",
              "      <th>%</th>\n",
              "    </tr>\n",
              "  </thead>\n",
              "  <tbody>\n",
              "    <tr>\n",
              "      <th>Age</th>\n",
              "      <td>55</td>\n",
              "      <td>12.5</td>\n",
              "    </tr>\n",
              "    <tr>\n",
              "      <th>DistanceFromHome</th>\n",
              "      <td>54</td>\n",
              "      <td>12.2</td>\n",
              "    </tr>\n",
              "    <tr>\n",
              "      <th>DailyRate</th>\n",
              "      <td>14</td>\n",
              "      <td>3.2</td>\n",
              "    </tr>\n",
              "    <tr>\n",
              "      <th>BusinessTravel</th>\n",
              "      <td>5</td>\n",
              "      <td>1.1</td>\n",
              "    </tr>\n",
              "    <tr>\n",
              "      <th>MaritalStatus</th>\n",
              "      <td>3</td>\n",
              "      <td>0.7</td>\n",
              "    </tr>\n",
              "  </tbody>\n",
              "</table>\n",
              "</div>"
            ],
            "text/plain": [
              "                  Total     %\n",
              "Age                  55  12.5\n",
              "DistanceFromHome     54  12.2\n",
              "DailyRate            14   3.2\n",
              "BusinessTravel        5   1.1\n",
              "MaritalStatus         3   0.7"
            ]
          },
          "metadata": {
            "tags": []
          },
          "execution_count": 84
        }
      ]
    },
    {
      "cell_type": "markdown",
      "metadata": {
        "id": "03exTXlwU4tn"
      },
      "source": [
        "### Relationship between Features and Attrition"
      ]
    },
    {
      "cell_type": "code",
      "metadata": {
        "colab": {
          "base_uri": "https://localhost:8080/"
        },
        "id": "bJ6wM3v4WGyG",
        "outputId": "f6bbb4a4-0d47-42f1-caac-318830048a32"
      },
      "source": [
        "#In this section, we analyze relationship between different features with respect to Attrition. \n",
        "#We see how different feature values show different Attrition chance. \n",
        "#We also plot different kinds of diagrams to visualize our data and findings.\n",
        "\n",
        "attrition = train_data[train_data['Attrition'] == 'Yes']\n",
        "not_attrition = train_data[train_data['Attrition'] == 'n']\n",
        "\n",
        "print (\"Attrition: %i (%.1f%%)\"%(len(attrition), float(len(attrition))/len(train_data)*100.0))\n",
        "\n",
        "print (\"Not Attrition: %i (%.1f%%)\"%(len(not_attrition), float(len(not_attrition))/len(train_data)*100.0))\n",
        "print (\"Total: %i\"%len(train_data))\n"
      ],
      "execution_count": 86,
      "outputs": [
        {
          "output_type": "stream",
          "text": [
            "Attrition: 0 (0.0%)\n",
            "Not Attrition: 0 (0.0%)\n",
            "Total: 1029\n"
          ],
          "name": "stdout"
        }
      ]
    },
    {
      "cell_type": "markdown",
      "metadata": {
        "id": "xDB1H523aPQE"
      },
      "source": [
        "**Gender vs. Attrition**"
      ]
    },
    {
      "cell_type": "code",
      "metadata": {
        "colab": {
          "base_uri": "https://localhost:8080/"
        },
        "id": "epHQREt_Z2g-",
        "outputId": "3f5f3f65-e99f-4ad0-9fae-382abcaae76c"
      },
      "source": [
        "train_data.Gender.value_counts()\n",
        "train_data.groupby('Gender').Attrition.value_counts()\n"
      ],
      "execution_count": 87,
      "outputs": [
        {
          "output_type": "execute_result",
          "data": {
            "text/plain": [
              "Gender  Attrition\n",
              "Female  No           349\n",
              "        Yes           63\n",
              "Male    No           504\n",
              "        Yes          113\n",
              "Name: Attrition, dtype: int64"
            ]
          },
          "metadata": {
            "tags": []
          },
          "execution_count": 87
        }
      ]
    },
    {
      "cell_type": "code",
      "metadata": {
        "id": "wzS254b8a_qW"
      },
      "source": [
        "#sns.barplot(x='Gender', y='Attrition', data=train_data)\n"
      ],
      "execution_count": 89,
      "outputs": []
    },
    {
      "cell_type": "markdown",
      "metadata": {
        "id": "ieLnzhAcafRY"
      },
      "source": [
        "**The number of males in employement is higher than that of females. However, more males have a high number of attrition**"
      ]
    },
    {
      "cell_type": "code",
      "metadata": {
        "id": "0caAhz1wU-4y"
      },
      "source": [
        "#subset the orignal dataset\n",
        "#its safer to work on copies than original dataframes unless you won't be needing the original df\n"
      ],
      "execution_count": 72,
      "outputs": []
    },
    {
      "cell_type": "code",
      "metadata": {
        "id": "peS7IOZ7eXlp"
      },
      "source": [
        "#subset the orignal dataset\n",
        "#its safer to work on copies than original dataframes unless you won't be needing the original df\n"
      ],
      "execution_count": 73,
      "outputs": []
    },
    {
      "cell_type": "code",
      "metadata": {
        "id": "kTyTX0qOiSMO"
      },
      "source": [
        ""
      ],
      "execution_count": null,
      "outputs": []
    },
    {
      "cell_type": "markdown",
      "metadata": {
        "id": "u3tazSr3_CWu"
      },
      "source": [
        "# Explotaroty Data Analysis"
      ]
    },
    {
      "cell_type": "markdown",
      "metadata": {
        "id": "Sn2fhB5oY32S"
      },
      "source": [
        ""
      ]
    },
    {
      "cell_type": "markdown",
      "metadata": {
        "id": "1qofA7K5_cnQ"
      },
      "source": [
        "\n",
        "\n",
        "1.found out the shape of the data - how rows and columns do we have\n",
        "2.   List item\n",
        "\n"
      ]
    },
    {
      "cell_type": "code",
      "metadata": {
        "id": "eTTSC4FR4PG8"
      },
      "source": [
        "#@title Default title text\n",
        "#Handling Missing Value\n",
        "hr_attrition_train_df.isnull().sum()"
      ],
      "execution_count": null,
      "outputs": []
    },
    {
      "cell_type": "code",
      "metadata": {
        "id": "XBmqmeELmj4A"
      },
      "source": [
        "#Let’s take a more detailed look at what data is actually missing:\n",
        "total = hr_attrition_train_df.isnull().sum().sort_values(ascending=False)\n",
        "percent_1 = hr_attrition_train_df.isnull().sum()/hr_attrition_train_df.isnull().count()*100\n",
        "percent_2 = (round(percent_1, 1)).sort_values(ascending=False)\n",
        "missing_data = pd.concat([total, percent_2], axis=1, keys=['Total', '%'])\n",
        "missing_data.head(5)\n"
      ],
      "execution_count": null,
      "outputs": []
    },
    {
      "cell_type": "code",
      "metadata": {
        "id": "4BejJcH9dv37"
      },
      "source": [
        "import missingno as msno\n",
        "msno.bar(hr_attrition_train_df)\n"
      ],
      "execution_count": null,
      "outputs": []
    },
    {
      "cell_type": "code",
      "metadata": {
        "id": "FjxcRhWmXQ0o"
      },
      "source": [
        "hr_attrition_train_df\n"
      ],
      "execution_count": null,
      "outputs": []
    },
    {
      "cell_type": "markdown",
      "metadata": {
        "id": "aPwuCzRVe6h7"
      },
      "source": [
        "***Training set has 1029 examples and 34 features + te target variable (attrition) 3 of the features are floats, 23 are integer and 9 are objects***"
      ]
    },
    {
      "cell_type": "markdown",
      "metadata": {
        "id": "z2NvKPRVnsMU"
      },
      "source": [
        "The **BusinessTravel** and **MaritalStatus** has 5 features missing values, which can easily be filled. It will be much more tricky, to deal with the **‘Age’** feature, which has 136 missing values. The **DistanceFromHome** feature needs further investigation it is missing 95, and **DailyRate** feature is missing 27.\n"
      ]
    },
    {
      "cell_type": "markdown",
      "metadata": {
        "id": "3oonVYnXgP0A"
      },
      "source": [
        "Describing data"
      ]
    },
    {
      "cell_type": "code",
      "metadata": {
        "id": "ycmHmYXRdezQ"
      },
      "source": [
        "hr_attrition_train_df.describe()\n"
      ],
      "execution_count": null,
      "outputs": []
    },
    {
      "cell_type": "code",
      "metadata": {
        "id": "5Gm67gMWXMRa"
      },
      "source": [
        "#display both categorical and numerical columns\n",
        "Categorical_columns=['Attrition','BusinessTravel','Department','EducationField','Gender','JobRole','MaritalStatus','Over18','OverTime']\n",
        "Numerical_columns=['Age','DailyRate','DistanceFromHome','Education','EmployeeCount','EnvironmentSatisfaction','HourlyRate','JobInvolvement','JobLevel','JobSatisfaction','MonthlyIncome','MonthlyRate','NumCompaniesWorked','PercentSalaryHike','PerformanceRating','RelationshipSatisfaction','StandardHours','StockOptionLevel','TotalWorkingYears','TotalWorkingYears','TrainingTimesLastYear','WorkLifeBalance','YearsAtCompany','YearsInCurrentRole','YearsSinceLastPromotion','YearsWithCurrManager']\n",
        "print('Categorical_columns  +++++',Categorical_columns)\n",
        "print('Numerical_columns +++++++++',Numerical_columns)\n",
        "#hr_attrition_train_df.columns.to_list()\n"
      ],
      "execution_count": null,
      "outputs": []
    },
    {
      "cell_type": "markdown",
      "metadata": {
        "id": "7lBh1ScaCg05"
      },
      "source": [
        "*We* can calculate categorical means for other categorical variables such as EducationField and marital status to get a more detailed sense of our data.\n"
      ]
    },
    {
      "cell_type": "code",
      "metadata": {
        "id": "MPGaHToBA06N"
      },
      "source": [
        "hr_attrition_train_df.groupby('EducationField').mean()"
      ],
      "execution_count": null,
      "outputs": []
    },
    {
      "cell_type": "code",
      "metadata": {
        "id": "-iuzlyvzC5FH"
      },
      "source": [
        "hr_attrition_train_df.groupby('Attrition').mean()"
      ],
      "execution_count": null,
      "outputs": []
    },
    {
      "cell_type": "code",
      "metadata": {
        "id": "RCo3E6N7EFcO"
      },
      "source": [
        "hr_attrition_train_df.groupby('MaritalStatus').mean()"
      ],
      "execution_count": null,
      "outputs": []
    },
    {
      "cell_type": "code",
      "metadata": {
        "id": "a_jZPUarE4Z1"
      },
      "source": [
        "hr_attrition_train_df.groupby('BusinessTravel').mean()"
      ],
      "execution_count": null,
      "outputs": []
    },
    {
      "cell_type": "code",
      "metadata": {
        "id": "jDztzLNXEjjk"
      },
      "source": [
        "hr_attrition_train_df.groupby('Department').mean()"
      ],
      "execution_count": null,
      "outputs": []
    },
    {
      "cell_type": "code",
      "metadata": {
        "id": "aURuYBR1EzIQ"
      },
      "source": [
        "hr_attrition_train_df.groupby('OverTime').mean()"
      ],
      "execution_count": null,
      "outputs": []
    },
    {
      "cell_type": "code",
      "metadata": {
        "id": "pn9cbCMDEnat"
      },
      "source": [
        "hr_attrition_train_df.groupby('JobRole').mean()"
      ],
      "execution_count": null,
      "outputs": []
    },
    {
      "cell_type": "code",
      "metadata": {
        "id": "kCWX2PVAErbm"
      },
      "source": [
        "hr_attrition_train_df.groupby('Over18').mean()"
      ],
      "execution_count": null,
      "outputs": []
    },
    {
      "cell_type": "code",
      "metadata": {
        "id": "ztJGpSo7Eu8P"
      },
      "source": [
        "hr_attrition_train_df.groupby('Gender').mean()"
      ],
      "execution_count": null,
      "outputs": []
    },
    {
      "cell_type": "markdown",
      "metadata": {
        "id": "qLW6ntbnqF6D"
      },
      "source": [
        "# VISUALIZE DATA"
      ]
    },
    {
      "cell_type": "code",
      "metadata": {
        "id": "N5USoHugetIA"
      },
      "source": [
        "#visualize the data for you to get the first impression of the data\n"
      ],
      "execution_count": null,
      "outputs": []
    },
    {
      "cell_type": "code",
      "metadata": {
        "id": "Yk8jvyTIrG77"
      },
      "source": [
        "sns.set(font_scale=1.4)\n",
        "hr_attrition_train_df['Age'].plot(kind='hist', figsize=(10, 10));\n",
        "plt.xlabel(\"Attrition by Age\", labelpad=14)\n",
        "plt.ylabel(\"Frequency\", labelpad=14)\n",
        "plt.title(\"Distribution of Attrition by age\", y=1.015, fontsize=22);\n"
      ],
      "execution_count": null,
      "outputs": []
    },
    {
      "cell_type": "code",
      "metadata": {
        "id": "iAbmNIe4iswd",
        "colab": {
          "base_uri": "https://localhost:8080/",
          "height": 1000
        },
        "outputId": "5db7a2f7-6fc7-404e-abae-a85d2b926128"
      },
      "source": [
        "fig,ax = plt.subplots(2,3, figsize=(20,20))               # 'ax' has references to all the four axes\n",
        "plt.suptitle(\"Distribution of various factors\", fontsize=20)\n",
        "sns.countplot(train_data['Attrition'], ax = ax[0,0]) \n",
        "sns.countplot(train_data['BusinessTravel'], ax = ax[0,1]) \n",
        "sns.countplot(train_data['Department'], ax = ax[0,2]) \n",
        "sns.countplot(train_data['EducationField'], ax = ax[1,0])\n",
        "sns.countplot(train_data['Gender'], ax = ax[1,1])  \n",
        "sns.countplot(train_data['OverTime'], ax = ax[1,2]) \n",
        "plt.xticks(rotation=20)\n",
        "plt.subplots_adjust(bottom=0.4)\n",
        "plt.show()"
      ],
      "execution_count": 106,
      "outputs": [
        {
          "output_type": "stream",
          "text": [
            "/usr/local/lib/python3.7/dist-packages/seaborn/_decorators.py:43: FutureWarning: Pass the following variable as a keyword arg: x. From version 0.12, the only valid positional argument will be `data`, and passing other arguments without an explicit keyword will result in an error or misinterpretation.\n",
            "  FutureWarning\n",
            "/usr/local/lib/python3.7/dist-packages/seaborn/_decorators.py:43: FutureWarning: Pass the following variable as a keyword arg: x. From version 0.12, the only valid positional argument will be `data`, and passing other arguments without an explicit keyword will result in an error or misinterpretation.\n",
            "  FutureWarning\n",
            "/usr/local/lib/python3.7/dist-packages/seaborn/_decorators.py:43: FutureWarning: Pass the following variable as a keyword arg: x. From version 0.12, the only valid positional argument will be `data`, and passing other arguments without an explicit keyword will result in an error or misinterpretation.\n",
            "  FutureWarning\n",
            "/usr/local/lib/python3.7/dist-packages/seaborn/_decorators.py:43: FutureWarning: Pass the following variable as a keyword arg: x. From version 0.12, the only valid positional argument will be `data`, and passing other arguments without an explicit keyword will result in an error or misinterpretation.\n",
            "  FutureWarning\n",
            "/usr/local/lib/python3.7/dist-packages/seaborn/_decorators.py:43: FutureWarning: Pass the following variable as a keyword arg: x. From version 0.12, the only valid positional argument will be `data`, and passing other arguments without an explicit keyword will result in an error or misinterpretation.\n",
            "  FutureWarning\n",
            "/usr/local/lib/python3.7/dist-packages/seaborn/_decorators.py:43: FutureWarning: Pass the following variable as a keyword arg: x. From version 0.12, the only valid positional argument will be `data`, and passing other arguments without an explicit keyword will result in an error or misinterpretation.\n",
            "  FutureWarning\n"
          ],
          "name": "stderr"
        },
        {
          "output_type": "display_data",
          "data": {
            "image/png": "[encoded data removed]",
            "text/plain": [
              "<Figure size 1440x1440 with 6 Axes>"
            ]
          },
          "metadata": {
            "tags": [],
            "needs_background": "light"
          }
        }
      ]
    },
    {
      "cell_type": "code",
      "metadata": {
        "id": "Xi2krKvnX_FX",
        "colab": {
          "base_uri": "https://localhost:8080/",
          "height": 296
        },
        "outputId": "ab85d995-458b-4010-9bee-ec51a1f2e3f8"
      },
      "source": [
        "#Data Visualization\n",
        "#draw a bar plot of Attrition by Gender\n",
        "sns.barplot(x=\"Gender\", y=\"MonthlyIncome\", hue=\"Attrition\",data=hr_attrition_train_df)\n",
        "\n"
      ],
      "execution_count": 101,
      "outputs": [
        {
          "output_type": "execute_result",
          "data": {
            "text/plain": [
              "<matplotlib.axes._subplots.AxesSubplot at 0x7fa46b292e10>"
            ]
          },
          "metadata": {
            "tags": []
          },
          "execution_count": 101
        },
        {
          "output_type": "display_data",
          "data": {
            "image/png": "[encoded data removed]",
            "text/plain": [
              "<Figure size 432x288 with 1 Axes>"
            ]
          },
          "metadata": {
            "tags": [],
            "needs_background": "light"
          }
        }
      ]
    },
    {
      "cell_type": "code",
      "metadata": {
        "colab": {
          "base_uri": "https://localhost:8080/",
          "height": 296
        },
        "id": "PkEOqHZQnyzD",
        "outputId": "acdfbed6-4f7c-4c91-8744-26b48411f531"
      },
      "source": [
        "#draw a bar plot of Attrition by Gender\n",
        "sns.barplot(x=\"MaritalStatus\", y=\"MonthlyIncome\", hue=\"Attrition\",data=hr_attrition_train_df)\n"
      ],
      "execution_count": 107,
      "outputs": [
        {
          "output_type": "execute_result",
          "data": {
            "text/plain": [
              "<matplotlib.axes._subplots.AxesSubplot at 0x7fa46ac6e750>"
            ]
          },
          "metadata": {
            "tags": []
          },
          "execution_count": 107
        },
        {
          "output_type": "display_data",
          "data": {
            "image/png": "[encoded data removed]",
            "text/plain": [
              "<Figure size 432x288 with 1 Axes>"
            ]
          },
          "metadata": {
            "tags": [],
            "needs_background": "light"
          }
        }
      ]
    },
    {
      "cell_type": "code",
      "metadata": {
        "colab": {
          "base_uri": "https://localhost:8080/",
          "height": 296
        },
        "id": "mT-mB4lBo7T5",
        "outputId": "d90bc621-3a5c-4559-f796-ef5edb2a179c"
      },
      "source": [
        "#draw a bar plot of Attrition by Gender\n",
        "sns.barplot(x=\"Department\", y=\"MonthlyIncome\", hue=\"Attrition\",data=hr_attrition_train_df)\n"
      ],
      "execution_count": 109,
      "outputs": [
        {
          "output_type": "execute_result",
          "data": {
            "text/plain": [
              "<matplotlib.axes._subplots.AxesSubplot at 0x7fa46b406cd0>"
            ]
          },
          "metadata": {
            "tags": []
          },
          "execution_count": 109
        },
        {
          "output_type": "display_data",
          "data": {
            "image/png": "[encoded data removed]",
            "text/plain": [
              "<Figure size 432x288 with 1 Axes>"
            ]
          },
          "metadata": {
            "tags": [],
            "needs_background": "light"
          }
        }
      ]
    },
    {
      "cell_type": "code",
      "metadata": {
        "colab": {
          "base_uri": "https://localhost:8080/",
          "height": 296
        },
        "id": "afOxBPCipab-",
        "outputId": "4a9cfc1e-78dd-4fbb-92dc-19f17e7d7a4b"
      },
      "source": [
        "#jobRole\n",
        "#draw a bar plot of Attrition by Gender\n",
        "sns.barplot(x=\"JobRole\", y=\"MonthlyIncome\", hue=\"Attrition\",data=hr_attrition_train_df)\n"
      ],
      "execution_count": 110,
      "outputs": [
        {
          "output_type": "execute_result",
          "data": {
            "text/plain": [
              "<matplotlib.axes._subplots.AxesSubplot at 0x7fa46b7d00d0>"
            ]
          },
          "metadata": {
            "tags": []
          },
          "execution_count": 110
        },
        {
          "output_type": "display_data",
          "data": {
            "image/png": "[encoded data removed]",
            "text/plain": [
              "<Figure size 432x288 with 1 Axes>"
            ]
          },
          "metadata": {
            "tags": [],
            "needs_background": "light"
          }
        }
      ]
    },
    {
      "cell_type": "markdown",
      "metadata": {
        "id": "-RH66QiNpHI8"
      },
      "source": [
        "#more employees from the sales department are more likely leave the company"
      ]
    },
    {
      "cell_type": "code",
      "metadata": {
        "colab": {
          "base_uri": "https://localhost:8080/",
          "height": 296
        },
        "id": "ExLugDjEogcF",
        "outputId": "4a7a200b-1924-44f3-b208-41a335e2884c"
      },
      "source": [
        "#draw a bar plot of Attrition by Gender\n",
        "sns.barplot(x=\"Over18\", y=\"MonthlyIncome\", hue=\"Attrition\",data=hr_attrition_train_df)\n"
      ],
      "execution_count": 108,
      "outputs": [
        {
          "output_type": "execute_result",
          "data": {
            "text/plain": [
              "<matplotlib.axes._subplots.AxesSubplot at 0x7fa46b638e90>"
            ]
          },
          "metadata": {
            "tags": []
          },
          "execution_count": 108
        },
        {
          "output_type": "display_data",
          "data": {
            "image/png": "[encoded data removed]",
            "text/plain": [
              "<Figure size 432x288 with 1 Axes>"
            ]
          },
          "metadata": {
            "tags": [],
            "needs_background": "light"
          }
        }
      ]
    },
    {
      "cell_type": "code",
      "metadata": {
        "id": "8AclXeKx4sGB"
      },
      "source": [
        ""
      ],
      "execution_count": null,
      "outputs": []
    },
    {
      "cell_type": "markdown",
      "metadata": {
        "id": "3DJQRP3GJ8Y5"
      },
      "source": [
        "'''Plots above convey following things about the dataset:\n",
        "Attrition status: About employees who leave through attrition.\n",
        "Gender: There are more Men than Women who are employed,at the same time more men than women leave through attrition(approx.)\n",
        "Martial Status: Married people are more likely to be leave employement through attrition. Over18: Majority of the population over18 are employed are also likely to stay on the job.)'''"
      ]
    },
    {
      "cell_type": "code",
      "metadata": {
        "id": "gqhriK4AiNyb",
        "colab": {
          "base_uri": "https://localhost:8080/",
          "height": 669
        },
        "outputId": "65139d69-40f8-4f92-e1da-d9df8ac23e79"
      },
      "source": [
        "plt.figure(figsize=(12,6))\n",
        "sns.boxplot('MonthlyIncome', 'Attrition', data=hr_attrition_train_df, width=0.3, palette=\"Set2\")\n",
        "plt.xticks(rotation=45)\n",
        "hr_attrition_train_df['MonthlyIncome'].value_counts()\n"
      ],
      "execution_count": 90,
      "outputs": [
        {
          "output_type": "stream",
          "text": [
            "/usr/local/lib/python3.7/dist-packages/seaborn/_decorators.py:43: FutureWarning: Pass the following variables as keyword args: x, y. From version 0.12, the only valid positional argument will be `data`, and passing other arguments without an explicit keyword will result in an error or misinterpretation.\n",
            "  FutureWarning\n"
          ],
          "name": "stderr"
        },
        {
          "output_type": "execute_result",
          "data": {
            "text/plain": [
              "2342     3\n",
              "2451     3\n",
              "2610     3\n",
              "2404     3\n",
              "6347     3\n",
              "        ..\n",
              "5347     1\n",
              "5343     1\n",
              "19033    1\n",
              "3291     1\n",
              "14336    1\n",
              "Name: MonthlyIncome, Length: 963, dtype: int64"
            ]
          },
          "metadata": {
            "tags": []
          },
          "execution_count": 90
        },
        {
          "output_type": "display_data",
          "data": {
            "image/png": "[encoded data removed]",
            "text/plain": [
              "<Figure size 864x432 with 1 Axes>"
            ]
          },
          "metadata": {
            "tags": [],
            "needs_background": "light"
          }
        }
      ]
    },
    {
      "cell_type": "code",
      "metadata": {
        "id": "vQRSpXphjpFq",
        "colab": {
          "base_uri": "https://localhost:8080/",
          "height": 669
        },
        "outputId": "b707325e-6346-4cb0-ea6d-efdae5b2035e"
      },
      "source": [
        "plt.figure(figsize=(12,6))\n",
        "sns.boxplot('MonthlyIncome', 'JobRole', data=hr_attrition_train_df, width=0.3, palette=\"Set2\")\n",
        "plt.xticks(rotation=45)\n",
        "hr_attrition_train_df['MonthlyIncome'].value_counts()\n"
      ],
      "execution_count": 92,
      "outputs": [
        {
          "output_type": "stream",
          "text": [
            "/usr/local/lib/python3.7/dist-packages/seaborn/_decorators.py:43: FutureWarning: Pass the following variables as keyword args: x, y. From version 0.12, the only valid positional argument will be `data`, and passing other arguments without an explicit keyword will result in an error or misinterpretation.\n",
            "  FutureWarning\n"
          ],
          "name": "stderr"
        },
        {
          "output_type": "execute_result",
          "data": {
            "text/plain": [
              "2342     3\n",
              "2451     3\n",
              "2610     3\n",
              "2404     3\n",
              "6347     3\n",
              "        ..\n",
              "5347     1\n",
              "5343     1\n",
              "19033    1\n",
              "3291     1\n",
              "14336    1\n",
              "Name: MonthlyIncome, Length: 963, dtype: int64"
            ]
          },
          "metadata": {
            "tags": []
          },
          "execution_count": 92
        },
        {
          "output_type": "display_data",
          "data": {
            "image/png": "[encoded data removed]",
            "text/plain": [
              "<Figure size 864x432 with 1 Axes>"
            ]
          },
          "metadata": {
            "tags": [],
            "needs_background": "light"
          }
        }
      ]
    },
    {
      "cell_type": "code",
      "metadata": {
        "id": "vNC92gBtlVHZ"
      },
      "source": [
        "import matplotlib.image as mpimg\n",
        "JG1 = sns.jointplot('Education', 'MonthlyIncome', data=hr_attrition_train_df, kind='scatter', color='g')\n",
        "JG2 = sns.jointplot('JobLevel', 'MonthlyIncome', data=hr_attrition_train_df, kind='hex', color='b')\n",
        "JG3 = sns.jointplot('HourlyRate', 'MonthlyIncome', data=hr_attrition_train_df, kind='scatter', color='r')\n",
        "JG4 = sns.jointplot('JobSatisfaction', 'MonthlyIncome', data=hr_attrition_train_df, kind='hex', color='orange')\n",
        "JG1.savefig('JG1.png')\n",
        "plt.close(JG1.fig)\n",
        "JG2.savefig('JG2.png')\n",
        "plt.close(JG2.fig)\n",
        "JG3.savefig('JG3.png')\n",
        "plt.close(JG3.fig)\n",
        "JG4.savefig('JG4.png')\n",
        "plt.close(JG4.fig)\n",
        "f, ax = plt.subplots(2,2,figsize=(20,16))\n",
        "ax[0,0].imshow(mpimg.imread('JG1.png'))\n",
        "ax[0,1].imshow(mpimg.imread('JG2.png'))\n",
        "ax[1,0].imshow(mpimg.imread('JG3.png'))\n",
        "ax[1,1].imshow(mpimg.imread('JG4.png'))\n",
        "[ax.set_axis_off() for ax in ax.ravel()]\n",
        "plt.tight_layout()\n"
      ],
      "execution_count": null,
      "outputs": []
    },
    {
      "cell_type": "code",
      "metadata": {
        "id": "VdDUZwYY3DZe"
      },
      "source": [
        "hr_attrition_train_df.boxplot(by ='Attrition', column =['DailyRate'], grid = False)\n"
      ],
      "execution_count": null,
      "outputs": []
    },
    {
      "cell_type": "code",
      "metadata": {
        "id": "GQuCHehX1u7H",
        "colab": {
          "base_uri": "https://localhost:8080/",
          "height": 281
        },
        "outputId": "819f456f-332a-434b-e1c1-0ea1d68f9113"
      },
      "source": [
        "# See the distribution of gender to recognize different distributions\n",
        "plt.subplots(figsize=(20,4))\n",
        "sns.countplot(x='Age', data=hr_attrition_train_df);\n",
        "plt.title('Distribution of Age');\n"
      ],
      "execution_count": 99,
      "outputs": [
        {
          "output_type": "display_data",
          "data": {
            "image/png": "[encoded data removed]",
            "text/plain": [
              "<Figure size 1440x288 with 1 Axes>"
            ]
          },
          "metadata": {
            "tags": [],
            "needs_background": "light"
          }
        }
      ]
    },
    {
      "cell_type": "markdown",
      "metadata": {
        "id": "eyc_2lCI-KtY"
      },
      "source": [
        "#What Features Are Linked To Employee Attrition?\n"
      ]
    },
    {
      "cell_type": "code",
      "metadata": {
        "id": "h2Zv649GJ-ZJ",
        "colab": {
          "base_uri": "https://localhost:8080/",
          "height": 283
        },
        "outputId": "8d6959c9-e27e-4629-ab46-e2c256e3e747"
      },
      "source": [
        "plt.subplots(figsize=(20,4))\n",
        "sns.barplot(data=hr_attrition_train_df, x=\"Age\", y=\"HourlyRate\")\n"
      ],
      "execution_count": 98,
      "outputs": [
        {
          "output_type": "execute_result",
          "data": {
            "text/plain": [
              "<matplotlib.axes._subplots.AxesSubplot at 0x7fa46b5b2510>"
            ]
          },
          "metadata": {
            "tags": []
          },
          "execution_count": 98
        },
        {
          "output_type": "display_data",
          "data": {
            "image/png": "[encoded data removed]",
            "text/plain": [
              "<Figure size 1440x288 with 1 Axes>"
            ]
          },
          "metadata": {
            "tags": [],
            "needs_background": "light"
          }
        }
      ]
    },
    {
      "cell_type": "code",
      "metadata": {
        "id": "UzFG-EKwNE2u"
      },
      "source": [
        "hr_attrition_train_df['Attrition'].value_counts()"
      ],
      "execution_count": null,
      "outputs": []
    },
    {
      "cell_type": "code",
      "metadata": {
        "id": "ywTl18LhNPJz",
        "colab": {
          "base_uri": "https://localhost:8080/",
          "height": 296
        },
        "outputId": "ce40cae0-53d4-4d9f-d8ac-deb6f12d6f7c"
      },
      "source": [
        "#visualize number of number of employees who have left the company\n",
        "plt.subplots(figsize=(18,4))\n",
        "sns.countplot(x=\"Age\", hue=\"Attrition\",data=hr_attrition_train_df,palette='colorblind')\n"
      ],
      "execution_count": 95,
      "outputs": [
        {
          "output_type": "execute_result",
          "data": {
            "text/plain": [
              "<matplotlib.axes._subplots.AxesSubplot at 0x7fa46b82a490>"
            ]
          },
          "metadata": {
            "tags": []
          },
          "execution_count": 95
        },
        {
          "output_type": "display_data",
          "data": {
            "image/png": "[encoded data removed]",
            "text/plain": [
              "<Figure size 1296x288 with 1 Axes>"
            ]
          },
          "metadata": {
            "tags": [],
            "needs_background": "light"
          }
        }
      ]
    },
    {
      "cell_type": "code",
      "metadata": {
        "id": "_2RrdnZuSl-7",
        "colab": {
          "base_uri": "https://localhost:8080/",
          "height": 288
        },
        "outputId": "6fcaa5e8-955a-4e5d-d4de-65e955fa717d"
      },
      "source": [
        "#visualizing categorical variables\n",
        "hr_attrition_train_df['Attrition'].value_counts().plot.bar()"
      ],
      "execution_count": 96,
      "outputs": [
        {
          "output_type": "execute_result",
          "data": {
            "text/plain": [
              "<matplotlib.axes._subplots.AxesSubplot at 0x7fa46b6ff990>"
            ]
          },
          "metadata": {
            "tags": []
          },
          "execution_count": 96
        },
        {
          "output_type": "display_data",
          "data": {
            "image/png": "[encoded data removed]",
            "text/plain": [
              "<Figure size 432x288 with 1 Axes>"
            ]
          },
          "metadata": {
            "tags": [],
            "needs_background": "light"
          }
        }
      ]
    },
    {
      "cell_type": "markdown",
      "metadata": {
        "id": "YyAN4ddXQP18"
      },
      "source": [
        "\n",
        "*We access the Age column, call the plot method and pass in hist to the kind argument to output a histogram plot.*\n"
      ]
    },
    {
      "cell_type": "code",
      "metadata": {
        "id": "8ZVPG9zeSnCR",
        "colab": {
          "base_uri": "https://localhost:8080/",
          "height": 281
        },
        "outputId": "6618d28e-235f-4aee-8260-3fe5f26cf662"
      },
      "source": [
        "# boxplot\n",
        "plt.title('Employee Attrition')\n",
        "plt.violinplot(hr_attrition_train_df['MonthlyIncome'])\n",
        "plt.show()"
      ],
      "execution_count": 97,
      "outputs": [
        {
          "output_type": "display_data",
          "data": {
            "image/png": "[encoded data removed]",
            "text/plain": [
              "<Figure size 432x288 with 1 Axes>"
            ]
          },
          "metadata": {
            "tags": [],
            "needs_background": "light"
          }
        }
      ]
    },
    {
      "cell_type": "markdown",
      "metadata": {
        "id": "5qD6z2J3ZHuS"
      },
      "source": [
        "shows the distribution of quantitative data across several levels of one (or more) categorical variables such that those distributions can be compared"
      ]
    },
    {
      "cell_type": "code",
      "metadata": {
        "id": "j2MUb62RZrZ8"
      },
      "source": [
        "sns.countplot(hr_attrition_train_df['Attrition'])"
      ],
      "execution_count": null,
      "outputs": []
    },
    {
      "cell_type": "markdown",
      "metadata": {
        "id": "yLLz0WlnWk3M"
      },
      "source": [
        "# DATA CLEANING"
      ]
    },
    {
      "cell_type": "code",
      "metadata": {
        "id": "Ncm0dzvnY9gv"
      },
      "source": [
        "df500_test_data=test_data.copy()\n",
        "df500_test_data\n",
        "\n"
      ],
      "execution_count": null,
      "outputs": []
    },
    {
      "cell_type": "code",
      "metadata": {
        "id": "hysiMXgtZhwB"
      },
      "source": [
        "df500_train_data=train_data.copy()\n",
        "\n",
        "df500_train_data"
      ],
      "execution_count": null,
      "outputs": []
    },
    {
      "cell_type": "code",
      "metadata": {
        "id": "70WtauAJB4sY"
      },
      "source": [
        "\n",
        "from sklearn.preprocessing import LabelEncoder\n",
        "number=LabelEncoder()\n",
        "df500_train_data['Gender']=number.fit_transform(df500_train_data['Gender'].astype('str')) \n",
        "df500_test_data['Gender']=number.fit_transform(df500_test_data['Gender'].astype('str')) \n",
        "df500_test_data\n",
        "\n",
        "\n"
      ],
      "execution_count": null,
      "outputs": []
    },
    {
      "cell_type": "code",
      "metadata": {
        "id": "H07HVDDqaQpp"
      },
      "source": [
        "from sklearn.preprocessing import LabelEncoder\n",
        "number=LabelEncoder()\n",
        "df500_train_data['EducationField']=number.fit_transform(df500_train_data['EducationField'].astype('str')) \n",
        "df500_test_data['EducationField']=number.fit_transform(df500_test_data['EducationField'].astype('str')) \n",
        "df500_test_data\n"
      ],
      "execution_count": null,
      "outputs": []
    },
    {
      "cell_type": "code",
      "metadata": {
        "id": "pKspYinKaRTH"
      },
      "source": [
        "from sklearn.preprocessing import LabelEncoder\n",
        "number=LabelEncoder()\n",
        "df500_train_data['Department']=number.fit_transform(df500_train_data['Department'].astype('str')) \n",
        "df500_test_data['Department']=number.fit_transform(df500_test_data['Department'].astype('str')) \n",
        "df500_test_data\n"
      ],
      "execution_count": null,
      "outputs": []
    },
    {
      "cell_type": "code",
      "metadata": {
        "id": "Y8_4BUfWaR3k"
      },
      "source": [
        "from sklearn.preprocessing import LabelEncoder\n",
        "number=LabelEncoder()\n",
        "df500_train_data['BusinessTravel']=number.fit_transform(df500_train_data['BusinessTravel'].astype('str')) \n",
        "df500_test_data['BusinessTravel']=number.fit_transform(df500_test_data['BusinessTravel'].astype('str')) \n",
        "df500_test_data\n"
      ],
      "execution_count": null,
      "outputs": []
    },
    {
      "cell_type": "code",
      "metadata": {
        "id": "kWqoV9PqaSXK"
      },
      "source": [
        "from sklearn.preprocessing import LabelEncoder\n",
        "number=LabelEncoder()\n",
        "df500_train_data['JobRole']=number.fit_transform(df500_train_data['JobRole'].astype('str')) \n",
        "df500_test_data['JobRole']=number.fit_transform(df500_test_data['JobRole'].astype('str')) \n",
        "df500_test_data\n"
      ],
      "execution_count": null,
      "outputs": []
    },
    {
      "cell_type": "code",
      "metadata": {
        "id": "ZpRZ4_IzaTTS"
      },
      "source": [
        "from sklearn.preprocessing import LabelEncoder\n",
        "number=LabelEncoder()\n",
        "df500_train_data['OverTime']=number.fit_transform(df500_train_data['OverTime'].astype('str')) \n",
        "df500_test_data['OverTime']=number.fit_transform(df500_test_data['OverTime'].astype('str')) \n",
        "df500_test_data\n"
      ],
      "execution_count": null,
      "outputs": []
    },
    {
      "cell_type": "code",
      "metadata": {
        "id": "6AfahZknaTzB"
      },
      "source": [
        "from sklearn.preprocessing import LabelEncoder\n",
        "number=LabelEncoder()\n",
        "df500_train_data['Over18']=number.fit_transform(df500_train_data['Over18'].astype('str')) \n",
        "df500_test_data['Over18']=number.fit_transform(df500_test_data['Over18'].astype('str')) \n",
        "df500_test_data\n"
      ],
      "execution_count": null,
      "outputs": []
    },
    {
      "cell_type": "code",
      "metadata": {
        "id": "PY8FLzUzaUSH"
      },
      "source": [
        "from sklearn.preprocessing import LabelEncoder\n",
        "number=LabelEncoder()\n",
        "df500_train_data['MaritalStatus']=number.fit_transform(df500_train_data['MaritalStatus'].astype('str')) \n",
        "df500_test_data['MaritalStatus']=number.fit_transform(df500_test_data['MaritalStatus'].astype('str')) \n",
        "df500_test_data\n"
      ],
      "execution_count": null,
      "outputs": []
    },
    {
      "cell_type": "code",
      "metadata": {
        "colab": {
          "base_uri": "https://localhost:8080/"
        },
        "id": "hIYhVUFmaUwn",
        "outputId": "fefd8d74-cccb-4159-e6c6-cca49851d8bb"
      },
      "source": [
        "#impute missing data\n",
        "#imputation with median\n",
        "missing_rate = ['MaritalStatus']\n",
        " \n",
        "#Technique 2: Using median to impute the missing values\n",
        "for i in missing_rate:\n",
        " df500_test_data.loc[df500_test_data.loc[:,i].isnull(),i]=df500_test_data.loc[:,i].median()\n",
        " \n",
        "print(\"count of NULL values after imputation\\n\")\n",
        "df500_test_data.isnull().sum()\n",
        "\n",
        "#imputation with median\n",
        "missing_rate = ['MaritalStatus']\n",
        " \n",
        "#Technique 2: Using median to impute the missing values\n",
        "for i in missing_rate:\n",
        " df500_train_data.loc[df500_train_data.loc[:,i].isnull(),i]=df500_train_data.loc[:,i].median()\n",
        " \n",
        "print(\"count of NULL values after imputation\\n\")\n",
        "df500_train_data.isnull().sum()\n",
        "\n"
      ],
      "execution_count": 46,
      "outputs": [
        {
          "output_type": "stream",
          "text": [
            "count of NULL values after imputation\n",
            "\n",
            "count of NULL values after imputation\n",
            "\n"
          ],
          "name": "stdout"
        },
        {
          "output_type": "execute_result",
          "data": {
            "text/plain": [
              "Age                         136\n",
              "Attrition                     0\n",
              "BusinessTravel                0\n",
              "DailyRate                    27\n",
              "Department                    0\n",
              "DistanceFromHome             95\n",
              "Education                     0\n",
              "EducationField                0\n",
              "EmployeeCount                 0\n",
              "EmployeeNumber                0\n",
              "EnvironmentSatisfaction       0\n",
              "Gender                        0\n",
              "HourlyRate                    0\n",
              "JobInvolvement                0\n",
              "JobLevel                      0\n",
              "JobRole                       0\n",
              "JobSatisfaction               0\n",
              "MaritalStatus                 0\n",
              "MonthlyIncome                 0\n",
              "MonthlyRate                   0\n",
              "NumCompaniesWorked            0\n",
              "Over18                        0\n",
              "OverTime                      0\n",
              "PercentSalaryHike             0\n",
              "PerformanceRating             0\n",
              "RelationshipSatisfaction      0\n",
              "StandardHours                 0\n",
              "StockOptionLevel              0\n",
              "TotalWorkingYears             0\n",
              "TrainingTimesLastYear         0\n",
              "WorkLifeBalance               0\n",
              "YearsAtCompany                0\n",
              "YearsInCurrentRole            0\n",
              "YearsSinceLastPromotion       0\n",
              "YearsWithCurrManager          0\n",
              "dtype: int64"
            ]
          },
          "metadata": {
            "tags": []
          },
          "execution_count": 46
        }
      ]
    },
    {
      "cell_type": "code",
      "metadata": {
        "id": "MHcM6vZ8ki7D"
      },
      "source": [
        "#imputation with median\n",
        "missing_rate = ['DailyRate']\n",
        " \n",
        "#Technique 2: Using median to impute the missing values\n",
        "for i in missing_rate:\n",
        " df500_test_data.loc[df500_test_data.loc[:,i].isnull(),i]=df500_test_data.loc[:,i].median()\n",
        " \n",
        "print(\"count of NULL values after imputation\\n\")\n",
        "df500_test_data.isnull().sum()\n",
        "\n",
        "#imputation with median\n",
        "missing_rate = ['DailyRate']\n",
        " \n",
        "#Technique 2: Using median to impute the missing values\n",
        "for i in missing_rate:\n",
        " df500_train_data.loc[df500_train_data.loc[:,i].isnull(),i]=df500_train_data.loc[:,i].median()\n",
        " \n",
        "print(\"count of NULL values after imputation\\n\")\n",
        "df500_train_data.isnull().sum()\n"
      ],
      "execution_count": null,
      "outputs": []
    },
    {
      "cell_type": "code",
      "metadata": {
        "colab": {
          "base_uri": "https://localhost:8080/"
        },
        "id": "MFeDFJ_ykjeH",
        "outputId": "7c5293c6-9944-44e2-ee05-f1fb1928cdf5"
      },
      "source": [
        "#imputation with median\n",
        "missing_rate = ['Age']\n",
        " \n",
        "#Technique 2: Using median to impute the missing values\n",
        "for i in missing_rate:\n",
        " df500_test_data.loc[df500_test_data.loc[:,i].isnull(),i]=df500_test_data.loc[:,i].median()\n",
        " \n",
        "print(\"count of NULL values after imputation\\n\")\n",
        "df500_test_data.isnull().sum()\n",
        "\n",
        "\n",
        "#imputation with median\n",
        "missing_rate = ['Age']\n",
        " \n",
        "#Technique 2: Using median to impute the missing values\n",
        "for i in missing_rate:\n",
        " df500_train_data.loc[df500_train_data.loc[:,i].isnull(),i]=df500_train_data.loc[:,i].median()\n",
        " \n",
        "print(\"count of NULL values after imputation\\n\")\n",
        "df500_train_data.isnull().sum()\n"
      ],
      "execution_count": 48,
      "outputs": [
        {
          "output_type": "stream",
          "text": [
            "count of NULL values after imputation\n",
            "\n",
            "count of NULL values after imputation\n",
            "\n"
          ],
          "name": "stdout"
        },
        {
          "output_type": "execute_result",
          "data": {
            "text/plain": [
              "Age                          0\n",
              "Attrition                    0\n",
              "BusinessTravel               0\n",
              "DailyRate                    0\n",
              "Department                   0\n",
              "DistanceFromHome            95\n",
              "Education                    0\n",
              "EducationField               0\n",
              "EmployeeCount                0\n",
              "EmployeeNumber               0\n",
              "EnvironmentSatisfaction      0\n",
              "Gender                       0\n",
              "HourlyRate                   0\n",
              "JobInvolvement               0\n",
              "JobLevel                     0\n",
              "JobRole                      0\n",
              "JobSatisfaction              0\n",
              "MaritalStatus                0\n",
              "MonthlyIncome                0\n",
              "MonthlyRate                  0\n",
              "NumCompaniesWorked           0\n",
              "Over18                       0\n",
              "OverTime                     0\n",
              "PercentSalaryHike            0\n",
              "PerformanceRating            0\n",
              "RelationshipSatisfaction     0\n",
              "StandardHours                0\n",
              "StockOptionLevel             0\n",
              "TotalWorkingYears            0\n",
              "TrainingTimesLastYear        0\n",
              "WorkLifeBalance              0\n",
              "YearsAtCompany               0\n",
              "YearsInCurrentRole           0\n",
              "YearsSinceLastPromotion      0\n",
              "YearsWithCurrManager         0\n",
              "dtype: int64"
            ]
          },
          "metadata": {
            "tags": []
          },
          "execution_count": 48
        }
      ]
    },
    {
      "cell_type": "code",
      "metadata": {
        "colab": {
          "base_uri": "https://localhost:8080/"
        },
        "id": "QMIzeJ3mkj8n",
        "outputId": "8e47ae48-2c2c-4982-c72b-2e35974b2492"
      },
      "source": [
        "#imputation with median\n",
        "missing_rate = ['DistanceFromHome']\n",
        " \n",
        "#Technique 2: Using median to impute the missing values\n",
        "for i in missing_rate:\n",
        " df500_test_data.loc[df500_test_data.loc[:,i].isnull(),i]=df500_test_data.loc[:,i].median()\n",
        " \n",
        "print(\"count of NULL values after imputation\\n\")\n",
        "df500_test_data.isnull().sum()\n",
        "\n",
        "#imputation with median\n",
        "missing_rate = ['DistanceFromHome']\n",
        " \n",
        "#Technique 2: Using median to impute the missing values\n",
        "for i in missing_rate:\n",
        " df500_train_data.loc[df500_train_data.loc[:,i].isnull(),i]=df500_train_data.loc[:,i].median()\n",
        " \n",
        "print(\"count of NULL values after imputation\\n\")\n",
        "df500_train_data.isnull().sum()\n"
      ],
      "execution_count": 49,
      "outputs": [
        {
          "output_type": "stream",
          "text": [
            "count of NULL values after imputation\n",
            "\n",
            "count of NULL values after imputation\n",
            "\n"
          ],
          "name": "stdout"
        },
        {
          "output_type": "execute_result",
          "data": {
            "text/plain": [
              "Age                         0\n",
              "Attrition                   0\n",
              "BusinessTravel              0\n",
              "DailyRate                   0\n",
              "Department                  0\n",
              "DistanceFromHome            0\n",
              "Education                   0\n",
              "EducationField              0\n",
              "EmployeeCount               0\n",
              "EmployeeNumber              0\n",
              "EnvironmentSatisfaction     0\n",
              "Gender                      0\n",
              "HourlyRate                  0\n",
              "JobInvolvement              0\n",
              "JobLevel                    0\n",
              "JobRole                     0\n",
              "JobSatisfaction             0\n",
              "MaritalStatus               0\n",
              "MonthlyIncome               0\n",
              "MonthlyRate                 0\n",
              "NumCompaniesWorked          0\n",
              "Over18                      0\n",
              "OverTime                    0\n",
              "PercentSalaryHike           0\n",
              "PerformanceRating           0\n",
              "RelationshipSatisfaction    0\n",
              "StandardHours               0\n",
              "StockOptionLevel            0\n",
              "TotalWorkingYears           0\n",
              "TrainingTimesLastYear       0\n",
              "WorkLifeBalance             0\n",
              "YearsAtCompany              0\n",
              "YearsInCurrentRole          0\n",
              "YearsSinceLastPromotion     0\n",
              "YearsWithCurrManager        0\n",
              "dtype: int64"
            ]
          },
          "metadata": {
            "tags": []
          },
          "execution_count": 49
        }
      ]
    },
    {
      "cell_type": "code",
      "metadata": {
        "colab": {
          "base_uri": "https://localhost:8080/"
        },
        "id": "mepCSvy4kkac",
        "outputId": "69189d8b-7ff5-4485-8a58-99510f4f5e9b"
      },
      "source": [
        "#imputation with median\n",
        "missing_rate = ['BusinessTravel']\n",
        " \n",
        "#Technique 2: Using median to impute the missing values\n",
        "for i in missing_rate:\n",
        " df500_train_data.loc[df500_train_data.loc[:,i].isnull(),i]=df500_train_data.loc[:,i].median()\n",
        " \n",
        "print(\"count of NULL values after imputation\\n\")\n",
        "df500_train_data.isnull().sum()\n",
        "\n",
        "#imputation with median\n",
        "missing_rate = ['BusinessTravel']\n",
        " \n",
        "#Technique 2: Using median to impute the missing values\n",
        "for i in missing_rate:\n",
        " df500_test_data.loc[df500_test_data.loc[:,i].isnull(),i]=df500_test_data.loc[:,i].median()\n",
        " \n",
        "print(\"count of NULL values after imputation\\n\")\n",
        "df500_test_data.isnull().sum()\n"
      ],
      "execution_count": 50,
      "outputs": [
        {
          "output_type": "stream",
          "text": [
            "count of NULL values after imputation\n",
            "\n",
            "count of NULL values after imputation\n",
            "\n"
          ],
          "name": "stdout"
        },
        {
          "output_type": "execute_result",
          "data": {
            "text/plain": [
              "Age                         0\n",
              "BusinessTravel              0\n",
              "DailyRate                   0\n",
              "Department                  0\n",
              "DistanceFromHome            0\n",
              "Education                   0\n",
              "EducationField              0\n",
              "EmployeeCount               0\n",
              "EmployeeNumber              0\n",
              "EnvironmentSatisfaction     0\n",
              "Gender                      0\n",
              "HourlyRate                  0\n",
              "JobInvolvement              0\n",
              "JobLevel                    0\n",
              "JobRole                     0\n",
              "JobSatisfaction             0\n",
              "MaritalStatus               0\n",
              "MonthlyIncome               0\n",
              "MonthlyRate                 0\n",
              "NumCompaniesWorked          0\n",
              "Over18                      0\n",
              "OverTime                    0\n",
              "PercentSalaryHike           0\n",
              "PerformanceRating           0\n",
              "RelationshipSatisfaction    0\n",
              "StandardHours               0\n",
              "StockOptionLevel            0\n",
              "TotalWorkingYears           0\n",
              "TrainingTimesLastYear       0\n",
              "WorkLifeBalance             0\n",
              "YearsAtCompany              0\n",
              "YearsInCurrentRole          0\n",
              "YearsSinceLastPromotion     0\n",
              "YearsWithCurrManager        0\n",
              "dtype: int64"
            ]
          },
          "metadata": {
            "tags": []
          },
          "execution_count": 50
        }
      ]
    },
    {
      "cell_type": "markdown",
      "metadata": {
        "id": "JkD5FusWrnnF"
      },
      "source": [
        "# Predictive Modeling\n"
      ]
    },
    {
      "cell_type": "markdown",
      "metadata": {
        "id": "Vktbd9hJ5IPx"
      },
      "source": [
        "\n",
        "\n",
        "**Define Training and Testing set**\n"
      ]
    },
    {
      "cell_type": "code",
      "metadata": {
        "id": "0JUeC_60wHME"
      },
      "source": [
        "##First, we train these classifiers with our training data.\n",
        "##After that, using the trained classifier, we predict the attrition outcome of test data.\n",
        "##Finally, we calculate the accuracy score (in percentange) of the trained classifier.\n",
        "\n"
      ],
      "execution_count": 63,
      "outputs": []
    },
    {
      "cell_type": "code",
      "metadata": {
        "colab": {
          "base_uri": "https://localhost:8080/"
        },
        "id": "1MU2qc19o9Cr",
        "outputId": "df8f8c62-fdc9-435d-a26b-774c744ab735"
      },
      "source": [
        "X_train = df500_train_data.drop('Attrition', axis=1)\n",
        "y_train = df500_train_data['Attrition']\n",
        "X_test =df500_test_data.copy()\n",
        "X_train.shape, y_train.shape, X_test.shape\n"
      ],
      "execution_count": 60,
      "outputs": [
        {
          "output_type": "execute_result",
          "data": {
            "text/plain": [
              "((1029, 34), (1029,), (441, 34))"
            ]
          },
          "metadata": {
            "tags": []
          },
          "execution_count": 60
        }
      ]
    },
    {
      "cell_type": "code",
      "metadata": {
        "colab": {
          "base_uri": "https://localhost:8080/"
        },
        "id": "SoVV0TEYRMDE",
        "outputId": "931bdb6e-c0af-40f8-d51c-52c534fd19ec"
      },
      "source": [
        "clf = SVC()\n",
        "clf.fit(X_train, y_train)\n",
        "y_pred_svc = clf.predict(X_test)\n",
        "acc_svc = round(clf.score(X_train, y_train) * 100, 2)\n",
        "\n",
        "\n",
        "print (acc_svc)\n",
        "\n",
        "\n"
      ],
      "execution_count": 61,
      "outputs": [
        {
          "output_type": "stream",
          "text": [
            "82.9\n"
          ],
          "name": "stdout"
        }
      ]
    },
    {
      "cell_type": "code",
      "metadata": {
        "id": "OnPDnlmmrwAd",
        "colab": {
          "base_uri": "https://localhost:8080/"
        },
        "outputId": "224f85eb-c244-44f2-eb5f-59c2ccec0c04"
      },
      "source": [
        "\n",
        "from sklearn.linear_model import LogisticRegression\n",
        "#LogisticRegression\n",
        "clf = LogisticRegression()\n",
        "clf.fit(X_train, y_train)\n",
        "y_pred_log_reg = clf.predict(X_test)\n",
        "acc_log_reg = round( clf.score(X_train, y_train) * 100, 2)\n",
        "\n",
        "print (str(acc_log_reg) + ' percent')\n"
      ],
      "execution_count": 62,
      "outputs": [
        {
          "output_type": "stream",
          "text": [
            "82.99 percent\n"
          ],
          "name": "stdout"
        },
        {
          "output_type": "stream",
          "text": [
            "/usr/local/lib/python3.7/dist-packages/sklearn/linear_model/_logistic.py:940: ConvergenceWarning: lbfgs failed to converge (status=1):\n",
            "STOP: TOTAL NO. of ITERATIONS REACHED LIMIT.\n",
            "\n",
            "Increase the number of iterations (max_iter) or scale the data as shown in:\n",
            "    https://scikit-learn.org/stable/modules/preprocessing.html\n",
            "Please also refer to the documentation for alternative solver options:\n",
            "    https://scikit-learn.org/stable/modules/linear_model.html#logistic-regression\n",
            "  extra_warning_msg=_LOGISTIC_SOLVER_CONVERGENCE_MSG)\n"
          ],
          "name": "stderr"
        }
      ]
    },
    {
      "cell_type": "code",
      "metadata": {
        "id": "BX7yucUYlXnL",
        "colab": {
          "base_uri": "https://localhost:8080/"
        },
        "outputId": "4c344b29-65f7-449f-b217-e2caa28de1ae"
      },
      "source": [
        "#K-Nearest Neighbors \n",
        "clf = KNeighborsClassifier(n_neighbors = 5)\n",
        "clf.fit(X_train, y_train)\n",
        "y_pred_knn = clf.predict(X_test)\n",
        "acc_knn = round(clf.score(X_train, y_train) * 100, 2)\n",
        "\n",
        "\n",
        "print (acc_knn)\n"
      ],
      "execution_count": 67,
      "outputs": [
        {
          "output_type": "stream",
          "text": [
            "85.52\n"
          ],
          "name": "stdout"
        }
      ]
    },
    {
      "cell_type": "code",
      "metadata": {
        "colab": {
          "base_uri": "https://localhost:8080/"
        },
        "id": "YXRimovOw5x-",
        "outputId": "4b935ef2-cb96-414f-8f97-e6f7302f9612"
      },
      "source": [
        "#Linear SVM\n",
        "clf = LinearSVC()\n",
        "clf.fit(X_train, y_train)\n",
        "y_pred_linear_svc = clf.predict(X_test)\n",
        "acc_linear_svc = round(clf.score(X_train, y_train) * 100, 2)\n",
        "\n",
        "\n",
        "print (acc_linear_svc)\n"
      ],
      "execution_count": 64,
      "outputs": [
        {
          "output_type": "stream",
          "text": [
            "24.2\n"
          ],
          "name": "stdout"
        },
        {
          "output_type": "stream",
          "text": [
            "/usr/local/lib/python3.7/dist-packages/sklearn/svm/_base.py:947: ConvergenceWarning: Liblinear failed to converge, increase the number of iterations.\n",
            "  \"the number of iterations.\", ConvergenceWarning)\n"
          ],
          "name": "stderr"
        }
      ]
    },
    {
      "cell_type": "code",
      "metadata": {
        "colab": {
          "base_uri": "https://localhost:8080/"
        },
        "id": "FV91gvsCxb2w",
        "outputId": "981b197c-f49d-47d3-eb8b-0c30d87a6bd5"
      },
      "source": [
        "#Decision tree\n",
        "clf = DecisionTreeClassifier()\n",
        "clf.fit(X_train, y_train)\n",
        "y_pred_decision_tree = clf.predict(X_test)\n",
        "acc_decision_tree = round(clf.score(X_train, y_train) * 100, 2)\n",
        "\n",
        "\n",
        "print (acc_decision_tree)\n"
      ],
      "execution_count": 68,
      "outputs": [
        {
          "output_type": "stream",
          "text": [
            "100.0\n"
          ],
          "name": "stdout"
        }
      ]
    },
    {
      "cell_type": "code",
      "metadata": {
        "colab": {
          "base_uri": "https://localhost:8080/"
        },
        "id": "qU6SGAzsxntG",
        "outputId": "06996fea-c92a-4047-f851-eb12a98144e5"
      },
      "source": [
        "#random forest\n",
        "clf = RandomForestClassifier(n_estimators=100)\n",
        "clf.fit(X_train, y_train)\n",
        "y_pred_random_forest = clf.predict(X_test)\n",
        "acc_random_forest = round(clf.score(X_train, y_train) * 100, 2)\n",
        "\n",
        "\n",
        "print (acc_random_forest)\n"
      ],
      "execution_count": 69,
      "outputs": [
        {
          "output_type": "stream",
          "text": [
            "100.0\n"
          ],
          "name": "stdout"
        }
      ]
    },
    {
      "cell_type": "code",
      "metadata": {
        "colab": {
          "base_uri": "https://localhost:8080/"
        },
        "id": "bgGUNxU_x755",
        "outputId": "47b4608f-b492-418a-ba47-fc7a4c8e7aca"
      },
      "source": [
        "#Perceptron\n",
        "clf = Perceptron(max_iter=5, tol=None)\n",
        "clf.fit(X_train, y_train)\n",
        "y_pred_perceptron = clf.predict(X_test)\n",
        "acc_perceptron = round(clf.score(X_train, y_train) * 100, 2)\n",
        "\n",
        "\n",
        "print (acc_perceptron)\n"
      ],
      "execution_count": 70,
      "outputs": [
        {
          "output_type": "stream",
          "text": [
            "66.76\n"
          ],
          "name": "stdout"
        }
      ]
    },
    {
      "cell_type": "code",
      "metadata": {
        "colab": {
          "base_uri": "https://localhost:8080/"
        },
        "id": "bS7X7HrWyTZw",
        "outputId": "f02fe182-7892-436d-afd0-e796bff20627"
      },
      "source": [
        "#Stochastic Gradient Descent (SGD)\n",
        "clf = SGDClassifier(max_iter=5, tol=None)\n",
        "clf.fit(X_train, y_train)\n",
        "y_pred_sgd = clf.predict(X_test)\n",
        "acc_sgd = round(clf.score(X_train, y_train) * 100, 2)\n",
        "\n",
        "print (acc_sgd)\n"
      ],
      "execution_count": 71,
      "outputs": [
        {
          "output_type": "stream",
          "text": [
            "82.7\n"
          ],
          "name": "stdout"
        }
      ]
    },
    {
      "cell_type": "code",
      "metadata": {
        "id": "1vOtZtl8ydAi"
      },
      "source": [
        "#Confusion Matrix\n"
      ],
      "execution_count": null,
      "outputs": []
    },
    {
      "cell_type": "markdown",
      "metadata": {
        "id": "YXIlkQD-yj6J"
      },
      "source": [
        "#In our attrition problem case\n",
        "\n",
        "> Indented block\n",
        "\n"
      ]
    },
    {
      "cell_type": "code",
      "metadata": {
        "id": "EUEYE1sl4g2i",
        "colab": {
          "base_uri": "https://localhost:8080/",
          "height": 235
        },
        "outputId": "e848519e-5f46-4f8a-d7e8-2def9901ba79"
      },
      "source": [
        "#7: Create a confusion matrix with a Pandas cross table - confusion matrix\n",
        "\n",
        "from sklearn.metrics import confusion_matrix\n",
        "tree_clf = DecisionTreeClassifier(max_depth=3,min_samples_leaf = 35)\n",
        "tree_clf.fit(X_train,y_train)\n",
        "y_pred = tree_clf.predict(X_test_imp)\n",
        "print(\"Test Accuracy: \",accuracy_score(y_test,y_pred))\n",
        "print(\"Test F1 Score: \",f1_score(y_test,y_pred))\n",
        "print(\"Confusion Matrix on Test Data\")\n",
        "pd.crosstab(y_test, y_pred, rownames=['True'], colnames=['Predicted'], margins=True)\n",
        "#8: Print the TN, FN, TP, FP values\n",
        "# 9: Print the model precision value\n",
        "# precision is the ratio of  tp / (tp + fp)\n",
        "#10: # recall = the ratio tp / (tp + fn)\n",
        "#11: Visualize the confusion matrix with a Heatmap\n"
      ],
      "execution_count": 94,
      "outputs": [
        {
          "output_type": "error",
          "ename": "NameError",
          "evalue": "ignored",
          "traceback": [
            "\u001b[0;31m---------------------------------------------------------------------------\u001b[0m",
            "\u001b[0;31mNameError\u001b[0m                                 Traceback (most recent call last)",
            "\u001b[0;32m<ipython-input-94-361f932cfa32>\u001b[0m in \u001b[0;36m<module>\u001b[0;34m()\u001b[0m\n\u001b[1;32m      4\u001b[0m \u001b[0mtree_clf\u001b[0m \u001b[0;34m=\u001b[0m \u001b[0mDecisionTreeClassifier\u001b[0m\u001b[0;34m(\u001b[0m\u001b[0mmax_depth\u001b[0m\u001b[0;34m=\u001b[0m\u001b[0;36m3\u001b[0m\u001b[0;34m,\u001b[0m\u001b[0mmin_samples_leaf\u001b[0m \u001b[0;34m=\u001b[0m \u001b[0;36m35\u001b[0m\u001b[0;34m)\u001b[0m\u001b[0;34m\u001b[0m\u001b[0;34m\u001b[0m\u001b[0m\n\u001b[1;32m      5\u001b[0m \u001b[0mtree_clf\u001b[0m\u001b[0;34m.\u001b[0m\u001b[0mfit\u001b[0m\u001b[0;34m(\u001b[0m\u001b[0mX_train\u001b[0m\u001b[0;34m,\u001b[0m\u001b[0my_train\u001b[0m\u001b[0;34m)\u001b[0m\u001b[0;34m\u001b[0m\u001b[0;34m\u001b[0m\u001b[0m\n\u001b[0;32m----> 6\u001b[0;31m \u001b[0my_pred\u001b[0m \u001b[0;34m=\u001b[0m \u001b[0mtree_clf\u001b[0m\u001b[0;34m.\u001b[0m\u001b[0mpredict\u001b[0m\u001b[0;34m(\u001b[0m\u001b[0mX_test_imp\u001b[0m\u001b[0;34m)\u001b[0m\u001b[0;34m\u001b[0m\u001b[0;34m\u001b[0m\u001b[0m\n\u001b[0m\u001b[1;32m      7\u001b[0m \u001b[0mprint\u001b[0m\u001b[0;34m(\u001b[0m\u001b[0;34m\"Test Accuracy: \"\u001b[0m\u001b[0;34m,\u001b[0m\u001b[0maccuracy_score\u001b[0m\u001b[0;34m(\u001b[0m\u001b[0my_test\u001b[0m\u001b[0;34m,\u001b[0m\u001b[0my_pred\u001b[0m\u001b[0;34m)\u001b[0m\u001b[0;34m)\u001b[0m\u001b[0;34m\u001b[0m\u001b[0;34m\u001b[0m\u001b[0m\n\u001b[1;32m      8\u001b[0m \u001b[0mprint\u001b[0m\u001b[0;34m(\u001b[0m\u001b[0;34m\"Test F1 Score: \"\u001b[0m\u001b[0;34m,\u001b[0m\u001b[0mf1_score\u001b[0m\u001b[0;34m(\u001b[0m\u001b[0my_test\u001b[0m\u001b[0;34m,\u001b[0m\u001b[0my_pred\u001b[0m\u001b[0;34m)\u001b[0m\u001b[0;34m)\u001b[0m\u001b[0;34m\u001b[0m\u001b[0;34m\u001b[0m\u001b[0m\n",
            "\u001b[0;31mNameError\u001b[0m: name 'X_test_imp' is not defined"
          ]
        }
      ]
    },
    {
      "cell_type": "markdown",
      "metadata": {
        "id": "GTSvUW6ktKP7"
      },
      "source": [
        "Predictive model evaluation\n",
        "results and discussions\n",
        "Conclusion"
      ]
    },
    {
      "cell_type": "code",
      "metadata": {
        "id": "jaO13eneNlPf"
      },
      "source": [
        ""
      ],
      "execution_count": null,
      "outputs": []
    },
    {
      "cell_type": "code",
      "metadata": {
        "id": "nfC44WP2NBnp"
      },
      "source": [
        ""
      ],
      "execution_count": null,
      "outputs": []
    },
    {
      "cell_type": "code",
      "metadata": {
        "id": "1gagUOTjshqp"
      },
      "source": [
        "sns.pairplot(df3.iloc[:,[1,29,30,31]], hue='Attrition', size=3.5);"
      ],
      "execution_count": null,
      "outputs": []
    }
  ]
}