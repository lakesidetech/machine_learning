{
  "nbformat": 4,
  "nbformat_minor": 0,
  "metadata": {
    "colab": {
      "name": "Copy of Employee_attrition_prediction.ipynb",
      "provenance": [],
      "collapsed_sections": [],
      "include_colab_link": true
    },
    "kernelspec": {
      "name": "python3",
      "display_name": "Python 3"
    },
    "language_info": {
      "name": "python"
    }
  },
  "cells": [
    {
      "cell_type": "markdown",
      "metadata": {
        "id": "view-in-github",
        "colab_type": "text"
      },
      "source": [
        "<a href=\"https://colab.research.google.com/github/lakesidetech/machine_learning/blob/main/Copy_of_Employee_attrition_prediction.ipynb\" target=\"_parent\"><img src=\"https://colab.research.google.com/assets/colab-badge.svg\" alt=\"Open In Colab\"/></a>"
      ]
    },
    {
      "cell_type": "markdown",
      "metadata": {
        "id": "1O1zmn8QuYzM"
      },
      "source": [
        "#Machine Learning Model for Predicting Employee Attrition\n",
        "We are building a simple model using the ***employee_attrition_test.csv*** data set for predicting an employee attrition. This project is organized as follows: (a) data preprocessing and variable selection; (b) basic regression model; (c) hyper-parameters tuning; and (d) techniques for dimensionality reduction.\n",
        "\n",
        "Author: Ruth A. Amolo & Nancy Wachira Date: 5/15/2021\n"
      ]
    },
    {
      "cell_type": "markdown",
      "metadata": {
        "id": "3GE50E-UdSIX"
      },
      "source": [
        "# import libraries"
      ]
    },
    {
      "cell_type": "code",
      "metadata": {
        "id": "jlc15nvGu03F"
      },
      "source": [
        "#data processing\n",
        "import pandas as pd\n",
        "\n",
        "# linear algebra\n",
        "import numpy as np\n",
        "\n",
        "# data visualization\n",
        "import matplotlib.pyplot as plt\n",
        "%matplotlib inline\n",
        "import seaborn as sns\n",
        "from pandas import read_csv\n",
        "\n",
        "#Algorithms\n",
        "from sklearn import linear_model\n",
        "from sklearn.linear_model import SGDClassifier\n",
        "from sklearn.linear_model import Perceptron\n",
        "from sklearn.linear_model import LogisticRegression\n",
        "from sklearn.neighbors import KNeighborsClassifier\n",
        "from sklearn.svm import SVC,LinearSVC\n",
        "from sklearn.tree import DecisionTreeClassifier\n",
        "from sklearn.ensemble import RandomForestClassifier\n",
        "\n"
      ],
      "execution_count": null,
      "outputs": []
    },
    {
      "cell_type": "markdown",
      "metadata": {
        "id": "lFWAuSPfwujS"
      },
      "source": [
        "**1. Read dataset and display columns¶**\n"
      ]
    },
    {
      "cell_type": "code",
      "metadata": {
        "id": "pX7o6ppDyEAW"
      },
      "source": [
        "#hr_attrition_test_df=pd.read_csv('/content/employee_attrition_test.csv')\n",
        "#hr_attrition_train_df=pd.read_csv('/content/employee_attrition_train.csv')\n",
        "\n",
        "hr_attrition_test_df=pd.read_csv('/content/employee_attrition_test.csv')\n",
        "hr_attrition_train_df=pd.read_csv('/content/employee_attrition_train.csv')"
      ],
      "execution_count": null,
      "outputs": []
    },
    {
      "cell_type": "code",
      "metadata": {
        "id": "Wx481SCh0h-I"
      },
      "source": [
        "test_data = hr_attrition_test_df=pd.read_csv('/content/employee_attrition_test.csv')\n",
        "train_data = hr_attrition_train_df=pd.read_csv('/content/employee_attrition_train.csv')\n",
        "\n"
      ],
      "execution_count": null,
      "outputs": []
    },
    {
      "cell_type": "code",
      "metadata": {
        "id": "uUWcTj5OTi5g",
        "colab": {
          "base_uri": "https://localhost:8080/",
          "height": 301
        },
        "outputId": "2fd2a4c8-67db-41ec-e4d5-b56d08abb869"
      },
      "source": [
        "train_data.head()\n"
      ],
      "execution_count": null,
      "outputs": [
        {
          "output_type": "execute_result",
          "data": {
            "text/html": [
              "<div>\n",
              "<style scoped>\n",
              "    .dataframe tbody tr th:only-of-type {\n",
              "        vertical-align: middle;\n",
              "    }\n",
              "\n",
              "    .dataframe tbody tr th {\n",
              "        vertical-align: top;\n",
              "    }\n",
              "\n",
              "    .dataframe thead th {\n",
              "        text-align: right;\n",
              "    }\n",
              "</style>\n",
              "<table border=\"1\" class=\"dataframe\">\n",
              "  <thead>\n",
              "    <tr style=\"text-align: right;\">\n",
              "      <th></th>\n",
              "      <th>Age</th>\n",
              "      <th>Attrition</th>\n",
              "      <th>BusinessTravel</th>\n",
              "      <th>DailyRate</th>\n",
              "      <th>Department</th>\n",
              "      <th>DistanceFromHome</th>\n",
              "      <th>Education</th>\n",
              "      <th>EducationField</th>\n",
              "      <th>EmployeeCount</th>\n",
              "      <th>EmployeeNumber</th>\n",
              "      <th>EnvironmentSatisfaction</th>\n",
              "      <th>Gender</th>\n",
              "      <th>HourlyRate</th>\n",
              "      <th>JobInvolvement</th>\n",
              "      <th>JobLevel</th>\n",
              "      <th>JobRole</th>\n",
              "      <th>JobSatisfaction</th>\n",
              "      <th>MaritalStatus</th>\n",
              "      <th>MonthlyIncome</th>\n",
              "      <th>MonthlyRate</th>\n",
              "      <th>NumCompaniesWorked</th>\n",
              "      <th>Over18</th>\n",
              "      <th>OverTime</th>\n",
              "      <th>PercentSalaryHike</th>\n",
              "      <th>PerformanceRating</th>\n",
              "      <th>RelationshipSatisfaction</th>\n",
              "      <th>StandardHours</th>\n",
              "      <th>StockOptionLevel</th>\n",
              "      <th>TotalWorkingYears</th>\n",
              "      <th>TrainingTimesLastYear</th>\n",
              "      <th>WorkLifeBalance</th>\n",
              "      <th>YearsAtCompany</th>\n",
              "      <th>YearsInCurrentRole</th>\n",
              "      <th>YearsSinceLastPromotion</th>\n",
              "      <th>YearsWithCurrManager</th>\n",
              "    </tr>\n",
              "  </thead>\n",
              "  <tbody>\n",
              "    <tr>\n",
              "      <th>0</th>\n",
              "      <td>50.0</td>\n",
              "      <td>No</td>\n",
              "      <td>Travel_Rarely</td>\n",
              "      <td>1126.0</td>\n",
              "      <td>Research &amp; Development</td>\n",
              "      <td>1.0</td>\n",
              "      <td>2</td>\n",
              "      <td>Medical</td>\n",
              "      <td>1</td>\n",
              "      <td>997</td>\n",
              "      <td>4</td>\n",
              "      <td>Male</td>\n",
              "      <td>66</td>\n",
              "      <td>3</td>\n",
              "      <td>4</td>\n",
              "      <td>Research Director</td>\n",
              "      <td>4</td>\n",
              "      <td>Divorced</td>\n",
              "      <td>17399</td>\n",
              "      <td>6615</td>\n",
              "      <td>9</td>\n",
              "      <td>Y</td>\n",
              "      <td>No</td>\n",
              "      <td>22</td>\n",
              "      <td>4</td>\n",
              "      <td>3</td>\n",
              "      <td>80</td>\n",
              "      <td>1</td>\n",
              "      <td>32</td>\n",
              "      <td>1</td>\n",
              "      <td>2</td>\n",
              "      <td>5</td>\n",
              "      <td>4</td>\n",
              "      <td>1</td>\n",
              "      <td>3</td>\n",
              "    </tr>\n",
              "    <tr>\n",
              "      <th>1</th>\n",
              "      <td>36.0</td>\n",
              "      <td>No</td>\n",
              "      <td>Travel_Rarely</td>\n",
              "      <td>216.0</td>\n",
              "      <td>Research &amp; Development</td>\n",
              "      <td>6.0</td>\n",
              "      <td>2</td>\n",
              "      <td>Medical</td>\n",
              "      <td>1</td>\n",
              "      <td>178</td>\n",
              "      <td>2</td>\n",
              "      <td>Male</td>\n",
              "      <td>84</td>\n",
              "      <td>3</td>\n",
              "      <td>2</td>\n",
              "      <td>Manufacturing Director</td>\n",
              "      <td>2</td>\n",
              "      <td>Divorced</td>\n",
              "      <td>4941</td>\n",
              "      <td>2819</td>\n",
              "      <td>6</td>\n",
              "      <td>Y</td>\n",
              "      <td>No</td>\n",
              "      <td>20</td>\n",
              "      <td>4</td>\n",
              "      <td>4</td>\n",
              "      <td>80</td>\n",
              "      <td>2</td>\n",
              "      <td>7</td>\n",
              "      <td>0</td>\n",
              "      <td>3</td>\n",
              "      <td>3</td>\n",
              "      <td>2</td>\n",
              "      <td>0</td>\n",
              "      <td>1</td>\n",
              "    </tr>\n",
              "    <tr>\n",
              "      <th>2</th>\n",
              "      <td>21.0</td>\n",
              "      <td>Yes</td>\n",
              "      <td>Travel_Rarely</td>\n",
              "      <td>337.0</td>\n",
              "      <td>Sales</td>\n",
              "      <td>7.0</td>\n",
              "      <td>1</td>\n",
              "      <td>Marketing</td>\n",
              "      <td>1</td>\n",
              "      <td>1780</td>\n",
              "      <td>2</td>\n",
              "      <td>Male</td>\n",
              "      <td>31</td>\n",
              "      <td>3</td>\n",
              "      <td>1</td>\n",
              "      <td>Sales Representative</td>\n",
              "      <td>2</td>\n",
              "      <td>Single</td>\n",
              "      <td>2679</td>\n",
              "      <td>4567</td>\n",
              "      <td>1</td>\n",
              "      <td>Y</td>\n",
              "      <td>No</td>\n",
              "      <td>13</td>\n",
              "      <td>3</td>\n",
              "      <td>2</td>\n",
              "      <td>80</td>\n",
              "      <td>0</td>\n",
              "      <td>1</td>\n",
              "      <td>3</td>\n",
              "      <td>3</td>\n",
              "      <td>1</td>\n",
              "      <td>0</td>\n",
              "      <td>1</td>\n",
              "      <td>0</td>\n",
              "    </tr>\n",
              "    <tr>\n",
              "      <th>3</th>\n",
              "      <td>50.0</td>\n",
              "      <td>No</td>\n",
              "      <td>Travel_Frequently</td>\n",
              "      <td>1246.0</td>\n",
              "      <td>Human Resources</td>\n",
              "      <td>NaN</td>\n",
              "      <td>3</td>\n",
              "      <td>Medical</td>\n",
              "      <td>1</td>\n",
              "      <td>644</td>\n",
              "      <td>1</td>\n",
              "      <td>Male</td>\n",
              "      <td>99</td>\n",
              "      <td>3</td>\n",
              "      <td>5</td>\n",
              "      <td>Manager</td>\n",
              "      <td>2</td>\n",
              "      <td>Married</td>\n",
              "      <td>18200</td>\n",
              "      <td>7999</td>\n",
              "      <td>1</td>\n",
              "      <td>Y</td>\n",
              "      <td>No</td>\n",
              "      <td>11</td>\n",
              "      <td>3</td>\n",
              "      <td>3</td>\n",
              "      <td>80</td>\n",
              "      <td>1</td>\n",
              "      <td>32</td>\n",
              "      <td>2</td>\n",
              "      <td>3</td>\n",
              "      <td>32</td>\n",
              "      <td>5</td>\n",
              "      <td>10</td>\n",
              "      <td>7</td>\n",
              "    </tr>\n",
              "    <tr>\n",
              "      <th>4</th>\n",
              "      <td>52.0</td>\n",
              "      <td>No</td>\n",
              "      <td>Travel_Rarely</td>\n",
              "      <td>994.0</td>\n",
              "      <td>Research &amp; Development</td>\n",
              "      <td>7.0</td>\n",
              "      <td>4</td>\n",
              "      <td>Life Sciences</td>\n",
              "      <td>1</td>\n",
              "      <td>1118</td>\n",
              "      <td>2</td>\n",
              "      <td>Male</td>\n",
              "      <td>87</td>\n",
              "      <td>3</td>\n",
              "      <td>3</td>\n",
              "      <td>Healthcare Representative</td>\n",
              "      <td>2</td>\n",
              "      <td>Single</td>\n",
              "      <td>10445</td>\n",
              "      <td>15322</td>\n",
              "      <td>7</td>\n",
              "      <td>Y</td>\n",
              "      <td>No</td>\n",
              "      <td>19</td>\n",
              "      <td>3</td>\n",
              "      <td>4</td>\n",
              "      <td>80</td>\n",
              "      <td>0</td>\n",
              "      <td>18</td>\n",
              "      <td>4</td>\n",
              "      <td>3</td>\n",
              "      <td>8</td>\n",
              "      <td>6</td>\n",
              "      <td>4</td>\n",
              "      <td>0</td>\n",
              "    </tr>\n",
              "  </tbody>\n",
              "</table>\n",
              "</div>"
            ],
            "text/plain": [
              "    Age Attrition  ... YearsSinceLastPromotion  YearsWithCurrManager\n",
              "0  50.0        No  ...                       1                     3\n",
              "1  36.0        No  ...                       0                     1\n",
              "2  21.0       Yes  ...                       1                     0\n",
              "3  50.0        No  ...                      10                     7\n",
              "4  52.0        No  ...                       4                     0\n",
              "\n",
              "[5 rows x 35 columns]"
            ]
          },
          "metadata": {
            "tags": []
          },
          "execution_count": 4
        }
      ]
    },
    {
      "cell_type": "markdown",
      "metadata": {
        "id": "yLLz0WlnWk3M"
      },
      "source": [
        "# DATA CLEANING"
      ]
    },
    {
      "cell_type": "code",
      "metadata": {
        "id": "0caAhz1wU-4y",
        "colab": {
          "base_uri": "https://localhost:8080/",
          "height": 591
        },
        "outputId": "56631713-794e-4094-d082-b667aa34f631"
      },
      "source": [
        "#subset the orignal dataset\n",
        "#its safer to work on copies than original dataframes unless you won't be needing the original df\n",
        "df5_test_data=test_data.copy()\n",
        "df5_test_data\n"
      ],
      "execution_count": null,
      "outputs": [
        {
          "output_type": "execute_result",
          "data": {
            "text/html": [
              "<div>\n",
              "<style scoped>\n",
              "    .dataframe tbody tr th:only-of-type {\n",
              "        vertical-align: middle;\n",
              "    }\n",
              "\n",
              "    .dataframe tbody tr th {\n",
              "        vertical-align: top;\n",
              "    }\n",
              "\n",
              "    .dataframe thead th {\n",
              "        text-align: right;\n",
              "    }\n",
              "</style>\n",
              "<table border=\"1\" class=\"dataframe\">\n",
              "  <thead>\n",
              "    <tr style=\"text-align: right;\">\n",
              "      <th></th>\n",
              "      <th>Age</th>\n",
              "      <th>BusinessTravel</th>\n",
              "      <th>DailyRate</th>\n",
              "      <th>Department</th>\n",
              "      <th>DistanceFromHome</th>\n",
              "      <th>Education</th>\n",
              "      <th>EducationField</th>\n",
              "      <th>EmployeeCount</th>\n",
              "      <th>EmployeeNumber</th>\n",
              "      <th>EnvironmentSatisfaction</th>\n",
              "      <th>Gender</th>\n",
              "      <th>HourlyRate</th>\n",
              "      <th>JobInvolvement</th>\n",
              "      <th>JobLevel</th>\n",
              "      <th>JobRole</th>\n",
              "      <th>JobSatisfaction</th>\n",
              "      <th>MaritalStatus</th>\n",
              "      <th>MonthlyIncome</th>\n",
              "      <th>MonthlyRate</th>\n",
              "      <th>NumCompaniesWorked</th>\n",
              "      <th>Over18</th>\n",
              "      <th>OverTime</th>\n",
              "      <th>PercentSalaryHike</th>\n",
              "      <th>PerformanceRating</th>\n",
              "      <th>RelationshipSatisfaction</th>\n",
              "      <th>StandardHours</th>\n",
              "      <th>StockOptionLevel</th>\n",
              "      <th>TotalWorkingYears</th>\n",
              "      <th>TrainingTimesLastYear</th>\n",
              "      <th>WorkLifeBalance</th>\n",
              "      <th>YearsAtCompany</th>\n",
              "      <th>YearsInCurrentRole</th>\n",
              "      <th>YearsSinceLastPromotion</th>\n",
              "      <th>YearsWithCurrManager</th>\n",
              "    </tr>\n",
              "  </thead>\n",
              "  <tbody>\n",
              "    <tr>\n",
              "      <th>0</th>\n",
              "      <td>NaN</td>\n",
              "      <td>Travel_Rarely</td>\n",
              "      <td>866.0</td>\n",
              "      <td>Sales</td>\n",
              "      <td>NaN</td>\n",
              "      <td>3</td>\n",
              "      <td>Medical</td>\n",
              "      <td>1</td>\n",
              "      <td>1469</td>\n",
              "      <td>4</td>\n",
              "      <td>Male</td>\n",
              "      <td>84</td>\n",
              "      <td>3</td>\n",
              "      <td>2</td>\n",
              "      <td>Sales Executive</td>\n",
              "      <td>1</td>\n",
              "      <td>Single</td>\n",
              "      <td>8463</td>\n",
              "      <td>23490</td>\n",
              "      <td>0</td>\n",
              "      <td>Y</td>\n",
              "      <td>No</td>\n",
              "      <td>18</td>\n",
              "      <td>3</td>\n",
              "      <td>4</td>\n",
              "      <td>80</td>\n",
              "      <td>0</td>\n",
              "      <td>6</td>\n",
              "      <td>4</td>\n",
              "      <td>3</td>\n",
              "      <td>5</td>\n",
              "      <td>4</td>\n",
              "      <td>1</td>\n",
              "      <td>3</td>\n",
              "    </tr>\n",
              "    <tr>\n",
              "      <th>1</th>\n",
              "      <td>53.0</td>\n",
              "      <td>Travel_Rarely</td>\n",
              "      <td>1084.0</td>\n",
              "      <td>Research &amp; Development</td>\n",
              "      <td>13.0</td>\n",
              "      <td>2</td>\n",
              "      <td>Medical</td>\n",
              "      <td>1</td>\n",
              "      <td>250</td>\n",
              "      <td>4</td>\n",
              "      <td>Female</td>\n",
              "      <td>57</td>\n",
              "      <td>4</td>\n",
              "      <td>2</td>\n",
              "      <td>Manufacturing Director</td>\n",
              "      <td>1</td>\n",
              "      <td>Divorced</td>\n",
              "      <td>4450</td>\n",
              "      <td>26250</td>\n",
              "      <td>1</td>\n",
              "      <td>Y</td>\n",
              "      <td>No</td>\n",
              "      <td>11</td>\n",
              "      <td>3</td>\n",
              "      <td>3</td>\n",
              "      <td>80</td>\n",
              "      <td>2</td>\n",
              "      <td>5</td>\n",
              "      <td>3</td>\n",
              "      <td>3</td>\n",
              "      <td>4</td>\n",
              "      <td>2</td>\n",
              "      <td>1</td>\n",
              "      <td>3</td>\n",
              "    </tr>\n",
              "    <tr>\n",
              "      <th>2</th>\n",
              "      <td>24.0</td>\n",
              "      <td>Travel_Rarely</td>\n",
              "      <td>240.0</td>\n",
              "      <td>Human Resources</td>\n",
              "      <td>22.0</td>\n",
              "      <td>1</td>\n",
              "      <td>Human Resources</td>\n",
              "      <td>1</td>\n",
              "      <td>1714</td>\n",
              "      <td>4</td>\n",
              "      <td>Male</td>\n",
              "      <td>58</td>\n",
              "      <td>1</td>\n",
              "      <td>1</td>\n",
              "      <td>Human Resources</td>\n",
              "      <td>3</td>\n",
              "      <td>Married</td>\n",
              "      <td>1555</td>\n",
              "      <td>11585</td>\n",
              "      <td>1</td>\n",
              "      <td>Y</td>\n",
              "      <td>No</td>\n",
              "      <td>11</td>\n",
              "      <td>3</td>\n",
              "      <td>3</td>\n",
              "      <td>80</td>\n",
              "      <td>1</td>\n",
              "      <td>1</td>\n",
              "      <td>2</td>\n",
              "      <td>3</td>\n",
              "      <td>1</td>\n",
              "      <td>0</td>\n",
              "      <td>0</td>\n",
              "      <td>0</td>\n",
              "    </tr>\n",
              "    <tr>\n",
              "      <th>3</th>\n",
              "      <td>45.0</td>\n",
              "      <td>Travel_Rarely</td>\n",
              "      <td>1339.0</td>\n",
              "      <td>Research &amp; Development</td>\n",
              "      <td>7.0</td>\n",
              "      <td>3</td>\n",
              "      <td>Life Sciences</td>\n",
              "      <td>1</td>\n",
              "      <td>86</td>\n",
              "      <td>2</td>\n",
              "      <td>Male</td>\n",
              "      <td>59</td>\n",
              "      <td>3</td>\n",
              "      <td>3</td>\n",
              "      <td>Research Scientist</td>\n",
              "      <td>1</td>\n",
              "      <td>Divorced</td>\n",
              "      <td>9724</td>\n",
              "      <td>18787</td>\n",
              "      <td>2</td>\n",
              "      <td>Y</td>\n",
              "      <td>No</td>\n",
              "      <td>17</td>\n",
              "      <td>3</td>\n",
              "      <td>3</td>\n",
              "      <td>80</td>\n",
              "      <td>1</td>\n",
              "      <td>25</td>\n",
              "      <td>2</td>\n",
              "      <td>3</td>\n",
              "      <td>1</td>\n",
              "      <td>0</td>\n",
              "      <td>0</td>\n",
              "      <td>0</td>\n",
              "    </tr>\n",
              "    <tr>\n",
              "      <th>4</th>\n",
              "      <td>36.0</td>\n",
              "      <td>Travel_Rarely</td>\n",
              "      <td>1396.0</td>\n",
              "      <td>Research &amp; Development</td>\n",
              "      <td>NaN</td>\n",
              "      <td>2</td>\n",
              "      <td>Life Sciences</td>\n",
              "      <td>1</td>\n",
              "      <td>304</td>\n",
              "      <td>4</td>\n",
              "      <td>Male</td>\n",
              "      <td>62</td>\n",
              "      <td>3</td>\n",
              "      <td>2</td>\n",
              "      <td>Laboratory Technician</td>\n",
              "      <td>2</td>\n",
              "      <td>Single</td>\n",
              "      <td>5914</td>\n",
              "      <td>9945</td>\n",
              "      <td>8</td>\n",
              "      <td>Y</td>\n",
              "      <td>No</td>\n",
              "      <td>16</td>\n",
              "      <td>3</td>\n",
              "      <td>4</td>\n",
              "      <td>80</td>\n",
              "      <td>0</td>\n",
              "      <td>16</td>\n",
              "      <td>3</td>\n",
              "      <td>4</td>\n",
              "      <td>13</td>\n",
              "      <td>11</td>\n",
              "      <td>3</td>\n",
              "      <td>7</td>\n",
              "    </tr>\n",
              "    <tr>\n",
              "      <th>...</th>\n",
              "      <td>...</td>\n",
              "      <td>...</td>\n",
              "      <td>...</td>\n",
              "      <td>...</td>\n",
              "      <td>...</td>\n",
              "      <td>...</td>\n",
              "      <td>...</td>\n",
              "      <td>...</td>\n",
              "      <td>...</td>\n",
              "      <td>...</td>\n",
              "      <td>...</td>\n",
              "      <td>...</td>\n",
              "      <td>...</td>\n",
              "      <td>...</td>\n",
              "      <td>...</td>\n",
              "      <td>...</td>\n",
              "      <td>...</td>\n",
              "      <td>...</td>\n",
              "      <td>...</td>\n",
              "      <td>...</td>\n",
              "      <td>...</td>\n",
              "      <td>...</td>\n",
              "      <td>...</td>\n",
              "      <td>...</td>\n",
              "      <td>...</td>\n",
              "      <td>...</td>\n",
              "      <td>...</td>\n",
              "      <td>...</td>\n",
              "      <td>...</td>\n",
              "      <td>...</td>\n",
              "      <td>...</td>\n",
              "      <td>...</td>\n",
              "      <td>...</td>\n",
              "      <td>...</td>\n",
              "    </tr>\n",
              "    <tr>\n",
              "      <th>436</th>\n",
              "      <td>33.0</td>\n",
              "      <td>Travel_Frequently</td>\n",
              "      <td>430.0</td>\n",
              "      <td>Sales</td>\n",
              "      <td>7.0</td>\n",
              "      <td>3</td>\n",
              "      <td>Medical</td>\n",
              "      <td>1</td>\n",
              "      <td>1477</td>\n",
              "      <td>4</td>\n",
              "      <td>Male</td>\n",
              "      <td>54</td>\n",
              "      <td>3</td>\n",
              "      <td>2</td>\n",
              "      <td>Sales Executive</td>\n",
              "      <td>1</td>\n",
              "      <td>Married</td>\n",
              "      <td>4373</td>\n",
              "      <td>17456</td>\n",
              "      <td>0</td>\n",
              "      <td>Y</td>\n",
              "      <td>No</td>\n",
              "      <td>14</td>\n",
              "      <td>3</td>\n",
              "      <td>1</td>\n",
              "      <td>80</td>\n",
              "      <td>2</td>\n",
              "      <td>5</td>\n",
              "      <td>2</td>\n",
              "      <td>3</td>\n",
              "      <td>4</td>\n",
              "      <td>3</td>\n",
              "      <td>0</td>\n",
              "      <td>3</td>\n",
              "    </tr>\n",
              "    <tr>\n",
              "      <th>437</th>\n",
              "      <td>27.0</td>\n",
              "      <td>Non-Travel</td>\n",
              "      <td>210.0</td>\n",
              "      <td>Sales</td>\n",
              "      <td>1.0</td>\n",
              "      <td>1</td>\n",
              "      <td>Marketing</td>\n",
              "      <td>1</td>\n",
              "      <td>449</td>\n",
              "      <td>3</td>\n",
              "      <td>Male</td>\n",
              "      <td>73</td>\n",
              "      <td>3</td>\n",
              "      <td>2</td>\n",
              "      <td>Sales Executive</td>\n",
              "      <td>2</td>\n",
              "      <td>Married</td>\n",
              "      <td>6349</td>\n",
              "      <td>22107</td>\n",
              "      <td>0</td>\n",
              "      <td>Y</td>\n",
              "      <td>Yes</td>\n",
              "      <td>13</td>\n",
              "      <td>3</td>\n",
              "      <td>4</td>\n",
              "      <td>80</td>\n",
              "      <td>1</td>\n",
              "      <td>6</td>\n",
              "      <td>0</td>\n",
              "      <td>3</td>\n",
              "      <td>5</td>\n",
              "      <td>4</td>\n",
              "      <td>1</td>\n",
              "      <td>4</td>\n",
              "    </tr>\n",
              "    <tr>\n",
              "      <th>438</th>\n",
              "      <td>NaN</td>\n",
              "      <td>Travel_Rarely</td>\n",
              "      <td>1157.0</td>\n",
              "      <td>Research &amp; Development</td>\n",
              "      <td>2.0</td>\n",
              "      <td>4</td>\n",
              "      <td>Medical</td>\n",
              "      <td>1</td>\n",
              "      <td>440</td>\n",
              "      <td>1</td>\n",
              "      <td>Male</td>\n",
              "      <td>84</td>\n",
              "      <td>1</td>\n",
              "      <td>1</td>\n",
              "      <td>Research Scientist</td>\n",
              "      <td>4</td>\n",
              "      <td>Married</td>\n",
              "      <td>3464</td>\n",
              "      <td>24737</td>\n",
              "      <td>5</td>\n",
              "      <td>Y</td>\n",
              "      <td>Yes</td>\n",
              "      <td>13</td>\n",
              "      <td>3</td>\n",
              "      <td>4</td>\n",
              "      <td>80</td>\n",
              "      <td>0</td>\n",
              "      <td>5</td>\n",
              "      <td>4</td>\n",
              "      <td>2</td>\n",
              "      <td>3</td>\n",
              "      <td>2</td>\n",
              "      <td>2</td>\n",
              "      <td>2</td>\n",
              "    </tr>\n",
              "    <tr>\n",
              "      <th>439</th>\n",
              "      <td>39.0</td>\n",
              "      <td>Travel_Rarely</td>\n",
              "      <td>1383.0</td>\n",
              "      <td>Human Resources</td>\n",
              "      <td>2.0</td>\n",
              "      <td>3</td>\n",
              "      <td>Life Sciences</td>\n",
              "      <td>1</td>\n",
              "      <td>909</td>\n",
              "      <td>4</td>\n",
              "      <td>Female</td>\n",
              "      <td>42</td>\n",
              "      <td>2</td>\n",
              "      <td>2</td>\n",
              "      <td>Human Resources</td>\n",
              "      <td>4</td>\n",
              "      <td>Married</td>\n",
              "      <td>5204</td>\n",
              "      <td>7790</td>\n",
              "      <td>8</td>\n",
              "      <td>Y</td>\n",
              "      <td>No</td>\n",
              "      <td>11</td>\n",
              "      <td>3</td>\n",
              "      <td>3</td>\n",
              "      <td>80</td>\n",
              "      <td>2</td>\n",
              "      <td>13</td>\n",
              "      <td>2</td>\n",
              "      <td>3</td>\n",
              "      <td>5</td>\n",
              "      <td>4</td>\n",
              "      <td>0</td>\n",
              "      <td>4</td>\n",
              "    </tr>\n",
              "    <tr>\n",
              "      <th>440</th>\n",
              "      <td>NaN</td>\n",
              "      <td>Travel_Rarely</td>\n",
              "      <td>104.0</td>\n",
              "      <td>Research &amp; Development</td>\n",
              "      <td>2.0</td>\n",
              "      <td>3</td>\n",
              "      <td>Life Sciences</td>\n",
              "      <td>1</td>\n",
              "      <td>1569</td>\n",
              "      <td>1</td>\n",
              "      <td>Female</td>\n",
              "      <td>69</td>\n",
              "      <td>3</td>\n",
              "      <td>1</td>\n",
              "      <td>Laboratory Technician</td>\n",
              "      <td>1</td>\n",
              "      <td>Divorced</td>\n",
              "      <td>2074</td>\n",
              "      <td>26619</td>\n",
              "      <td>1</td>\n",
              "      <td>Y</td>\n",
              "      <td>Yes</td>\n",
              "      <td>12</td>\n",
              "      <td>3</td>\n",
              "      <td>4</td>\n",
              "      <td>80</td>\n",
              "      <td>1</td>\n",
              "      <td>1</td>\n",
              "      <td>2</td>\n",
              "      <td>3</td>\n",
              "      <td>1</td>\n",
              "      <td>0</td>\n",
              "      <td>0</td>\n",
              "      <td>0</td>\n",
              "    </tr>\n",
              "  </tbody>\n",
              "</table>\n",
              "<p>441 rows × 34 columns</p>\n",
              "</div>"
            ],
            "text/plain": [
              "      Age     BusinessTravel  ...  YearsSinceLastPromotion YearsWithCurrManager\n",
              "0     NaN      Travel_Rarely  ...                        1                    3\n",
              "1    53.0      Travel_Rarely  ...                        1                    3\n",
              "2    24.0      Travel_Rarely  ...                        0                    0\n",
              "3    45.0      Travel_Rarely  ...                        0                    0\n",
              "4    36.0      Travel_Rarely  ...                        3                    7\n",
              "..    ...                ...  ...                      ...                  ...\n",
              "436  33.0  Travel_Frequently  ...                        0                    3\n",
              "437  27.0         Non-Travel  ...                        1                    4\n",
              "438   NaN      Travel_Rarely  ...                        2                    2\n",
              "439  39.0      Travel_Rarely  ...                        0                    4\n",
              "440   NaN      Travel_Rarely  ...                        0                    0\n",
              "\n",
              "[441 rows x 34 columns]"
            ]
          },
          "metadata": {
            "tags": []
          },
          "execution_count": 5
        }
      ]
    },
    {
      "cell_type": "code",
      "metadata": {
        "id": "peS7IOZ7eXlp",
        "colab": {
          "base_uri": "https://localhost:8080/",
          "height": 575
        },
        "outputId": "1d4963d0-6ec1-4566-9be4-96f386529251"
      },
      "source": [
        "#subset the orignal dataset\n",
        "#its safer to work on copies than original dataframes unless you won't be needing the original df\n",
        "df5_train_data=train_data.copy()\n",
        "df5_train_data\n"
      ],
      "execution_count": null,
      "outputs": [
        {
          "output_type": "execute_result",
          "data": {
            "text/html": [
              "<div>\n",
              "<style scoped>\n",
              "    .dataframe tbody tr th:only-of-type {\n",
              "        vertical-align: middle;\n",
              "    }\n",
              "\n",
              "    .dataframe tbody tr th {\n",
              "        vertical-align: top;\n",
              "    }\n",
              "\n",
              "    .dataframe thead th {\n",
              "        text-align: right;\n",
              "    }\n",
              "</style>\n",
              "<table border=\"1\" class=\"dataframe\">\n",
              "  <thead>\n",
              "    <tr style=\"text-align: right;\">\n",
              "      <th></th>\n",
              "      <th>Age</th>\n",
              "      <th>Attrition</th>\n",
              "      <th>BusinessTravel</th>\n",
              "      <th>DailyRate</th>\n",
              "      <th>Department</th>\n",
              "      <th>DistanceFromHome</th>\n",
              "      <th>Education</th>\n",
              "      <th>EducationField</th>\n",
              "      <th>EmployeeCount</th>\n",
              "      <th>EmployeeNumber</th>\n",
              "      <th>EnvironmentSatisfaction</th>\n",
              "      <th>Gender</th>\n",
              "      <th>HourlyRate</th>\n",
              "      <th>JobInvolvement</th>\n",
              "      <th>JobLevel</th>\n",
              "      <th>JobRole</th>\n",
              "      <th>JobSatisfaction</th>\n",
              "      <th>MaritalStatus</th>\n",
              "      <th>MonthlyIncome</th>\n",
              "      <th>MonthlyRate</th>\n",
              "      <th>NumCompaniesWorked</th>\n",
              "      <th>Over18</th>\n",
              "      <th>OverTime</th>\n",
              "      <th>PercentSalaryHike</th>\n",
              "      <th>PerformanceRating</th>\n",
              "      <th>RelationshipSatisfaction</th>\n",
              "      <th>StandardHours</th>\n",
              "      <th>StockOptionLevel</th>\n",
              "      <th>TotalWorkingYears</th>\n",
              "      <th>TrainingTimesLastYear</th>\n",
              "      <th>WorkLifeBalance</th>\n",
              "      <th>YearsAtCompany</th>\n",
              "      <th>YearsInCurrentRole</th>\n",
              "      <th>YearsSinceLastPromotion</th>\n",
              "      <th>YearsWithCurrManager</th>\n",
              "    </tr>\n",
              "  </thead>\n",
              "  <tbody>\n",
              "    <tr>\n",
              "      <th>0</th>\n",
              "      <td>50.0</td>\n",
              "      <td>No</td>\n",
              "      <td>Travel_Rarely</td>\n",
              "      <td>1126.0</td>\n",
              "      <td>Research &amp; Development</td>\n",
              "      <td>1.0</td>\n",
              "      <td>2</td>\n",
              "      <td>Medical</td>\n",
              "      <td>1</td>\n",
              "      <td>997</td>\n",
              "      <td>4</td>\n",
              "      <td>Male</td>\n",
              "      <td>66</td>\n",
              "      <td>3</td>\n",
              "      <td>4</td>\n",
              "      <td>Research Director</td>\n",
              "      <td>4</td>\n",
              "      <td>Divorced</td>\n",
              "      <td>17399</td>\n",
              "      <td>6615</td>\n",
              "      <td>9</td>\n",
              "      <td>Y</td>\n",
              "      <td>No</td>\n",
              "      <td>22</td>\n",
              "      <td>4</td>\n",
              "      <td>3</td>\n",
              "      <td>80</td>\n",
              "      <td>1</td>\n",
              "      <td>32</td>\n",
              "      <td>1</td>\n",
              "      <td>2</td>\n",
              "      <td>5</td>\n",
              "      <td>4</td>\n",
              "      <td>1</td>\n",
              "      <td>3</td>\n",
              "    </tr>\n",
              "    <tr>\n",
              "      <th>1</th>\n",
              "      <td>36.0</td>\n",
              "      <td>No</td>\n",
              "      <td>Travel_Rarely</td>\n",
              "      <td>216.0</td>\n",
              "      <td>Research &amp; Development</td>\n",
              "      <td>6.0</td>\n",
              "      <td>2</td>\n",
              "      <td>Medical</td>\n",
              "      <td>1</td>\n",
              "      <td>178</td>\n",
              "      <td>2</td>\n",
              "      <td>Male</td>\n",
              "      <td>84</td>\n",
              "      <td>3</td>\n",
              "      <td>2</td>\n",
              "      <td>Manufacturing Director</td>\n",
              "      <td>2</td>\n",
              "      <td>Divorced</td>\n",
              "      <td>4941</td>\n",
              "      <td>2819</td>\n",
              "      <td>6</td>\n",
              "      <td>Y</td>\n",
              "      <td>No</td>\n",
              "      <td>20</td>\n",
              "      <td>4</td>\n",
              "      <td>4</td>\n",
              "      <td>80</td>\n",
              "      <td>2</td>\n",
              "      <td>7</td>\n",
              "      <td>0</td>\n",
              "      <td>3</td>\n",
              "      <td>3</td>\n",
              "      <td>2</td>\n",
              "      <td>0</td>\n",
              "      <td>1</td>\n",
              "    </tr>\n",
              "    <tr>\n",
              "      <th>2</th>\n",
              "      <td>21.0</td>\n",
              "      <td>Yes</td>\n",
              "      <td>Travel_Rarely</td>\n",
              "      <td>337.0</td>\n",
              "      <td>Sales</td>\n",
              "      <td>7.0</td>\n",
              "      <td>1</td>\n",
              "      <td>Marketing</td>\n",
              "      <td>1</td>\n",
              "      <td>1780</td>\n",
              "      <td>2</td>\n",
              "      <td>Male</td>\n",
              "      <td>31</td>\n",
              "      <td>3</td>\n",
              "      <td>1</td>\n",
              "      <td>Sales Representative</td>\n",
              "      <td>2</td>\n",
              "      <td>Single</td>\n",
              "      <td>2679</td>\n",
              "      <td>4567</td>\n",
              "      <td>1</td>\n",
              "      <td>Y</td>\n",
              "      <td>No</td>\n",
              "      <td>13</td>\n",
              "      <td>3</td>\n",
              "      <td>2</td>\n",
              "      <td>80</td>\n",
              "      <td>0</td>\n",
              "      <td>1</td>\n",
              "      <td>3</td>\n",
              "      <td>3</td>\n",
              "      <td>1</td>\n",
              "      <td>0</td>\n",
              "      <td>1</td>\n",
              "      <td>0</td>\n",
              "    </tr>\n",
              "    <tr>\n",
              "      <th>3</th>\n",
              "      <td>50.0</td>\n",
              "      <td>No</td>\n",
              "      <td>Travel_Frequently</td>\n",
              "      <td>1246.0</td>\n",
              "      <td>Human Resources</td>\n",
              "      <td>NaN</td>\n",
              "      <td>3</td>\n",
              "      <td>Medical</td>\n",
              "      <td>1</td>\n",
              "      <td>644</td>\n",
              "      <td>1</td>\n",
              "      <td>Male</td>\n",
              "      <td>99</td>\n",
              "      <td>3</td>\n",
              "      <td>5</td>\n",
              "      <td>Manager</td>\n",
              "      <td>2</td>\n",
              "      <td>Married</td>\n",
              "      <td>18200</td>\n",
              "      <td>7999</td>\n",
              "      <td>1</td>\n",
              "      <td>Y</td>\n",
              "      <td>No</td>\n",
              "      <td>11</td>\n",
              "      <td>3</td>\n",
              "      <td>3</td>\n",
              "      <td>80</td>\n",
              "      <td>1</td>\n",
              "      <td>32</td>\n",
              "      <td>2</td>\n",
              "      <td>3</td>\n",
              "      <td>32</td>\n",
              "      <td>5</td>\n",
              "      <td>10</td>\n",
              "      <td>7</td>\n",
              "    </tr>\n",
              "    <tr>\n",
              "      <th>4</th>\n",
              "      <td>52.0</td>\n",
              "      <td>No</td>\n",
              "      <td>Travel_Rarely</td>\n",
              "      <td>994.0</td>\n",
              "      <td>Research &amp; Development</td>\n",
              "      <td>7.0</td>\n",
              "      <td>4</td>\n",
              "      <td>Life Sciences</td>\n",
              "      <td>1</td>\n",
              "      <td>1118</td>\n",
              "      <td>2</td>\n",
              "      <td>Male</td>\n",
              "      <td>87</td>\n",
              "      <td>3</td>\n",
              "      <td>3</td>\n",
              "      <td>Healthcare Representative</td>\n",
              "      <td>2</td>\n",
              "      <td>Single</td>\n",
              "      <td>10445</td>\n",
              "      <td>15322</td>\n",
              "      <td>7</td>\n",
              "      <td>Y</td>\n",
              "      <td>No</td>\n",
              "      <td>19</td>\n",
              "      <td>3</td>\n",
              "      <td>4</td>\n",
              "      <td>80</td>\n",
              "      <td>0</td>\n",
              "      <td>18</td>\n",
              "      <td>4</td>\n",
              "      <td>3</td>\n",
              "      <td>8</td>\n",
              "      <td>6</td>\n",
              "      <td>4</td>\n",
              "      <td>0</td>\n",
              "    </tr>\n",
              "    <tr>\n",
              "      <th>...</th>\n",
              "      <td>...</td>\n",
              "      <td>...</td>\n",
              "      <td>...</td>\n",
              "      <td>...</td>\n",
              "      <td>...</td>\n",
              "      <td>...</td>\n",
              "      <td>...</td>\n",
              "      <td>...</td>\n",
              "      <td>...</td>\n",
              "      <td>...</td>\n",
              "      <td>...</td>\n",
              "      <td>...</td>\n",
              "      <td>...</td>\n",
              "      <td>...</td>\n",
              "      <td>...</td>\n",
              "      <td>...</td>\n",
              "      <td>...</td>\n",
              "      <td>...</td>\n",
              "      <td>...</td>\n",
              "      <td>...</td>\n",
              "      <td>...</td>\n",
              "      <td>...</td>\n",
              "      <td>...</td>\n",
              "      <td>...</td>\n",
              "      <td>...</td>\n",
              "      <td>...</td>\n",
              "      <td>...</td>\n",
              "      <td>...</td>\n",
              "      <td>...</td>\n",
              "      <td>...</td>\n",
              "      <td>...</td>\n",
              "      <td>...</td>\n",
              "      <td>...</td>\n",
              "      <td>...</td>\n",
              "      <td>...</td>\n",
              "    </tr>\n",
              "    <tr>\n",
              "      <th>1024</th>\n",
              "      <td>NaN</td>\n",
              "      <td>No</td>\n",
              "      <td>Travel_Rarely</td>\n",
              "      <td>750.0</td>\n",
              "      <td>Research &amp; Development</td>\n",
              "      <td>28.0</td>\n",
              "      <td>3</td>\n",
              "      <td>Life Sciences</td>\n",
              "      <td>1</td>\n",
              "      <td>1596</td>\n",
              "      <td>2</td>\n",
              "      <td>Male</td>\n",
              "      <td>46</td>\n",
              "      <td>4</td>\n",
              "      <td>2</td>\n",
              "      <td>Laboratory Technician</td>\n",
              "      <td>3</td>\n",
              "      <td>Married</td>\n",
              "      <td>3407</td>\n",
              "      <td>25348</td>\n",
              "      <td>1</td>\n",
              "      <td>Y</td>\n",
              "      <td>No</td>\n",
              "      <td>17</td>\n",
              "      <td>3</td>\n",
              "      <td>4</td>\n",
              "      <td>80</td>\n",
              "      <td>2</td>\n",
              "      <td>10</td>\n",
              "      <td>3</td>\n",
              "      <td>2</td>\n",
              "      <td>10</td>\n",
              "      <td>9</td>\n",
              "      <td>6</td>\n",
              "      <td>8</td>\n",
              "    </tr>\n",
              "    <tr>\n",
              "      <th>1025</th>\n",
              "      <td>41.0</td>\n",
              "      <td>No</td>\n",
              "      <td>Travel_Rarely</td>\n",
              "      <td>447.0</td>\n",
              "      <td>Research &amp; Development</td>\n",
              "      <td>NaN</td>\n",
              "      <td>3</td>\n",
              "      <td>Life Sciences</td>\n",
              "      <td>1</td>\n",
              "      <td>1814</td>\n",
              "      <td>2</td>\n",
              "      <td>Male</td>\n",
              "      <td>85</td>\n",
              "      <td>4</td>\n",
              "      <td>2</td>\n",
              "      <td>Healthcare Representative</td>\n",
              "      <td>2</td>\n",
              "      <td>Single</td>\n",
              "      <td>6870</td>\n",
              "      <td>15530</td>\n",
              "      <td>3</td>\n",
              "      <td>Y</td>\n",
              "      <td>No</td>\n",
              "      <td>12</td>\n",
              "      <td>3</td>\n",
              "      <td>1</td>\n",
              "      <td>80</td>\n",
              "      <td>0</td>\n",
              "      <td>11</td>\n",
              "      <td>3</td>\n",
              "      <td>1</td>\n",
              "      <td>3</td>\n",
              "      <td>2</td>\n",
              "      <td>1</td>\n",
              "      <td>2</td>\n",
              "    </tr>\n",
              "    <tr>\n",
              "      <th>1026</th>\n",
              "      <td>22.0</td>\n",
              "      <td>Yes</td>\n",
              "      <td>Travel_Frequently</td>\n",
              "      <td>1256.0</td>\n",
              "      <td>Research &amp; Development</td>\n",
              "      <td>NaN</td>\n",
              "      <td>4</td>\n",
              "      <td>Life Sciences</td>\n",
              "      <td>1</td>\n",
              "      <td>1203</td>\n",
              "      <td>3</td>\n",
              "      <td>Male</td>\n",
              "      <td>48</td>\n",
              "      <td>2</td>\n",
              "      <td>1</td>\n",
              "      <td>Research Scientist</td>\n",
              "      <td>4</td>\n",
              "      <td>Married</td>\n",
              "      <td>2853</td>\n",
              "      <td>4223</td>\n",
              "      <td>0</td>\n",
              "      <td>Y</td>\n",
              "      <td>Yes</td>\n",
              "      <td>11</td>\n",
              "      <td>3</td>\n",
              "      <td>2</td>\n",
              "      <td>80</td>\n",
              "      <td>1</td>\n",
              "      <td>1</td>\n",
              "      <td>5</td>\n",
              "      <td>3</td>\n",
              "      <td>0</td>\n",
              "      <td>0</td>\n",
              "      <td>0</td>\n",
              "      <td>0</td>\n",
              "    </tr>\n",
              "    <tr>\n",
              "      <th>1027</th>\n",
              "      <td>29.0</td>\n",
              "      <td>No</td>\n",
              "      <td>Travel_Rarely</td>\n",
              "      <td>1378.0</td>\n",
              "      <td>Research &amp; Development</td>\n",
              "      <td>13.0</td>\n",
              "      <td>2</td>\n",
              "      <td>Other</td>\n",
              "      <td>1</td>\n",
              "      <td>2053</td>\n",
              "      <td>4</td>\n",
              "      <td>Male</td>\n",
              "      <td>46</td>\n",
              "      <td>2</td>\n",
              "      <td>2</td>\n",
              "      <td>Laboratory Technician</td>\n",
              "      <td>2</td>\n",
              "      <td>Married</td>\n",
              "      <td>4025</td>\n",
              "      <td>23679</td>\n",
              "      <td>4</td>\n",
              "      <td>Y</td>\n",
              "      <td>Yes</td>\n",
              "      <td>13</td>\n",
              "      <td>3</td>\n",
              "      <td>1</td>\n",
              "      <td>80</td>\n",
              "      <td>1</td>\n",
              "      <td>10</td>\n",
              "      <td>2</td>\n",
              "      <td>3</td>\n",
              "      <td>4</td>\n",
              "      <td>3</td>\n",
              "      <td>0</td>\n",
              "      <td>3</td>\n",
              "    </tr>\n",
              "    <tr>\n",
              "      <th>1028</th>\n",
              "      <td>50.0</td>\n",
              "      <td>No</td>\n",
              "      <td>Travel_Rarely</td>\n",
              "      <td>264.0</td>\n",
              "      <td>Sales</td>\n",
              "      <td>9.0</td>\n",
              "      <td>3</td>\n",
              "      <td>Marketing</td>\n",
              "      <td>1</td>\n",
              "      <td>1591</td>\n",
              "      <td>3</td>\n",
              "      <td>Male</td>\n",
              "      <td>59</td>\n",
              "      <td>3</td>\n",
              "      <td>5</td>\n",
              "      <td>Manager</td>\n",
              "      <td>3</td>\n",
              "      <td>Married</td>\n",
              "      <td>19331</td>\n",
              "      <td>19519</td>\n",
              "      <td>4</td>\n",
              "      <td>Y</td>\n",
              "      <td>Yes</td>\n",
              "      <td>16</td>\n",
              "      <td>3</td>\n",
              "      <td>3</td>\n",
              "      <td>80</td>\n",
              "      <td>1</td>\n",
              "      <td>27</td>\n",
              "      <td>2</td>\n",
              "      <td>3</td>\n",
              "      <td>1</td>\n",
              "      <td>0</td>\n",
              "      <td>0</td>\n",
              "      <td>0</td>\n",
              "    </tr>\n",
              "  </tbody>\n",
              "</table>\n",
              "<p>1029 rows × 35 columns</p>\n",
              "</div>"
            ],
            "text/plain": [
              "       Age Attrition  ... YearsSinceLastPromotion  YearsWithCurrManager\n",
              "0     50.0        No  ...                       1                     3\n",
              "1     36.0        No  ...                       0                     1\n",
              "2     21.0       Yes  ...                       1                     0\n",
              "3     50.0        No  ...                      10                     7\n",
              "4     52.0        No  ...                       4                     0\n",
              "...    ...       ...  ...                     ...                   ...\n",
              "1024   NaN        No  ...                       6                     8\n",
              "1025  41.0        No  ...                       1                     2\n",
              "1026  22.0       Yes  ...                       0                     0\n",
              "1027  29.0        No  ...                       0                     3\n",
              "1028  50.0        No  ...                       0                     0\n",
              "\n",
              "[1029 rows x 35 columns]"
            ]
          },
          "metadata": {
            "tags": []
          },
          "execution_count": 6
        }
      ]
    },
    {
      "cell_type": "code",
      "metadata": {
        "id": "0UiTdMIgWKHc",
        "colab": {
          "base_uri": "https://localhost:8080/"
        },
        "outputId": "bf4ef6a2-6aba-40fa-e34f-56348cb11b09"
      },
      "source": [
        "df5_train_data.isnull().sum()"
      ],
      "execution_count": null,
      "outputs": [
        {
          "output_type": "execute_result",
          "data": {
            "text/plain": [
              "Age                         136\n",
              "Attrition                     0\n",
              "BusinessTravel                5\n",
              "DailyRate                    27\n",
              "Department                    0\n",
              "DistanceFromHome             95\n",
              "Education                     0\n",
              "EducationField                0\n",
              "EmployeeCount                 0\n",
              "EmployeeNumber                0\n",
              "EnvironmentSatisfaction       0\n",
              "Gender                        0\n",
              "HourlyRate                    0\n",
              "JobInvolvement                0\n",
              "JobLevel                      0\n",
              "JobRole                       0\n",
              "JobSatisfaction               0\n",
              "MaritalStatus                 5\n",
              "MonthlyIncome                 0\n",
              "MonthlyRate                   0\n",
              "NumCompaniesWorked            0\n",
              "Over18                        0\n",
              "OverTime                      0\n",
              "PercentSalaryHike             0\n",
              "PerformanceRating             0\n",
              "RelationshipSatisfaction      0\n",
              "StandardHours                 0\n",
              "StockOptionLevel              0\n",
              "TotalWorkingYears             0\n",
              "TrainingTimesLastYear         0\n",
              "WorkLifeBalance               0\n",
              "YearsAtCompany                0\n",
              "YearsInCurrentRole            0\n",
              "YearsSinceLastPromotion       0\n",
              "YearsWithCurrManager          0\n",
              "dtype: int64"
            ]
          },
          "metadata": {
            "tags": []
          },
          "execution_count": 7
        }
      ]
    },
    {
      "cell_type": "markdown",
      "metadata": {
        "id": "c3WoTsPOgYMj"
      },
      "source": [
        "\n",
        "1.   List item\n",
        "2.   List item\n",
        "\n"
      ]
    },
    {
      "cell_type": "code",
      "metadata": {
        "id": "RwIEY4kpWKdo",
        "colab": {
          "base_uri": "https://localhost:8080/",
          "height": 200
        },
        "outputId": "66afd946-9882-4521-cc51-7838be7f31ce"
      },
      "source": [
        "#Let’s take a more detailed look at what data is actually missing:\n",
        "total = df5_train_data.isnull().sum().sort_values(ascending=False)\n",
        "percent_1 = df5_train_data.isnull().sum()/df5_train_data.isnull().count()*100\n",
        "percent_2 = (round(percent_1, 1)).sort_values(ascending=False)\n",
        "missing_data = pd.concat([total, percent_2], axis=1, keys=['Total', '%'])\n",
        "missing_data.head(5)\n"
      ],
      "execution_count": null,
      "outputs": [
        {
          "output_type": "execute_result",
          "data": {
            "text/html": [
              "<div>\n",
              "<style scoped>\n",
              "    .dataframe tbody tr th:only-of-type {\n",
              "        vertical-align: middle;\n",
              "    }\n",
              "\n",
              "    .dataframe tbody tr th {\n",
              "        vertical-align: top;\n",
              "    }\n",
              "\n",
              "    .dataframe thead th {\n",
              "        text-align: right;\n",
              "    }\n",
              "</style>\n",
              "<table border=\"1\" class=\"dataframe\">\n",
              "  <thead>\n",
              "    <tr style=\"text-align: right;\">\n",
              "      <th></th>\n",
              "      <th>Total</th>\n",
              "      <th>%</th>\n",
              "    </tr>\n",
              "  </thead>\n",
              "  <tbody>\n",
              "    <tr>\n",
              "      <th>Age</th>\n",
              "      <td>136</td>\n",
              "      <td>13.2</td>\n",
              "    </tr>\n",
              "    <tr>\n",
              "      <th>DistanceFromHome</th>\n",
              "      <td>95</td>\n",
              "      <td>9.2</td>\n",
              "    </tr>\n",
              "    <tr>\n",
              "      <th>DailyRate</th>\n",
              "      <td>27</td>\n",
              "      <td>2.6</td>\n",
              "    </tr>\n",
              "    <tr>\n",
              "      <th>BusinessTravel</th>\n",
              "      <td>5</td>\n",
              "      <td>0.5</td>\n",
              "    </tr>\n",
              "    <tr>\n",
              "      <th>MaritalStatus</th>\n",
              "      <td>5</td>\n",
              "      <td>0.5</td>\n",
              "    </tr>\n",
              "  </tbody>\n",
              "</table>\n",
              "</div>"
            ],
            "text/plain": [
              "                  Total     %\n",
              "Age                 136  13.2\n",
              "DistanceFromHome     95   9.2\n",
              "DailyRate            27   2.6\n",
              "BusinessTravel        5   0.5\n",
              "MaritalStatus         5   0.5"
            ]
          },
          "metadata": {
            "tags": []
          },
          "execution_count": 8
        }
      ]
    },
    {
      "cell_type": "code",
      "metadata": {
        "id": "COrtuL4rZNlN",
        "colab": {
          "base_uri": "https://localhost:8080/",
          "height": 575
        },
        "outputId": "f1b6f419-ba84-4a9c-b538-708f37f02567"
      },
      "source": [
        "df5_train_data\n"
      ],
      "execution_count": null,
      "outputs": [
        {
          "output_type": "execute_result",
          "data": {
            "text/html": [
              "<div>\n",
              "<style scoped>\n",
              "    .dataframe tbody tr th:only-of-type {\n",
              "        vertical-align: middle;\n",
              "    }\n",
              "\n",
              "    .dataframe tbody tr th {\n",
              "        vertical-align: top;\n",
              "    }\n",
              "\n",
              "    .dataframe thead th {\n",
              "        text-align: right;\n",
              "    }\n",
              "</style>\n",
              "<table border=\"1\" class=\"dataframe\">\n",
              "  <thead>\n",
              "    <tr style=\"text-align: right;\">\n",
              "      <th></th>\n",
              "      <th>Age</th>\n",
              "      <th>Attrition</th>\n",
              "      <th>BusinessTravel</th>\n",
              "      <th>DailyRate</th>\n",
              "      <th>Department</th>\n",
              "      <th>DistanceFromHome</th>\n",
              "      <th>Education</th>\n",
              "      <th>EducationField</th>\n",
              "      <th>EmployeeCount</th>\n",
              "      <th>EmployeeNumber</th>\n",
              "      <th>EnvironmentSatisfaction</th>\n",
              "      <th>Gender</th>\n",
              "      <th>HourlyRate</th>\n",
              "      <th>JobInvolvement</th>\n",
              "      <th>JobLevel</th>\n",
              "      <th>JobRole</th>\n",
              "      <th>JobSatisfaction</th>\n",
              "      <th>MaritalStatus</th>\n",
              "      <th>MonthlyIncome</th>\n",
              "      <th>MonthlyRate</th>\n",
              "      <th>NumCompaniesWorked</th>\n",
              "      <th>Over18</th>\n",
              "      <th>OverTime</th>\n",
              "      <th>PercentSalaryHike</th>\n",
              "      <th>PerformanceRating</th>\n",
              "      <th>RelationshipSatisfaction</th>\n",
              "      <th>StandardHours</th>\n",
              "      <th>StockOptionLevel</th>\n",
              "      <th>TotalWorkingYears</th>\n",
              "      <th>TrainingTimesLastYear</th>\n",
              "      <th>WorkLifeBalance</th>\n",
              "      <th>YearsAtCompany</th>\n",
              "      <th>YearsInCurrentRole</th>\n",
              "      <th>YearsSinceLastPromotion</th>\n",
              "      <th>YearsWithCurrManager</th>\n",
              "    </tr>\n",
              "  </thead>\n",
              "  <tbody>\n",
              "    <tr>\n",
              "      <th>0</th>\n",
              "      <td>50.0</td>\n",
              "      <td>No</td>\n",
              "      <td>Travel_Rarely</td>\n",
              "      <td>1126.0</td>\n",
              "      <td>Research &amp; Development</td>\n",
              "      <td>1.0</td>\n",
              "      <td>2</td>\n",
              "      <td>Medical</td>\n",
              "      <td>1</td>\n",
              "      <td>997</td>\n",
              "      <td>4</td>\n",
              "      <td>Male</td>\n",
              "      <td>66</td>\n",
              "      <td>3</td>\n",
              "      <td>4</td>\n",
              "      <td>Research Director</td>\n",
              "      <td>4</td>\n",
              "      <td>Divorced</td>\n",
              "      <td>17399</td>\n",
              "      <td>6615</td>\n",
              "      <td>9</td>\n",
              "      <td>Y</td>\n",
              "      <td>No</td>\n",
              "      <td>22</td>\n",
              "      <td>4</td>\n",
              "      <td>3</td>\n",
              "      <td>80</td>\n",
              "      <td>1</td>\n",
              "      <td>32</td>\n",
              "      <td>1</td>\n",
              "      <td>2</td>\n",
              "      <td>5</td>\n",
              "      <td>4</td>\n",
              "      <td>1</td>\n",
              "      <td>3</td>\n",
              "    </tr>\n",
              "    <tr>\n",
              "      <th>1</th>\n",
              "      <td>36.0</td>\n",
              "      <td>No</td>\n",
              "      <td>Travel_Rarely</td>\n",
              "      <td>216.0</td>\n",
              "      <td>Research &amp; Development</td>\n",
              "      <td>6.0</td>\n",
              "      <td>2</td>\n",
              "      <td>Medical</td>\n",
              "      <td>1</td>\n",
              "      <td>178</td>\n",
              "      <td>2</td>\n",
              "      <td>Male</td>\n",
              "      <td>84</td>\n",
              "      <td>3</td>\n",
              "      <td>2</td>\n",
              "      <td>Manufacturing Director</td>\n",
              "      <td>2</td>\n",
              "      <td>Divorced</td>\n",
              "      <td>4941</td>\n",
              "      <td>2819</td>\n",
              "      <td>6</td>\n",
              "      <td>Y</td>\n",
              "      <td>No</td>\n",
              "      <td>20</td>\n",
              "      <td>4</td>\n",
              "      <td>4</td>\n",
              "      <td>80</td>\n",
              "      <td>2</td>\n",
              "      <td>7</td>\n",
              "      <td>0</td>\n",
              "      <td>3</td>\n",
              "      <td>3</td>\n",
              "      <td>2</td>\n",
              "      <td>0</td>\n",
              "      <td>1</td>\n",
              "    </tr>\n",
              "    <tr>\n",
              "      <th>2</th>\n",
              "      <td>21.0</td>\n",
              "      <td>Yes</td>\n",
              "      <td>Travel_Rarely</td>\n",
              "      <td>337.0</td>\n",
              "      <td>Sales</td>\n",
              "      <td>7.0</td>\n",
              "      <td>1</td>\n",
              "      <td>Marketing</td>\n",
              "      <td>1</td>\n",
              "      <td>1780</td>\n",
              "      <td>2</td>\n",
              "      <td>Male</td>\n",
              "      <td>31</td>\n",
              "      <td>3</td>\n",
              "      <td>1</td>\n",
              "      <td>Sales Representative</td>\n",
              "      <td>2</td>\n",
              "      <td>Single</td>\n",
              "      <td>2679</td>\n",
              "      <td>4567</td>\n",
              "      <td>1</td>\n",
              "      <td>Y</td>\n",
              "      <td>No</td>\n",
              "      <td>13</td>\n",
              "      <td>3</td>\n",
              "      <td>2</td>\n",
              "      <td>80</td>\n",
              "      <td>0</td>\n",
              "      <td>1</td>\n",
              "      <td>3</td>\n",
              "      <td>3</td>\n",
              "      <td>1</td>\n",
              "      <td>0</td>\n",
              "      <td>1</td>\n",
              "      <td>0</td>\n",
              "    </tr>\n",
              "    <tr>\n",
              "      <th>3</th>\n",
              "      <td>50.0</td>\n",
              "      <td>No</td>\n",
              "      <td>Travel_Frequently</td>\n",
              "      <td>1246.0</td>\n",
              "      <td>Human Resources</td>\n",
              "      <td>NaN</td>\n",
              "      <td>3</td>\n",
              "      <td>Medical</td>\n",
              "      <td>1</td>\n",
              "      <td>644</td>\n",
              "      <td>1</td>\n",
              "      <td>Male</td>\n",
              "      <td>99</td>\n",
              "      <td>3</td>\n",
              "      <td>5</td>\n",
              "      <td>Manager</td>\n",
              "      <td>2</td>\n",
              "      <td>Married</td>\n",
              "      <td>18200</td>\n",
              "      <td>7999</td>\n",
              "      <td>1</td>\n",
              "      <td>Y</td>\n",
              "      <td>No</td>\n",
              "      <td>11</td>\n",
              "      <td>3</td>\n",
              "      <td>3</td>\n",
              "      <td>80</td>\n",
              "      <td>1</td>\n",
              "      <td>32</td>\n",
              "      <td>2</td>\n",
              "      <td>3</td>\n",
              "      <td>32</td>\n",
              "      <td>5</td>\n",
              "      <td>10</td>\n",
              "      <td>7</td>\n",
              "    </tr>\n",
              "    <tr>\n",
              "      <th>4</th>\n",
              "      <td>52.0</td>\n",
              "      <td>No</td>\n",
              "      <td>Travel_Rarely</td>\n",
              "      <td>994.0</td>\n",
              "      <td>Research &amp; Development</td>\n",
              "      <td>7.0</td>\n",
              "      <td>4</td>\n",
              "      <td>Life Sciences</td>\n",
              "      <td>1</td>\n",
              "      <td>1118</td>\n",
              "      <td>2</td>\n",
              "      <td>Male</td>\n",
              "      <td>87</td>\n",
              "      <td>3</td>\n",
              "      <td>3</td>\n",
              "      <td>Healthcare Representative</td>\n",
              "      <td>2</td>\n",
              "      <td>Single</td>\n",
              "      <td>10445</td>\n",
              "      <td>15322</td>\n",
              "      <td>7</td>\n",
              "      <td>Y</td>\n",
              "      <td>No</td>\n",
              "      <td>19</td>\n",
              "      <td>3</td>\n",
              "      <td>4</td>\n",
              "      <td>80</td>\n",
              "      <td>0</td>\n",
              "      <td>18</td>\n",
              "      <td>4</td>\n",
              "      <td>3</td>\n",
              "      <td>8</td>\n",
              "      <td>6</td>\n",
              "      <td>4</td>\n",
              "      <td>0</td>\n",
              "    </tr>\n",
              "    <tr>\n",
              "      <th>...</th>\n",
              "      <td>...</td>\n",
              "      <td>...</td>\n",
              "      <td>...</td>\n",
              "      <td>...</td>\n",
              "      <td>...</td>\n",
              "      <td>...</td>\n",
              "      <td>...</td>\n",
              "      <td>...</td>\n",
              "      <td>...</td>\n",
              "      <td>...</td>\n",
              "      <td>...</td>\n",
              "      <td>...</td>\n",
              "      <td>...</td>\n",
              "      <td>...</td>\n",
              "      <td>...</td>\n",
              "      <td>...</td>\n",
              "      <td>...</td>\n",
              "      <td>...</td>\n",
              "      <td>...</td>\n",
              "      <td>...</td>\n",
              "      <td>...</td>\n",
              "      <td>...</td>\n",
              "      <td>...</td>\n",
              "      <td>...</td>\n",
              "      <td>...</td>\n",
              "      <td>...</td>\n",
              "      <td>...</td>\n",
              "      <td>...</td>\n",
              "      <td>...</td>\n",
              "      <td>...</td>\n",
              "      <td>...</td>\n",
              "      <td>...</td>\n",
              "      <td>...</td>\n",
              "      <td>...</td>\n",
              "      <td>...</td>\n",
              "    </tr>\n",
              "    <tr>\n",
              "      <th>1024</th>\n",
              "      <td>NaN</td>\n",
              "      <td>No</td>\n",
              "      <td>Travel_Rarely</td>\n",
              "      <td>750.0</td>\n",
              "      <td>Research &amp; Development</td>\n",
              "      <td>28.0</td>\n",
              "      <td>3</td>\n",
              "      <td>Life Sciences</td>\n",
              "      <td>1</td>\n",
              "      <td>1596</td>\n",
              "      <td>2</td>\n",
              "      <td>Male</td>\n",
              "      <td>46</td>\n",
              "      <td>4</td>\n",
              "      <td>2</td>\n",
              "      <td>Laboratory Technician</td>\n",
              "      <td>3</td>\n",
              "      <td>Married</td>\n",
              "      <td>3407</td>\n",
              "      <td>25348</td>\n",
              "      <td>1</td>\n",
              "      <td>Y</td>\n",
              "      <td>No</td>\n",
              "      <td>17</td>\n",
              "      <td>3</td>\n",
              "      <td>4</td>\n",
              "      <td>80</td>\n",
              "      <td>2</td>\n",
              "      <td>10</td>\n",
              "      <td>3</td>\n",
              "      <td>2</td>\n",
              "      <td>10</td>\n",
              "      <td>9</td>\n",
              "      <td>6</td>\n",
              "      <td>8</td>\n",
              "    </tr>\n",
              "    <tr>\n",
              "      <th>1025</th>\n",
              "      <td>41.0</td>\n",
              "      <td>No</td>\n",
              "      <td>Travel_Rarely</td>\n",
              "      <td>447.0</td>\n",
              "      <td>Research &amp; Development</td>\n",
              "      <td>NaN</td>\n",
              "      <td>3</td>\n",
              "      <td>Life Sciences</td>\n",
              "      <td>1</td>\n",
              "      <td>1814</td>\n",
              "      <td>2</td>\n",
              "      <td>Male</td>\n",
              "      <td>85</td>\n",
              "      <td>4</td>\n",
              "      <td>2</td>\n",
              "      <td>Healthcare Representative</td>\n",
              "      <td>2</td>\n",
              "      <td>Single</td>\n",
              "      <td>6870</td>\n",
              "      <td>15530</td>\n",
              "      <td>3</td>\n",
              "      <td>Y</td>\n",
              "      <td>No</td>\n",
              "      <td>12</td>\n",
              "      <td>3</td>\n",
              "      <td>1</td>\n",
              "      <td>80</td>\n",
              "      <td>0</td>\n",
              "      <td>11</td>\n",
              "      <td>3</td>\n",
              "      <td>1</td>\n",
              "      <td>3</td>\n",
              "      <td>2</td>\n",
              "      <td>1</td>\n",
              "      <td>2</td>\n",
              "    </tr>\n",
              "    <tr>\n",
              "      <th>1026</th>\n",
              "      <td>22.0</td>\n",
              "      <td>Yes</td>\n",
              "      <td>Travel_Frequently</td>\n",
              "      <td>1256.0</td>\n",
              "      <td>Research &amp; Development</td>\n",
              "      <td>NaN</td>\n",
              "      <td>4</td>\n",
              "      <td>Life Sciences</td>\n",
              "      <td>1</td>\n",
              "      <td>1203</td>\n",
              "      <td>3</td>\n",
              "      <td>Male</td>\n",
              "      <td>48</td>\n",
              "      <td>2</td>\n",
              "      <td>1</td>\n",
              "      <td>Research Scientist</td>\n",
              "      <td>4</td>\n",
              "      <td>Married</td>\n",
              "      <td>2853</td>\n",
              "      <td>4223</td>\n",
              "      <td>0</td>\n",
              "      <td>Y</td>\n",
              "      <td>Yes</td>\n",
              "      <td>11</td>\n",
              "      <td>3</td>\n",
              "      <td>2</td>\n",
              "      <td>80</td>\n",
              "      <td>1</td>\n",
              "      <td>1</td>\n",
              "      <td>5</td>\n",
              "      <td>3</td>\n",
              "      <td>0</td>\n",
              "      <td>0</td>\n",
              "      <td>0</td>\n",
              "      <td>0</td>\n",
              "    </tr>\n",
              "    <tr>\n",
              "      <th>1027</th>\n",
              "      <td>29.0</td>\n",
              "      <td>No</td>\n",
              "      <td>Travel_Rarely</td>\n",
              "      <td>1378.0</td>\n",
              "      <td>Research &amp; Development</td>\n",
              "      <td>13.0</td>\n",
              "      <td>2</td>\n",
              "      <td>Other</td>\n",
              "      <td>1</td>\n",
              "      <td>2053</td>\n",
              "      <td>4</td>\n",
              "      <td>Male</td>\n",
              "      <td>46</td>\n",
              "      <td>2</td>\n",
              "      <td>2</td>\n",
              "      <td>Laboratory Technician</td>\n",
              "      <td>2</td>\n",
              "      <td>Married</td>\n",
              "      <td>4025</td>\n",
              "      <td>23679</td>\n",
              "      <td>4</td>\n",
              "      <td>Y</td>\n",
              "      <td>Yes</td>\n",
              "      <td>13</td>\n",
              "      <td>3</td>\n",
              "      <td>1</td>\n",
              "      <td>80</td>\n",
              "      <td>1</td>\n",
              "      <td>10</td>\n",
              "      <td>2</td>\n",
              "      <td>3</td>\n",
              "      <td>4</td>\n",
              "      <td>3</td>\n",
              "      <td>0</td>\n",
              "      <td>3</td>\n",
              "    </tr>\n",
              "    <tr>\n",
              "      <th>1028</th>\n",
              "      <td>50.0</td>\n",
              "      <td>No</td>\n",
              "      <td>Travel_Rarely</td>\n",
              "      <td>264.0</td>\n",
              "      <td>Sales</td>\n",
              "      <td>9.0</td>\n",
              "      <td>3</td>\n",
              "      <td>Marketing</td>\n",
              "      <td>1</td>\n",
              "      <td>1591</td>\n",
              "      <td>3</td>\n",
              "      <td>Male</td>\n",
              "      <td>59</td>\n",
              "      <td>3</td>\n",
              "      <td>5</td>\n",
              "      <td>Manager</td>\n",
              "      <td>3</td>\n",
              "      <td>Married</td>\n",
              "      <td>19331</td>\n",
              "      <td>19519</td>\n",
              "      <td>4</td>\n",
              "      <td>Y</td>\n",
              "      <td>Yes</td>\n",
              "      <td>16</td>\n",
              "      <td>3</td>\n",
              "      <td>3</td>\n",
              "      <td>80</td>\n",
              "      <td>1</td>\n",
              "      <td>27</td>\n",
              "      <td>2</td>\n",
              "      <td>3</td>\n",
              "      <td>1</td>\n",
              "      <td>0</td>\n",
              "      <td>0</td>\n",
              "      <td>0</td>\n",
              "    </tr>\n",
              "  </tbody>\n",
              "</table>\n",
              "<p>1029 rows × 35 columns</p>\n",
              "</div>"
            ],
            "text/plain": [
              "       Age Attrition  ... YearsSinceLastPromotion  YearsWithCurrManager\n",
              "0     50.0        No  ...                       1                     3\n",
              "1     36.0        No  ...                       0                     1\n",
              "2     21.0       Yes  ...                       1                     0\n",
              "3     50.0        No  ...                      10                     7\n",
              "4     52.0        No  ...                       4                     0\n",
              "...    ...       ...  ...                     ...                   ...\n",
              "1024   NaN        No  ...                       6                     8\n",
              "1025  41.0        No  ...                       1                     2\n",
              "1026  22.0       Yes  ...                       0                     0\n",
              "1027  29.0        No  ...                       0                     3\n",
              "1028  50.0        No  ...                       0                     0\n",
              "\n",
              "[1029 rows x 35 columns]"
            ]
          },
          "metadata": {
            "tags": []
          },
          "execution_count": 9
        }
      ]
    },
    {
      "cell_type": "markdown",
      "metadata": {
        "id": "BxccUeTs4CZX"
      },
      "source": [
        "Imputation of data"
      ]
    },
    {
      "cell_type": "code",
      "metadata": {
        "colab": {
          "base_uri": "https://localhost:8080/"
        },
        "id": "Su4zYOhiaB7T",
        "outputId": "a6d8b379-d5a3-40fc-b02c-56dc28cd39c7"
      },
      "source": [
        "#imputation with median\n",
        "missing_rate = ['DailyRate']\n",
        " \n",
        "#Technique 2: Using median to impute the missing values\n",
        "for i in missing_rate:\n",
        " df5_train_data.loc[df5_train_data.loc[:,i].isnull(),i]=df5_train_data.loc[:,i].median()\n",
        " \n",
        "print(\"count of NULL values after imputation\\n\")\n",
        "df5_train_data.isnull().sum()"
      ],
      "execution_count": null,
      "outputs": [
        {
          "output_type": "stream",
          "text": [
            "count of NULL values after imputation\n",
            "\n"
          ],
          "name": "stdout"
        },
        {
          "output_type": "execute_result",
          "data": {
            "text/plain": [
              "Age                         136\n",
              "Attrition                     0\n",
              "BusinessTravel                5\n",
              "DailyRate                     0\n",
              "Department                    0\n",
              "DistanceFromHome             95\n",
              "Education                     0\n",
              "EducationField                0\n",
              "EmployeeCount                 0\n",
              "EmployeeNumber                0\n",
              "EnvironmentSatisfaction       0\n",
              "Gender                        0\n",
              "HourlyRate                    0\n",
              "JobInvolvement                0\n",
              "JobLevel                      0\n",
              "JobRole                       0\n",
              "JobSatisfaction               0\n",
              "MaritalStatus                 5\n",
              "MonthlyIncome                 0\n",
              "MonthlyRate                   0\n",
              "NumCompaniesWorked            0\n",
              "Over18                        0\n",
              "OverTime                      0\n",
              "PercentSalaryHike             0\n",
              "PerformanceRating             0\n",
              "RelationshipSatisfaction      0\n",
              "StandardHours                 0\n",
              "StockOptionLevel              0\n",
              "TotalWorkingYears             0\n",
              "TrainingTimesLastYear         0\n",
              "WorkLifeBalance               0\n",
              "YearsAtCompany                0\n",
              "YearsInCurrentRole            0\n",
              "YearsSinceLastPromotion       0\n",
              "YearsWithCurrManager          0\n",
              "dtype: int64"
            ]
          },
          "metadata": {
            "tags": []
          },
          "execution_count": 10
        }
      ]
    },
    {
      "cell_type": "code",
      "metadata": {
        "colab": {
          "base_uri": "https://localhost:8080/"
        },
        "id": "D3Wt0y6_9-nL",
        "outputId": "edabf1da-1243-4070-b2c2-54f57fd14cb1"
      },
      "source": [
        "#imputation with median\n",
        "missing_rate = ['DailyRate']\n",
        " \n",
        "#Technique 2: Using median to impute the missing values\n",
        "for i in missing_rate:\n",
        " df5_test_data.loc[df5_test_data.loc[:,i].isnull(),i]=df5_test_data.loc[:,i].median()\n",
        " \n",
        "print(\"count of NULL values after imputation\\n\")\n",
        "df5_test_data.isnull().sum()"
      ],
      "execution_count": null,
      "outputs": [
        {
          "output_type": "stream",
          "text": [
            "count of NULL values after imputation\n",
            "\n"
          ],
          "name": "stdout"
        },
        {
          "output_type": "execute_result",
          "data": {
            "text/plain": [
              "Age                         55\n",
              "BusinessTravel               5\n",
              "DailyRate                    0\n",
              "Department                   0\n",
              "DistanceFromHome            54\n",
              "Education                    0\n",
              "EducationField               0\n",
              "EmployeeCount                0\n",
              "EmployeeNumber               0\n",
              "EnvironmentSatisfaction      0\n",
              "Gender                       0\n",
              "HourlyRate                   0\n",
              "JobInvolvement               0\n",
              "JobLevel                     0\n",
              "JobRole                      0\n",
              "JobSatisfaction              0\n",
              "MaritalStatus                3\n",
              "MonthlyIncome                0\n",
              "MonthlyRate                  0\n",
              "NumCompaniesWorked           0\n",
              "Over18                       0\n",
              "OverTime                     0\n",
              "PercentSalaryHike            0\n",
              "PerformanceRating            0\n",
              "RelationshipSatisfaction     0\n",
              "StandardHours                0\n",
              "StockOptionLevel             0\n",
              "TotalWorkingYears            0\n",
              "TrainingTimesLastYear        0\n",
              "WorkLifeBalance              0\n",
              "YearsAtCompany               0\n",
              "YearsInCurrentRole           0\n",
              "YearsSinceLastPromotion      0\n",
              "YearsWithCurrManager         0\n",
              "dtype: int64"
            ]
          },
          "metadata": {
            "tags": []
          },
          "execution_count": 11
        }
      ]
    },
    {
      "cell_type": "code",
      "metadata": {
        "colab": {
          "base_uri": "https://localhost:8080/"
        },
        "id": "7XLJAb4x2K-v",
        "outputId": "0abe89f9-e5af-4d2d-dec3-cf3611976798"
      },
      "source": [
        "#imputation with median\n",
        "missing_rate = ['Age']\n",
        " \n",
        "#Technique 2: Using median to impute the missing values\n",
        "for i in missing_rate:\n",
        " df5_train_data.loc[df5_train_data.loc[:,i].isnull(),i]=df5_train_data.loc[:,i].median()\n",
        " \n",
        "print(\"count of NULL values after imputation\\n\")\n",
        "df5_train_data.isnull().sum()"
      ],
      "execution_count": null,
      "outputs": [
        {
          "output_type": "stream",
          "text": [
            "count of NULL values after imputation\n",
            "\n"
          ],
          "name": "stdout"
        },
        {
          "output_type": "execute_result",
          "data": {
            "text/plain": [
              "Age                          0\n",
              "Attrition                    0\n",
              "BusinessTravel               5\n",
              "DailyRate                    0\n",
              "Department                   0\n",
              "DistanceFromHome            95\n",
              "Education                    0\n",
              "EducationField               0\n",
              "EmployeeCount                0\n",
              "EmployeeNumber               0\n",
              "EnvironmentSatisfaction      0\n",
              "Gender                       0\n",
              "HourlyRate                   0\n",
              "JobInvolvement               0\n",
              "JobLevel                     0\n",
              "JobRole                      0\n",
              "JobSatisfaction              0\n",
              "MaritalStatus                5\n",
              "MonthlyIncome                0\n",
              "MonthlyRate                  0\n",
              "NumCompaniesWorked           0\n",
              "Over18                       0\n",
              "OverTime                     0\n",
              "PercentSalaryHike            0\n",
              "PerformanceRating            0\n",
              "RelationshipSatisfaction     0\n",
              "StandardHours                0\n",
              "StockOptionLevel             0\n",
              "TotalWorkingYears            0\n",
              "TrainingTimesLastYear        0\n",
              "WorkLifeBalance              0\n",
              "YearsAtCompany               0\n",
              "YearsInCurrentRole           0\n",
              "YearsSinceLastPromotion      0\n",
              "YearsWithCurrManager         0\n",
              "dtype: int64"
            ]
          },
          "metadata": {
            "tags": []
          },
          "execution_count": 12
        }
      ]
    },
    {
      "cell_type": "code",
      "metadata": {
        "colab": {
          "base_uri": "https://localhost:8080/"
        },
        "id": "Kn08l_oVevRS",
        "outputId": "22cecefa-2bbf-4ca5-bb93-410ab00575cc"
      },
      "source": [
        "#imputation with median\n",
        "missing_rate = ['Age']\n",
        " \n",
        "#Technique 2: Using median to impute the missing values\n",
        "for i in missing_rate:\n",
        " df5_test_data.loc[df5_test_data.loc[:,i].isnull(),i]=df5_test_data.loc[:,i].median()\n",
        " \n",
        "print(\"count of NULL values after imputation\\n\")\n",
        "df5_test_data.isnull().sum()"
      ],
      "execution_count": null,
      "outputs": [
        {
          "output_type": "stream",
          "text": [
            "count of NULL values after imputation\n",
            "\n"
          ],
          "name": "stdout"
        },
        {
          "output_type": "execute_result",
          "data": {
            "text/plain": [
              "Age                          0\n",
              "BusinessTravel               5\n",
              "DailyRate                    0\n",
              "Department                   0\n",
              "DistanceFromHome            54\n",
              "Education                    0\n",
              "EducationField               0\n",
              "EmployeeCount                0\n",
              "EmployeeNumber               0\n",
              "EnvironmentSatisfaction      0\n",
              "Gender                       0\n",
              "HourlyRate                   0\n",
              "JobInvolvement               0\n",
              "JobLevel                     0\n",
              "JobRole                      0\n",
              "JobSatisfaction              0\n",
              "MaritalStatus                3\n",
              "MonthlyIncome                0\n",
              "MonthlyRate                  0\n",
              "NumCompaniesWorked           0\n",
              "Over18                       0\n",
              "OverTime                     0\n",
              "PercentSalaryHike            0\n",
              "PerformanceRating            0\n",
              "RelationshipSatisfaction     0\n",
              "StandardHours                0\n",
              "StockOptionLevel             0\n",
              "TotalWorkingYears            0\n",
              "TrainingTimesLastYear        0\n",
              "WorkLifeBalance              0\n",
              "YearsAtCompany               0\n",
              "YearsInCurrentRole           0\n",
              "YearsSinceLastPromotion      0\n",
              "YearsWithCurrManager         0\n",
              "dtype: int64"
            ]
          },
          "metadata": {
            "tags": []
          },
          "execution_count": 13
        }
      ]
    },
    {
      "cell_type": "code",
      "metadata": {
        "colab": {
          "base_uri": "https://localhost:8080/"
        },
        "id": "gcT_socPJWRS",
        "outputId": "a8ec8282-3f00-48a2-f7fb-0456de2ed6a1"
      },
      "source": [
        "#imputation with median\n",
        "missing_rate = ['DistanceFromHome']\n",
        " \n",
        "#Technique 2: Using median to impute the missing values\n",
        "for i in missing_rate:\n",
        " df5_train_data.loc[df5_train_data.loc[:,i].isnull(),i]=df5_train_data.loc[:,i].median()\n",
        " \n",
        "print(\"count of NULL values after imputation\\n\")\n",
        "df5_train_data.isnull().sum()"
      ],
      "execution_count": null,
      "outputs": [
        {
          "output_type": "stream",
          "text": [
            "count of NULL values after imputation\n",
            "\n"
          ],
          "name": "stdout"
        },
        {
          "output_type": "execute_result",
          "data": {
            "text/plain": [
              "Age                         0\n",
              "Attrition                   0\n",
              "BusinessTravel              5\n",
              "DailyRate                   0\n",
              "Department                  0\n",
              "DistanceFromHome            0\n",
              "Education                   0\n",
              "EducationField              0\n",
              "EmployeeCount               0\n",
              "EmployeeNumber              0\n",
              "EnvironmentSatisfaction     0\n",
              "Gender                      0\n",
              "HourlyRate                  0\n",
              "JobInvolvement              0\n",
              "JobLevel                    0\n",
              "JobRole                     0\n",
              "JobSatisfaction             0\n",
              "MaritalStatus               5\n",
              "MonthlyIncome               0\n",
              "MonthlyRate                 0\n",
              "NumCompaniesWorked          0\n",
              "Over18                      0\n",
              "OverTime                    0\n",
              "PercentSalaryHike           0\n",
              "PerformanceRating           0\n",
              "RelationshipSatisfaction    0\n",
              "StandardHours               0\n",
              "StockOptionLevel            0\n",
              "TotalWorkingYears           0\n",
              "TrainingTimesLastYear       0\n",
              "WorkLifeBalance             0\n",
              "YearsAtCompany              0\n",
              "YearsInCurrentRole          0\n",
              "YearsSinceLastPromotion     0\n",
              "YearsWithCurrManager        0\n",
              "dtype: int64"
            ]
          },
          "metadata": {
            "tags": []
          },
          "execution_count": 16
        }
      ]
    },
    {
      "cell_type": "code",
      "metadata": {
        "colab": {
          "base_uri": "https://localhost:8080/"
        },
        "id": "vkXvJjoHJj-P",
        "outputId": "b40f47ed-a73d-495e-d728-ce861fccb8a3"
      },
      "source": [
        "#imputation with median\n",
        "missing_rate = ['DistanceFromHome']\n",
        " \n",
        "#Technique 2: Using median to impute the missing values\n",
        "for i in missing_rate:\n",
        " df5_test_data.loc[df5_test_data.loc[:,i].isnull(),i]=df5_test_data.loc[:,i].median()\n",
        " \n",
        "print(\"count of NULL values after imputation\\n\")\n",
        "df5_test_data.isnull().sum()"
      ],
      "execution_count": null,
      "outputs": [
        {
          "output_type": "stream",
          "text": [
            "count of NULL values after imputation\n",
            "\n"
          ],
          "name": "stdout"
        },
        {
          "output_type": "execute_result",
          "data": {
            "text/plain": [
              "Age                         0\n",
              "BusinessTravel              5\n",
              "DailyRate                   0\n",
              "Department                  0\n",
              "DistanceFromHome            0\n",
              "Education                   0\n",
              "EducationField              0\n",
              "EmployeeCount               0\n",
              "EmployeeNumber              0\n",
              "EnvironmentSatisfaction     0\n",
              "Gender                      0\n",
              "HourlyRate                  0\n",
              "JobInvolvement              0\n",
              "JobLevel                    0\n",
              "JobRole                     0\n",
              "JobSatisfaction             0\n",
              "MaritalStatus               3\n",
              "MonthlyIncome               0\n",
              "MonthlyRate                 0\n",
              "NumCompaniesWorked          0\n",
              "Over18                      0\n",
              "OverTime                    0\n",
              "PercentSalaryHike           0\n",
              "PerformanceRating           0\n",
              "RelationshipSatisfaction    0\n",
              "StandardHours               0\n",
              "StockOptionLevel            0\n",
              "TotalWorkingYears           0\n",
              "TrainingTimesLastYear       0\n",
              "WorkLifeBalance             0\n",
              "YearsAtCompany              0\n",
              "YearsInCurrentRole          0\n",
              "YearsSinceLastPromotion     0\n",
              "YearsWithCurrManager        0\n",
              "dtype: int64"
            ]
          },
          "metadata": {
            "tags": []
          },
          "execution_count": 17
        }
      ]
    },
    {
      "cell_type": "code",
      "metadata": {
        "colab": {
          "base_uri": "https://localhost:8080/",
          "height": 410
        },
        "id": "SG1VCI1hLUcX",
        "outputId": "9382b656-cc65-4c17-a728-f27c58365453"
      },
      "source": [
        "#imputation with median\n",
        "missing_rate = ['BusinessTravel']\n",
        " \n",
        "#Technique 2: Using median to impute the missing values\n",
        "for i in missing_rate:\n",
        " df5_test_data.loc[df5_test_data.loc[:,i].isnull(),i]=df5_test_data.loc[:,i].median()\n",
        " \n",
        "print(\"count of NULL values after imputation\\n\")\n",
        "df5_test_data.isnull().sum()"
      ],
      "execution_count": null,
      "outputs": [
        {
          "output_type": "error",
          "ename": "TypeError",
          "evalue": "ignored",
          "traceback": [
            "\u001b[0;31m---------------------------------------------------------------------------\u001b[0m",
            "\u001b[0;31mValueError\u001b[0m                                Traceback (most recent call last)",
            "\u001b[0;32m/usr/local/lib/python3.7/dist-packages/pandas/core/nanops.py\u001b[0m in \u001b[0;36mnanmedian\u001b[0;34m(values, axis, skipna, mask)\u001b[0m\n\u001b[1;32m    612\u001b[0m         \u001b[0;32mtry\u001b[0m\u001b[0;34m:\u001b[0m\u001b[0;34m\u001b[0m\u001b[0;34m\u001b[0m\u001b[0m\n\u001b[0;32m--> 613\u001b[0;31m             \u001b[0mvalues\u001b[0m \u001b[0;34m=\u001b[0m \u001b[0mvalues\u001b[0m\u001b[0;34m.\u001b[0m\u001b[0mastype\u001b[0m\u001b[0;34m(\u001b[0m\u001b[0;34m\"f8\"\u001b[0m\u001b[0;34m)\u001b[0m\u001b[0;34m\u001b[0m\u001b[0;34m\u001b[0m\u001b[0m\n\u001b[0m\u001b[1;32m    614\u001b[0m         \u001b[0;32mexcept\u001b[0m \u001b[0mValueError\u001b[0m \u001b[0;32mas\u001b[0m \u001b[0merr\u001b[0m\u001b[0;34m:\u001b[0m\u001b[0;34m\u001b[0m\u001b[0;34m\u001b[0m\u001b[0m\n",
            "\u001b[0;31mValueError\u001b[0m: could not convert string to float: 'Travel_Rarely'",
            "\nThe above exception was the direct cause of the following exception:\n",
            "\u001b[0;31mTypeError\u001b[0m                                 Traceback (most recent call last)",
            "\u001b[0;32m<ipython-input-19-579cd9924426>\u001b[0m in \u001b[0;36m<module>\u001b[0;34m()\u001b[0m\n\u001b[1;32m      4\u001b[0m \u001b[0;31m#Technique 2: Using median to impute the missing values\u001b[0m\u001b[0;34m\u001b[0m\u001b[0;34m\u001b[0m\u001b[0;34m\u001b[0m\u001b[0m\n\u001b[1;32m      5\u001b[0m \u001b[0;32mfor\u001b[0m \u001b[0mi\u001b[0m \u001b[0;32min\u001b[0m \u001b[0mmissing_rate\u001b[0m\u001b[0;34m:\u001b[0m\u001b[0;34m\u001b[0m\u001b[0;34m\u001b[0m\u001b[0m\n\u001b[0;32m----> 6\u001b[0;31m  \u001b[0mdf5_test_data\u001b[0m\u001b[0;34m.\u001b[0m\u001b[0mloc\u001b[0m\u001b[0;34m[\u001b[0m\u001b[0mdf5_test_data\u001b[0m\u001b[0;34m.\u001b[0m\u001b[0mloc\u001b[0m\u001b[0;34m[\u001b[0m\u001b[0;34m:\u001b[0m\u001b[0;34m,\u001b[0m\u001b[0mi\u001b[0m\u001b[0;34m]\u001b[0m\u001b[0;34m.\u001b[0m\u001b[0misnull\u001b[0m\u001b[0;34m(\u001b[0m\u001b[0;34m)\u001b[0m\u001b[0;34m,\u001b[0m\u001b[0mi\u001b[0m\u001b[0;34m]\u001b[0m\u001b[0;34m=\u001b[0m\u001b[0mdf5_test_data\u001b[0m\u001b[0;34m.\u001b[0m\u001b[0mloc\u001b[0m\u001b[0;34m[\u001b[0m\u001b[0;34m:\u001b[0m\u001b[0;34m,\u001b[0m\u001b[0mi\u001b[0m\u001b[0;34m]\u001b[0m\u001b[0;34m.\u001b[0m\u001b[0mmedian\u001b[0m\u001b[0;34m(\u001b[0m\u001b[0;34m)\u001b[0m\u001b[0;34m\u001b[0m\u001b[0;34m\u001b[0m\u001b[0m\n\u001b[0m\u001b[1;32m      7\u001b[0m \u001b[0;34m\u001b[0m\u001b[0m\n\u001b[1;32m      8\u001b[0m \u001b[0mprint\u001b[0m\u001b[0;34m(\u001b[0m\u001b[0;34m\"count of NULL values after imputation\\n\"\u001b[0m\u001b[0;34m)\u001b[0m\u001b[0;34m\u001b[0m\u001b[0;34m\u001b[0m\u001b[0m\n",
            "\u001b[0;32m/usr/local/lib/python3.7/dist-packages/pandas/core/generic.py\u001b[0m in \u001b[0;36mstat_func\u001b[0;34m(self, axis, skipna, level, numeric_only, **kwargs)\u001b[0m\n\u001b[1;32m  11473\u001b[0m             \u001b[0;32mreturn\u001b[0m \u001b[0mself\u001b[0m\u001b[0;34m.\u001b[0m\u001b[0m_agg_by_level\u001b[0m\u001b[0;34m(\u001b[0m\u001b[0mname\u001b[0m\u001b[0;34m,\u001b[0m \u001b[0maxis\u001b[0m\u001b[0;34m=\u001b[0m\u001b[0maxis\u001b[0m\u001b[0;34m,\u001b[0m \u001b[0mlevel\u001b[0m\u001b[0;34m=\u001b[0m\u001b[0mlevel\u001b[0m\u001b[0;34m,\u001b[0m \u001b[0mskipna\u001b[0m\u001b[0;34m=\u001b[0m\u001b[0mskipna\u001b[0m\u001b[0;34m)\u001b[0m\u001b[0;34m\u001b[0m\u001b[0;34m\u001b[0m\u001b[0m\n\u001b[1;32m  11474\u001b[0m         return self._reduce(\n\u001b[0;32m> 11475\u001b[0;31m             \u001b[0mfunc\u001b[0m\u001b[0;34m,\u001b[0m \u001b[0mname\u001b[0m\u001b[0;34m=\u001b[0m\u001b[0mname\u001b[0m\u001b[0;34m,\u001b[0m \u001b[0maxis\u001b[0m\u001b[0;34m=\u001b[0m\u001b[0maxis\u001b[0m\u001b[0;34m,\u001b[0m \u001b[0mskipna\u001b[0m\u001b[0;34m=\u001b[0m\u001b[0mskipna\u001b[0m\u001b[0;34m,\u001b[0m \u001b[0mnumeric_only\u001b[0m\u001b[0;34m=\u001b[0m\u001b[0mnumeric_only\u001b[0m\u001b[0;34m\u001b[0m\u001b[0;34m\u001b[0m\u001b[0m\n\u001b[0m\u001b[1;32m  11476\u001b[0m         )\n\u001b[1;32m  11477\u001b[0m \u001b[0;34m\u001b[0m\u001b[0m\n",
            "\u001b[0;32m/usr/local/lib/python3.7/dist-packages/pandas/core/series.py\u001b[0m in \u001b[0;36m_reduce\u001b[0;34m(self, op, name, axis, skipna, numeric_only, filter_type, **kwds)\u001b[0m\n\u001b[1;32m   4247\u001b[0m                 )\n\u001b[1;32m   4248\u001b[0m             \u001b[0;32mwith\u001b[0m \u001b[0mnp\u001b[0m\u001b[0;34m.\u001b[0m\u001b[0merrstate\u001b[0m\u001b[0;34m(\u001b[0m\u001b[0mall\u001b[0m\u001b[0;34m=\u001b[0m\u001b[0;34m\"ignore\"\u001b[0m\u001b[0;34m)\u001b[0m\u001b[0;34m:\u001b[0m\u001b[0;34m\u001b[0m\u001b[0;34m\u001b[0m\u001b[0m\n\u001b[0;32m-> 4249\u001b[0;31m                 \u001b[0;32mreturn\u001b[0m \u001b[0mop\u001b[0m\u001b[0;34m(\u001b[0m\u001b[0mdelegate\u001b[0m\u001b[0;34m,\u001b[0m \u001b[0mskipna\u001b[0m\u001b[0;34m=\u001b[0m\u001b[0mskipna\u001b[0m\u001b[0;34m,\u001b[0m \u001b[0;34m**\u001b[0m\u001b[0mkwds\u001b[0m\u001b[0;34m)\u001b[0m\u001b[0;34m\u001b[0m\u001b[0;34m\u001b[0m\u001b[0m\n\u001b[0m\u001b[1;32m   4250\u001b[0m \u001b[0;34m\u001b[0m\u001b[0m\n\u001b[1;32m   4251\u001b[0m     \u001b[0;32mdef\u001b[0m \u001b[0m_reindex_indexer\u001b[0m\u001b[0;34m(\u001b[0m\u001b[0mself\u001b[0m\u001b[0;34m,\u001b[0m \u001b[0mnew_index\u001b[0m\u001b[0;34m,\u001b[0m \u001b[0mindexer\u001b[0m\u001b[0;34m,\u001b[0m \u001b[0mcopy\u001b[0m\u001b[0;34m)\u001b[0m\u001b[0;34m:\u001b[0m\u001b[0;34m\u001b[0m\u001b[0;34m\u001b[0m\u001b[0m\n",
            "\u001b[0;32m/usr/local/lib/python3.7/dist-packages/pandas/core/nanops.py\u001b[0m in \u001b[0;36mf\u001b[0;34m(values, axis, skipna, **kwds)\u001b[0m\n\u001b[1;32m    127\u001b[0m                     \u001b[0mresult\u001b[0m \u001b[0;34m=\u001b[0m \u001b[0malt\u001b[0m\u001b[0;34m(\u001b[0m\u001b[0mvalues\u001b[0m\u001b[0;34m,\u001b[0m \u001b[0maxis\u001b[0m\u001b[0;34m=\u001b[0m\u001b[0maxis\u001b[0m\u001b[0;34m,\u001b[0m \u001b[0mskipna\u001b[0m\u001b[0;34m=\u001b[0m\u001b[0mskipna\u001b[0m\u001b[0;34m,\u001b[0m \u001b[0;34m**\u001b[0m\u001b[0mkwds\u001b[0m\u001b[0;34m)\u001b[0m\u001b[0;34m\u001b[0m\u001b[0;34m\u001b[0m\u001b[0m\n\u001b[1;32m    128\u001b[0m             \u001b[0;32melse\u001b[0m\u001b[0;34m:\u001b[0m\u001b[0;34m\u001b[0m\u001b[0;34m\u001b[0m\u001b[0m\n\u001b[0;32m--> 129\u001b[0;31m                 \u001b[0mresult\u001b[0m \u001b[0;34m=\u001b[0m \u001b[0malt\u001b[0m\u001b[0;34m(\u001b[0m\u001b[0mvalues\u001b[0m\u001b[0;34m,\u001b[0m \u001b[0maxis\u001b[0m\u001b[0;34m=\u001b[0m\u001b[0maxis\u001b[0m\u001b[0;34m,\u001b[0m \u001b[0mskipna\u001b[0m\u001b[0;34m=\u001b[0m\u001b[0mskipna\u001b[0m\u001b[0;34m,\u001b[0m \u001b[0;34m**\u001b[0m\u001b[0mkwds\u001b[0m\u001b[0;34m)\u001b[0m\u001b[0;34m\u001b[0m\u001b[0;34m\u001b[0m\u001b[0m\n\u001b[0m\u001b[1;32m    130\u001b[0m \u001b[0;34m\u001b[0m\u001b[0m\n\u001b[1;32m    131\u001b[0m             \u001b[0;32mreturn\u001b[0m \u001b[0mresult\u001b[0m\u001b[0;34m\u001b[0m\u001b[0;34m\u001b[0m\u001b[0m\n",
            "\u001b[0;32m/usr/local/lib/python3.7/dist-packages/pandas/core/nanops.py\u001b[0m in \u001b[0;36mnanmedian\u001b[0;34m(values, axis, skipna, mask)\u001b[0m\n\u001b[1;32m    614\u001b[0m         \u001b[0;32mexcept\u001b[0m \u001b[0mValueError\u001b[0m \u001b[0;32mas\u001b[0m \u001b[0merr\u001b[0m\u001b[0;34m:\u001b[0m\u001b[0;34m\u001b[0m\u001b[0;34m\u001b[0m\u001b[0m\n\u001b[1;32m    615\u001b[0m             \u001b[0;31m# e.g. \"could not convert string to float: 'a'\"\u001b[0m\u001b[0;34m\u001b[0m\u001b[0;34m\u001b[0m\u001b[0;34m\u001b[0m\u001b[0m\n\u001b[0;32m--> 616\u001b[0;31m             \u001b[0;32mraise\u001b[0m \u001b[0mTypeError\u001b[0m \u001b[0;32mfrom\u001b[0m \u001b[0merr\u001b[0m\u001b[0;34m\u001b[0m\u001b[0;34m\u001b[0m\u001b[0m\n\u001b[0m\u001b[1;32m    617\u001b[0m         \u001b[0;32mif\u001b[0m \u001b[0mmask\u001b[0m \u001b[0;32mis\u001b[0m \u001b[0;32mnot\u001b[0m \u001b[0;32mNone\u001b[0m\u001b[0;34m:\u001b[0m\u001b[0;34m\u001b[0m\u001b[0;34m\u001b[0m\u001b[0m\n\u001b[1;32m    618\u001b[0m             \u001b[0mvalues\u001b[0m\u001b[0;34m[\u001b[0m\u001b[0mmask\u001b[0m\u001b[0;34m]\u001b[0m \u001b[0;34m=\u001b[0m \u001b[0mnp\u001b[0m\u001b[0;34m.\u001b[0m\u001b[0mnan\u001b[0m\u001b[0;34m\u001b[0m\u001b[0;34m\u001b[0m\u001b[0m\n",
            "\u001b[0;31mTypeError\u001b[0m: "
          ]
        }
      ]
    },
    {
      "cell_type": "code",
      "metadata": {
        "id": "xWQQKQDCmVK3"
      },
      "source": [
        "df5_train_data['BusinessTravel']=df5_train_data['BusinessTravel'].astype('category')\n",
        "#print datatypes - business changes to category\n",
        "df5_train_data.dtypes\n",
        "df5_train_data['BusinessTravel']=df5_train_data['BusinessTravel'].cat.codes\n",
        "df5_train_data.head(10)"
      ],
      "execution_count": null,
      "outputs": []
    },
    {
      "cell_type": "code",
      "metadata": {
        "colab": {
          "base_uri": "https://localhost:8080/"
        },
        "id": "crKOzBzMMAsF",
        "outputId": "516a4048-ce79-4d10-a77f-b536fca98327"
      },
      "source": [
        "#imputation with median\n",
        "missing_rate = ['BusinessTravel']\n",
        " \n",
        "#Technique 2: Using median to impute the missing values\n",
        "for i in missing_rate:\n",
        " df5_train_data.loc[df5_train_data.loc[:,i].isnull(),i]=df5_train_data.loc[:,i].median()\n",
        " \n",
        "print(\"count of NULL values after imputation\\n\")\n",
        "df5_train_data.isnull().sum()"
      ],
      "execution_count": null,
      "outputs": [
        {
          "output_type": "stream",
          "text": [
            "count of NULL values after imputation\n",
            "\n"
          ],
          "name": "stdout"
        },
        {
          "output_type": "execute_result",
          "data": {
            "text/plain": [
              "Age                         0\n",
              "Attrition                   0\n",
              "BusinessTravel              0\n",
              "DailyRate                   0\n",
              "Department                  0\n",
              "DistanceFromHome            0\n",
              "Education                   0\n",
              "EducationField              0\n",
              "EmployeeCount               0\n",
              "EmployeeNumber              0\n",
              "EnvironmentSatisfaction     0\n",
              "Gender                      0\n",
              "HourlyRate                  0\n",
              "JobInvolvement              0\n",
              "JobLevel                    0\n",
              "JobRole                     0\n",
              "JobSatisfaction             0\n",
              "MaritalStatus               5\n",
              "MonthlyIncome               0\n",
              "MonthlyRate                 0\n",
              "NumCompaniesWorked          0\n",
              "Over18                      0\n",
              "OverTime                    0\n",
              "PercentSalaryHike           0\n",
              "PerformanceRating           0\n",
              "RelationshipSatisfaction    0\n",
              "StandardHours               0\n",
              "StockOptionLevel            0\n",
              "TotalWorkingYears           0\n",
              "TrainingTimesLastYear       0\n",
              "WorkLifeBalance             0\n",
              "YearsAtCompany              0\n",
              "YearsInCurrentRole          0\n",
              "YearsSinceLastPromotion     0\n",
              "YearsWithCurrManager        0\n",
              "dtype: int64"
            ]
          },
          "metadata": {
            "tags": []
          },
          "execution_count": 21
        }
      ]
    },
    {
      "cell_type": "code",
      "metadata": {
        "id": "BYNOiXueLnFx"
      },
      "source": [
        "df5_train_data['MaritalStatus']=df5_train_data['MaritalStatus'].astype('category')\n",
        "#print datatypes - business changes to category\n",
        "df5_train_data.dtypes\n",
        "df5_train_data['MaritalStatus']=df5_train_data['MaritalStatus'].cat.codes\n",
        "df5_train_data.head(10)"
      ],
      "execution_count": null,
      "outputs": []
    },
    {
      "cell_type": "code",
      "metadata": {
        "colab": {
          "base_uri": "https://localhost:8080/",
          "height": 533
        },
        "id": "byxPadI6mqxm",
        "outputId": "de14cb69-f146-4bdd-c3ce-ff2b493f7df7"
      },
      "source": [
        "df5_test_data['MaritalStatus']=df5_test_data['MaritalStatus'].astype('category')\n",
        "#print datatypes - business changes to category\n",
        "df5_test_data.dtypes\n",
        "df5_test_data['MaritalStatus']=df5_test_data['MaritalStatus'].cat.codes\n",
        "df5_test_data.head(10)"
      ],
      "execution_count": null,
      "outputs": [
        {
          "output_type": "execute_result",
          "data": {
            "text/html": [
              "<div>\n",
              "<style scoped>\n",
              "    .dataframe tbody tr th:only-of-type {\n",
              "        vertical-align: middle;\n",
              "    }\n",
              "\n",
              "    .dataframe tbody tr th {\n",
              "        vertical-align: top;\n",
              "    }\n",
              "\n",
              "    .dataframe thead th {\n",
              "        text-align: right;\n",
              "    }\n",
              "</style>\n",
              "<table border=\"1\" class=\"dataframe\">\n",
              "  <thead>\n",
              "    <tr style=\"text-align: right;\">\n",
              "      <th></th>\n",
              "      <th>Age</th>\n",
              "      <th>BusinessTravel</th>\n",
              "      <th>DailyRate</th>\n",
              "      <th>Department</th>\n",
              "      <th>DistanceFromHome</th>\n",
              "      <th>Education</th>\n",
              "      <th>EducationField</th>\n",
              "      <th>EmployeeCount</th>\n",
              "      <th>EmployeeNumber</th>\n",
              "      <th>EnvironmentSatisfaction</th>\n",
              "      <th>Gender</th>\n",
              "      <th>HourlyRate</th>\n",
              "      <th>JobInvolvement</th>\n",
              "      <th>JobLevel</th>\n",
              "      <th>JobRole</th>\n",
              "      <th>JobSatisfaction</th>\n",
              "      <th>MaritalStatus</th>\n",
              "      <th>MonthlyIncome</th>\n",
              "      <th>MonthlyRate</th>\n",
              "      <th>NumCompaniesWorked</th>\n",
              "      <th>Over18</th>\n",
              "      <th>OverTime</th>\n",
              "      <th>PercentSalaryHike</th>\n",
              "      <th>PerformanceRating</th>\n",
              "      <th>RelationshipSatisfaction</th>\n",
              "      <th>StandardHours</th>\n",
              "      <th>StockOptionLevel</th>\n",
              "      <th>TotalWorkingYears</th>\n",
              "      <th>TrainingTimesLastYear</th>\n",
              "      <th>WorkLifeBalance</th>\n",
              "      <th>YearsAtCompany</th>\n",
              "      <th>YearsInCurrentRole</th>\n",
              "      <th>YearsSinceLastPromotion</th>\n",
              "      <th>YearsWithCurrManager</th>\n",
              "    </tr>\n",
              "  </thead>\n",
              "  <tbody>\n",
              "    <tr>\n",
              "      <th>0</th>\n",
              "      <td>37.0</td>\n",
              "      <td>Travel_Rarely</td>\n",
              "      <td>866.0</td>\n",
              "      <td>Sales</td>\n",
              "      <td>8.0</td>\n",
              "      <td>3</td>\n",
              "      <td>Medical</td>\n",
              "      <td>1</td>\n",
              "      <td>1469</td>\n",
              "      <td>4</td>\n",
              "      <td>Male</td>\n",
              "      <td>84</td>\n",
              "      <td>3</td>\n",
              "      <td>2</td>\n",
              "      <td>Sales Executive</td>\n",
              "      <td>1</td>\n",
              "      <td>2</td>\n",
              "      <td>8463</td>\n",
              "      <td>23490</td>\n",
              "      <td>0</td>\n",
              "      <td>Y</td>\n",
              "      <td>No</td>\n",
              "      <td>18</td>\n",
              "      <td>3</td>\n",
              "      <td>4</td>\n",
              "      <td>80</td>\n",
              "      <td>0</td>\n",
              "      <td>6</td>\n",
              "      <td>4</td>\n",
              "      <td>3</td>\n",
              "      <td>5</td>\n",
              "      <td>4</td>\n",
              "      <td>1</td>\n",
              "      <td>3</td>\n",
              "    </tr>\n",
              "    <tr>\n",
              "      <th>1</th>\n",
              "      <td>53.0</td>\n",
              "      <td>Travel_Rarely</td>\n",
              "      <td>1084.0</td>\n",
              "      <td>Research &amp; Development</td>\n",
              "      <td>13.0</td>\n",
              "      <td>2</td>\n",
              "      <td>Medical</td>\n",
              "      <td>1</td>\n",
              "      <td>250</td>\n",
              "      <td>4</td>\n",
              "      <td>Female</td>\n",
              "      <td>57</td>\n",
              "      <td>4</td>\n",
              "      <td>2</td>\n",
              "      <td>Manufacturing Director</td>\n",
              "      <td>1</td>\n",
              "      <td>0</td>\n",
              "      <td>4450</td>\n",
              "      <td>26250</td>\n",
              "      <td>1</td>\n",
              "      <td>Y</td>\n",
              "      <td>No</td>\n",
              "      <td>11</td>\n",
              "      <td>3</td>\n",
              "      <td>3</td>\n",
              "      <td>80</td>\n",
              "      <td>2</td>\n",
              "      <td>5</td>\n",
              "      <td>3</td>\n",
              "      <td>3</td>\n",
              "      <td>4</td>\n",
              "      <td>2</td>\n",
              "      <td>1</td>\n",
              "      <td>3</td>\n",
              "    </tr>\n",
              "    <tr>\n",
              "      <th>2</th>\n",
              "      <td>24.0</td>\n",
              "      <td>Travel_Rarely</td>\n",
              "      <td>240.0</td>\n",
              "      <td>Human Resources</td>\n",
              "      <td>22.0</td>\n",
              "      <td>1</td>\n",
              "      <td>Human Resources</td>\n",
              "      <td>1</td>\n",
              "      <td>1714</td>\n",
              "      <td>4</td>\n",
              "      <td>Male</td>\n",
              "      <td>58</td>\n",
              "      <td>1</td>\n",
              "      <td>1</td>\n",
              "      <td>Human Resources</td>\n",
              "      <td>3</td>\n",
              "      <td>1</td>\n",
              "      <td>1555</td>\n",
              "      <td>11585</td>\n",
              "      <td>1</td>\n",
              "      <td>Y</td>\n",
              "      <td>No</td>\n",
              "      <td>11</td>\n",
              "      <td>3</td>\n",
              "      <td>3</td>\n",
              "      <td>80</td>\n",
              "      <td>1</td>\n",
              "      <td>1</td>\n",
              "      <td>2</td>\n",
              "      <td>3</td>\n",
              "      <td>1</td>\n",
              "      <td>0</td>\n",
              "      <td>0</td>\n",
              "      <td>0</td>\n",
              "    </tr>\n",
              "    <tr>\n",
              "      <th>3</th>\n",
              "      <td>45.0</td>\n",
              "      <td>Travel_Rarely</td>\n",
              "      <td>1339.0</td>\n",
              "      <td>Research &amp; Development</td>\n",
              "      <td>7.0</td>\n",
              "      <td>3</td>\n",
              "      <td>Life Sciences</td>\n",
              "      <td>1</td>\n",
              "      <td>86</td>\n",
              "      <td>2</td>\n",
              "      <td>Male</td>\n",
              "      <td>59</td>\n",
              "      <td>3</td>\n",
              "      <td>3</td>\n",
              "      <td>Research Scientist</td>\n",
              "      <td>1</td>\n",
              "      <td>0</td>\n",
              "      <td>9724</td>\n",
              "      <td>18787</td>\n",
              "      <td>2</td>\n",
              "      <td>Y</td>\n",
              "      <td>No</td>\n",
              "      <td>17</td>\n",
              "      <td>3</td>\n",
              "      <td>3</td>\n",
              "      <td>80</td>\n",
              "      <td>1</td>\n",
              "      <td>25</td>\n",
              "      <td>2</td>\n",
              "      <td>3</td>\n",
              "      <td>1</td>\n",
              "      <td>0</td>\n",
              "      <td>0</td>\n",
              "      <td>0</td>\n",
              "    </tr>\n",
              "    <tr>\n",
              "      <th>4</th>\n",
              "      <td>36.0</td>\n",
              "      <td>Travel_Rarely</td>\n",
              "      <td>1396.0</td>\n",
              "      <td>Research &amp; Development</td>\n",
              "      <td>8.0</td>\n",
              "      <td>2</td>\n",
              "      <td>Life Sciences</td>\n",
              "      <td>1</td>\n",
              "      <td>304</td>\n",
              "      <td>4</td>\n",
              "      <td>Male</td>\n",
              "      <td>62</td>\n",
              "      <td>3</td>\n",
              "      <td>2</td>\n",
              "      <td>Laboratory Technician</td>\n",
              "      <td>2</td>\n",
              "      <td>2</td>\n",
              "      <td>5914</td>\n",
              "      <td>9945</td>\n",
              "      <td>8</td>\n",
              "      <td>Y</td>\n",
              "      <td>No</td>\n",
              "      <td>16</td>\n",
              "      <td>3</td>\n",
              "      <td>4</td>\n",
              "      <td>80</td>\n",
              "      <td>0</td>\n",
              "      <td>16</td>\n",
              "      <td>3</td>\n",
              "      <td>4</td>\n",
              "      <td>13</td>\n",
              "      <td>11</td>\n",
              "      <td>3</td>\n",
              "      <td>7</td>\n",
              "    </tr>\n",
              "    <tr>\n",
              "      <th>5</th>\n",
              "      <td>34.0</td>\n",
              "      <td>Travel_Rarely</td>\n",
              "      <td>204.0</td>\n",
              "      <td>Sales</td>\n",
              "      <td>14.0</td>\n",
              "      <td>3</td>\n",
              "      <td>Technical Degree</td>\n",
              "      <td>1</td>\n",
              "      <td>666</td>\n",
              "      <td>3</td>\n",
              "      <td>Female</td>\n",
              "      <td>31</td>\n",
              "      <td>3</td>\n",
              "      <td>1</td>\n",
              "      <td>Sales Representative</td>\n",
              "      <td>3</td>\n",
              "      <td>0</td>\n",
              "      <td>2579</td>\n",
              "      <td>2912</td>\n",
              "      <td>1</td>\n",
              "      <td>Y</td>\n",
              "      <td>Yes</td>\n",
              "      <td>18</td>\n",
              "      <td>3</td>\n",
              "      <td>4</td>\n",
              "      <td>80</td>\n",
              "      <td>2</td>\n",
              "      <td>8</td>\n",
              "      <td>3</td>\n",
              "      <td>3</td>\n",
              "      <td>8</td>\n",
              "      <td>2</td>\n",
              "      <td>0</td>\n",
              "      <td>6</td>\n",
              "    </tr>\n",
              "    <tr>\n",
              "      <th>6</th>\n",
              "      <td>37.0</td>\n",
              "      <td>Travel_Rarely</td>\n",
              "      <td>144.0</td>\n",
              "      <td>Research &amp; Development</td>\n",
              "      <td>22.0</td>\n",
              "      <td>3</td>\n",
              "      <td>Life Sciences</td>\n",
              "      <td>1</td>\n",
              "      <td>577</td>\n",
              "      <td>4</td>\n",
              "      <td>Male</td>\n",
              "      <td>46</td>\n",
              "      <td>1</td>\n",
              "      <td>1</td>\n",
              "      <td>Laboratory Technician</td>\n",
              "      <td>3</td>\n",
              "      <td>2</td>\n",
              "      <td>4230</td>\n",
              "      <td>19225</td>\n",
              "      <td>0</td>\n",
              "      <td>Y</td>\n",
              "      <td>No</td>\n",
              "      <td>15</td>\n",
              "      <td>3</td>\n",
              "      <td>3</td>\n",
              "      <td>80</td>\n",
              "      <td>0</td>\n",
              "      <td>6</td>\n",
              "      <td>2</td>\n",
              "      <td>3</td>\n",
              "      <td>5</td>\n",
              "      <td>4</td>\n",
              "      <td>4</td>\n",
              "      <td>3</td>\n",
              "    </tr>\n",
              "    <tr>\n",
              "      <th>7</th>\n",
              "      <td>39.0</td>\n",
              "      <td>Travel_Rarely</td>\n",
              "      <td>1431.0</td>\n",
              "      <td>Research &amp; Development</td>\n",
              "      <td>1.0</td>\n",
              "      <td>4</td>\n",
              "      <td>Medical</td>\n",
              "      <td>1</td>\n",
              "      <td>332</td>\n",
              "      <td>3</td>\n",
              "      <td>Female</td>\n",
              "      <td>96</td>\n",
              "      <td>3</td>\n",
              "      <td>1</td>\n",
              "      <td>Laboratory Technician</td>\n",
              "      <td>3</td>\n",
              "      <td>-1</td>\n",
              "      <td>2232</td>\n",
              "      <td>15417</td>\n",
              "      <td>7</td>\n",
              "      <td>Y</td>\n",
              "      <td>No</td>\n",
              "      <td>14</td>\n",
              "      <td>3</td>\n",
              "      <td>3</td>\n",
              "      <td>80</td>\n",
              "      <td>3</td>\n",
              "      <td>7</td>\n",
              "      <td>1</td>\n",
              "      <td>3</td>\n",
              "      <td>3</td>\n",
              "      <td>2</td>\n",
              "      <td>1</td>\n",
              "      <td>2</td>\n",
              "    </tr>\n",
              "    <tr>\n",
              "      <th>8</th>\n",
              "      <td>45.0</td>\n",
              "      <td>Non-Travel</td>\n",
              "      <td>1052.0</td>\n",
              "      <td>Sales</td>\n",
              "      <td>6.0</td>\n",
              "      <td>3</td>\n",
              "      <td>Medical</td>\n",
              "      <td>1</td>\n",
              "      <td>302</td>\n",
              "      <td>4</td>\n",
              "      <td>Female</td>\n",
              "      <td>57</td>\n",
              "      <td>2</td>\n",
              "      <td>3</td>\n",
              "      <td>Sales Executive</td>\n",
              "      <td>4</td>\n",
              "      <td>2</td>\n",
              "      <td>8865</td>\n",
              "      <td>16840</td>\n",
              "      <td>6</td>\n",
              "      <td>Y</td>\n",
              "      <td>No</td>\n",
              "      <td>12</td>\n",
              "      <td>3</td>\n",
              "      <td>4</td>\n",
              "      <td>80</td>\n",
              "      <td>0</td>\n",
              "      <td>23</td>\n",
              "      <td>2</td>\n",
              "      <td>3</td>\n",
              "      <td>19</td>\n",
              "      <td>7</td>\n",
              "      <td>12</td>\n",
              "      <td>8</td>\n",
              "    </tr>\n",
              "    <tr>\n",
              "      <th>9</th>\n",
              "      <td>37.0</td>\n",
              "      <td>Travel_Rarely</td>\n",
              "      <td>1229.0</td>\n",
              "      <td>Research &amp; Development</td>\n",
              "      <td>8.0</td>\n",
              "      <td>1</td>\n",
              "      <td>Life Sciences</td>\n",
              "      <td>1</td>\n",
              "      <td>63</td>\n",
              "      <td>4</td>\n",
              "      <td>Male</td>\n",
              "      <td>36</td>\n",
              "      <td>4</td>\n",
              "      <td>1</td>\n",
              "      <td>Laboratory Technician</td>\n",
              "      <td>4</td>\n",
              "      <td>1</td>\n",
              "      <td>2269</td>\n",
              "      <td>4892</td>\n",
              "      <td>1</td>\n",
              "      <td>Y</td>\n",
              "      <td>No</td>\n",
              "      <td>19</td>\n",
              "      <td>3</td>\n",
              "      <td>4</td>\n",
              "      <td>80</td>\n",
              "      <td>0</td>\n",
              "      <td>1</td>\n",
              "      <td>2</td>\n",
              "      <td>3</td>\n",
              "      <td>1</td>\n",
              "      <td>0</td>\n",
              "      <td>0</td>\n",
              "      <td>1</td>\n",
              "    </tr>\n",
              "  </tbody>\n",
              "</table>\n",
              "</div>"
            ],
            "text/plain": [
              "    Age BusinessTravel  ...  YearsSinceLastPromotion YearsWithCurrManager\n",
              "0  37.0  Travel_Rarely  ...                        1                    3\n",
              "1  53.0  Travel_Rarely  ...                        1                    3\n",
              "2  24.0  Travel_Rarely  ...                        0                    0\n",
              "3  45.0  Travel_Rarely  ...                        0                    0\n",
              "4  36.0  Travel_Rarely  ...                        3                    7\n",
              "5  34.0  Travel_Rarely  ...                        0                    6\n",
              "6  37.0  Travel_Rarely  ...                        4                    3\n",
              "7  39.0  Travel_Rarely  ...                        1                    2\n",
              "8  45.0     Non-Travel  ...                       12                    8\n",
              "9  37.0  Travel_Rarely  ...                        0                    1\n",
              "\n",
              "[10 rows x 34 columns]"
            ]
          },
          "metadata": {
            "tags": []
          },
          "execution_count": 23
        }
      ]
    },
    {
      "cell_type": "code",
      "metadata": {
        "colab": {
          "base_uri": "https://localhost:8080/"
        },
        "id": "PwDaYI0rNlYx",
        "outputId": "c0e33c91-c8cd-484d-9e6d-0a5552f3ba61"
      },
      "source": [
        "#imputation with median\n",
        "missing_rate = ['MaritalStatus']\n",
        " \n",
        "#Technique 2: Using median to impute the missing values\n",
        "for i in missing_rate:\n",
        " df5_train_data.loc[df5_train_data.loc[:,i].isnull(),i]=df5_train_data.loc[:,i].median()\n",
        " \n",
        "print(\"count of NULL values after imputation\\n\")\n",
        "df5_train_data.isnull().sum()"
      ],
      "execution_count": null,
      "outputs": [
        {
          "output_type": "stream",
          "text": [
            "count of NULL values after imputation\n",
            "\n"
          ],
          "name": "stdout"
        },
        {
          "output_type": "execute_result",
          "data": {
            "text/plain": [
              "Age                         0\n",
              "Attrition                   0\n",
              "BusinessTravel              0\n",
              "DailyRate                   0\n",
              "Department                  0\n",
              "DistanceFromHome            0\n",
              "Education                   0\n",
              "EducationField              0\n",
              "EmployeeCount               0\n",
              "EmployeeNumber              0\n",
              "EnvironmentSatisfaction     0\n",
              "Gender                      0\n",
              "HourlyRate                  0\n",
              "JobInvolvement              0\n",
              "JobLevel                    0\n",
              "JobRole                     0\n",
              "JobSatisfaction             0\n",
              "MaritalStatus               0\n",
              "MonthlyIncome               0\n",
              "MonthlyRate                 0\n",
              "NumCompaniesWorked          0\n",
              "Over18                      0\n",
              "OverTime                    0\n",
              "PercentSalaryHike           0\n",
              "PerformanceRating           0\n",
              "RelationshipSatisfaction    0\n",
              "StandardHours               0\n",
              "StockOptionLevel            0\n",
              "TotalWorkingYears           0\n",
              "TrainingTimesLastYear       0\n",
              "WorkLifeBalance             0\n",
              "YearsAtCompany              0\n",
              "YearsInCurrentRole          0\n",
              "YearsSinceLastPromotion     0\n",
              "YearsWithCurrManager        0\n",
              "dtype: int64"
            ]
          },
          "metadata": {
            "tags": []
          },
          "execution_count": 24
        }
      ]
    },
    {
      "cell_type": "code",
      "metadata": {
        "colab": {
          "base_uri": "https://localhost:8080/"
        },
        "id": "nIsPt0ffNMzs",
        "outputId": "e51a7b67-6cc6-40dc-eae5-2a7156357aca"
      },
      "source": [
        "#imputation with median\n",
        "missing_rate = ['MaritalStatus']\n",
        " \n",
        "#Technique 2: Using median to impute the missing values\n",
        "for i in missing_rate:\n",
        " df5_test_data.loc[df5_test_data.loc[:,i].isnull(),i]=df5_test_data.loc[:,i].median()\n",
        " \n",
        "print(\"count of NULL values after imputation\\n\")\n",
        "df5_test_data.isnull().sum()"
      ],
      "execution_count": null,
      "outputs": [
        {
          "output_type": "stream",
          "text": [
            "count of NULL values after imputation\n",
            "\n"
          ],
          "name": "stdout"
        },
        {
          "output_type": "execute_result",
          "data": {
            "text/plain": [
              "Age                         0\n",
              "BusinessTravel              5\n",
              "DailyRate                   0\n",
              "Department                  0\n",
              "DistanceFromHome            0\n",
              "Education                   0\n",
              "EducationField              0\n",
              "EmployeeCount               0\n",
              "EmployeeNumber              0\n",
              "EnvironmentSatisfaction     0\n",
              "Gender                      0\n",
              "HourlyRate                  0\n",
              "JobInvolvement              0\n",
              "JobLevel                    0\n",
              "JobRole                     0\n",
              "JobSatisfaction             0\n",
              "MaritalStatus               0\n",
              "MonthlyIncome               0\n",
              "MonthlyRate                 0\n",
              "NumCompaniesWorked          0\n",
              "Over18                      0\n",
              "OverTime                    0\n",
              "PercentSalaryHike           0\n",
              "PerformanceRating           0\n",
              "RelationshipSatisfaction    0\n",
              "StandardHours               0\n",
              "StockOptionLevel            0\n",
              "TotalWorkingYears           0\n",
              "TrainingTimesLastYear       0\n",
              "WorkLifeBalance             0\n",
              "YearsAtCompany              0\n",
              "YearsInCurrentRole          0\n",
              "YearsSinceLastPromotion     0\n",
              "YearsWithCurrManager        0\n",
              "dtype: int64"
            ]
          },
          "metadata": {
            "tags": []
          },
          "execution_count": 25
        }
      ]
    },
    {
      "cell_type": "code",
      "metadata": {
        "id": "kTyTX0qOiSMO"
      },
      "source": [
        ""
      ],
      "execution_count": null,
      "outputs": []
    },
    {
      "cell_type": "code",
      "metadata": {
        "id": "44Mp9B3cQKST"
      },
      "source": [
        "df5_train_data['JobRole']=df5_train_data['JobRole'].astype('category')\n",
        "#print datatypes - business changes to category\n",
        "df5_train_data.dtypes\n",
        "df5_train_data['JobRole']=df5_train_data['JobRole'].cat.codes\n",
        "df5_train_data.head(10)"
      ],
      "execution_count": null,
      "outputs": []
    },
    {
      "cell_type": "code",
      "metadata": {
        "id": "3CRw_p9BQhSE"
      },
      "source": [
        "df5_train_data['Department']=df5_train_data['Department'].astype('category')\n",
        "#print datatypes - business changes to category\n",
        "df5_train_data.dtypes\n",
        "df5_train_data['Department']=df5_train_data['Department'].cat.codes\n",
        "df5_train_data.head(10)"
      ],
      "execution_count": null,
      "outputs": []
    },
    {
      "cell_type": "code",
      "metadata": {
        "id": "rbNSF7eLQ4Yi"
      },
      "source": [
        "df5_train_data['EducationField']=df5_train_data['EducationField'].astype('category')\n",
        "#print datatypes - business changes to category\n",
        "df5_train_data.dtypes\n",
        "df5_train_data['EducationField']=df5_train_data['EducationField'].cat.codes\n",
        "df5_train_data.head(10)"
      ],
      "execution_count": null,
      "outputs": []
    },
    {
      "cell_type": "code",
      "metadata": {
        "id": "nfLQZd1_RPbH"
      },
      "source": [
        "df5_train_data['Gender']=df5_train_data['Gender'].astype('category')\n",
        "#print datatypes - business changes to category\n",
        "df5_train_data.dtypes\n",
        "df5_train_data['Gender']=df5_train_data['Gender'].cat.codes\n",
        "df5_train_data.head(10)"
      ],
      "execution_count": null,
      "outputs": []
    },
    {
      "cell_type": "code",
      "metadata": {
        "id": "_Yu3NjMzRhSu"
      },
      "source": [
        "df5_train_data['OverTime']=df5_train_data['OverTime'].astype('category')\n",
        "#print datatypes - business changes to category\n",
        "df5_train_data.dtypes\n",
        "df5_train_data['OverTime']=df5_train_data['OverTime'].cat.codes\n",
        "df5_train_data.head(10)"
      ],
      "execution_count": null,
      "outputs": []
    },
    {
      "cell_type": "code",
      "metadata": {
        "id": "FQgFPqKVMXvB"
      },
      "source": [
        ""
      ],
      "execution_count": null,
      "outputs": []
    },
    {
      "cell_type": "code",
      "metadata": {
        "id": "rXa5K2pOR-Jz"
      },
      "source": [
        "df5_train_data['Over18']=df5_train_data['Over18'].astype('category')\n",
        "#print datatypes - business changes to category\n",
        "df5_train_data.dtypes\n",
        "df5_train_data['Over18']=df5_train_data['Over18'].cat.codes\n",
        "df5_train_data.head(10)"
      ],
      "execution_count": null,
      "outputs": []
    },
    {
      "cell_type": "code",
      "metadata": {
        "colab": {
          "base_uri": "https://localhost:8080/"
        },
        "id": "D-Wtgd4Vf6Zo",
        "outputId": "99b6d76b-2c3b-4a81-932c-3797e476f235"
      },
      "source": [
        "X_train = df5_train_data.drop('Attrition', axis=1)\n",
        "y_train = df5_train_data['Attrition']\n",
        "\n",
        "X_test = df5_test_data.drop(\"EmployeeCount\", axis=1).copy()\n",
        "\n",
        "X_train.shape, y_train.shape, X_test.shape\n"
      ],
      "execution_count": null,
      "outputs": [
        {
          "output_type": "execute_result",
          "data": {
            "text/plain": [
              "((1029, 34), (1029,), (441, 33))"
            ]
          },
          "metadata": {
            "tags": []
          },
          "execution_count": 34
        }
      ]
    },
    {
      "cell_type": "code",
      "metadata": {
        "id": "4JeFXdlfezD_"
      },
      "source": [
        ""
      ],
      "execution_count": null,
      "outputs": []
    },
    {
      "cell_type": "code",
      "metadata": {
        "id": "iibH5WRmSVeY"
      },
      "source": [
        "df5_train_data['Attrition']=df5_train_data['Attrition'].astype('category')\n",
        "#print datatypes - business changes to category\n",
        "df5_train_data.dtypes\n",
        "df5_train_data['Attrition']=df5_train_data['Attrition'].cat.codes\n",
        "df5_train_data.head(10)"
      ],
      "execution_count": null,
      "outputs": []
    },
    {
      "cell_type": "code",
      "metadata": {
        "id": "H0TjYscgMrTm"
      },
      "source": [
        "df5_train_data['Department']=df5_train_data['Department'].astype('category')\n",
        "#print datatypes - business changes to category\n",
        "df5_train_data.dtypes\n",
        "df5_train_data['Department']=df5_train_data['Department'].cat.codes\n",
        "df5_train_data.head(10)"
      ],
      "execution_count": null,
      "outputs": []
    },
    {
      "cell_type": "code",
      "metadata": {
        "id": "Nap6HRifU0j9"
      },
      "source": [
        "df5_test_data['Gender']=df5_test_data['Gender'].astype('category')\n",
        "#print datatypes - business changes to category\n",
        "df5_test_data.dtypes\n",
        "df5_test_data['Gender']=df5_test_data['Gender'].cat.codes\n",
        "df5_test_data.head(10)"
      ],
      "execution_count": null,
      "outputs": []
    },
    {
      "cell_type": "code",
      "metadata": {
        "id": "6WggZu5pK-9G"
      },
      "source": [
        "df5_test_data['EducationField']=df5_test_data['EducationField'].astype('category')\n",
        "#print datatypes - business changes to category\n",
        "df5_test_data.dtypes\n",
        "df5_test_data['EducationField']=df5_test_data['EducationField'].cat.codes\n",
        "df5_test_data.head(10)"
      ],
      "execution_count": null,
      "outputs": []
    },
    {
      "cell_type": "code",
      "metadata": {
        "id": "I58W4sk5VqcX"
      },
      "source": [
        "df5_test_data['JobRole']=df5_test_data['JobRole'].astype('category')\n",
        "#print datatypes - business changes to category\n",
        "df5_test_data.dtypes\n",
        "df5_test_data['JobRole']=df5_test_data['JobRole'].cat.codes\n",
        "df5_test_data.head(10)"
      ],
      "execution_count": null,
      "outputs": []
    },
    {
      "cell_type": "code",
      "metadata": {
        "id": "XV22l08oV9Bv"
      },
      "source": [
        "df5_test_data['Over18']=df5_test_data['Over18'].astype('category')\n",
        "#print datatypes - business changes to category\n",
        "df5_test_data.dtypes\n",
        "df5_test_data['Over18']=df5_test_data['Over18'].cat.codes\n",
        "df5_test_data.head(10)"
      ],
      "execution_count": null,
      "outputs": []
    },
    {
      "cell_type": "code",
      "metadata": {
        "colab": {
          "base_uri": "https://localhost:8080/",
          "height": 555
        },
        "id": "SQ7iAmaDWUrW",
        "outputId": "452de6ab-57ae-4051-b740-d39e233a4854"
      },
      "source": [
        "df5_test_data['OverTime']=df5_test_data['OverTime'].astype('category')\n",
        "#print datatypes - business changes to category\n",
        "df5_test_data.dtypes\n",
        "df5_test_data['OverTime']=df5_test_data['OverTime'].cat.codes\n",
        "df5_test_data.head(10)"
      ],
      "execution_count": 45,
      "outputs": [
        {
          "output_type": "execute_result",
          "data": {
            "text/html": [
              "<div>\n",
              "<style scoped>\n",
              "    .dataframe tbody tr th:only-of-type {\n",
              "        vertical-align: middle;\n",
              "    }\n",
              "\n",
              "    .dataframe tbody tr th {\n",
              "        vertical-align: top;\n",
              "    }\n",
              "\n",
              "    .dataframe thead th {\n",
              "        text-align: right;\n",
              "    }\n",
              "</style>\n",
              "<table border=\"1\" class=\"dataframe\">\n",
              "  <thead>\n",
              "    <tr style=\"text-align: right;\">\n",
              "      <th></th>\n",
              "      <th>Age</th>\n",
              "      <th>BusinessTravel</th>\n",
              "      <th>DailyRate</th>\n",
              "      <th>Department</th>\n",
              "      <th>DistanceFromHome</th>\n",
              "      <th>Education</th>\n",
              "      <th>EducationField</th>\n",
              "      <th>EmployeeCount</th>\n",
              "      <th>EmployeeNumber</th>\n",
              "      <th>EnvironmentSatisfaction</th>\n",
              "      <th>Gender</th>\n",
              "      <th>HourlyRate</th>\n",
              "      <th>JobInvolvement</th>\n",
              "      <th>JobLevel</th>\n",
              "      <th>JobRole</th>\n",
              "      <th>JobSatisfaction</th>\n",
              "      <th>MaritalStatus</th>\n",
              "      <th>MonthlyIncome</th>\n",
              "      <th>MonthlyRate</th>\n",
              "      <th>NumCompaniesWorked</th>\n",
              "      <th>Over18</th>\n",
              "      <th>OverTime</th>\n",
              "      <th>PercentSalaryHike</th>\n",
              "      <th>PerformanceRating</th>\n",
              "      <th>RelationshipSatisfaction</th>\n",
              "      <th>StandardHours</th>\n",
              "      <th>StockOptionLevel</th>\n",
              "      <th>TotalWorkingYears</th>\n",
              "      <th>TrainingTimesLastYear</th>\n",
              "      <th>WorkLifeBalance</th>\n",
              "      <th>YearsAtCompany</th>\n",
              "      <th>YearsInCurrentRole</th>\n",
              "      <th>YearsSinceLastPromotion</th>\n",
              "      <th>YearsWithCurrManager</th>\n",
              "    </tr>\n",
              "  </thead>\n",
              "  <tbody>\n",
              "    <tr>\n",
              "      <th>0</th>\n",
              "      <td>NaN</td>\n",
              "      <td>Travel_Rarely</td>\n",
              "      <td>866.0</td>\n",
              "      <td>Sales</td>\n",
              "      <td>NaN</td>\n",
              "      <td>3</td>\n",
              "      <td>Medical</td>\n",
              "      <td>1</td>\n",
              "      <td>1469</td>\n",
              "      <td>4</td>\n",
              "      <td>Male</td>\n",
              "      <td>84</td>\n",
              "      <td>3</td>\n",
              "      <td>2</td>\n",
              "      <td>Sales Executive</td>\n",
              "      <td>1</td>\n",
              "      <td>Single</td>\n",
              "      <td>8463</td>\n",
              "      <td>23490</td>\n",
              "      <td>0</td>\n",
              "      <td>Y</td>\n",
              "      <td>0</td>\n",
              "      <td>18</td>\n",
              "      <td>3</td>\n",
              "      <td>4</td>\n",
              "      <td>80</td>\n",
              "      <td>0</td>\n",
              "      <td>6</td>\n",
              "      <td>4</td>\n",
              "      <td>3</td>\n",
              "      <td>5</td>\n",
              "      <td>4</td>\n",
              "      <td>1</td>\n",
              "      <td>3</td>\n",
              "    </tr>\n",
              "    <tr>\n",
              "      <th>1</th>\n",
              "      <td>53.0</td>\n",
              "      <td>Travel_Rarely</td>\n",
              "      <td>1084.0</td>\n",
              "      <td>Research &amp; Development</td>\n",
              "      <td>13.0</td>\n",
              "      <td>2</td>\n",
              "      <td>Medical</td>\n",
              "      <td>1</td>\n",
              "      <td>250</td>\n",
              "      <td>4</td>\n",
              "      <td>Female</td>\n",
              "      <td>57</td>\n",
              "      <td>4</td>\n",
              "      <td>2</td>\n",
              "      <td>Manufacturing Director</td>\n",
              "      <td>1</td>\n",
              "      <td>Divorced</td>\n",
              "      <td>4450</td>\n",
              "      <td>26250</td>\n",
              "      <td>1</td>\n",
              "      <td>Y</td>\n",
              "      <td>0</td>\n",
              "      <td>11</td>\n",
              "      <td>3</td>\n",
              "      <td>3</td>\n",
              "      <td>80</td>\n",
              "      <td>2</td>\n",
              "      <td>5</td>\n",
              "      <td>3</td>\n",
              "      <td>3</td>\n",
              "      <td>4</td>\n",
              "      <td>2</td>\n",
              "      <td>1</td>\n",
              "      <td>3</td>\n",
              "    </tr>\n",
              "    <tr>\n",
              "      <th>2</th>\n",
              "      <td>24.0</td>\n",
              "      <td>Travel_Rarely</td>\n",
              "      <td>240.0</td>\n",
              "      <td>Human Resources</td>\n",
              "      <td>22.0</td>\n",
              "      <td>1</td>\n",
              "      <td>Human Resources</td>\n",
              "      <td>1</td>\n",
              "      <td>1714</td>\n",
              "      <td>4</td>\n",
              "      <td>Male</td>\n",
              "      <td>58</td>\n",
              "      <td>1</td>\n",
              "      <td>1</td>\n",
              "      <td>Human Resources</td>\n",
              "      <td>3</td>\n",
              "      <td>Married</td>\n",
              "      <td>1555</td>\n",
              "      <td>11585</td>\n",
              "      <td>1</td>\n",
              "      <td>Y</td>\n",
              "      <td>0</td>\n",
              "      <td>11</td>\n",
              "      <td>3</td>\n",
              "      <td>3</td>\n",
              "      <td>80</td>\n",
              "      <td>1</td>\n",
              "      <td>1</td>\n",
              "      <td>2</td>\n",
              "      <td>3</td>\n",
              "      <td>1</td>\n",
              "      <td>0</td>\n",
              "      <td>0</td>\n",
              "      <td>0</td>\n",
              "    </tr>\n",
              "    <tr>\n",
              "      <th>3</th>\n",
              "      <td>45.0</td>\n",
              "      <td>Travel_Rarely</td>\n",
              "      <td>1339.0</td>\n",
              "      <td>Research &amp; Development</td>\n",
              "      <td>7.0</td>\n",
              "      <td>3</td>\n",
              "      <td>Life Sciences</td>\n",
              "      <td>1</td>\n",
              "      <td>86</td>\n",
              "      <td>2</td>\n",
              "      <td>Male</td>\n",
              "      <td>59</td>\n",
              "      <td>3</td>\n",
              "      <td>3</td>\n",
              "      <td>Research Scientist</td>\n",
              "      <td>1</td>\n",
              "      <td>Divorced</td>\n",
              "      <td>9724</td>\n",
              "      <td>18787</td>\n",
              "      <td>2</td>\n",
              "      <td>Y</td>\n",
              "      <td>0</td>\n",
              "      <td>17</td>\n",
              "      <td>3</td>\n",
              "      <td>3</td>\n",
              "      <td>80</td>\n",
              "      <td>1</td>\n",
              "      <td>25</td>\n",
              "      <td>2</td>\n",
              "      <td>3</td>\n",
              "      <td>1</td>\n",
              "      <td>0</td>\n",
              "      <td>0</td>\n",
              "      <td>0</td>\n",
              "    </tr>\n",
              "    <tr>\n",
              "      <th>4</th>\n",
              "      <td>36.0</td>\n",
              "      <td>Travel_Rarely</td>\n",
              "      <td>1396.0</td>\n",
              "      <td>Research &amp; Development</td>\n",
              "      <td>NaN</td>\n",
              "      <td>2</td>\n",
              "      <td>Life Sciences</td>\n",
              "      <td>1</td>\n",
              "      <td>304</td>\n",
              "      <td>4</td>\n",
              "      <td>Male</td>\n",
              "      <td>62</td>\n",
              "      <td>3</td>\n",
              "      <td>2</td>\n",
              "      <td>Laboratory Technician</td>\n",
              "      <td>2</td>\n",
              "      <td>Single</td>\n",
              "      <td>5914</td>\n",
              "      <td>9945</td>\n",
              "      <td>8</td>\n",
              "      <td>Y</td>\n",
              "      <td>0</td>\n",
              "      <td>16</td>\n",
              "      <td>3</td>\n",
              "      <td>4</td>\n",
              "      <td>80</td>\n",
              "      <td>0</td>\n",
              "      <td>16</td>\n",
              "      <td>3</td>\n",
              "      <td>4</td>\n",
              "      <td>13</td>\n",
              "      <td>11</td>\n",
              "      <td>3</td>\n",
              "      <td>7</td>\n",
              "    </tr>\n",
              "    <tr>\n",
              "      <th>5</th>\n",
              "      <td>34.0</td>\n",
              "      <td>Travel_Rarely</td>\n",
              "      <td>204.0</td>\n",
              "      <td>Sales</td>\n",
              "      <td>14.0</td>\n",
              "      <td>3</td>\n",
              "      <td>Technical Degree</td>\n",
              "      <td>1</td>\n",
              "      <td>666</td>\n",
              "      <td>3</td>\n",
              "      <td>Female</td>\n",
              "      <td>31</td>\n",
              "      <td>3</td>\n",
              "      <td>1</td>\n",
              "      <td>Sales Representative</td>\n",
              "      <td>3</td>\n",
              "      <td>Divorced</td>\n",
              "      <td>2579</td>\n",
              "      <td>2912</td>\n",
              "      <td>1</td>\n",
              "      <td>Y</td>\n",
              "      <td>1</td>\n",
              "      <td>18</td>\n",
              "      <td>3</td>\n",
              "      <td>4</td>\n",
              "      <td>80</td>\n",
              "      <td>2</td>\n",
              "      <td>8</td>\n",
              "      <td>3</td>\n",
              "      <td>3</td>\n",
              "      <td>8</td>\n",
              "      <td>2</td>\n",
              "      <td>0</td>\n",
              "      <td>6</td>\n",
              "    </tr>\n",
              "    <tr>\n",
              "      <th>6</th>\n",
              "      <td>NaN</td>\n",
              "      <td>Travel_Rarely</td>\n",
              "      <td>144.0</td>\n",
              "      <td>Research &amp; Development</td>\n",
              "      <td>22.0</td>\n",
              "      <td>3</td>\n",
              "      <td>Life Sciences</td>\n",
              "      <td>1</td>\n",
              "      <td>577</td>\n",
              "      <td>4</td>\n",
              "      <td>Male</td>\n",
              "      <td>46</td>\n",
              "      <td>1</td>\n",
              "      <td>1</td>\n",
              "      <td>Laboratory Technician</td>\n",
              "      <td>3</td>\n",
              "      <td>Single</td>\n",
              "      <td>4230</td>\n",
              "      <td>19225</td>\n",
              "      <td>0</td>\n",
              "      <td>Y</td>\n",
              "      <td>0</td>\n",
              "      <td>15</td>\n",
              "      <td>3</td>\n",
              "      <td>3</td>\n",
              "      <td>80</td>\n",
              "      <td>0</td>\n",
              "      <td>6</td>\n",
              "      <td>2</td>\n",
              "      <td>3</td>\n",
              "      <td>5</td>\n",
              "      <td>4</td>\n",
              "      <td>4</td>\n",
              "      <td>3</td>\n",
              "    </tr>\n",
              "    <tr>\n",
              "      <th>7</th>\n",
              "      <td>39.0</td>\n",
              "      <td>Travel_Rarely</td>\n",
              "      <td>1431.0</td>\n",
              "      <td>Research &amp; Development</td>\n",
              "      <td>1.0</td>\n",
              "      <td>4</td>\n",
              "      <td>Medical</td>\n",
              "      <td>1</td>\n",
              "      <td>332</td>\n",
              "      <td>3</td>\n",
              "      <td>Female</td>\n",
              "      <td>96</td>\n",
              "      <td>3</td>\n",
              "      <td>1</td>\n",
              "      <td>Laboratory Technician</td>\n",
              "      <td>3</td>\n",
              "      <td>NaN</td>\n",
              "      <td>2232</td>\n",
              "      <td>15417</td>\n",
              "      <td>7</td>\n",
              "      <td>Y</td>\n",
              "      <td>0</td>\n",
              "      <td>14</td>\n",
              "      <td>3</td>\n",
              "      <td>3</td>\n",
              "      <td>80</td>\n",
              "      <td>3</td>\n",
              "      <td>7</td>\n",
              "      <td>1</td>\n",
              "      <td>3</td>\n",
              "      <td>3</td>\n",
              "      <td>2</td>\n",
              "      <td>1</td>\n",
              "      <td>2</td>\n",
              "    </tr>\n",
              "    <tr>\n",
              "      <th>8</th>\n",
              "      <td>45.0</td>\n",
              "      <td>Non-Travel</td>\n",
              "      <td>1052.0</td>\n",
              "      <td>Sales</td>\n",
              "      <td>6.0</td>\n",
              "      <td>3</td>\n",
              "      <td>Medical</td>\n",
              "      <td>1</td>\n",
              "      <td>302</td>\n",
              "      <td>4</td>\n",
              "      <td>Female</td>\n",
              "      <td>57</td>\n",
              "      <td>2</td>\n",
              "      <td>3</td>\n",
              "      <td>Sales Executive</td>\n",
              "      <td>4</td>\n",
              "      <td>Single</td>\n",
              "      <td>8865</td>\n",
              "      <td>16840</td>\n",
              "      <td>6</td>\n",
              "      <td>Y</td>\n",
              "      <td>0</td>\n",
              "      <td>12</td>\n",
              "      <td>3</td>\n",
              "      <td>4</td>\n",
              "      <td>80</td>\n",
              "      <td>0</td>\n",
              "      <td>23</td>\n",
              "      <td>2</td>\n",
              "      <td>3</td>\n",
              "      <td>19</td>\n",
              "      <td>7</td>\n",
              "      <td>12</td>\n",
              "      <td>8</td>\n",
              "    </tr>\n",
              "    <tr>\n",
              "      <th>9</th>\n",
              "      <td>NaN</td>\n",
              "      <td>Travel_Rarely</td>\n",
              "      <td>1229.0</td>\n",
              "      <td>Research &amp; Development</td>\n",
              "      <td>8.0</td>\n",
              "      <td>1</td>\n",
              "      <td>Life Sciences</td>\n",
              "      <td>1</td>\n",
              "      <td>63</td>\n",
              "      <td>4</td>\n",
              "      <td>Male</td>\n",
              "      <td>36</td>\n",
              "      <td>4</td>\n",
              "      <td>1</td>\n",
              "      <td>Laboratory Technician</td>\n",
              "      <td>4</td>\n",
              "      <td>Married</td>\n",
              "      <td>2269</td>\n",
              "      <td>4892</td>\n",
              "      <td>1</td>\n",
              "      <td>Y</td>\n",
              "      <td>0</td>\n",
              "      <td>19</td>\n",
              "      <td>3</td>\n",
              "      <td>4</td>\n",
              "      <td>80</td>\n",
              "      <td>0</td>\n",
              "      <td>1</td>\n",
              "      <td>2</td>\n",
              "      <td>3</td>\n",
              "      <td>1</td>\n",
              "      <td>0</td>\n",
              "      <td>0</td>\n",
              "      <td>1</td>\n",
              "    </tr>\n",
              "  </tbody>\n",
              "</table>\n",
              "</div>"
            ],
            "text/plain": [
              "    Age BusinessTravel  ...  YearsSinceLastPromotion YearsWithCurrManager\n",
              "0   NaN  Travel_Rarely  ...                        1                    3\n",
              "1  53.0  Travel_Rarely  ...                        1                    3\n",
              "2  24.0  Travel_Rarely  ...                        0                    0\n",
              "3  45.0  Travel_Rarely  ...                        0                    0\n",
              "4  36.0  Travel_Rarely  ...                        3                    7\n",
              "5  34.0  Travel_Rarely  ...                        0                    6\n",
              "6   NaN  Travel_Rarely  ...                        4                    3\n",
              "7  39.0  Travel_Rarely  ...                        1                    2\n",
              "8  45.0     Non-Travel  ...                       12                    8\n",
              "9   NaN  Travel_Rarely  ...                        0                    1\n",
              "\n",
              "[10 rows x 34 columns]"
            ]
          },
          "metadata": {
            "tags": []
          },
          "execution_count": 45
        }
      ]
    },
    {
      "cell_type": "code",
      "metadata": {
        "id": "F-bNlJuhYjOc"
      },
      "source": [
        "df5_test_data['Department']=df5_test_data['Department'].astype('category')\n",
        "#print datatypes - business changes to category\n",
        "df5_test_data.dtypes\n",
        "df5_test_data['Department']=df5_test_data['Department'].cat.codes\n",
        "df5_test_data.head(10)"
      ],
      "execution_count": null,
      "outputs": []
    },
    {
      "cell_type": "code",
      "metadata": {
        "id": "ewA_f2QtiZ5D"
      },
      "source": [
        "df5_test_data['BusinessTravel']=df5_test_data['BusinessTravel'].astype('category')\n",
        "#print datatypes - business changes to category\n",
        "df5_test_data.dtypes\n",
        "df5_test_data['BusinessTravel']=df5_test_data['BusinessTravel'].cat.codes\n",
        "df5_test_data.head(10)"
      ],
      "execution_count": null,
      "outputs": []
    },
    {
      "cell_type": "code",
      "metadata": {
        "colab": {
          "base_uri": "https://localhost:8080/",
          "height": 491
        },
        "id": "CfcEMYeTi_ZZ",
        "outputId": "07f58439-a9ae-4f36-82e7-946df9c8b642"
      },
      "source": [
        "from sklearn.linear_model import LogisticRegression\n",
        "clf = LogisticRegression()\n",
        "clf.fit(X_train, y_train)\n",
        "y_pred_log_reg = clf.predict(X_test)\n",
        "acc_log_reg = round( clf.score(X_train, y_train) * 100, 2)\n",
        "\n",
        "print (str(acc_log_reg) + ' percent')\n"
      ],
      "execution_count": null,
      "outputs": [
        {
          "output_type": "stream",
          "text": [
            "/usr/local/lib/python3.7/dist-packages/sklearn/linear_model/_logistic.py:940: ConvergenceWarning: lbfgs failed to converge (status=1):\n",
            "STOP: TOTAL NO. of ITERATIONS REACHED LIMIT.\n",
            "\n",
            "Increase the number of iterations (max_iter) or scale the data as shown in:\n",
            "    https://scikit-learn.org/stable/modules/preprocessing.html\n",
            "Please also refer to the documentation for alternative solver options:\n",
            "    https://scikit-learn.org/stable/modules/linear_model.html#logistic-regression\n",
            "  extra_warning_msg=_LOGISTIC_SOLVER_CONVERGENCE_MSG)\n"
          ],
          "name": "stderr"
        },
        {
          "output_type": "error",
          "ename": "ValueError",
          "evalue": "ignored",
          "traceback": [
            "\u001b[0;31m---------------------------------------------------------------------------\u001b[0m",
            "\u001b[0;31mValueError\u001b[0m                                Traceback (most recent call last)",
            "\u001b[0;32m<ipython-input-44-f43de43cb603>\u001b[0m in \u001b[0;36m<module>\u001b[0;34m()\u001b[0m\n\u001b[1;32m      2\u001b[0m \u001b[0mclf\u001b[0m \u001b[0;34m=\u001b[0m \u001b[0mLogisticRegression\u001b[0m\u001b[0;34m(\u001b[0m\u001b[0;34m)\u001b[0m\u001b[0;34m\u001b[0m\u001b[0;34m\u001b[0m\u001b[0m\n\u001b[1;32m      3\u001b[0m \u001b[0mclf\u001b[0m\u001b[0;34m.\u001b[0m\u001b[0mfit\u001b[0m\u001b[0;34m(\u001b[0m\u001b[0mX_train\u001b[0m\u001b[0;34m,\u001b[0m \u001b[0my_train\u001b[0m\u001b[0;34m)\u001b[0m\u001b[0;34m\u001b[0m\u001b[0;34m\u001b[0m\u001b[0m\n\u001b[0;32m----> 4\u001b[0;31m \u001b[0my_pred_log_reg\u001b[0m \u001b[0;34m=\u001b[0m \u001b[0mclf\u001b[0m\u001b[0;34m.\u001b[0m\u001b[0mpredict\u001b[0m\u001b[0;34m(\u001b[0m\u001b[0mX_test\u001b[0m\u001b[0;34m)\u001b[0m\u001b[0;34m\u001b[0m\u001b[0;34m\u001b[0m\u001b[0m\n\u001b[0m\u001b[1;32m      5\u001b[0m \u001b[0macc_log_reg\u001b[0m \u001b[0;34m=\u001b[0m \u001b[0mround\u001b[0m\u001b[0;34m(\u001b[0m \u001b[0mclf\u001b[0m\u001b[0;34m.\u001b[0m\u001b[0mscore\u001b[0m\u001b[0;34m(\u001b[0m\u001b[0mX_train\u001b[0m\u001b[0;34m,\u001b[0m \u001b[0my_train\u001b[0m\u001b[0;34m)\u001b[0m \u001b[0;34m*\u001b[0m \u001b[0;36m100\u001b[0m\u001b[0;34m,\u001b[0m \u001b[0;36m2\u001b[0m\u001b[0;34m)\u001b[0m\u001b[0;34m\u001b[0m\u001b[0;34m\u001b[0m\u001b[0m\n\u001b[1;32m      6\u001b[0m \u001b[0;34m\u001b[0m\u001b[0m\n",
            "\u001b[0;32m/usr/local/lib/python3.7/dist-packages/sklearn/linear_model/_base.py\u001b[0m in \u001b[0;36mpredict\u001b[0;34m(self, X)\u001b[0m\n\u001b[1;32m    291\u001b[0m             \u001b[0mPredicted\u001b[0m \u001b[0;32mclass\u001b[0m \u001b[0mlabel\u001b[0m \u001b[0mper\u001b[0m \u001b[0msample\u001b[0m\u001b[0;34m.\u001b[0m\u001b[0;34m\u001b[0m\u001b[0;34m\u001b[0m\u001b[0m\n\u001b[1;32m    292\u001b[0m         \"\"\"\n\u001b[0;32m--> 293\u001b[0;31m         \u001b[0mscores\u001b[0m \u001b[0;34m=\u001b[0m \u001b[0mself\u001b[0m\u001b[0;34m.\u001b[0m\u001b[0mdecision_function\u001b[0m\u001b[0;34m(\u001b[0m\u001b[0mX\u001b[0m\u001b[0;34m)\u001b[0m\u001b[0;34m\u001b[0m\u001b[0;34m\u001b[0m\u001b[0m\n\u001b[0m\u001b[1;32m    294\u001b[0m         \u001b[0;32mif\u001b[0m \u001b[0mlen\u001b[0m\u001b[0;34m(\u001b[0m\u001b[0mscores\u001b[0m\u001b[0;34m.\u001b[0m\u001b[0mshape\u001b[0m\u001b[0;34m)\u001b[0m \u001b[0;34m==\u001b[0m \u001b[0;36m1\u001b[0m\u001b[0;34m:\u001b[0m\u001b[0;34m\u001b[0m\u001b[0;34m\u001b[0m\u001b[0m\n\u001b[1;32m    295\u001b[0m             \u001b[0mindices\u001b[0m \u001b[0;34m=\u001b[0m \u001b[0;34m(\u001b[0m\u001b[0mscores\u001b[0m \u001b[0;34m>\u001b[0m \u001b[0;36m0\u001b[0m\u001b[0;34m)\u001b[0m\u001b[0;34m.\u001b[0m\u001b[0mastype\u001b[0m\u001b[0;34m(\u001b[0m\u001b[0mnp\u001b[0m\u001b[0;34m.\u001b[0m\u001b[0mint\u001b[0m\u001b[0;34m)\u001b[0m\u001b[0;34m\u001b[0m\u001b[0;34m\u001b[0m\u001b[0m\n",
            "\u001b[0;32m/usr/local/lib/python3.7/dist-packages/sklearn/linear_model/_base.py\u001b[0m in \u001b[0;36mdecision_function\u001b[0;34m(self, X)\u001b[0m\n\u001b[1;32m    266\u001b[0m         \u001b[0mcheck_is_fitted\u001b[0m\u001b[0;34m(\u001b[0m\u001b[0mself\u001b[0m\u001b[0;34m)\u001b[0m\u001b[0;34m\u001b[0m\u001b[0;34m\u001b[0m\u001b[0m\n\u001b[1;32m    267\u001b[0m \u001b[0;34m\u001b[0m\u001b[0m\n\u001b[0;32m--> 268\u001b[0;31m         \u001b[0mX\u001b[0m \u001b[0;34m=\u001b[0m \u001b[0mcheck_array\u001b[0m\u001b[0;34m(\u001b[0m\u001b[0mX\u001b[0m\u001b[0;34m,\u001b[0m \u001b[0maccept_sparse\u001b[0m\u001b[0;34m=\u001b[0m\u001b[0;34m'csr'\u001b[0m\u001b[0;34m)\u001b[0m\u001b[0;34m\u001b[0m\u001b[0;34m\u001b[0m\u001b[0m\n\u001b[0m\u001b[1;32m    269\u001b[0m \u001b[0;34m\u001b[0m\u001b[0m\n\u001b[1;32m    270\u001b[0m         \u001b[0mn_features\u001b[0m \u001b[0;34m=\u001b[0m \u001b[0mself\u001b[0m\u001b[0;34m.\u001b[0m\u001b[0mcoef_\u001b[0m\u001b[0;34m.\u001b[0m\u001b[0mshape\u001b[0m\u001b[0;34m[\u001b[0m\u001b[0;36m1\u001b[0m\u001b[0;34m]\u001b[0m\u001b[0;34m\u001b[0m\u001b[0;34m\u001b[0m\u001b[0m\n",
            "\u001b[0;32m/usr/local/lib/python3.7/dist-packages/sklearn/utils/validation.py\u001b[0m in \u001b[0;36mcheck_array\u001b[0;34m(array, accept_sparse, accept_large_sparse, dtype, order, copy, force_all_finite, ensure_2d, allow_nd, ensure_min_samples, ensure_min_features, warn_on_dtype, estimator)\u001b[0m\n\u001b[1;32m    529\u001b[0m                     \u001b[0marray\u001b[0m \u001b[0;34m=\u001b[0m \u001b[0marray\u001b[0m\u001b[0;34m.\u001b[0m\u001b[0mastype\u001b[0m\u001b[0;34m(\u001b[0m\u001b[0mdtype\u001b[0m\u001b[0;34m,\u001b[0m \u001b[0mcasting\u001b[0m\u001b[0;34m=\u001b[0m\u001b[0;34m\"unsafe\"\u001b[0m\u001b[0;34m,\u001b[0m \u001b[0mcopy\u001b[0m\u001b[0;34m=\u001b[0m\u001b[0;32mFalse\u001b[0m\u001b[0;34m)\u001b[0m\u001b[0;34m\u001b[0m\u001b[0;34m\u001b[0m\u001b[0m\n\u001b[1;32m    530\u001b[0m                 \u001b[0;32melse\u001b[0m\u001b[0;34m:\u001b[0m\u001b[0;34m\u001b[0m\u001b[0;34m\u001b[0m\u001b[0m\n\u001b[0;32m--> 531\u001b[0;31m                     \u001b[0marray\u001b[0m \u001b[0;34m=\u001b[0m \u001b[0mnp\u001b[0m\u001b[0;34m.\u001b[0m\u001b[0masarray\u001b[0m\u001b[0;34m(\u001b[0m\u001b[0marray\u001b[0m\u001b[0;34m,\u001b[0m \u001b[0morder\u001b[0m\u001b[0;34m=\u001b[0m\u001b[0morder\u001b[0m\u001b[0;34m,\u001b[0m \u001b[0mdtype\u001b[0m\u001b[0;34m=\u001b[0m\u001b[0mdtype\u001b[0m\u001b[0;34m)\u001b[0m\u001b[0;34m\u001b[0m\u001b[0;34m\u001b[0m\u001b[0m\n\u001b[0m\u001b[1;32m    532\u001b[0m             \u001b[0;32mexcept\u001b[0m \u001b[0mComplexWarning\u001b[0m\u001b[0;34m:\u001b[0m\u001b[0;34m\u001b[0m\u001b[0;34m\u001b[0m\u001b[0m\n\u001b[1;32m    533\u001b[0m                 raise ValueError(\"Complex data not supported\\n\"\n",
            "\u001b[0;32m/usr/local/lib/python3.7/dist-packages/numpy/core/_asarray.py\u001b[0m in \u001b[0;36masarray\u001b[0;34m(a, dtype, order)\u001b[0m\n\u001b[1;32m     81\u001b[0m \u001b[0;34m\u001b[0m\u001b[0m\n\u001b[1;32m     82\u001b[0m     \"\"\"\n\u001b[0;32m---> 83\u001b[0;31m     \u001b[0;32mreturn\u001b[0m \u001b[0marray\u001b[0m\u001b[0;34m(\u001b[0m\u001b[0ma\u001b[0m\u001b[0;34m,\u001b[0m \u001b[0mdtype\u001b[0m\u001b[0;34m,\u001b[0m \u001b[0mcopy\u001b[0m\u001b[0;34m=\u001b[0m\u001b[0;32mFalse\u001b[0m\u001b[0;34m,\u001b[0m \u001b[0morder\u001b[0m\u001b[0;34m=\u001b[0m\u001b[0morder\u001b[0m\u001b[0;34m)\u001b[0m\u001b[0;34m\u001b[0m\u001b[0;34m\u001b[0m\u001b[0m\n\u001b[0m\u001b[1;32m     84\u001b[0m \u001b[0;34m\u001b[0m\u001b[0m\n\u001b[1;32m     85\u001b[0m \u001b[0;34m\u001b[0m\u001b[0m\n",
            "\u001b[0;32m/usr/local/lib/python3.7/dist-packages/pandas/core/generic.py\u001b[0m in \u001b[0;36m__array__\u001b[0;34m(self, dtype)\u001b[0m\n\u001b[1;32m   1779\u001b[0m \u001b[0;34m\u001b[0m\u001b[0m\n\u001b[1;32m   1780\u001b[0m     \u001b[0;32mdef\u001b[0m \u001b[0m__array__\u001b[0m\u001b[0;34m(\u001b[0m\u001b[0mself\u001b[0m\u001b[0;34m,\u001b[0m \u001b[0mdtype\u001b[0m\u001b[0;34m=\u001b[0m\u001b[0;32mNone\u001b[0m\u001b[0;34m)\u001b[0m \u001b[0;34m->\u001b[0m \u001b[0mnp\u001b[0m\u001b[0;34m.\u001b[0m\u001b[0mndarray\u001b[0m\u001b[0;34m:\u001b[0m\u001b[0;34m\u001b[0m\u001b[0;34m\u001b[0m\u001b[0m\n\u001b[0;32m-> 1781\u001b[0;31m         \u001b[0;32mreturn\u001b[0m \u001b[0mnp\u001b[0m\u001b[0;34m.\u001b[0m\u001b[0masarray\u001b[0m\u001b[0;34m(\u001b[0m\u001b[0mself\u001b[0m\u001b[0;34m.\u001b[0m\u001b[0m_values\u001b[0m\u001b[0;34m,\u001b[0m \u001b[0mdtype\u001b[0m\u001b[0;34m=\u001b[0m\u001b[0mdtype\u001b[0m\u001b[0;34m)\u001b[0m\u001b[0;34m\u001b[0m\u001b[0;34m\u001b[0m\u001b[0m\n\u001b[0m\u001b[1;32m   1782\u001b[0m \u001b[0;34m\u001b[0m\u001b[0m\n\u001b[1;32m   1783\u001b[0m     \u001b[0;32mdef\u001b[0m \u001b[0m__array_wrap__\u001b[0m\u001b[0;34m(\u001b[0m\u001b[0mself\u001b[0m\u001b[0;34m,\u001b[0m \u001b[0mresult\u001b[0m\u001b[0;34m,\u001b[0m \u001b[0mcontext\u001b[0m\u001b[0;34m=\u001b[0m\u001b[0;32mNone\u001b[0m\u001b[0;34m)\u001b[0m\u001b[0;34m:\u001b[0m\u001b[0;34m\u001b[0m\u001b[0;34m\u001b[0m\u001b[0m\n",
            "\u001b[0;32m/usr/local/lib/python3.7/dist-packages/numpy/core/_asarray.py\u001b[0m in \u001b[0;36masarray\u001b[0;34m(a, dtype, order)\u001b[0m\n\u001b[1;32m     81\u001b[0m \u001b[0;34m\u001b[0m\u001b[0m\n\u001b[1;32m     82\u001b[0m     \"\"\"\n\u001b[0;32m---> 83\u001b[0;31m     \u001b[0;32mreturn\u001b[0m \u001b[0marray\u001b[0m\u001b[0;34m(\u001b[0m\u001b[0ma\u001b[0m\u001b[0;34m,\u001b[0m \u001b[0mdtype\u001b[0m\u001b[0;34m,\u001b[0m \u001b[0mcopy\u001b[0m\u001b[0;34m=\u001b[0m\u001b[0;32mFalse\u001b[0m\u001b[0;34m,\u001b[0m \u001b[0morder\u001b[0m\u001b[0;34m=\u001b[0m\u001b[0morder\u001b[0m\u001b[0;34m)\u001b[0m\u001b[0;34m\u001b[0m\u001b[0;34m\u001b[0m\u001b[0m\n\u001b[0m\u001b[1;32m     84\u001b[0m \u001b[0;34m\u001b[0m\u001b[0m\n\u001b[1;32m     85\u001b[0m \u001b[0;34m\u001b[0m\u001b[0m\n",
            "\u001b[0;31mValueError\u001b[0m: could not convert string to float: 'Travel_Rarely'"
          ]
        }
      ]
    },
    {
      "cell_type": "code",
      "metadata": {
        "id": "HmlBjoqDjjc7"
      },
      "source": [
        ""
      ],
      "execution_count": null,
      "outputs": []
    },
    {
      "cell_type": "code",
      "metadata": {
        "id": "3Zyvs0hrjkPt"
      },
      "source": [
        ""
      ],
      "execution_count": null,
      "outputs": []
    },
    {
      "cell_type": "markdown",
      "metadata": {
        "id": "u3tazSr3_CWu"
      },
      "source": [
        "# Explotaroty Data Analysis"
      ]
    },
    {
      "cell_type": "markdown",
      "metadata": {
        "id": "Sn2fhB5oY32S"
      },
      "source": [
        ""
      ]
    },
    {
      "cell_type": "markdown",
      "metadata": {
        "id": "1qofA7K5_cnQ"
      },
      "source": [
        "\n",
        "\n",
        "1.found out the shape of the data - how rows and columns do we have\n",
        "2.   List item\n",
        "\n"
      ]
    },
    {
      "cell_type": "code",
      "metadata": {
        "id": "ZODWcQSlou-O",
        "colab": {
          "base_uri": "https://localhost:8080/",
          "height": 835
        },
        "outputId": "7a1380fe-5b6d-4246-f7bd-9d2fb250bca3"
      },
      "source": [
        "hr_attrition_train_df.describe().T\n"
      ],
      "execution_count": null,
      "outputs": [
        {
          "output_type": "execute_result",
          "data": {
            "text/html": [
              "<div>\n",
              "<style scoped>\n",
              "    .dataframe tbody tr th:only-of-type {\n",
              "        vertical-align: middle;\n",
              "    }\n",
              "\n",
              "    .dataframe tbody tr th {\n",
              "        vertical-align: top;\n",
              "    }\n",
              "\n",
              "    .dataframe thead th {\n",
              "        text-align: right;\n",
              "    }\n",
              "</style>\n",
              "<table border=\"1\" class=\"dataframe\">\n",
              "  <thead>\n",
              "    <tr style=\"text-align: right;\">\n",
              "      <th></th>\n",
              "      <th>count</th>\n",
              "      <th>mean</th>\n",
              "      <th>std</th>\n",
              "      <th>min</th>\n",
              "      <th>25%</th>\n",
              "      <th>50%</th>\n",
              "      <th>75%</th>\n",
              "      <th>max</th>\n",
              "    </tr>\n",
              "  </thead>\n",
              "  <tbody>\n",
              "    <tr>\n",
              "      <th>Age</th>\n",
              "      <td>893.0</td>\n",
              "      <td>37.930571</td>\n",
              "      <td>9.395978</td>\n",
              "      <td>18.0</td>\n",
              "      <td>31.00</td>\n",
              "      <td>37.0</td>\n",
              "      <td>44.0</td>\n",
              "      <td>60.0</td>\n",
              "    </tr>\n",
              "    <tr>\n",
              "      <th>DailyRate</th>\n",
              "      <td>1002.0</td>\n",
              "      <td>800.528942</td>\n",
              "      <td>408.109828</td>\n",
              "      <td>102.0</td>\n",
              "      <td>458.25</td>\n",
              "      <td>801.5</td>\n",
              "      <td>1162.0</td>\n",
              "      <td>1496.0</td>\n",
              "    </tr>\n",
              "    <tr>\n",
              "      <th>DistanceFromHome</th>\n",
              "      <td>934.0</td>\n",
              "      <td>9.930407</td>\n",
              "      <td>8.421791</td>\n",
              "      <td>1.0</td>\n",
              "      <td>2.00</td>\n",
              "      <td>8.0</td>\n",
              "      <td>16.0</td>\n",
              "      <td>29.0</td>\n",
              "    </tr>\n",
              "    <tr>\n",
              "      <th>Education</th>\n",
              "      <td>1029.0</td>\n",
              "      <td>2.892128</td>\n",
              "      <td>1.053541</td>\n",
              "      <td>1.0</td>\n",
              "      <td>2.00</td>\n",
              "      <td>3.0</td>\n",
              "      <td>4.0</td>\n",
              "      <td>5.0</td>\n",
              "    </tr>\n",
              "    <tr>\n",
              "      <th>EmployeeCount</th>\n",
              "      <td>1029.0</td>\n",
              "      <td>1.000000</td>\n",
              "      <td>0.000000</td>\n",
              "      <td>1.0</td>\n",
              "      <td>1.00</td>\n",
              "      <td>1.0</td>\n",
              "      <td>1.0</td>\n",
              "      <td>1.0</td>\n",
              "    </tr>\n",
              "    <tr>\n",
              "      <th>EmployeeNumber</th>\n",
              "      <td>1029.0</td>\n",
              "      <td>1024.367347</td>\n",
              "      <td>606.301635</td>\n",
              "      <td>1.0</td>\n",
              "      <td>496.00</td>\n",
              "      <td>1019.0</td>\n",
              "      <td>1553.0</td>\n",
              "      <td>2068.0</td>\n",
              "    </tr>\n",
              "    <tr>\n",
              "      <th>EnvironmentSatisfaction</th>\n",
              "      <td>1029.0</td>\n",
              "      <td>2.683188</td>\n",
              "      <td>1.096829</td>\n",
              "      <td>1.0</td>\n",
              "      <td>2.00</td>\n",
              "      <td>3.0</td>\n",
              "      <td>4.0</td>\n",
              "      <td>4.0</td>\n",
              "    </tr>\n",
              "    <tr>\n",
              "      <th>HourlyRate</th>\n",
              "      <td>1029.0</td>\n",
              "      <td>66.680272</td>\n",
              "      <td>20.474094</td>\n",
              "      <td>30.0</td>\n",
              "      <td>48.00</td>\n",
              "      <td>67.0</td>\n",
              "      <td>84.0</td>\n",
              "      <td>100.0</td>\n",
              "    </tr>\n",
              "    <tr>\n",
              "      <th>JobInvolvement</th>\n",
              "      <td>1029.0</td>\n",
              "      <td>2.713314</td>\n",
              "      <td>0.710146</td>\n",
              "      <td>1.0</td>\n",
              "      <td>2.00</td>\n",
              "      <td>3.0</td>\n",
              "      <td>3.0</td>\n",
              "      <td>4.0</td>\n",
              "    </tr>\n",
              "    <tr>\n",
              "      <th>JobLevel</th>\n",
              "      <td>1029.0</td>\n",
              "      <td>2.043732</td>\n",
              "      <td>1.118918</td>\n",
              "      <td>1.0</td>\n",
              "      <td>1.00</td>\n",
              "      <td>2.0</td>\n",
              "      <td>3.0</td>\n",
              "      <td>5.0</td>\n",
              "    </tr>\n",
              "    <tr>\n",
              "      <th>JobSatisfaction</th>\n",
              "      <td>1029.0</td>\n",
              "      <td>2.712342</td>\n",
              "      <td>1.096889</td>\n",
              "      <td>1.0</td>\n",
              "      <td>2.00</td>\n",
              "      <td>3.0</td>\n",
              "      <td>4.0</td>\n",
              "      <td>4.0</td>\n",
              "    </tr>\n",
              "    <tr>\n",
              "      <th>MonthlyIncome</th>\n",
              "      <td>1029.0</td>\n",
              "      <td>6449.796890</td>\n",
              "      <td>4794.525367</td>\n",
              "      <td>1009.0</td>\n",
              "      <td>2814.00</td>\n",
              "      <td>4735.0</td>\n",
              "      <td>8446.0</td>\n",
              "      <td>19999.0</td>\n",
              "    </tr>\n",
              "    <tr>\n",
              "      <th>MonthlyRate</th>\n",
              "      <td>1029.0</td>\n",
              "      <td>14250.629738</td>\n",
              "      <td>7088.757938</td>\n",
              "      <td>2094.0</td>\n",
              "      <td>7950.00</td>\n",
              "      <td>14295.0</td>\n",
              "      <td>20392.0</td>\n",
              "      <td>26999.0</td>\n",
              "    </tr>\n",
              "    <tr>\n",
              "      <th>NumCompaniesWorked</th>\n",
              "      <td>1029.0</td>\n",
              "      <td>2.653061</td>\n",
              "      <td>2.508186</td>\n",
              "      <td>0.0</td>\n",
              "      <td>1.00</td>\n",
              "      <td>1.0</td>\n",
              "      <td>4.0</td>\n",
              "      <td>9.0</td>\n",
              "    </tr>\n",
              "    <tr>\n",
              "      <th>PercentSalaryHike</th>\n",
              "      <td>1029.0</td>\n",
              "      <td>15.260447</td>\n",
              "      <td>3.665779</td>\n",
              "      <td>11.0</td>\n",
              "      <td>12.00</td>\n",
              "      <td>14.0</td>\n",
              "      <td>18.0</td>\n",
              "      <td>25.0</td>\n",
              "    </tr>\n",
              "    <tr>\n",
              "      <th>PerformanceRating</th>\n",
              "      <td>1029.0</td>\n",
              "      <td>3.159378</td>\n",
              "      <td>0.366206</td>\n",
              "      <td>3.0</td>\n",
              "      <td>3.00</td>\n",
              "      <td>3.0</td>\n",
              "      <td>3.0</td>\n",
              "      <td>4.0</td>\n",
              "    </tr>\n",
              "    <tr>\n",
              "      <th>RelationshipSatisfaction</th>\n",
              "      <td>1029.0</td>\n",
              "      <td>2.689990</td>\n",
              "      <td>1.077767</td>\n",
              "      <td>1.0</td>\n",
              "      <td>2.00</td>\n",
              "      <td>3.0</td>\n",
              "      <td>4.0</td>\n",
              "      <td>4.0</td>\n",
              "    </tr>\n",
              "    <tr>\n",
              "      <th>StandardHours</th>\n",
              "      <td>1029.0</td>\n",
              "      <td>80.000000</td>\n",
              "      <td>0.000000</td>\n",
              "      <td>80.0</td>\n",
              "      <td>80.00</td>\n",
              "      <td>80.0</td>\n",
              "      <td>80.0</td>\n",
              "      <td>80.0</td>\n",
              "    </tr>\n",
              "    <tr>\n",
              "      <th>StockOptionLevel</th>\n",
              "      <td>1029.0</td>\n",
              "      <td>0.822157</td>\n",
              "      <td>0.874662</td>\n",
              "      <td>0.0</td>\n",
              "      <td>0.00</td>\n",
              "      <td>1.0</td>\n",
              "      <td>1.0</td>\n",
              "      <td>3.0</td>\n",
              "    </tr>\n",
              "    <tr>\n",
              "      <th>TotalWorkingYears</th>\n",
              "      <td>1029.0</td>\n",
              "      <td>11.196307</td>\n",
              "      <td>7.857581</td>\n",
              "      <td>0.0</td>\n",
              "      <td>6.00</td>\n",
              "      <td>10.0</td>\n",
              "      <td>15.0</td>\n",
              "      <td>40.0</td>\n",
              "    </tr>\n",
              "    <tr>\n",
              "      <th>TrainingTimesLastYear</th>\n",
              "      <td>1029.0</td>\n",
              "      <td>2.782313</td>\n",
              "      <td>1.283401</td>\n",
              "      <td>0.0</td>\n",
              "      <td>2.00</td>\n",
              "      <td>3.0</td>\n",
              "      <td>3.0</td>\n",
              "      <td>6.0</td>\n",
              "    </tr>\n",
              "    <tr>\n",
              "      <th>WorkLifeBalance</th>\n",
              "      <td>1029.0</td>\n",
              "      <td>2.748299</td>\n",
              "      <td>0.697278</td>\n",
              "      <td>1.0</td>\n",
              "      <td>2.00</td>\n",
              "      <td>3.0</td>\n",
              "      <td>3.0</td>\n",
              "      <td>4.0</td>\n",
              "    </tr>\n",
              "    <tr>\n",
              "      <th>YearsAtCompany</th>\n",
              "      <td>1029.0</td>\n",
              "      <td>6.942663</td>\n",
              "      <td>6.068322</td>\n",
              "      <td>0.0</td>\n",
              "      <td>3.00</td>\n",
              "      <td>5.0</td>\n",
              "      <td>10.0</td>\n",
              "      <td>37.0</td>\n",
              "    </tr>\n",
              "    <tr>\n",
              "      <th>YearsInCurrentRole</th>\n",
              "      <td>1029.0</td>\n",
              "      <td>4.215743</td>\n",
              "      <td>3.658595</td>\n",
              "      <td>0.0</td>\n",
              "      <td>2.00</td>\n",
              "      <td>3.0</td>\n",
              "      <td>7.0</td>\n",
              "      <td>18.0</td>\n",
              "    </tr>\n",
              "    <tr>\n",
              "      <th>YearsSinceLastPromotion</th>\n",
              "      <td>1029.0</td>\n",
              "      <td>2.119534</td>\n",
              "      <td>3.108651</td>\n",
              "      <td>0.0</td>\n",
              "      <td>0.00</td>\n",
              "      <td>1.0</td>\n",
              "      <td>2.0</td>\n",
              "      <td>15.0</td>\n",
              "    </tr>\n",
              "    <tr>\n",
              "      <th>YearsWithCurrManager</th>\n",
              "      <td>1029.0</td>\n",
              "      <td>4.005831</td>\n",
              "      <td>3.522574</td>\n",
              "      <td>0.0</td>\n",
              "      <td>2.00</td>\n",
              "      <td>3.0</td>\n",
              "      <td>7.0</td>\n",
              "      <td>17.0</td>\n",
              "    </tr>\n",
              "  </tbody>\n",
              "</table>\n",
              "</div>"
            ],
            "text/plain": [
              "                           count          mean  ...      75%      max\n",
              "Age                        893.0     37.930571  ...     44.0     60.0\n",
              "DailyRate                 1002.0    800.528942  ...   1162.0   1496.0\n",
              "DistanceFromHome           934.0      9.930407  ...     16.0     29.0\n",
              "Education                 1029.0      2.892128  ...      4.0      5.0\n",
              "EmployeeCount             1029.0      1.000000  ...      1.0      1.0\n",
              "EmployeeNumber            1029.0   1024.367347  ...   1553.0   2068.0\n",
              "EnvironmentSatisfaction   1029.0      2.683188  ...      4.0      4.0\n",
              "HourlyRate                1029.0     66.680272  ...     84.0    100.0\n",
              "JobInvolvement            1029.0      2.713314  ...      3.0      4.0\n",
              "JobLevel                  1029.0      2.043732  ...      3.0      5.0\n",
              "JobSatisfaction           1029.0      2.712342  ...      4.0      4.0\n",
              "MonthlyIncome             1029.0   6449.796890  ...   8446.0  19999.0\n",
              "MonthlyRate               1029.0  14250.629738  ...  20392.0  26999.0\n",
              "NumCompaniesWorked        1029.0      2.653061  ...      4.0      9.0\n",
              "PercentSalaryHike         1029.0     15.260447  ...     18.0     25.0\n",
              "PerformanceRating         1029.0      3.159378  ...      3.0      4.0\n",
              "RelationshipSatisfaction  1029.0      2.689990  ...      4.0      4.0\n",
              "StandardHours             1029.0     80.000000  ...     80.0     80.0\n",
              "StockOptionLevel          1029.0      0.822157  ...      1.0      3.0\n",
              "TotalWorkingYears         1029.0     11.196307  ...     15.0     40.0\n",
              "TrainingTimesLastYear     1029.0      2.782313  ...      3.0      6.0\n",
              "WorkLifeBalance           1029.0      2.748299  ...      3.0      4.0\n",
              "YearsAtCompany            1029.0      6.942663  ...     10.0     37.0\n",
              "YearsInCurrentRole        1029.0      4.215743  ...      7.0     18.0\n",
              "YearsSinceLastPromotion   1029.0      2.119534  ...      2.0     15.0\n",
              "YearsWithCurrManager      1029.0      4.005831  ...      7.0     17.0\n",
              "\n",
              "[26 rows x 8 columns]"
            ]
          },
          "metadata": {
            "tags": []
          },
          "execution_count": 45
        }
      ]
    },
    {
      "cell_type": "code",
      "metadata": {
        "id": "eTTSC4FR4PG8"
      },
      "source": [
        "#@title Default title text\n",
        "#Handling Missing Value\n",
        "#Check for missing value in any column\n",
        "hr_attrition_train_df.isnull().sum()"
      ],
      "execution_count": null,
      "outputs": []
    },
    {
      "cell_type": "code",
      "metadata": {
        "id": "XBmqmeELmj4A"
      },
      "source": [
        "#Let’s take a more detailed look at what data is actually missing:\n",
        "total = hr_attrition_train_df.isnull().sum().sort_values(ascending=False)\n",
        "percent_1 = hr_attrition_train_df.isnull().sum()/hr_attrition_train_df.isnull().count()*100\n",
        "percent_2 = (round(percent_1, 1)).sort_values(ascending=False)\n",
        "missing_data = pd.concat([total, percent_2], axis=1, keys=['Total', '%'])\n",
        "missing_data.head(5)\n"
      ],
      "execution_count": null,
      "outputs": []
    },
    {
      "cell_type": "code",
      "metadata": {
        "id": "TweJbviIakKf"
      },
      "source": [
        "df5_train_data['MaritalStatus']=df5_train_data['MaritalStatus'].astype('category')\n",
        "#print datatypes - marital status changes to category\n",
        "df5_train_data.dtypes\n",
        "df5_train_data['MaritalStatus']=df5_train_data['MaritalStatus'].cat.codes\n",
        "df5_train_data.head(10)"
      ],
      "execution_count": null,
      "outputs": []
    },
    {
      "cell_type": "markdown",
      "metadata": {
        "id": "PxzTW3eZghM4"
      },
      "source": [
        "label encoding Gender feature using – scikit-learn library approach\n"
      ]
    },
    {
      "cell_type": "code",
      "metadata": {
        "id": "Fow-Y9UhgzxY"
      },
      "source": [
        "from sklearn import preprocessing \n",
        "label = preprocessing.LabelEncoder() \n",
        " \n",
        "df5_train_data['Gender']= label.fit_transform(df5_train_data['Gender']) \n",
        "print(df5_train_data['Gender'].unique())\n",
        "df5_train_data"
      ],
      "execution_count": null,
      "outputs": []
    },
    {
      "cell_type": "code",
      "metadata": {
        "id": "kxqIdR-SIYVm"
      },
      "source": [
        "from sklearn import preprocessing \n",
        "label = preprocessing.LabelEncoder() \n",
        " \n",
        "df5_test_data['Gender']= label.fit_transform(df5_test_data['Gender']) \n",
        "print(df5_test_data['Gender'].unique())\n",
        "df5_test_data"
      ],
      "execution_count": null,
      "outputs": []
    },
    {
      "cell_type": "code",
      "metadata": {
        "id": "yE0kjFtZxKmK"
      },
      "source": [
        "#subset the orignal dataset\n",
        "#its safer to work on copies than original dataframes unless you won't be needing the original df\n",
        "df3=hr_attrition_train_df.copy()\n",
        "df3.head(10)"
      ],
      "execution_count": null,
      "outputs": []
    },
    {
      "cell_type": "code",
      "metadata": {
        "id": "aGIyuFKvyRNw"
      },
      "source": [
        "df3.isnull().sum()"
      ],
      "execution_count": null,
      "outputs": []
    },
    {
      "cell_type": "code",
      "metadata": {
        "id": "iRjToDIzzBsy"
      },
      "source": [
        "data = [hr_attrition_train_df, hr_attrition_test_df]\n",
        "\n",
        "for dataset in data:\n",
        "    mean = hr_attrition_train_df[\"Age\"].mean()\n",
        "    std = hr_attrition_test_df[\"Age\"].std()\n",
        "    is_null = dataset[\"Age\"].isnull().sum()\n",
        "    \n",
        "    # compute random numbers between the mean, std and is_null\n",
        "    rand_age = np.random.randint(mean - std, mean + std, size = is_null)\n",
        "\n",
        "    # fill NaN values in Age column with random values generated\n",
        "    age_slice = dataset[\"Age\"].copy()\n",
        "    age_slice[np.isnan(age_slice)] = rand_age\n",
        "    dataset[\"Age\"] = age_slice\n",
        "    dataset[\"Age\"] = hr_attrition_train_df[\"Age\"].astype(int)\n",
        "hr_attrition_train_df[\"Age\"].isnull().sum()\n",
        "hr_attrition_test_df[\"Age\"].isnull().sum()\n"
      ],
      "execution_count": null,
      "outputs": []
    },
    {
      "cell_type": "code",
      "metadata": {
        "id": "_fyxbtdHqof8"
      },
      "source": [
        "#print all the data types and thier unique values\n",
        "for column in hr_attrition_train_df.columns:\n",
        "  if hr_attrition_train_df[column].dtype==object:\n",
        "    print(str(column)+':'+str(hr_attrition_train_df[column].unique()))\n",
        "    print(hr_attrition_train_df[column].value_counts())\n",
        "    print('+++++++++++++++++++++++++++++++++++++++++++++++++++++++++++')"
      ],
      "execution_count": null,
      "outputs": []
    },
    {
      "cell_type": "code",
      "metadata": {
        "id": "4BejJcH9dv37"
      },
      "source": [
        "import missingno as msno\n",
        "msno.bar(hr_attrition_train_df)\n"
      ],
      "execution_count": null,
      "outputs": []
    },
    {
      "cell_type": "code",
      "metadata": {
        "id": "FjxcRhWmXQ0o"
      },
      "source": [
        "hr_attrition_train_df\n"
      ],
      "execution_count": null,
      "outputs": []
    },
    {
      "cell_type": "markdown",
      "metadata": {
        "id": "aPwuCzRVe6h7"
      },
      "source": [
        "***Training set has 1029 examples and 34 features + te target variable (attrition) 3 of the features are floats, 23 are integer and 9 are objects***"
      ]
    },
    {
      "cell_type": "markdown",
      "metadata": {
        "id": "z2NvKPRVnsMU"
      },
      "source": [
        "The **BusinessTravel** and **MaritalStatus** has 5 features missing values, which can easily be filled. It will be much more tricky, to deal with the **‘Age’** feature, which has 136 missing values. The **DistanceFromHome** feature needs further investigation it is missing 95, and **DailyRate** feature is missing 27.\n"
      ]
    },
    {
      "cell_type": "markdown",
      "metadata": {
        "id": "3oonVYnXgP0A"
      },
      "source": [
        "Describing data"
      ]
    },
    {
      "cell_type": "code",
      "metadata": {
        "id": "ycmHmYXRdezQ"
      },
      "source": [
        "hr_attrition_train_df.describe()\n"
      ],
      "execution_count": null,
      "outputs": []
    },
    {
      "cell_type": "code",
      "metadata": {
        "id": "5Gm67gMWXMRa"
      },
      "source": [
        "#display both categorical and numerical columns\n",
        "Categorical_columns=['Attrition','BusinessTravel','Department','EducationField','Gender','JobRole','MaritalStatus','Over18','OverTime']\n",
        "Numerical_columns=['Age','DailyRate','DistanceFromHome','Education','EmployeeCount','EnvironmentSatisfaction','HourlyRate','JobInvolvement','JobLevel','JobSatisfaction','MonthlyIncome','MonthlyRate','NumCompaniesWorked','PercentSalaryHike','PerformanceRating','RelationshipSatisfaction','StandardHours','StockOptionLevel','TotalWorkingYears','TotalWorkingYears','TrainingTimesLastYear','WorkLifeBalance','YearsAtCompany','YearsInCurrentRole','YearsSinceLastPromotion','YearsWithCurrManager']\n",
        "print('Categorical_columns  +++++',Categorical_columns)\n",
        "print('Numerical_columns +++++++++',Numerical_columns)\n",
        "#hr_attrition_train_df.columns.to_list()\n"
      ],
      "execution_count": null,
      "outputs": []
    },
    {
      "cell_type": "markdown",
      "metadata": {
        "id": "7lBh1ScaCg05"
      },
      "source": [
        "*We* can calculate categorical means for other categorical variables such as EducationField and marital status to get a more detailed sense of our data.\n"
      ]
    },
    {
      "cell_type": "code",
      "metadata": {
        "id": "MPGaHToBA06N"
      },
      "source": [
        "hr_attrition_train_df.groupby('EducationField').mean()"
      ],
      "execution_count": null,
      "outputs": []
    },
    {
      "cell_type": "code",
      "metadata": {
        "id": "-iuzlyvzC5FH"
      },
      "source": [
        "hr_attrition_train_df.groupby('Attrition').mean()"
      ],
      "execution_count": null,
      "outputs": []
    },
    {
      "cell_type": "code",
      "metadata": {
        "id": "RCo3E6N7EFcO"
      },
      "source": [
        "hr_attrition_train_df.groupby('MaritalStatus').mean()"
      ],
      "execution_count": null,
      "outputs": []
    },
    {
      "cell_type": "code",
      "metadata": {
        "id": "a_jZPUarE4Z1"
      },
      "source": [
        "hr_attrition_train_df.groupby('BusinessTravel').mean()"
      ],
      "execution_count": null,
      "outputs": []
    },
    {
      "cell_type": "code",
      "metadata": {
        "id": "jDztzLNXEjjk"
      },
      "source": [
        "hr_attrition_train_df.groupby('Department').mean()"
      ],
      "execution_count": null,
      "outputs": []
    },
    {
      "cell_type": "code",
      "metadata": {
        "id": "aURuYBR1EzIQ"
      },
      "source": [
        "hr_attrition_train_df.groupby('OverTime').mean()"
      ],
      "execution_count": null,
      "outputs": []
    },
    {
      "cell_type": "code",
      "metadata": {
        "id": "pn9cbCMDEnat"
      },
      "source": [
        "hr_attrition_train_df.groupby('JobRole').mean()"
      ],
      "execution_count": null,
      "outputs": []
    },
    {
      "cell_type": "code",
      "metadata": {
        "id": "kCWX2PVAErbm"
      },
      "source": [
        "hr_attrition_train_df.groupby('Over18').mean()"
      ],
      "execution_count": null,
      "outputs": []
    },
    {
      "cell_type": "code",
      "metadata": {
        "id": "ztJGpSo7Eu8P"
      },
      "source": [
        "hr_attrition_train_df.groupby('Gender').mean()"
      ],
      "execution_count": null,
      "outputs": []
    },
    {
      "cell_type": "markdown",
      "metadata": {
        "id": "qLW6ntbnqF6D"
      },
      "source": [
        "# VISUALIZE DATA"
      ]
    },
    {
      "cell_type": "code",
      "metadata": {
        "id": "N5USoHugetIA"
      },
      "source": [
        "#visualize the data for you to get the first impression of the data\n"
      ],
      "execution_count": null,
      "outputs": []
    },
    {
      "cell_type": "code",
      "metadata": {
        "id": "Yk8jvyTIrG77"
      },
      "source": [
        "sns.set(font_scale=1.4)\n",
        "hr_attrition_train_df['Age'].plot(kind='hist', figsize=(10, 10));\n",
        "plt.xlabel(\"Attrition by Age\", labelpad=14)\n",
        "plt.ylabel(\"Frequency\", labelpad=14)\n",
        "plt.title(\"Distribution of Attrition by age\", y=1.015, fontsize=22);\n"
      ],
      "execution_count": null,
      "outputs": []
    },
    {
      "cell_type": "code",
      "metadata": {
        "id": "vHp8TelI9cua"
      },
      "source": [
        "#fig,axes = plt.subplots(2,2,figsize=(20,20))\n",
        "#for idx,cat_col in enumerate(Categorical_columns):\n",
        " #   row,col = idx//2,idx%2\n",
        "  #  sns.countplot(x=cat_col,data=hr_attrition_train_df,hue='Attrition',ax=axes[row,col])\n",
        "\n",
        "#plt.subplots_adjust(hspace=1)"
      ],
      "execution_count": null,
      "outputs": []
    },
    {
      "cell_type": "code",
      "metadata": {
        "id": "iAbmNIe4iswd"
      },
      "source": [
        "fig,ax = plt.subplots(2,3, figsize=(20,20))               # 'ax' has references to all the four axes\n",
        "plt.suptitle(\"Distribution of various factors\", fontsize=20)\n",
        "sns.countplot(df3['Attrition'], ax = ax[0,0]) \n",
        "sns.countplot(df3['BusinessTravel'], ax = ax[0,1]) \n",
        "sns.countplot(df3['Department'], ax = ax[0,2]) \n",
        "sns.countplot(df3['EducationField'], ax = ax[1,0])\n",
        "sns.countplot(df3['Gender'], ax = ax[1,1])  \n",
        "sns.countplot(df3['OverTime'], ax = ax[1,2]) \n",
        "plt.xticks(rotation=20)\n",
        "plt.subplots_adjust(bottom=0.4)\n",
        "plt.show()"
      ],
      "execution_count": null,
      "outputs": []
    },
    {
      "cell_type": "code",
      "metadata": {
        "id": "Xi2krKvnX_FX"
      },
      "source": [
        "#Data Visualization\n",
        "Gender,MonthlyIncome,Attrition feature\n",
        "\n",
        "#draw a bar plot of survival by sex\n",
        "sns.barplot(x=\"Gender\", y=\"MonthlyIncome\", hue=\"Attrition\",data=hr_attrition_train_df)\n",
        "\n"
      ],
      "execution_count": null,
      "outputs": []
    },
    {
      "cell_type": "code",
      "metadata": {
        "id": "8AclXeKx4sGB"
      },
      "source": [
        ""
      ],
      "execution_count": null,
      "outputs": []
    },
    {
      "cell_type": "markdown",
      "metadata": {
        "id": "3DJQRP3GJ8Y5"
      },
      "source": [
        "'''Plots above convey following things about the dataset:\n",
        "Attrition status: About employees who leave through attrition.\n",
        "Sex: There are more Men than Women who are employed,at the same time more men than women leave through attrition(approx.)\n",
        "Martial Status: Single people are more likely to be leave employement through attrition. More married people who are employed probably it's because they have a lot of responsibities.\n",
        "Over18: Majority of the population over18 are employed are also likely to stay on the job.)'''"
      ]
    },
    {
      "cell_type": "code",
      "metadata": {
        "id": "djN7tDWr4y6t"
      },
      "source": [
        "#draw a bar plot of hourlyrate \n",
        "ax = sns.heatmap(hr_attrition_train_df.corr(), cmap=\"coolwarm\" annot=True, fmt=\"d\")\n",
        "\n",
        "flights = hr_attrition_train_df.pivot(\"HourlyRate\", \"Education\", \"MonthyIncome\")\n",
        "ax = sns.heatmap(flights)\n",
        "plt.title(\"Heatmap attrition Data\")\n",
        "plt.show()\n"
      ],
      "execution_count": null,
      "outputs": []
    },
    {
      "cell_type": "code",
      "metadata": {
        "id": "gqhriK4AiNyb"
      },
      "source": [
        "plt.figure(figsize=(12,6))\n",
        "sns.boxplot('MonthlyIncome', 'Attrition', data=hr_attrition_train_df, width=0.3, palette=\"Set2\")\n",
        "plt.xticks(rotation=45)\n",
        "hr_attrition_train_df['MonthlyIncome'].value_counts()\n"
      ],
      "execution_count": null,
      "outputs": []
    },
    {
      "cell_type": "code",
      "metadata": {
        "id": "vQRSpXphjpFq"
      },
      "source": [
        "plt.figure(figsize=(12,6))\n",
        "sns.boxplot('MonthlyIncome', 'JobRole', data=hr_attrition_train_df, width=0.3, palette=\"Set2\")\n",
        "plt.xticks(rotation=45)\n",
        "hr_attrition_train_df['MonthlyIncome'].value_counts()\n"
      ],
      "execution_count": null,
      "outputs": []
    },
    {
      "cell_type": "code",
      "metadata": {
        "id": "vNC92gBtlVHZ"
      },
      "source": [
        "import matplotlib.image as mpimg\n",
        "JG1 = sns.jointplot('Education', 'MonthlyIncome', data=hr_attrition_train_df, kind='scatter', color='g')\n",
        "JG2 = sns.jointplot('JobLevel', 'MonthlyIncome', data=hr_attrition_train_df, kind='hex', color='b')\n",
        "JG3 = sns.jointplot('HourlyRate', 'MonthlyIncome', data=hr_attrition_train_df, kind='scatter', color='r')\n",
        "JG4 = sns.jointplot('JobSatisfaction', 'MonthlyIncome', data=hr_attrition_train_df, kind='hex', color='orange')\n",
        "JG1.savefig('JG1.png')\n",
        "plt.close(JG1.fig)\n",
        "JG2.savefig('JG2.png')\n",
        "plt.close(JG2.fig)\n",
        "JG3.savefig('JG3.png')\n",
        "plt.close(JG3.fig)\n",
        "JG4.savefig('JG4.png')\n",
        "plt.close(JG4.fig)\n",
        "f, ax = plt.subplots(2,2,figsize=(20,16))\n",
        "ax[0,0].imshow(mpimg.imread('JG1.png'))\n",
        "ax[0,1].imshow(mpimg.imread('JG2.png'))\n",
        "ax[1,0].imshow(mpimg.imread('JG3.png'))\n",
        "ax[1,1].imshow(mpimg.imread('JG4.png'))\n",
        "[ax.set_axis_off() for ax in ax.ravel()]\n",
        "plt.tight_layout()\n"
      ],
      "execution_count": null,
      "outputs": []
    },
    {
      "cell_type": "code",
      "metadata": {
        "id": "Idv8f2M2rkKQ"
      },
      "source": [
        ""
      ],
      "execution_count": null,
      "outputs": []
    },
    {
      "cell_type": "code",
      "metadata": {
        "id": "VdDUZwYY3DZe"
      },
      "source": [
        "hr_attrition_train_df.boxplot(by ='Attrition', column =['DailyRate'], grid = False)\n"
      ],
      "execution_count": null,
      "outputs": []
    },
    {
      "cell_type": "code",
      "metadata": {
        "id": "TN0Mhocl3A1X"
      },
      "source": [
        "\n",
        "Education = hr_attrition_train_df['Education']\n",
        "MonthlyIncome = hr_attrition_train_df['MonthlyIncome']\n",
        "YearsAtCompany = hr_attrition_train_df['YearsAtCompany']\n",
        "PerformanceRating = hr_attrition_train_df['PerformanceRating']\n",
        "Age = hr_attrition_train_df['Age']\n",
        "columns = [Education, MonthlyIncome,YearsAtCompany,PerformanceRating,Age]\n",
        "fig, ax = plt.subplots(figsize=(10, 5))\n",
        "ax.boxplot(columns)\n",
        "plt.show()"
      ],
      "execution_count": null,
      "outputs": []
    },
    {
      "cell_type": "code",
      "metadata": {
        "id": "GQuCHehX1u7H"
      },
      "source": [
        "# See the distribution of gender to recognize different distributions\n",
        "plt.subplots(figsize=(20,4))\n",
        "sns.countplot(x='Age', data=hr_attrition_train_df);\n",
        "plt.title('Distribution of Age');\n"
      ],
      "execution_count": null,
      "outputs": []
    },
    {
      "cell_type": "markdown",
      "metadata": {
        "id": "eyc_2lCI-KtY"
      },
      "source": [
        "#What Features Are Linked To Employee Attrition?\n"
      ]
    },
    {
      "cell_type": "code",
      "metadata": {
        "id": "h2Zv649GJ-ZJ"
      },
      "source": [
        "plt.subplots(figsize=(20,4))\n",
        "sns.barplot(data=hr_attrition_train_df, x=\"Age\", y=\"HourlyRate\")\n"
      ],
      "execution_count": null,
      "outputs": []
    },
    {
      "cell_type": "code",
      "metadata": {
        "id": "UzFG-EKwNE2u"
      },
      "source": [
        "hr_attrition_train_df['Attrition'].value_counts()"
      ],
      "execution_count": null,
      "outputs": []
    },
    {
      "cell_type": "code",
      "metadata": {
        "id": "ywTl18LhNPJz"
      },
      "source": [
        "#visualize number of number of employees who have left the company\n",
        "plt.subplots(figsize=(18,4))\n",
        "sns.countplot(x=\"Age\", hue=\"Attrition\",data=hr_attrition_train_df,palette='colorblind')\n"
      ],
      "execution_count": null,
      "outputs": []
    },
    {
      "cell_type": "code",
      "metadata": {
        "id": "_2RrdnZuSl-7"
      },
      "source": [
        "#visualizing categorical variables\n",
        "hr_attrition_train_df['Attrition'].value_counts().plot.bar()"
      ],
      "execution_count": null,
      "outputs": []
    },
    {
      "cell_type": "markdown",
      "metadata": {
        "id": "YyAN4ddXQP18"
      },
      "source": [
        "\n",
        "*We access the Age column, call the plot method and pass in hist to the kind argument to output a histogram plot.*\n"
      ]
    },
    {
      "cell_type": "code",
      "metadata": {
        "id": "8ZVPG9zeSnCR"
      },
      "source": [
        "# boxplot\n",
        "plt.title('Employee Attrition')\n",
        "plt.violinplot(hr_attrition_train_df['MonthlyIncome'])\n",
        "plt.show()"
      ],
      "execution_count": null,
      "outputs": []
    },
    {
      "cell_type": "markdown",
      "metadata": {
        "id": "5qD6z2J3ZHuS"
      },
      "source": [
        "shows the distribution of quantitative data across several levels of one (or more) categorical variables such that those distributions can be compared"
      ]
    },
    {
      "cell_type": "code",
      "metadata": {
        "id": "j2MUb62RZrZ8"
      },
      "source": [
        "sns.countplot(hr_attrition_train_df['Attrition'])"
      ],
      "execution_count": null,
      "outputs": []
    },
    {
      "cell_type": "code",
      "metadata": {
        "id": "rb76e2OClVSW"
      },
      "source": [
        ""
      ],
      "execution_count": null,
      "outputs": []
    },
    {
      "cell_type": "markdown",
      "metadata": {
        "id": "F1dZ3iFdaJiy"
      },
      "source": [
        "Since the Attrition is not equally distributed, we obtain bars with unequal heights. The numbers of employees leaving is lower than the ones who remain.\n",
        "\n"
      ]
    },
    {
      "cell_type": "markdown",
      "metadata": {
        "id": "JkD5FusWrnnF"
      },
      "source": [
        "# Predictive Modeling\n"
      ]
    },
    {
      "cell_type": "code",
      "metadata": {
        "id": "4BJUbY-3RLkf"
      },
      "source": [
        ""
      ],
      "execution_count": 50,
      "outputs": []
    },
    {
      "cell_type": "code",
      "metadata": {
        "id": "2f-gWlYOYabn"
      },
      "source": [
        "df5_test_data"
      ],
      "execution_count": null,
      "outputs": []
    },
    {
      "cell_type": "code",
      "metadata": {
        "id": "Ncm0dzvnY9gv"
      },
      "source": [
        "df500_test_data=test_data.copy()\n",
        "df500_test_data\n",
        "\n"
      ],
      "execution_count": null,
      "outputs": []
    },
    {
      "cell_type": "code",
      "metadata": {
        "id": "hysiMXgtZhwB"
      },
      "source": [
        "df500_train_data=train_data.copy()\n",
        "\n",
        "df500_train_data"
      ],
      "execution_count": null,
      "outputs": []
    },
    {
      "cell_type": "code",
      "metadata": {
        "id": "70WtauAJB4sY"
      },
      "source": [
        "\n",
        "from sklearn.preprocessing import LabelEncoder\n",
        "number=LabelEncoder()\n",
        "df500_train_data['Gender']=number.fit_transform(df500_train_data['Gender'].astype('str')) \n",
        "df500_test_data['Gender']=number.fit_transform(df500_test_data['Gender'].astype('str')) \n",
        "df500_test_data\n",
        "\n",
        "\n"
      ],
      "execution_count": null,
      "outputs": []
    },
    {
      "cell_type": "code",
      "metadata": {
        "id": "H07HVDDqaQpp"
      },
      "source": [
        "from sklearn.preprocessing import LabelEncoder\n",
        "number=LabelEncoder()\n",
        "df500_train_data['EducationField']=number.fit_transform(df500_train_data['EducationField'].astype('str')) \n",
        "df500_test_data['EducationField']=number.fit_transform(df500_test_data['EducationField'].astype('str')) \n",
        "df500_test_data\n"
      ],
      "execution_count": null,
      "outputs": []
    },
    {
      "cell_type": "code",
      "metadata": {
        "id": "pKspYinKaRTH"
      },
      "source": [
        "from sklearn.preprocessing import LabelEncoder\n",
        "number=LabelEncoder()\n",
        "df500_train_data['Department']=number.fit_transform(df500_train_data['Department'].astype('str')) \n",
        "df500_test_data['Department']=number.fit_transform(df500_test_data['Department'].astype('str')) \n",
        "df500_test_data\n"
      ],
      "execution_count": null,
      "outputs": []
    },
    {
      "cell_type": "code",
      "metadata": {
        "id": "Y8_4BUfWaR3k"
      },
      "source": [
        "from sklearn.preprocessing import LabelEncoder\n",
        "number=LabelEncoder()\n",
        "df500_train_data['BusinessTravel']=number.fit_transform(df500_train_data['BusinessTravel'].astype('str')) \n",
        "df500_test_data['BusinessTravel']=number.fit_transform(df500_test_data['BusinessTravel'].astype('str')) \n",
        "df500_test_data\n"
      ],
      "execution_count": null,
      "outputs": []
    },
    {
      "cell_type": "code",
      "metadata": {
        "id": "kWqoV9PqaSXK"
      },
      "source": [
        "from sklearn.preprocessing import LabelEncoder\n",
        "number=LabelEncoder()\n",
        "df500_train_data['JobRole']=number.fit_transform(df500_train_data['JobRole'].astype('str')) \n",
        "df500_test_data['JobRole']=number.fit_transform(df500_test_data['JobRole'].astype('str')) \n",
        "df500_test_data\n"
      ],
      "execution_count": null,
      "outputs": []
    },
    {
      "cell_type": "code",
      "metadata": {
        "id": "ZpRZ4_IzaTTS"
      },
      "source": [
        "from sklearn.preprocessing import LabelEncoder\n",
        "number=LabelEncoder()\n",
        "df500_train_data['OverTime']=number.fit_transform(df500_train_data['OverTime'].astype('str')) \n",
        "df500_test_data['OverTime']=number.fit_transform(df500_test_data['OverTime'].astype('str')) \n",
        "df500_test_data\n"
      ],
      "execution_count": null,
      "outputs": []
    },
    {
      "cell_type": "code",
      "metadata": {
        "id": "6AfahZknaTzB"
      },
      "source": [
        "from sklearn.preprocessing import LabelEncoder\n",
        "number=LabelEncoder()\n",
        "df500_train_data['Over18']=number.fit_transform(df500_train_data['Over18'].astype('str')) \n",
        "df500_test_data['Over18']=number.fit_transform(df500_test_data['Over18'].astype('str')) \n",
        "df500_test_data\n"
      ],
      "execution_count": null,
      "outputs": []
    },
    {
      "cell_type": "code",
      "metadata": {
        "id": "PY8FLzUzaUSH"
      },
      "source": [
        "from sklearn.preprocessing import LabelEncoder\n",
        "number=LabelEncoder()\n",
        "df500_train_data['MaritalStatus']=number.fit_transform(df500_train_data['MaritalStatus'].astype('str')) \n",
        "df500_test_data['MaritalStatus']=number.fit_transform(df500_test_data['MaritalStatus'].astype('str')) \n",
        "df500_test_data\n"
      ],
      "execution_count": null,
      "outputs": []
    },
    {
      "cell_type": "code",
      "metadata": {
        "colab": {
          "base_uri": "https://localhost:8080/"
        },
        "id": "hIYhVUFmaUwn",
        "outputId": "fefd8d74-cccb-4159-e6c6-cca49851d8bb"
      },
      "source": [
        "#impute missing data\n",
        "#imputation with median\n",
        "missing_rate = ['MaritalStatus']\n",
        " \n",
        "#Technique 2: Using median to impute the missing values\n",
        "for i in missing_rate:\n",
        " df500_test_data.loc[df500_test_data.loc[:,i].isnull(),i]=df500_test_data.loc[:,i].median()\n",
        " \n",
        "print(\"count of NULL values after imputation\\n\")\n",
        "df500_test_data.isnull().sum()\n",
        "\n",
        "#imputation with median\n",
        "missing_rate = ['MaritalStatus']\n",
        " \n",
        "#Technique 2: Using median to impute the missing values\n",
        "for i in missing_rate:\n",
        " df500_train_data.loc[df500_train_data.loc[:,i].isnull(),i]=df500_train_data.loc[:,i].median()\n",
        " \n",
        "print(\"count of NULL values after imputation\\n\")\n",
        "df500_train_data.isnull().sum()\n",
        "\n"
      ],
      "execution_count": 46,
      "outputs": [
        {
          "output_type": "stream",
          "text": [
            "count of NULL values after imputation\n",
            "\n",
            "count of NULL values after imputation\n",
            "\n"
          ],
          "name": "stdout"
        },
        {
          "output_type": "execute_result",
          "data": {
            "text/plain": [
              "Age                         136\n",
              "Attrition                     0\n",
              "BusinessTravel                0\n",
              "DailyRate                    27\n",
              "Department                    0\n",
              "DistanceFromHome             95\n",
              "Education                     0\n",
              "EducationField                0\n",
              "EmployeeCount                 0\n",
              "EmployeeNumber                0\n",
              "EnvironmentSatisfaction       0\n",
              "Gender                        0\n",
              "HourlyRate                    0\n",
              "JobInvolvement                0\n",
              "JobLevel                      0\n",
              "JobRole                       0\n",
              "JobSatisfaction               0\n",
              "MaritalStatus                 0\n",
              "MonthlyIncome                 0\n",
              "MonthlyRate                   0\n",
              "NumCompaniesWorked            0\n",
              "Over18                        0\n",
              "OverTime                      0\n",
              "PercentSalaryHike             0\n",
              "PerformanceRating             0\n",
              "RelationshipSatisfaction      0\n",
              "StandardHours                 0\n",
              "StockOptionLevel              0\n",
              "TotalWorkingYears             0\n",
              "TrainingTimesLastYear         0\n",
              "WorkLifeBalance               0\n",
              "YearsAtCompany                0\n",
              "YearsInCurrentRole            0\n",
              "YearsSinceLastPromotion       0\n",
              "YearsWithCurrManager          0\n",
              "dtype: int64"
            ]
          },
          "metadata": {
            "tags": []
          },
          "execution_count": 46
        }
      ]
    },
    {
      "cell_type": "code",
      "metadata": {
        "id": "MHcM6vZ8ki7D"
      },
      "source": [
        "#imputation with median\n",
        "missing_rate = ['DailyRate']\n",
        " \n",
        "#Technique 2: Using median to impute the missing values\n",
        "for i in missing_rate:\n",
        " df500_test_data.loc[df500_test_data.loc[:,i].isnull(),i]=df500_test_data.loc[:,i].median()\n",
        " \n",
        "print(\"count of NULL values after imputation\\n\")\n",
        "df500_test_data.isnull().sum()\n",
        "\n",
        "#imputation with median\n",
        "missing_rate = ['DailyRate']\n",
        " \n",
        "#Technique 2: Using median to impute the missing values\n",
        "for i in missing_rate:\n",
        " df500_train_data.loc[df500_train_data.loc[:,i].isnull(),i]=df500_train_data.loc[:,i].median()\n",
        " \n",
        "print(\"count of NULL values after imputation\\n\")\n",
        "df500_train_data.isnull().sum()\n"
      ],
      "execution_count": null,
      "outputs": []
    },
    {
      "cell_type": "code",
      "metadata": {
        "colab": {
          "base_uri": "https://localhost:8080/"
        },
        "id": "MFeDFJ_ykjeH",
        "outputId": "7c5293c6-9944-44e2-ee05-f1fb1928cdf5"
      },
      "source": [
        "#imputation with median\n",
        "missing_rate = ['Age']\n",
        " \n",
        "#Technique 2: Using median to impute the missing values\n",
        "for i in missing_rate:\n",
        " df500_test_data.loc[df500_test_data.loc[:,i].isnull(),i]=df500_test_data.loc[:,i].median()\n",
        " \n",
        "print(\"count of NULL values after imputation\\n\")\n",
        "df500_test_data.isnull().sum()\n",
        "\n",
        "\n",
        "#imputation with median\n",
        "missing_rate = ['Age']\n",
        " \n",
        "#Technique 2: Using median to impute the missing values\n",
        "for i in missing_rate:\n",
        " df500_train_data.loc[df500_train_data.loc[:,i].isnull(),i]=df500_train_data.loc[:,i].median()\n",
        " \n",
        "print(\"count of NULL values after imputation\\n\")\n",
        "df500_train_data.isnull().sum()\n"
      ],
      "execution_count": 48,
      "outputs": [
        {
          "output_type": "stream",
          "text": [
            "count of NULL values after imputation\n",
            "\n",
            "count of NULL values after imputation\n",
            "\n"
          ],
          "name": "stdout"
        },
        {
          "output_type": "execute_result",
          "data": {
            "text/plain": [
              "Age                          0\n",
              "Attrition                    0\n",
              "BusinessTravel               0\n",
              "DailyRate                    0\n",
              "Department                   0\n",
              "DistanceFromHome            95\n",
              "Education                    0\n",
              "EducationField               0\n",
              "EmployeeCount                0\n",
              "EmployeeNumber               0\n",
              "EnvironmentSatisfaction      0\n",
              "Gender                       0\n",
              "HourlyRate                   0\n",
              "JobInvolvement               0\n",
              "JobLevel                     0\n",
              "JobRole                      0\n",
              "JobSatisfaction              0\n",
              "MaritalStatus                0\n",
              "MonthlyIncome                0\n",
              "MonthlyRate                  0\n",
              "NumCompaniesWorked           0\n",
              "Over18                       0\n",
              "OverTime                     0\n",
              "PercentSalaryHike            0\n",
              "PerformanceRating            0\n",
              "RelationshipSatisfaction     0\n",
              "StandardHours                0\n",
              "StockOptionLevel             0\n",
              "TotalWorkingYears            0\n",
              "TrainingTimesLastYear        0\n",
              "WorkLifeBalance              0\n",
              "YearsAtCompany               0\n",
              "YearsInCurrentRole           0\n",
              "YearsSinceLastPromotion      0\n",
              "YearsWithCurrManager         0\n",
              "dtype: int64"
            ]
          },
          "metadata": {
            "tags": []
          },
          "execution_count": 48
        }
      ]
    },
    {
      "cell_type": "code",
      "metadata": {
        "colab": {
          "base_uri": "https://localhost:8080/"
        },
        "id": "QMIzeJ3mkj8n",
        "outputId": "8e47ae48-2c2c-4982-c72b-2e35974b2492"
      },
      "source": [
        "#imputation with median\n",
        "missing_rate = ['DistanceFromHome']\n",
        " \n",
        "#Technique 2: Using median to impute the missing values\n",
        "for i in missing_rate:\n",
        " df500_test_data.loc[df500_test_data.loc[:,i].isnull(),i]=df500_test_data.loc[:,i].median()\n",
        " \n",
        "print(\"count of NULL values after imputation\\n\")\n",
        "df500_test_data.isnull().sum()\n",
        "\n",
        "#imputation with median\n",
        "missing_rate = ['DistanceFromHome']\n",
        " \n",
        "#Technique 2: Using median to impute the missing values\n",
        "for i in missing_rate:\n",
        " df500_train_data.loc[df500_train_data.loc[:,i].isnull(),i]=df500_train_data.loc[:,i].median()\n",
        " \n",
        "print(\"count of NULL values after imputation\\n\")\n",
        "df500_train_data.isnull().sum()\n"
      ],
      "execution_count": 49,
      "outputs": [
        {
          "output_type": "stream",
          "text": [
            "count of NULL values after imputation\n",
            "\n",
            "count of NULL values after imputation\n",
            "\n"
          ],
          "name": "stdout"
        },
        {
          "output_type": "execute_result",
          "data": {
            "text/plain": [
              "Age                         0\n",
              "Attrition                   0\n",
              "BusinessTravel              0\n",
              "DailyRate                   0\n",
              "Department                  0\n",
              "DistanceFromHome            0\n",
              "Education                   0\n",
              "EducationField              0\n",
              "EmployeeCount               0\n",
              "EmployeeNumber              0\n",
              "EnvironmentSatisfaction     0\n",
              "Gender                      0\n",
              "HourlyRate                  0\n",
              "JobInvolvement              0\n",
              "JobLevel                    0\n",
              "JobRole                     0\n",
              "JobSatisfaction             0\n",
              "MaritalStatus               0\n",
              "MonthlyIncome               0\n",
              "MonthlyRate                 0\n",
              "NumCompaniesWorked          0\n",
              "Over18                      0\n",
              "OverTime                    0\n",
              "PercentSalaryHike           0\n",
              "PerformanceRating           0\n",
              "RelationshipSatisfaction    0\n",
              "StandardHours               0\n",
              "StockOptionLevel            0\n",
              "TotalWorkingYears           0\n",
              "TrainingTimesLastYear       0\n",
              "WorkLifeBalance             0\n",
              "YearsAtCompany              0\n",
              "YearsInCurrentRole          0\n",
              "YearsSinceLastPromotion     0\n",
              "YearsWithCurrManager        0\n",
              "dtype: int64"
            ]
          },
          "metadata": {
            "tags": []
          },
          "execution_count": 49
        }
      ]
    },
    {
      "cell_type": "code",
      "metadata": {
        "colab": {
          "base_uri": "https://localhost:8080/"
        },
        "id": "mepCSvy4kkac",
        "outputId": "69189d8b-7ff5-4485-8a58-99510f4f5e9b"
      },
      "source": [
        "#imputation with median\n",
        "missing_rate = ['BusinessTravel']\n",
        " \n",
        "#Technique 2: Using median to impute the missing values\n",
        "for i in missing_rate:\n",
        " df500_train_data.loc[df500_train_data.loc[:,i].isnull(),i]=df500_train_data.loc[:,i].median()\n",
        " \n",
        "print(\"count of NULL values after imputation\\n\")\n",
        "df500_train_data.isnull().sum()\n",
        "\n",
        "#imputation with median\n",
        "missing_rate = ['BusinessTravel']\n",
        " \n",
        "#Technique 2: Using median to impute the missing values\n",
        "for i in missing_rate:\n",
        " df500_test_data.loc[df500_test_data.loc[:,i].isnull(),i]=df500_test_data.loc[:,i].median()\n",
        " \n",
        "print(\"count of NULL values after imputation\\n\")\n",
        "df500_test_data.isnull().sum()\n"
      ],
      "execution_count": 50,
      "outputs": [
        {
          "output_type": "stream",
          "text": [
            "count of NULL values after imputation\n",
            "\n",
            "count of NULL values after imputation\n",
            "\n"
          ],
          "name": "stdout"
        },
        {
          "output_type": "execute_result",
          "data": {
            "text/plain": [
              "Age                         0\n",
              "BusinessTravel              0\n",
              "DailyRate                   0\n",
              "Department                  0\n",
              "DistanceFromHome            0\n",
              "Education                   0\n",
              "EducationField              0\n",
              "EmployeeCount               0\n",
              "EmployeeNumber              0\n",
              "EnvironmentSatisfaction     0\n",
              "Gender                      0\n",
              "HourlyRate                  0\n",
              "JobInvolvement              0\n",
              "JobLevel                    0\n",
              "JobRole                     0\n",
              "JobSatisfaction             0\n",
              "MaritalStatus               0\n",
              "MonthlyIncome               0\n",
              "MonthlyRate                 0\n",
              "NumCompaniesWorked          0\n",
              "Over18                      0\n",
              "OverTime                    0\n",
              "PercentSalaryHike           0\n",
              "PerformanceRating           0\n",
              "RelationshipSatisfaction    0\n",
              "StandardHours               0\n",
              "StockOptionLevel            0\n",
              "TotalWorkingYears           0\n",
              "TrainingTimesLastYear       0\n",
              "WorkLifeBalance             0\n",
              "YearsAtCompany              0\n",
              "YearsInCurrentRole          0\n",
              "YearsSinceLastPromotion     0\n",
              "YearsWithCurrManager        0\n",
              "dtype: int64"
            ]
          },
          "metadata": {
            "tags": []
          },
          "execution_count": 50
        }
      ]
    },
    {
      "cell_type": "code",
      "metadata": {
        "colab": {
          "base_uri": "https://localhost:8080/"
        },
        "id": "1MU2qc19o9Cr",
        "outputId": "df8f8c62-fdc9-435d-a26b-774c744ab735"
      },
      "source": [
        "X_train = df500_train_data.drop('Attrition', axis=1)\n",
        "y_train = df500_train_data['Attrition']\n",
        "X_test =df500_test_data.copy()\n",
        "X_train.shape, y_train.shape, X_test.shape\n"
      ],
      "execution_count": 60,
      "outputs": [
        {
          "output_type": "execute_result",
          "data": {
            "text/plain": [
              "((1029, 34), (1029,), (441, 34))"
            ]
          },
          "metadata": {
            "tags": []
          },
          "execution_count": 60
        }
      ]
    },
    {
      "cell_type": "code",
      "metadata": {
        "id": "UV-lAkI5rqUq"
      },
      "source": [
        ""
      ],
      "execution_count": null,
      "outputs": []
    },
    {
      "cell_type": "code",
      "metadata": {
        "colab": {
          "base_uri": "https://localhost:8080/"
        },
        "id": "SoVV0TEYRMDE",
        "outputId": "931bdb6e-c0af-40f8-d51c-52c534fd19ec"
      },
      "source": [
        "clf = SVC()\n",
        "clf.fit(X_train, y_train)\n",
        "y_pred_svc = clf.predict(X_test)\n",
        "acc_svc = round(clf.score(X_train, y_train) * 100, 2)\n",
        "\n",
        "\n",
        "print (acc_svc)\n",
        "\n",
        "\n"
      ],
      "execution_count": 61,
      "outputs": [
        {
          "output_type": "stream",
          "text": [
            "82.9\n"
          ],
          "name": "stdout"
        }
      ]
    },
    {
      "cell_type": "code",
      "metadata": {
        "id": "OnPDnlmmrwAd",
        "colab": {
          "base_uri": "https://localhost:8080/"
        },
        "outputId": "224f85eb-c244-44f2-eb5f-59c2ccec0c04"
      },
      "source": [
        "\n",
        "from sklearn.linear_model import LogisticRegression\n",
        "#Linear Regression\n",
        "clf = LogisticRegression()\n",
        "clf.fit(X_train, y_train)\n",
        "y_pred_log_reg = clf.predict(X_test)\n",
        "acc_log_reg = round( clf.score(X_train, y_train) * 100, 2)\n",
        "\n",
        "print (str(acc_log_reg) + ' percent')\n"
      ],
      "execution_count": 62,
      "outputs": [
        {
          "output_type": "stream",
          "text": [
            "82.99 percent\n"
          ],
          "name": "stdout"
        },
        {
          "output_type": "stream",
          "text": [
            "/usr/local/lib/python3.7/dist-packages/sklearn/linear_model/_logistic.py:940: ConvergenceWarning: lbfgs failed to converge (status=1):\n",
            "STOP: TOTAL NO. of ITERATIONS REACHED LIMIT.\n",
            "\n",
            "Increase the number of iterations (max_iter) or scale the data as shown in:\n",
            "    https://scikit-learn.org/stable/modules/preprocessing.html\n",
            "Please also refer to the documentation for alternative solver options:\n",
            "    https://scikit-learn.org/stable/modules/linear_model.html#logistic-regression\n",
            "  extra_warning_msg=_LOGISTIC_SOLVER_CONVERGENCE_MSG)\n"
          ],
          "name": "stderr"
        }
      ]
    },
    {
      "cell_type": "code",
      "metadata": {
        "id": "BX7yucUYlXnL",
        "colab": {
          "base_uri": "https://localhost:8080/"
        },
        "outputId": "4c344b29-65f7-449f-b217-e2caa28de1ae"
      },
      "source": [
        "#K-Nearest Neighbors \n",
        "clf = KNeighborsClassifier(n_neighbors = 5)\n",
        "clf.fit(X_train, y_train)\n",
        "y_pred_knn = clf.predict(X_test)\n",
        "acc_knn = round(clf.score(X_train, y_train) * 100, 2)\n",
        "\n",
        "\n",
        "print (acc_knn)\n"
      ],
      "execution_count": 67,
      "outputs": [
        {
          "output_type": "stream",
          "text": [
            "85.52\n"
          ],
          "name": "stdout"
        }
      ]
    },
    {
      "cell_type": "code",
      "metadata": {
        "colab": {
          "base_uri": "https://localhost:8080/"
        },
        "id": "YXRimovOw5x-",
        "outputId": "4b935ef2-cb96-414f-8f97-e6f7302f9612"
      },
      "source": [
        "#Linear SVM\n",
        "clf = LinearSVC()\n",
        "clf.fit(X_train, y_train)\n",
        "y_pred_linear_svc = clf.predict(X_test)\n",
        "acc_linear_svc = round(clf.score(X_train, y_train) * 100, 2)\n",
        "\n",
        "\n",
        "print (acc_linear_svc)\n"
      ],
      "execution_count": 64,
      "outputs": [
        {
          "output_type": "stream",
          "text": [
            "24.2\n"
          ],
          "name": "stdout"
        },
        {
          "output_type": "stream",
          "text": [
            "/usr/local/lib/python3.7/dist-packages/sklearn/svm/_base.py:947: ConvergenceWarning: Liblinear failed to converge, increase the number of iterations.\n",
            "  \"the number of iterations.\", ConvergenceWarning)\n"
          ],
          "name": "stderr"
        }
      ]
    },
    {
      "cell_type": "code",
      "metadata": {
        "colab": {
          "base_uri": "https://localhost:8080/"
        },
        "id": "FV91gvsCxb2w",
        "outputId": "981b197c-f49d-47d3-eb8b-0c30d87a6bd5"
      },
      "source": [
        "#Deceision tree\n",
        "clf = DecisionTreeClassifier()\n",
        "clf.fit(X_train, y_train)\n",
        "y_pred_decision_tree = clf.predict(X_test)\n",
        "acc_decision_tree = round(clf.score(X_train, y_train) * 100, 2)\n",
        "\n",
        "\n",
        "print (acc_decision_tree)\n"
      ],
      "execution_count": 68,
      "outputs": [
        {
          "output_type": "stream",
          "text": [
            "100.0\n"
          ],
          "name": "stdout"
        }
      ]
    },
    {
      "cell_type": "code",
      "metadata": {
        "colab": {
          "base_uri": "https://localhost:8080/"
        },
        "id": "qU6SGAzsxntG",
        "outputId": "06996fea-c92a-4047-f851-eb12a98144e5"
      },
      "source": [
        "#ransom forest\n",
        "clf = RandomForestClassifier(n_estimators=100)\n",
        "clf.fit(X_train, y_train)\n",
        "y_pred_random_forest = clf.predict(X_test)\n",
        "acc_random_forest = round(clf.score(X_train, y_train) * 100, 2)\n",
        "\n",
        "\n",
        "print (acc_random_forest)\n"
      ],
      "execution_count": 69,
      "outputs": [
        {
          "output_type": "stream",
          "text": [
            "100.0\n"
          ],
          "name": "stdout"
        }
      ]
    },
    {
      "cell_type": "code",
      "metadata": {
        "colab": {
          "base_uri": "https://localhost:8080/"
        },
        "id": "bgGUNxU_x755",
        "outputId": "47b4608f-b492-418a-ba47-fc7a4c8e7aca"
      },
      "source": [
        "#Perceptron\n",
        "clf = Perceptron(max_iter=5, tol=None)\n",
        "clf.fit(X_train, y_train)\n",
        "y_pred_perceptron = clf.predict(X_test)\n",
        "acc_perceptron = round(clf.score(X_train, y_train) * 100, 2)\n",
        "\n",
        "\n",
        "print (acc_perceptron)\n"
      ],
      "execution_count": 70,
      "outputs": [
        {
          "output_type": "stream",
          "text": [
            "66.76\n"
          ],
          "name": "stdout"
        }
      ]
    },
    {
      "cell_type": "code",
      "metadata": {
        "colab": {
          "base_uri": "https://localhost:8080/"
        },
        "id": "bS7X7HrWyTZw",
        "outputId": "f02fe182-7892-436d-afd0-e796bff20627"
      },
      "source": [
        "#Stochastic Gradient Descent (SGD)\n",
        "clf = SGDClassifier(max_iter=5, tol=None)\n",
        "clf.fit(X_train, y_train)\n",
        "y_pred_sgd = clf.predict(X_test)\n",
        "acc_sgd = round(clf.score(X_train, y_train) * 100, 2)\n",
        "\n",
        "print (acc_sgd)\n"
      ],
      "execution_count": 71,
      "outputs": [
        {
          "output_type": "stream",
          "text": [
            "82.7\n"
          ],
          "name": "stdout"
        }
      ]
    },
    {
      "cell_type": "code",
      "metadata": {
        "id": "1vOtZtl8ydAi"
      },
      "source": [
        "#Confusion Matrix\n"
      ],
      "execution_count": null,
      "outputs": []
    },
    {
      "cell_type": "markdown",
      "metadata": {
        "id": "YXIlkQD-yj6J"
      },
      "source": [
        "#In our attrition problem case\n",
        "\n",
        "> Indented block\n",
        "\n"
      ]
    },
    {
      "cell_type": "code",
      "metadata": {
        "id": "0JUeC_60wHME"
      },
      "source": [
        "##First, we train these classifiers with our training data.\n",
        "##After that, using the trained classifier, we predict the attrition outcome of test data.\n",
        "##Finally, we calculate the accuracy score (in percentange) of the trained classifier.\n"
      ],
      "execution_count": 63,
      "outputs": []
    },
    {
      "cell_type": "code",
      "metadata": {
        "id": "1gagUOTjshqp"
      },
      "source": [
        "sns.pairplot(df3.iloc[:,[1,29,30,31]], hue='Attrition', size=3.5);"
      ],
      "execution_count": null,
      "outputs": []
    },
    {
      "cell_type": "code",
      "metadata": {
        "id": "prviyjblseQw"
      },
      "source": [
        "#SVC,LinearSVC"
      ],
      "execution_count": null,
      "outputs": []
    },
    {
      "cell_type": "code",
      "metadata": {
        "id": "zp8PVnjdtHLz"
      },
      "source": [
        "#5: Predict on dataset model calculate Accuracy Score\n",
        "#6: Calculate the model accuracy\n",
        "\n"
      ],
      "execution_count": null,
      "outputs": []
    },
    {
      "cell_type": "code",
      "metadata": {
        "id": "EUEYE1sl4g2i"
      },
      "source": [
        "#7: Create a confusion matrix with a Pandas cross table - confusion matrix\n",
        "\n",
        "from sklearn.metrics import confusion_matrix\n",
        "tree_clf = DecisionTreeClassifier(max_depth=3,min_samples_leaf = 35)\n",
        "tree_clf.fit(X_train,y_train)\n",
        "y_pred = tree_clf.predict(X_test_imp)\n",
        "print(\"Test Accuracy: \",accuracy_score(y_test,y_pred))\n",
        "print(\"Test F1 Score: \",f1_score(y_test,y_pred))\n",
        "print(\"Confusion Matrix on Test Data\")\n",
        "pd.crosstab(y_test, y_pred, rownames=['True'], colnames=['Predicted'], margins=True)\n",
        "#8: Print the TN, FN, TP, FP values\n",
        "# 9: Print the model precision value\n",
        "# precision is the ratio of  tp / (tp + fp)\n",
        "#10: # recall = the ratio tp / (tp + fn)\n",
        "#11: Visualize the confusion matrix with a Heatmap\n"
      ],
      "execution_count": null,
      "outputs": []
    },
    {
      "cell_type": "markdown",
      "metadata": {
        "id": "GTSvUW6ktKP7"
      },
      "source": [
        "Predictive model evaluation\n",
        "results and discussions\n",
        "Conclusion"
      ]
    },
    {
      "cell_type": "code",
      "metadata": {
        "id": "jaO13eneNlPf"
      },
      "source": [
        ""
      ],
      "execution_count": null,
      "outputs": []
    },
    {
      "cell_type": "code",
      "metadata": {
        "id": "nfC44WP2NBnp"
      },
      "source": [
        ""
      ],
      "execution_count": null,
      "outputs": []
    }
  ]
}