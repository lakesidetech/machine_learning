{
  "nbformat": 4,
  "nbformat_minor": 0,
  "metadata": {
    "colab": {
      "name": "sample_algorthm_format.ipynb",
      "provenance": [],
      "authorship_tag": "ABX9TyNTk3wdoNfLurwkVtth5iWi",
      "include_colab_link": true
    },
    "kernelspec": {
      "name": "python3",
      "display_name": "Python 3"
    },
    "language_info": {
      "name": "python"
    }
  },
  "cells": [
    {
      "cell_type": "markdown",
      "metadata": {
        "id": "view-in-github",
        "colab_type": "text"
      },
      "source": [
        "<a href=\"https://colab.research.google.com/github/lakesidetech/machine_learning/blob/main/sample_algorthm_format.ipynb\" target=\"_parent\"><img src=\"https://colab.research.google.com/assets/colab-badge.svg\" alt=\"Open In Colab\"/></a>"
      ]
    },
    {
      "cell_type": "markdown",
      "metadata": {
        "id": "XM_4aNsdLGHE"
      },
      "source": [
        "#Importing the required packages into our python environment"
      ]
    },
    {
      "cell_type": "code",
      "metadata": {
        "id": "fmfyZs7vLxSZ"
      },
      "source": [
        ""
      ],
      "execution_count": null,
      "outputs": []
    },
    {
      "cell_type": "markdown",
      "metadata": {
        "id": "bwV2NwKILgAZ"
      },
      "source": [
        "#Data Visualization on the house price data\n"
      ]
    },
    {
      "cell_type": "code",
      "metadata": {
        "id": "KADyi2AJLyH-"
      },
      "source": [
        ""
      ],
      "execution_count": null,
      "outputs": []
    },
    {
      "cell_type": "markdown",
      "metadata": {
        "id": "suphhoLoL2o4"
      },
      "source": [
        "# Importing the house price data and do some EDA on it\n"
      ]
    },
    {
      "cell_type": "code",
      "metadata": {
        "id": "Jz-A6iZdMAFv"
      },
      "source": [
        ""
      ],
      "execution_count": null,
      "outputs": []
    },
    {
      "cell_type": "markdown",
      "metadata": {
        "id": "ta2N8XdrMAzO"
      },
      "source": [
        "# Feature Selection & Data Split\n"
      ]
    },
    {
      "cell_type": "code",
      "metadata": {
        "id": "X-hpH3vbMI-y"
      },
      "source": [
        ""
      ],
      "execution_count": null,
      "outputs": []
    },
    {
      "cell_type": "markdown",
      "metadata": {
        "id": "ZpUmM5h1MNeA"
      },
      "source": [
        "# Modeling the data using the algorithms\n"
      ]
    },
    {
      "cell_type": "code",
      "metadata": {
        "id": "KPDhL376MSOW"
      },
      "source": [
        ""
      ],
      "execution_count": null,
      "outputs": []
    },
    {
      "cell_type": "markdown",
      "metadata": {
        "id": "wXlQ3z3oMTNz"
      },
      "source": [
        "# Evaluating the built model using the evaluation "
      ]
    },
    {
      "cell_type": "code",
      "metadata": {
        "id": "1-bxBTWyMb9f"
      },
      "source": [
        ""
      ],
      "execution_count": null,
      "outputs": []
    }
  ]
}