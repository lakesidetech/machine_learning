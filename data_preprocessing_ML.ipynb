{
  "nbformat": 4,
  "nbformat_minor": 0,
  "metadata": {
    "colab": {
      "name": "data_preprocessing_ML.ipynb",
      "provenance": [],
      "authorship_tag": "ABX9TyOmHTxJoWYeWx1bjF5TWDyP",
      "include_colab_link": true
    },
    "kernelspec": {
      "name": "python3",
      "display_name": "Python 3"
    },
    "language_info": {
      "name": "python"
    }
  },
  "cells": [
    {
      "cell_type": "markdown",
      "metadata": {
        "id": "view-in-github",
        "colab_type": "text"
      },
      "source": [
        "<a href=\"https://colab.research.google.com/github/lakesidetech/machine_learning/blob/main/data_preprocessing_ML.ipynb\" target=\"_parent\"><img src=\"https://colab.research.google.com/assets/colab-badge.svg\" alt=\"Open In Colab\"/></a>"
      ]
    },
    {
      "cell_type": "markdown",
      "metadata": {
        "id": "u8Jy93PqTnH9"
      },
      "source": [
        "# Data Preprocessing in Python using Pandas and Scikit-learn\n",
        "# There are 4 main important steps for the preprocessing of data.\n",
        "\n",
        "*  Splitting of the data set in Training and Validation sets\n",
        "*  Taking care of Missing values\n",
        "*  Taking care of Categorical Features\n",
        "*  Normalization of data set"
      ]
    },
    {
      "cell_type": "code",
      "metadata": {
        "id": "C8S7uz8rUuMI"
      },
      "source": [
        "#1. Train Test Split\n"
      ],
      "execution_count": null,
      "outputs": []
    },
    {
      "cell_type": "code",
      "metadata": {
        "id": "dVHOl3bYVQei"
      },
      "source": [
        "#2. Taking Care of Missing Values\n"
      ],
      "execution_count": null,
      "outputs": []
    },
    {
      "cell_type": "code",
      "metadata": {
        "id": "dtrqDrusVYuu"
      },
      "source": [
        "#3. Taking care of Categorical Features\n"
      ],
      "execution_count": null,
      "outputs": []
    },
    {
      "cell_type": "code",
      "metadata": {
        "id": "RPJ2e058Vb-r"
      },
      "source": [
        "#4. Normalizing the Dataset\n",
        "#The goal of normalization is to change values to a common scale without distorting the difference between the range of values.\n",
        "\n",
        "\n",
        "import pandas as pd\n",
        "from pandas import read_csv\n",
        "cars_df=pd.read_csv('/content/cars.csv')\n"
      ],
      "execution_count": 8,
      "outputs": []
    },
    {
      "cell_type": "code",
      "metadata": {
        "colab": {
          "base_uri": "https://localhost:8080/",
          "height": 198
        },
        "id": "_1AK2fOca0Ho",
        "outputId": "6c7a45b2-430d-48b4-adc9-67dae2f9c7f4"
      },
      "source": [
        "cars_df.head()"
      ],
      "execution_count": 3,
      "outputs": [
        {
          "output_type": "execute_result",
          "data": {
            "text/html": [
              "<div>\n",
              "<style scoped>\n",
              "    .dataframe tbody tr th:only-of-type {\n",
              "        vertical-align: middle;\n",
              "    }\n",
              "\n",
              "    .dataframe tbody tr th {\n",
              "        vertical-align: top;\n",
              "    }\n",
              "\n",
              "    .dataframe thead th {\n",
              "        text-align: right;\n",
              "    }\n",
              "</style>\n",
              "<table border=\"1\" class=\"dataframe\">\n",
              "  <thead>\n",
              "    <tr style=\"text-align: right;\">\n",
              "      <th></th>\n",
              "      <th>Car</th>\n",
              "      <th>Model</th>\n",
              "      <th>Volume</th>\n",
              "      <th>Weight</th>\n",
              "      <th>CO2</th>\n",
              "    </tr>\n",
              "  </thead>\n",
              "  <tbody>\n",
              "    <tr>\n",
              "      <th>0</th>\n",
              "      <td>Toyota</td>\n",
              "      <td>Aygo</td>\n",
              "      <td>1000</td>\n",
              "      <td>790</td>\n",
              "      <td>99</td>\n",
              "    </tr>\n",
              "    <tr>\n",
              "      <th>1</th>\n",
              "      <td>Mitsubishi</td>\n",
              "      <td>Space Star</td>\n",
              "      <td>1200</td>\n",
              "      <td>1160</td>\n",
              "      <td>95</td>\n",
              "    </tr>\n",
              "    <tr>\n",
              "      <th>2</th>\n",
              "      <td>Skoda</td>\n",
              "      <td>Citigo</td>\n",
              "      <td>1000</td>\n",
              "      <td>929</td>\n",
              "      <td>95</td>\n",
              "    </tr>\n",
              "    <tr>\n",
              "      <th>3</th>\n",
              "      <td>Fiat</td>\n",
              "      <td>500</td>\n",
              "      <td>900</td>\n",
              "      <td>865</td>\n",
              "      <td>90</td>\n",
              "    </tr>\n",
              "    <tr>\n",
              "      <th>4</th>\n",
              "      <td>Mini</td>\n",
              "      <td>Cooper</td>\n",
              "      <td>1500</td>\n",
              "      <td>1140</td>\n",
              "      <td>105</td>\n",
              "    </tr>\n",
              "  </tbody>\n",
              "</table>\n",
              "</div>"
            ],
            "text/plain": [
              "          Car       Model  Volume  Weight  CO2\n",
              "0      Toyota        Aygo    1000     790   99\n",
              "1  Mitsubishi  Space Star    1200    1160   95\n",
              "2       Skoda      Citigo    1000     929   95\n",
              "3        Fiat         500     900     865   90\n",
              "4        Mini      Cooper    1500    1140  105"
            ]
          },
          "metadata": {
            "tags": []
          },
          "execution_count": 3
        }
      ]
    },
    {
      "cell_type": "code",
      "metadata": {
        "colab": {
          "base_uri": "https://localhost:8080/"
        },
        "id": "3qgumI_Iao_O",
        "outputId": "d10e4c9c-f361-48f0-906f-65226aba6588"
      },
      "source": [
        "from sklearn.preprocessing import LabelEncoder\n",
        "\n",
        "l1 = LabelEncoder()\n",
        "\n",
        "l1.fit(cars_df['Model'])\n",
        "\n",
        "cars_df.Model = l1.transform(cars_df.Model)\n",
        "#catDf['Country'] = l1.transform(catDf['Country'])\n",
        "\n",
        "\n",
        "print(cars_df)\n"
      ],
      "execution_count": 9,
      "outputs": [
        {
          "output_type": "stream",
          "text": [
            "           Car  Model  Volume  Weight  CO2\n",
            "0       Toyota     10    1000     790   99\n",
            "1   Mitsubishi     29    1200    1160   95\n",
            "2        Skoda     14    1000     929   95\n",
            "3         Fiat      4     900     865   90\n",
            "4         Mini     16    1500    1140  105\n",
            "5           VW     31    1000     929  105\n",
            "6        Skoda     18    1400    1109   90\n",
            "7     Mercedes      5    1500    1365   92\n",
            "8         Ford     19    1500    1112   98\n",
            "9         Audi      6    1600    1150   99\n",
            "10     Hyundai     21    1100     980   99\n",
            "11      Suzuki     30    1300     990  101\n",
            "12        Ford     19    1000    1112   99\n",
            "13       Honda     15    1600    1252   94\n",
            "14      Hundai     22    1600    1326   97\n",
            "15        Opel      9    1600    1330   97\n",
            "16         BMW      0    1600    1365   99\n",
            "17       Mazda      2    2200    1280  104\n",
            "18       Skoda     26    1600    1119  104\n",
            "19        Ford     20    2000    1328  105\n",
            "20        Ford     24    1600    1584   94\n",
            "21        Opel     23    2000    1428   99\n",
            "22    Mercedes     12    2100    1365   99\n",
            "23       Skoda     25    1600    1415   99\n",
            "24       Volvo     27    2000    1415   99\n",
            "25    Mercedes     13    1500    1465  102\n",
            "26        Audi      7    2000    1490  104\n",
            "27        Audi      8    2000    1725  114\n",
            "28       Volvo     32    1600    1523  109\n",
            "29         BMW      3    2000    1705  114\n",
            "30    Mercedes     17    2100    1605  115\n",
            "31       Volvo     33    2000    1746  117\n",
            "32        Ford     11    1600    1235  104\n",
            "33         BMW      1    1600    1390  108\n",
            "34        Opel     34    1600    1405  109\n",
            "35    Mercedes     28    2500    1395  120\n"
          ],
          "name": "stdout"
        }
      ]
    },
    {
      "cell_type": "code",
      "metadata": {
        "id": "-42MquCVexud"
      },
      "source": [
        ""
      ],
      "execution_count": null,
      "outputs": []
    },
    {
      "cell_type": "code",
      "metadata": {
        "colab": {
          "base_uri": "https://localhost:8080/",
          "height": 198
        },
        "id": "DRPhsPQUejWf",
        "outputId": "8e17d615-7333-486e-acb5-aeb47018f14b"
      },
      "source": [
        "cars_df.head()"
      ],
      "execution_count": 10,
      "outputs": [
        {
          "output_type": "execute_result",
          "data": {
            "text/html": [
              "<div>\n",
              "<style scoped>\n",
              "    .dataframe tbody tr th:only-of-type {\n",
              "        vertical-align: middle;\n",
              "    }\n",
              "\n",
              "    .dataframe tbody tr th {\n",
              "        vertical-align: top;\n",
              "    }\n",
              "\n",
              "    .dataframe thead th {\n",
              "        text-align: right;\n",
              "    }\n",
              "</style>\n",
              "<table border=\"1\" class=\"dataframe\">\n",
              "  <thead>\n",
              "    <tr style=\"text-align: right;\">\n",
              "      <th></th>\n",
              "      <th>Car</th>\n",
              "      <th>Model</th>\n",
              "      <th>Volume</th>\n",
              "      <th>Weight</th>\n",
              "      <th>CO2</th>\n",
              "    </tr>\n",
              "  </thead>\n",
              "  <tbody>\n",
              "    <tr>\n",
              "      <th>0</th>\n",
              "      <td>Toyota</td>\n",
              "      <td>10</td>\n",
              "      <td>1000</td>\n",
              "      <td>790</td>\n",
              "      <td>99</td>\n",
              "    </tr>\n",
              "    <tr>\n",
              "      <th>1</th>\n",
              "      <td>Mitsubishi</td>\n",
              "      <td>29</td>\n",
              "      <td>1200</td>\n",
              "      <td>1160</td>\n",
              "      <td>95</td>\n",
              "    </tr>\n",
              "    <tr>\n",
              "      <th>2</th>\n",
              "      <td>Skoda</td>\n",
              "      <td>14</td>\n",
              "      <td>1000</td>\n",
              "      <td>929</td>\n",
              "      <td>95</td>\n",
              "    </tr>\n",
              "    <tr>\n",
              "      <th>3</th>\n",
              "      <td>Fiat</td>\n",
              "      <td>4</td>\n",
              "      <td>900</td>\n",
              "      <td>865</td>\n",
              "      <td>90</td>\n",
              "    </tr>\n",
              "    <tr>\n",
              "      <th>4</th>\n",
              "      <td>Mini</td>\n",
              "      <td>16</td>\n",
              "      <td>1500</td>\n",
              "      <td>1140</td>\n",
              "      <td>105</td>\n",
              "    </tr>\n",
              "  </tbody>\n",
              "</table>\n",
              "</div>"
            ],
            "text/plain": [
              "          Car  Model  Volume  Weight  CO2\n",
              "0      Toyota     10    1000     790   99\n",
              "1  Mitsubishi     29    1200    1160   95\n",
              "2       Skoda     14    1000     929   95\n",
              "3        Fiat      4     900     865   90\n",
              "4        Mini     16    1500    1140  105"
            ]
          },
          "metadata": {
            "tags": []
          },
          "execution_count": 10
        }
      ]
    },
    {
      "cell_type": "code",
      "metadata": {
        "id": "J5JyX0ZNez8G"
      },
      "source": [
        "l2 = LabelEncoder()\n",
        "\n",
        "l2.fit(cars_df['Car'])\n",
        "\n",
        "cars_df.Car = l2.transform(cars_df.Car)\n"
      ],
      "execution_count": 11,
      "outputs": []
    },
    {
      "cell_type": "code",
      "metadata": {
        "colab": {
          "base_uri": "https://localhost:8080/",
          "height": 198
        },
        "id": "qgqZbnSLfDjb",
        "outputId": "ccb2db68-d31c-4d69-f922-e22daac623dc"
      },
      "source": [
        "cars_df.head()"
      ],
      "execution_count": 12,
      "outputs": [
        {
          "output_type": "execute_result",
          "data": {
            "text/html": [
              "<div>\n",
              "<style scoped>\n",
              "    .dataframe tbody tr th:only-of-type {\n",
              "        vertical-align: middle;\n",
              "    }\n",
              "\n",
              "    .dataframe tbody tr th {\n",
              "        vertical-align: top;\n",
              "    }\n",
              "\n",
              "    .dataframe thead th {\n",
              "        text-align: right;\n",
              "    }\n",
              "</style>\n",
              "<table border=\"1\" class=\"dataframe\">\n",
              "  <thead>\n",
              "    <tr style=\"text-align: right;\">\n",
              "      <th></th>\n",
              "      <th>Car</th>\n",
              "      <th>Model</th>\n",
              "      <th>Volume</th>\n",
              "      <th>Weight</th>\n",
              "      <th>CO2</th>\n",
              "    </tr>\n",
              "  </thead>\n",
              "  <tbody>\n",
              "    <tr>\n",
              "      <th>0</th>\n",
              "      <td>14</td>\n",
              "      <td>10</td>\n",
              "      <td>1000</td>\n",
              "      <td>790</td>\n",
              "      <td>99</td>\n",
              "    </tr>\n",
              "    <tr>\n",
              "      <th>1</th>\n",
              "      <td>10</td>\n",
              "      <td>29</td>\n",
              "      <td>1200</td>\n",
              "      <td>1160</td>\n",
              "      <td>95</td>\n",
              "    </tr>\n",
              "    <tr>\n",
              "      <th>2</th>\n",
              "      <td>12</td>\n",
              "      <td>14</td>\n",
              "      <td>1000</td>\n",
              "      <td>929</td>\n",
              "      <td>95</td>\n",
              "    </tr>\n",
              "    <tr>\n",
              "      <th>3</th>\n",
              "      <td>2</td>\n",
              "      <td>4</td>\n",
              "      <td>900</td>\n",
              "      <td>865</td>\n",
              "      <td>90</td>\n",
              "    </tr>\n",
              "    <tr>\n",
              "      <th>4</th>\n",
              "      <td>9</td>\n",
              "      <td>16</td>\n",
              "      <td>1500</td>\n",
              "      <td>1140</td>\n",
              "      <td>105</td>\n",
              "    </tr>\n",
              "  </tbody>\n",
              "</table>\n",
              "</div>"
            ],
            "text/plain": [
              "   Car  Model  Volume  Weight  CO2\n",
              "0   14     10    1000     790   99\n",
              "1   10     29    1200    1160   95\n",
              "2   12     14    1000     929   95\n",
              "3    2      4     900     865   90\n",
              "4    9     16    1500    1140  105"
            ]
          },
          "metadata": {
            "tags": []
          },
          "execution_count": 12
        }
      ]
    },
    {
      "cell_type": "code",
      "metadata": {
        "colab": {
          "base_uri": "https://localhost:8080/"
        },
        "id": "_2NNlPw6efg7",
        "outputId": "f21261be-345b-4888-fdf2-a51c36a55fa3"
      },
      "source": [
        "cars_df.shape"
      ],
      "execution_count": 18,
      "outputs": [
        {
          "output_type": "execute_result",
          "data": {
            "text/plain": [
              "(36, 5)"
            ]
          },
          "metadata": {
            "tags": []
          },
          "execution_count": 18
        }
      ]
    },
    {
      "cell_type": "code",
      "metadata": {
        "colab": {
          "base_uri": "https://localhost:8080/"
        },
        "id": "YjnrPP70RALW",
        "outputId": "5e2652bf-35fe-4959-d678-d793b3fbc349"
      },
      "source": [
        "#Extracting Independent and dependent Variable  \n",
        "x= cars_df.iloc[:,0:4].values  \n",
        "y= cars_df.iloc[:5].values  \n",
        "print(x)\n",
        "print(y)"
      ],
      "execution_count": 19,
      "outputs": [
        {
          "output_type": "stream",
          "text": [
            "[[  14   10 1000  790]\n",
            " [  10   29 1200 1160]\n",
            " [  12   14 1000  929]\n",
            " [   2    4  900  865]\n",
            " [   9   16 1500 1140]\n",
            " [  15   31 1000  929]\n",
            " [  12   18 1400 1109]\n",
            " [   8    5 1500 1365]\n",
            " [   3   19 1500 1112]\n",
            " [   0    6 1600 1150]\n",
            " [   6   21 1100  980]\n",
            " [  13   30 1300  990]\n",
            " [   3   19 1000 1112]\n",
            " [   4   15 1600 1252]\n",
            " [   5   22 1600 1326]\n",
            " [  11    9 1600 1330]\n",
            " [   1    0 1600 1365]\n",
            " [   7    2 2200 1280]\n",
            " [  12   26 1600 1119]\n",
            " [   3   20 2000 1328]\n",
            " [   3   24 1600 1584]\n",
            " [  11   23 2000 1428]\n",
            " [   8   12 2100 1365]\n",
            " [  12   25 1600 1415]\n",
            " [  16   27 2000 1415]\n",
            " [   8   13 1500 1465]\n",
            " [   0    7 2000 1490]\n",
            " [   0    8 2000 1725]\n",
            " [  16   32 1600 1523]\n",
            " [   1    3 2000 1705]\n",
            " [   8   17 2100 1605]\n",
            " [  16   33 2000 1746]\n",
            " [   3   11 1600 1235]\n",
            " [   1    1 1600 1390]\n",
            " [  11   34 1600 1405]\n",
            " [   8   28 2500 1395]]\n",
            "[[  14   10 1000  790   99]\n",
            " [  10   29 1200 1160   95]\n",
            " [  12   14 1000  929   95]\n",
            " [   2    4  900  865   90]\n",
            " [   9   16 1500 1140  105]]\n"
          ],
          "name": "stdout"
        }
      ]
    }
  ]
}