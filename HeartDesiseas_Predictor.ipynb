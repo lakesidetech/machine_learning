{
  "nbformat": 4,
  "nbformat_minor": 0,
  "metadata": {
    "colab": {
      "name": "HeartDesiseas-Predictor.ipynb",
      "provenance": [],
      "collapsed_sections": [],
      "authorship_tag": "ABX9TyPTFC8W8AZsbvXSjQKLoQ2v",
      "include_colab_link": true
    },
    "kernelspec": {
      "name": "python3",
      "display_name": "Python 3"
    },
    "language_info": {
      "name": "python"
    }
  },
  "cells": [
    {
      "cell_type": "markdown",
      "metadata": {
        "id": "view-in-github",
        "colab_type": "text"
      },
      "source": [
        "<a href=\"https://colab.research.google.com/github/lakesidetech/machine_learning/blob/main/HeartDesiseas_Predictor.ipynb\" target=\"_parent\"><img src=\"https://colab.research.google.com/assets/colab-badge.svg\" alt=\"Open In Colab\"/></a>"
      ]
    },
    {
      "cell_type": "code",
      "metadata": {
        "id": "5JrlEPvbqeyZ"
      },
      "source": [
        "import csv\n",
        "import numpy as np\n",
        "from numpy import set_printoptions\n",
        "# Import your necessary dependencies\n",
        "from sklearn.feature_selection import RFE\n",
        "from sklearn.linear_model import LogisticRegression\n",
        "from pandas import read_csv\n",
        "#loading CSV data file using Pandas on Iris Data set\n",
        "from sklearn.feature_selection import SelectKBest\n",
        "from sklearn.feature_selection import chi2\n",
        "\n"
      ],
      "execution_count": null,
      "outputs": []
    },
    {
      "cell_type": "code",
      "metadata": {
        "colab": {
          "base_uri": "https://localhost:8080/"
        },
        "id": "6R24xJRLqrzm",
        "outputId": "97e44485-3e68-4a15-efbf-95caf56eef09"
      },
      "source": [
        "path = r\"/heart.csv\"\n",
        "data = read_csv(path)\n",
        "print(data.shape)\n",
        "#print(data[:3])\n",
        "print(data)\n",
        "print(data.dtypes)\n"
      ],
      "execution_count": null,
      "outputs": [
        {
          "output_type": "stream",
          "text": [
            "(303, 14)\n",
            "     age  sex  cp  trestbps  chol  fbs  ...  exang  oldpeak  slope  ca  thal  target\n",
            "0     63    1   3       145   233    1  ...      0      2.3      0   0     1       1\n",
            "1     37    1   2       130   250    0  ...      0      3.5      0   0     2       1\n",
            "2     41    0   1       130   204    0  ...      0      1.4      2   0     2       1\n",
            "3     56    1   1       120   236    0  ...      0      0.8      2   0     2       1\n",
            "4     57    0   0       120   354    0  ...      1      0.6      2   0     2       1\n",
            "..   ...  ...  ..       ...   ...  ...  ...    ...      ...    ...  ..   ...     ...\n",
            "298   57    0   0       140   241    0  ...      1      0.2      1   0     3       0\n",
            "299   45    1   3       110   264    0  ...      0      1.2      1   0     3       0\n",
            "300   68    1   0       144   193    1  ...      0      3.4      1   2     3       0\n",
            "301   57    1   0       130   131    0  ...      1      1.2      1   1     3       0\n",
            "302   57    0   1       130   236    0  ...      0      0.0      1   1     2       0\n",
            "\n",
            "[303 rows x 14 columns]\n",
            "age           int64\n",
            "sex           int64\n",
            "cp            int64\n",
            "trestbps      int64\n",
            "chol          int64\n",
            "fbs           int64\n",
            "restecg       int64\n",
            "thalach       int64\n",
            "exang         int64\n",
            "oldpeak     float64\n",
            "slope         int64\n",
            "ca            int64\n",
            "thal          int64\n",
            "target        int64\n",
            "dtype: object\n"
          ],
          "name": "stdout"
        }
      ]
    },
    {
      "cell_type": "code",
      "metadata": {
        "colab": {
          "base_uri": "https://localhost:8080/"
        },
        "id": "0wUFABxU7yUN",
        "outputId": "ee0841fb-ea67-4f7a-d136-31f1c398d571"
      },
      "source": [
        "#Reviewing age Distribution\n",
        "# if we need to know the balance of age values\n",
        "#one age set is having lots more observations than other age set\n",
        "count_age = data.groupby('age').size()\n",
        "print(count_age)\n"
      ],
      "execution_count": null,
      "outputs": [
        {
          "output_type": "stream",
          "text": [
            "age\n",
            "29     1\n",
            "34     2\n",
            "35     4\n",
            "37     2\n",
            "38     3\n",
            "39     4\n",
            "40     3\n",
            "41    10\n",
            "42     8\n",
            "43     8\n",
            "44    11\n",
            "45     8\n",
            "46     7\n",
            "47     5\n",
            "48     7\n",
            "49     5\n",
            "50     7\n",
            "51    12\n",
            "52    13\n",
            "53     8\n",
            "54    16\n",
            "55     8\n",
            "56    11\n",
            "57    17\n",
            "58    19\n",
            "59    14\n",
            "60    11\n",
            "61     8\n",
            "62    11\n",
            "63     9\n",
            "64    10\n",
            "65     8\n",
            "66     7\n",
            "67     9\n",
            "68     4\n",
            "69     3\n",
            "70     4\n",
            "71     3\n",
            "74     1\n",
            "76     1\n",
            "77     1\n",
            "dtype: int64\n"
          ],
          "name": "stdout"
        }
      ]
    },
    {
      "cell_type": "code",
      "metadata": {
        "colab": {
          "base_uri": "https://localhost:8080/"
        },
        "id": "fUiBUja5IawH",
        "outputId": "b1a780cd-d68b-47a0-cff4-032df471fffa"
      },
      "source": [
        "data = read_csv(path)\n",
        "#convert the DataFrame object to a NumPy array to achieve faster computation\n",
        "array = data.values\n",
        "#Next, we will separate array into input and output components \n",
        "\n",
        "\n",
        "X = array[:,0:13]\n",
        "Y = array[:,13]\n",
        "\n",
        "#select the best features from dataset\n",
        "#feature extration\n",
        "test = SelectKBest(score_func=chi2, k=4)\n",
        "fit = test.fit(X,Y)\n",
        "\n",
        "set_printoptions(precision=2)\n",
        "print(fit.scores_)\n",
        "featured_data = fit.transform(X)\n",
        "print (\"\\nFeatured data:\\n\", featured_data[0:4])\n"
      ],
      "execution_count": null,
      "outputs": [
        {
          "output_type": "stream",
          "text": [
            "[ 23.29   7.58  62.6   14.82  23.94   0.2    2.98 188.32  38.91  72.64\n",
            "   9.8   66.44   5.79]\n",
            "\n",
            "Featured data:\n",
            " [[  3.  150.    2.3   0. ]\n",
            " [  2.  187.    3.5   0. ]\n",
            " [  1.  172.    1.4   0. ]\n",
            " [  1.  178.    0.8   0. ]]\n"
          ],
          "name": "stdout"
        }
      ]
    },
    {
      "cell_type": "code",
      "metadata": {
        "colab": {
          "base_uri": "https://localhost:8080/"
        },
        "id": "YpCxPXZIP2CU",
        "outputId": "0fc9438e-5453-48d0-8cc6-8f513eb066d0"
      },
      "source": [
        "# Feature extraction\n",
        "model = LogisticRegression()\n",
        "rfe = RFE(model, 3)\n",
        "fit = rfe.fit(X, Y)\n",
        "print(\"Num Features: %s\" % (fit.n_features_))\n",
        "print(\"Selected Features: %s\" % (fit.support_))\n",
        "print(\"Feature Ranking: %s\" % (fit.ranking_))\n"
      ],
      "execution_count": 28,
      "outputs": [
        {
          "output_type": "stream",
          "text": [
            "Num Features: 3\n",
            "Selected Features: [False  True False False False False False False  True False  True False\n",
            " False]\n",
            "Feature Ranking: [10  1  4  8 11  9  6  7  1  5  1  3  2]\n"
          ],
          "name": "stdout"
        },
        {
          "output_type": "stream",
          "text": [
            "/usr/local/lib/python3.7/dist-packages/sklearn/linear_model/_logistic.py:940: ConvergenceWarning: lbfgs failed to converge (status=1):\n",
            "STOP: TOTAL NO. of ITERATIONS REACHED LIMIT.\n",
            "\n",
            "Increase the number of iterations (max_iter) or scale the data as shown in:\n",
            "    https://scikit-learn.org/stable/modules/preprocessing.html\n",
            "Please also refer to the documentation for alternative solver options:\n",
            "    https://scikit-learn.org/stable/modules/linear_model.html#logistic-regression\n",
            "  extra_warning_msg=_LOGISTIC_SOLVER_CONVERGENCE_MSG)\n",
            "/usr/local/lib/python3.7/dist-packages/sklearn/linear_model/_logistic.py:940: ConvergenceWarning: lbfgs failed to converge (status=1):\n",
            "STOP: TOTAL NO. of ITERATIONS REACHED LIMIT.\n",
            "\n",
            "Increase the number of iterations (max_iter) or scale the data as shown in:\n",
            "    https://scikit-learn.org/stable/modules/preprocessing.html\n",
            "Please also refer to the documentation for alternative solver options:\n",
            "    https://scikit-learn.org/stable/modules/linear_model.html#logistic-regression\n",
            "  extra_warning_msg=_LOGISTIC_SOLVER_CONVERGENCE_MSG)\n",
            "/usr/local/lib/python3.7/dist-packages/sklearn/linear_model/_logistic.py:940: ConvergenceWarning: lbfgs failed to converge (status=1):\n",
            "STOP: TOTAL NO. of ITERATIONS REACHED LIMIT.\n",
            "\n",
            "Increase the number of iterations (max_iter) or scale the data as shown in:\n",
            "    https://scikit-learn.org/stable/modules/preprocessing.html\n",
            "Please also refer to the documentation for alternative solver options:\n",
            "    https://scikit-learn.org/stable/modules/linear_model.html#logistic-regression\n",
            "  extra_warning_msg=_LOGISTIC_SOLVER_CONVERGENCE_MSG)\n",
            "/usr/local/lib/python3.7/dist-packages/sklearn/linear_model/_logistic.py:940: ConvergenceWarning: lbfgs failed to converge (status=1):\n",
            "STOP: TOTAL NO. of ITERATIONS REACHED LIMIT.\n",
            "\n",
            "Increase the number of iterations (max_iter) or scale the data as shown in:\n",
            "    https://scikit-learn.org/stable/modules/preprocessing.html\n",
            "Please also refer to the documentation for alternative solver options:\n",
            "    https://scikit-learn.org/stable/modules/linear_model.html#logistic-regression\n",
            "  extra_warning_msg=_LOGISTIC_SOLVER_CONVERGENCE_MSG)\n"
          ],
          "name": "stderr"
        }
      ]
    }
  ]
}