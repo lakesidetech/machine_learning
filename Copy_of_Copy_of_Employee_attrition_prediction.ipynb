{
  "nbformat": 4,
  "nbformat_minor": 0,
  "metadata": {
    "colab": {
      "name": "Copy of Copy of Employee_attrition_prediction.ipynb",
      "provenance": [],
      "collapsed_sections": [],
      "mount_file_id": "https://github.com/lakesidetech/machine_learning/blob/main/Employee_attrition_prediction.ipynb",
      "authorship_tag": "ABX9TyO0kD/1cRAlD7CDLxX2mNjM",
      "include_colab_link": true
    },
    "kernelspec": {
      "name": "python3",
      "display_name": "Python 3"
    },
    "language_info": {
      "name": "python"
    }
  },
  "cells": [
    {
      "cell_type": "markdown",
      "metadata": {
        "id": "view-in-github",
        "colab_type": "text"
      },
      "source": [
        "<a href=\"https://colab.research.google.com/github/lakesidetech/machine_learning/blob/main/Copy_of_Copy_of_Employee_attrition_prediction.ipynb\" target=\"_parent\"><img src=\"https://colab.research.google.com/assets/colab-badge.svg\" alt=\"Open In Colab\"/></a>"
      ]
    },
    {
      "cell_type": "markdown",
      "metadata": {
        "id": "1O1zmn8QuYzM"
      },
      "source": [
        "#Machine Learning Model for Predicting Employee Attrition\n",
        "We build a simple model using the ***HR_database.csv*** data set for predicting an employee attrition. This project is organized as follows: (a) data preprocessing and variable selection; (b) basic regression model; (c) hyper-parameters tuning; and (d) techniques for dimensionality reduction.\n",
        "\n",
        "Author: Ruth A. Amolo & Nancy Wachira Date: 5/15/2021\n"
      ]
    },
    {
      "cell_type": "code",
      "metadata": {
        "id": "jlc15nvGu03F"
      },
      "source": [
        "#data processing\n",
        "import pandas as pd\n",
        "\n",
        "# linear algebra\n",
        "import numpy as np\n",
        "\n",
        "# data visualization\n",
        "import matplotlib.pyplot as plt\n",
        "%matplotlib inline\n",
        "import seaborn as sns\n",
        "from pandas import read_csv\n",
        "\n",
        "#Algorithms\n",
        "from sklearn import linear_model\n",
        "from sklearn.linear_model import SGDClassifier\n",
        "from sklearn.linear_model import Perceptron\n",
        "from sklearn.linear_model import LogisticRegression\n",
        "from sklearn.neighbors import KNeighborsClassifier\n",
        "from sklearn.svm import SVC,LinearSVC\n",
        "from sklearn.tree import DecisionTreeClassifier\n",
        "from sklearn.ensemble import RandomForestClassifier\n",
        "\n"
      ],
      "execution_count": null,
      "outputs": []
    },
    {
      "cell_type": "markdown",
      "metadata": {
        "id": "lFWAuSPfwujS"
      },
      "source": [
        "**1. Read dataset and display columns¶**\n"
      ]
    },
    {
      "cell_type": "code",
      "metadata": {
        "id": "pX7o6ppDyEAW"
      },
      "source": [
        "hr_attrition_test_df=pd.read_csv('/content/employee_attrition_test.csv')\n",
        "hr_attrition_train_df=pd.read_csv('/content/employee_attrition_train.csv')\n",
        "\n"
      ],
      "execution_count": null,
      "outputs": []
    },
    {
      "cell_type": "code",
      "metadata": {
        "colab": {
          "base_uri": "https://localhost:8080/"
        },
        "id": "ruEOX0Nddg0s",
        "outputId": "0a5f46a0-6eac-43b0-b7cc-d3f15beab923"
      },
      "source": [
        "#Data Exploration/Analysis\n",
        "hr_attrition_train_df.info()\n"
      ],
      "execution_count": null,
      "outputs": [
        {
          "output_type": "stream",
          "text": [
            "<class 'pandas.core.frame.DataFrame'>\n",
            "RangeIndex: 1029 entries, 0 to 1028\n",
            "Data columns (total 35 columns):\n",
            " #   Column                    Non-Null Count  Dtype  \n",
            "---  ------                    --------------  -----  \n",
            " 0   Age                       893 non-null    float64\n",
            " 1   Attrition                 1029 non-null   object \n",
            " 2   BusinessTravel            1024 non-null   object \n",
            " 3   DailyRate                 1002 non-null   float64\n",
            " 4   Department                1029 non-null   object \n",
            " 5   DistanceFromHome          934 non-null    float64\n",
            " 6   Education                 1029 non-null   int64  \n",
            " 7   EducationField            1029 non-null   object \n",
            " 8   EmployeeCount             1029 non-null   int64  \n",
            " 9   EmployeeNumber            1029 non-null   int64  \n",
            " 10  EnvironmentSatisfaction   1029 non-null   int64  \n",
            " 11  Gender                    1029 non-null   object \n",
            " 12  HourlyRate                1029 non-null   int64  \n",
            " 13  JobInvolvement            1029 non-null   int64  \n",
            " 14  JobLevel                  1029 non-null   int64  \n",
            " 15  JobRole                   1029 non-null   object \n",
            " 16  JobSatisfaction           1029 non-null   int64  \n",
            " 17  MaritalStatus             1024 non-null   object \n",
            " 18  MonthlyIncome             1029 non-null   int64  \n",
            " 19  MonthlyRate               1029 non-null   int64  \n",
            " 20  NumCompaniesWorked        1029 non-null   int64  \n",
            " 21  Over18                    1029 non-null   object \n",
            " 22  OverTime                  1029 non-null   object \n",
            " 23  PercentSalaryHike         1029 non-null   int64  \n",
            " 24  PerformanceRating         1029 non-null   int64  \n",
            " 25  RelationshipSatisfaction  1029 non-null   int64  \n",
            " 26  StandardHours             1029 non-null   int64  \n",
            " 27  StockOptionLevel          1029 non-null   int64  \n",
            " 28  TotalWorkingYears         1029 non-null   int64  \n",
            " 29  TrainingTimesLastYear     1029 non-null   int64  \n",
            " 30  WorkLifeBalance           1029 non-null   int64  \n",
            " 31  YearsAtCompany            1029 non-null   int64  \n",
            " 32  YearsInCurrentRole        1029 non-null   int64  \n",
            " 33  YearsSinceLastPromotion   1029 non-null   int64  \n",
            " 34  YearsWithCurrManager      1029 non-null   int64  \n",
            "dtypes: float64(3), int64(23), object(9)\n",
            "memory usage: 281.5+ KB\n"
          ],
          "name": "stdout"
        }
      ]
    },
    {
      "cell_type": "markdown",
      "metadata": {
        "id": "aPwuCzRVe6h7"
      },
      "source": [
        "***Training set has 1029 examples and 34 features + te target variable (attrition) 3 of the features are floats, 23 are integer and 9 are objects***"
      ]
    },
    {
      "cell_type": "code",
      "metadata": {
        "id": "Bjsn7QPuZASM",
        "colab": {
          "base_uri": "https://localhost:8080/",
          "height": 305
        },
        "outputId": "6ff0c593-c3f3-4941-b8f8-05e16e4c45c4"
      },
      "source": [
        "hr_attrition_train_df.head()"
      ],
      "execution_count": null,
      "outputs": [
        {
          "output_type": "execute_result",
          "data": {
            "text/html": [
              "<div>\n",
              "<style scoped>\n",
              "    .dataframe tbody tr th:only-of-type {\n",
              "        vertical-align: middle;\n",
              "    }\n",
              "\n",
              "    .dataframe tbody tr th {\n",
              "        vertical-align: top;\n",
              "    }\n",
              "\n",
              "    .dataframe thead th {\n",
              "        text-align: right;\n",
              "    }\n",
              "</style>\n",
              "<table border=\"1\" class=\"dataframe\">\n",
              "  <thead>\n",
              "    <tr style=\"text-align: right;\">\n",
              "      <th></th>\n",
              "      <th>Age</th>\n",
              "      <th>Attrition</th>\n",
              "      <th>BusinessTravel</th>\n",
              "      <th>DailyRate</th>\n",
              "      <th>Department</th>\n",
              "      <th>DistanceFromHome</th>\n",
              "      <th>Education</th>\n",
              "      <th>EducationField</th>\n",
              "      <th>EmployeeCount</th>\n",
              "      <th>EmployeeNumber</th>\n",
              "      <th>EnvironmentSatisfaction</th>\n",
              "      <th>Gender</th>\n",
              "      <th>HourlyRate</th>\n",
              "      <th>JobInvolvement</th>\n",
              "      <th>JobLevel</th>\n",
              "      <th>JobRole</th>\n",
              "      <th>JobSatisfaction</th>\n",
              "      <th>MaritalStatus</th>\n",
              "      <th>MonthlyIncome</th>\n",
              "      <th>MonthlyRate</th>\n",
              "      <th>NumCompaniesWorked</th>\n",
              "      <th>Over18</th>\n",
              "      <th>OverTime</th>\n",
              "      <th>PercentSalaryHike</th>\n",
              "      <th>PerformanceRating</th>\n",
              "      <th>RelationshipSatisfaction</th>\n",
              "      <th>StandardHours</th>\n",
              "      <th>StockOptionLevel</th>\n",
              "      <th>TotalWorkingYears</th>\n",
              "      <th>TrainingTimesLastYear</th>\n",
              "      <th>WorkLifeBalance</th>\n",
              "      <th>YearsAtCompany</th>\n",
              "      <th>YearsInCurrentRole</th>\n",
              "      <th>YearsSinceLastPromotion</th>\n",
              "      <th>YearsWithCurrManager</th>\n",
              "    </tr>\n",
              "  </thead>\n",
              "  <tbody>\n",
              "    <tr>\n",
              "      <th>0</th>\n",
              "      <td>50.0</td>\n",
              "      <td>No</td>\n",
              "      <td>Travel_Rarely</td>\n",
              "      <td>1126.0</td>\n",
              "      <td>Research &amp; Development</td>\n",
              "      <td>1.0</td>\n",
              "      <td>2</td>\n",
              "      <td>Medical</td>\n",
              "      <td>1</td>\n",
              "      <td>997</td>\n",
              "      <td>4</td>\n",
              "      <td>Male</td>\n",
              "      <td>66</td>\n",
              "      <td>3</td>\n",
              "      <td>4</td>\n",
              "      <td>Research Director</td>\n",
              "      <td>4</td>\n",
              "      <td>Divorced</td>\n",
              "      <td>17399</td>\n",
              "      <td>6615</td>\n",
              "      <td>9</td>\n",
              "      <td>Y</td>\n",
              "      <td>No</td>\n",
              "      <td>22</td>\n",
              "      <td>4</td>\n",
              "      <td>3</td>\n",
              "      <td>80</td>\n",
              "      <td>1</td>\n",
              "      <td>32</td>\n",
              "      <td>1</td>\n",
              "      <td>2</td>\n",
              "      <td>5</td>\n",
              "      <td>4</td>\n",
              "      <td>1</td>\n",
              "      <td>3</td>\n",
              "    </tr>\n",
              "    <tr>\n",
              "      <th>1</th>\n",
              "      <td>36.0</td>\n",
              "      <td>No</td>\n",
              "      <td>Travel_Rarely</td>\n",
              "      <td>216.0</td>\n",
              "      <td>Research &amp; Development</td>\n",
              "      <td>6.0</td>\n",
              "      <td>2</td>\n",
              "      <td>Medical</td>\n",
              "      <td>1</td>\n",
              "      <td>178</td>\n",
              "      <td>2</td>\n",
              "      <td>Male</td>\n",
              "      <td>84</td>\n",
              "      <td>3</td>\n",
              "      <td>2</td>\n",
              "      <td>Manufacturing Director</td>\n",
              "      <td>2</td>\n",
              "      <td>Divorced</td>\n",
              "      <td>4941</td>\n",
              "      <td>2819</td>\n",
              "      <td>6</td>\n",
              "      <td>Y</td>\n",
              "      <td>No</td>\n",
              "      <td>20</td>\n",
              "      <td>4</td>\n",
              "      <td>4</td>\n",
              "      <td>80</td>\n",
              "      <td>2</td>\n",
              "      <td>7</td>\n",
              "      <td>0</td>\n",
              "      <td>3</td>\n",
              "      <td>3</td>\n",
              "      <td>2</td>\n",
              "      <td>0</td>\n",
              "      <td>1</td>\n",
              "    </tr>\n",
              "    <tr>\n",
              "      <th>2</th>\n",
              "      <td>21.0</td>\n",
              "      <td>Yes</td>\n",
              "      <td>Travel_Rarely</td>\n",
              "      <td>337.0</td>\n",
              "      <td>Sales</td>\n",
              "      <td>7.0</td>\n",
              "      <td>1</td>\n",
              "      <td>Marketing</td>\n",
              "      <td>1</td>\n",
              "      <td>1780</td>\n",
              "      <td>2</td>\n",
              "      <td>Male</td>\n",
              "      <td>31</td>\n",
              "      <td>3</td>\n",
              "      <td>1</td>\n",
              "      <td>Sales Representative</td>\n",
              "      <td>2</td>\n",
              "      <td>Single</td>\n",
              "      <td>2679</td>\n",
              "      <td>4567</td>\n",
              "      <td>1</td>\n",
              "      <td>Y</td>\n",
              "      <td>No</td>\n",
              "      <td>13</td>\n",
              "      <td>3</td>\n",
              "      <td>2</td>\n",
              "      <td>80</td>\n",
              "      <td>0</td>\n",
              "      <td>1</td>\n",
              "      <td>3</td>\n",
              "      <td>3</td>\n",
              "      <td>1</td>\n",
              "      <td>0</td>\n",
              "      <td>1</td>\n",
              "      <td>0</td>\n",
              "    </tr>\n",
              "    <tr>\n",
              "      <th>3</th>\n",
              "      <td>50.0</td>\n",
              "      <td>No</td>\n",
              "      <td>Travel_Frequently</td>\n",
              "      <td>1246.0</td>\n",
              "      <td>Human Resources</td>\n",
              "      <td>NaN</td>\n",
              "      <td>3</td>\n",
              "      <td>Medical</td>\n",
              "      <td>1</td>\n",
              "      <td>644</td>\n",
              "      <td>1</td>\n",
              "      <td>Male</td>\n",
              "      <td>99</td>\n",
              "      <td>3</td>\n",
              "      <td>5</td>\n",
              "      <td>Manager</td>\n",
              "      <td>2</td>\n",
              "      <td>Married</td>\n",
              "      <td>18200</td>\n",
              "      <td>7999</td>\n",
              "      <td>1</td>\n",
              "      <td>Y</td>\n",
              "      <td>No</td>\n",
              "      <td>11</td>\n",
              "      <td>3</td>\n",
              "      <td>3</td>\n",
              "      <td>80</td>\n",
              "      <td>1</td>\n",
              "      <td>32</td>\n",
              "      <td>2</td>\n",
              "      <td>3</td>\n",
              "      <td>32</td>\n",
              "      <td>5</td>\n",
              "      <td>10</td>\n",
              "      <td>7</td>\n",
              "    </tr>\n",
              "    <tr>\n",
              "      <th>4</th>\n",
              "      <td>52.0</td>\n",
              "      <td>No</td>\n",
              "      <td>Travel_Rarely</td>\n",
              "      <td>994.0</td>\n",
              "      <td>Research &amp; Development</td>\n",
              "      <td>7.0</td>\n",
              "      <td>4</td>\n",
              "      <td>Life Sciences</td>\n",
              "      <td>1</td>\n",
              "      <td>1118</td>\n",
              "      <td>2</td>\n",
              "      <td>Male</td>\n",
              "      <td>87</td>\n",
              "      <td>3</td>\n",
              "      <td>3</td>\n",
              "      <td>Healthcare Representative</td>\n",
              "      <td>2</td>\n",
              "      <td>Single</td>\n",
              "      <td>10445</td>\n",
              "      <td>15322</td>\n",
              "      <td>7</td>\n",
              "      <td>Y</td>\n",
              "      <td>No</td>\n",
              "      <td>19</td>\n",
              "      <td>3</td>\n",
              "      <td>4</td>\n",
              "      <td>80</td>\n",
              "      <td>0</td>\n",
              "      <td>18</td>\n",
              "      <td>4</td>\n",
              "      <td>3</td>\n",
              "      <td>8</td>\n",
              "      <td>6</td>\n",
              "      <td>4</td>\n",
              "      <td>0</td>\n",
              "    </tr>\n",
              "  </tbody>\n",
              "</table>\n",
              "</div>"
            ],
            "text/plain": [
              "    Age Attrition  ... YearsSinceLastPromotion  YearsWithCurrManager\n",
              "0  50.0        No  ...                       1                     3\n",
              "1  36.0        No  ...                       0                     1\n",
              "2  21.0       Yes  ...                       1                     0\n",
              "3  50.0        No  ...                      10                     7\n",
              "4  52.0        No  ...                       4                     0\n",
              "\n",
              "[5 rows x 35 columns]"
            ]
          },
          "metadata": {
            "tags": []
          },
          "execution_count": 8
        }
      ]
    },
    {
      "cell_type": "code",
      "metadata": {
        "colab": {
          "base_uri": "https://localhost:8080/",
          "height": 198
        },
        "id": "XBmqmeELmj4A",
        "outputId": "36fa7c2e-26b3-4fd0-9ae7-9cf0e740c088"
      },
      "source": [
        "#Let’s take a more detailed look at what data is actually missing:\n",
        "total = hr_attrition_train_df.isnull().sum().sort_values(ascending=False)\n",
        "percent_1 = hr_attrition_train_df.isnull().sum()/hr_attrition_train_df.isnull().count()*100\n",
        "percent_2 = (round(percent_1, 1)).sort_values(ascending=False)\n",
        "missing_data = pd.concat([total, percent_2], axis=1, keys=['Total', '%'])\n",
        "missing_data.head(5)\n",
        "\n"
      ],
      "execution_count": null,
      "outputs": [
        {
          "output_type": "execute_result",
          "data": {
            "text/html": [
              "<div>\n",
              "<style scoped>\n",
              "    .dataframe tbody tr th:only-of-type {\n",
              "        vertical-align: middle;\n",
              "    }\n",
              "\n",
              "    .dataframe tbody tr th {\n",
              "        vertical-align: top;\n",
              "    }\n",
              "\n",
              "    .dataframe thead th {\n",
              "        text-align: right;\n",
              "    }\n",
              "</style>\n",
              "<table border=\"1\" class=\"dataframe\">\n",
              "  <thead>\n",
              "    <tr style=\"text-align: right;\">\n",
              "      <th></th>\n",
              "      <th>Total</th>\n",
              "      <th>%</th>\n",
              "    </tr>\n",
              "  </thead>\n",
              "  <tbody>\n",
              "    <tr>\n",
              "      <th>Age</th>\n",
              "      <td>136</td>\n",
              "      <td>13.2</td>\n",
              "    </tr>\n",
              "    <tr>\n",
              "      <th>DistanceFromHome</th>\n",
              "      <td>95</td>\n",
              "      <td>9.2</td>\n",
              "    </tr>\n",
              "    <tr>\n",
              "      <th>DailyRate</th>\n",
              "      <td>27</td>\n",
              "      <td>2.6</td>\n",
              "    </tr>\n",
              "    <tr>\n",
              "      <th>BusinessTravel</th>\n",
              "      <td>5</td>\n",
              "      <td>0.5</td>\n",
              "    </tr>\n",
              "    <tr>\n",
              "      <th>MaritalStatus</th>\n",
              "      <td>5</td>\n",
              "      <td>0.5</td>\n",
              "    </tr>\n",
              "  </tbody>\n",
              "</table>\n",
              "</div>"
            ],
            "text/plain": [
              "                  Total     %\n",
              "Age                 136  13.2\n",
              "DistanceFromHome     95   9.2\n",
              "DailyRate            27   2.6\n",
              "BusinessTravel        5   0.5\n",
              "MaritalStatus         5   0.5"
            ]
          },
          "metadata": {
            "tags": []
          },
          "execution_count": 9
        }
      ]
    },
    {
      "cell_type": "markdown",
      "metadata": {
        "id": "z2NvKPRVnsMU"
      },
      "source": [
        "The **BusinessTravel** and **MaritalStatus** has 5 features missing values, which can easily be filled. It will be much more tricky, to deal with the **‘Age’** feature, which has 136 missing values. The **DistanceFromHome** feature needs further investigation it is missing 95, and **DailyRate** feature is missing 27.\n"
      ]
    },
    {
      "cell_type": "code",
      "metadata": {
        "colab": {
          "base_uri": "https://localhost:8080/",
          "height": 308
        },
        "id": "ycmHmYXRdezQ",
        "outputId": "96560907-ac96-427a-f098-7f7b8b300cfa"
      },
      "source": [
        "hr_attrition_train_df.describe()\n"
      ],
      "execution_count": null,
      "outputs": [
        {
          "output_type": "execute_result",
          "data": {
            "text/html": [
              "<div>\n",
              "<style scoped>\n",
              "    .dataframe tbody tr th:only-of-type {\n",
              "        vertical-align: middle;\n",
              "    }\n",
              "\n",
              "    .dataframe tbody tr th {\n",
              "        vertical-align: top;\n",
              "    }\n",
              "\n",
              "    .dataframe thead th {\n",
              "        text-align: right;\n",
              "    }\n",
              "</style>\n",
              "<table border=\"1\" class=\"dataframe\">\n",
              "  <thead>\n",
              "    <tr style=\"text-align: right;\">\n",
              "      <th></th>\n",
              "      <th>Age</th>\n",
              "      <th>DailyRate</th>\n",
              "      <th>DistanceFromHome</th>\n",
              "      <th>Education</th>\n",
              "      <th>EmployeeCount</th>\n",
              "      <th>EmployeeNumber</th>\n",
              "      <th>EnvironmentSatisfaction</th>\n",
              "      <th>HourlyRate</th>\n",
              "      <th>JobInvolvement</th>\n",
              "      <th>JobLevel</th>\n",
              "      <th>JobSatisfaction</th>\n",
              "      <th>MonthlyIncome</th>\n",
              "      <th>MonthlyRate</th>\n",
              "      <th>NumCompaniesWorked</th>\n",
              "      <th>PercentSalaryHike</th>\n",
              "      <th>PerformanceRating</th>\n",
              "      <th>RelationshipSatisfaction</th>\n",
              "      <th>StandardHours</th>\n",
              "      <th>StockOptionLevel</th>\n",
              "      <th>TotalWorkingYears</th>\n",
              "      <th>TrainingTimesLastYear</th>\n",
              "      <th>WorkLifeBalance</th>\n",
              "      <th>YearsAtCompany</th>\n",
              "      <th>YearsInCurrentRole</th>\n",
              "      <th>YearsSinceLastPromotion</th>\n",
              "      <th>YearsWithCurrManager</th>\n",
              "    </tr>\n",
              "  </thead>\n",
              "  <tbody>\n",
              "    <tr>\n",
              "      <th>count</th>\n",
              "      <td>893.000000</td>\n",
              "      <td>1002.000000</td>\n",
              "      <td>934.000000</td>\n",
              "      <td>1029.000000</td>\n",
              "      <td>1029.0</td>\n",
              "      <td>1029.000000</td>\n",
              "      <td>1029.000000</td>\n",
              "      <td>1029.000000</td>\n",
              "      <td>1029.000000</td>\n",
              "      <td>1029.000000</td>\n",
              "      <td>1029.000000</td>\n",
              "      <td>1029.000000</td>\n",
              "      <td>1029.000000</td>\n",
              "      <td>1029.000000</td>\n",
              "      <td>1029.000000</td>\n",
              "      <td>1029.000000</td>\n",
              "      <td>1029.000000</td>\n",
              "      <td>1029.0</td>\n",
              "      <td>1029.000000</td>\n",
              "      <td>1029.000000</td>\n",
              "      <td>1029.000000</td>\n",
              "      <td>1029.000000</td>\n",
              "      <td>1029.000000</td>\n",
              "      <td>1029.000000</td>\n",
              "      <td>1029.000000</td>\n",
              "      <td>1029.000000</td>\n",
              "    </tr>\n",
              "    <tr>\n",
              "      <th>mean</th>\n",
              "      <td>37.930571</td>\n",
              "      <td>800.528942</td>\n",
              "      <td>9.930407</td>\n",
              "      <td>2.892128</td>\n",
              "      <td>1.0</td>\n",
              "      <td>1024.367347</td>\n",
              "      <td>2.683188</td>\n",
              "      <td>66.680272</td>\n",
              "      <td>2.713314</td>\n",
              "      <td>2.043732</td>\n",
              "      <td>2.712342</td>\n",
              "      <td>6449.796890</td>\n",
              "      <td>14250.629738</td>\n",
              "      <td>2.653061</td>\n",
              "      <td>15.260447</td>\n",
              "      <td>3.159378</td>\n",
              "      <td>2.689990</td>\n",
              "      <td>80.0</td>\n",
              "      <td>0.822157</td>\n",
              "      <td>11.196307</td>\n",
              "      <td>2.782313</td>\n",
              "      <td>2.748299</td>\n",
              "      <td>6.942663</td>\n",
              "      <td>4.215743</td>\n",
              "      <td>2.119534</td>\n",
              "      <td>4.005831</td>\n",
              "    </tr>\n",
              "    <tr>\n",
              "      <th>std</th>\n",
              "      <td>9.395978</td>\n",
              "      <td>408.109828</td>\n",
              "      <td>8.421791</td>\n",
              "      <td>1.053541</td>\n",
              "      <td>0.0</td>\n",
              "      <td>606.301635</td>\n",
              "      <td>1.096829</td>\n",
              "      <td>20.474094</td>\n",
              "      <td>0.710146</td>\n",
              "      <td>1.118918</td>\n",
              "      <td>1.096889</td>\n",
              "      <td>4794.525367</td>\n",
              "      <td>7088.757938</td>\n",
              "      <td>2.508186</td>\n",
              "      <td>3.665779</td>\n",
              "      <td>0.366206</td>\n",
              "      <td>1.077767</td>\n",
              "      <td>0.0</td>\n",
              "      <td>0.874662</td>\n",
              "      <td>7.857581</td>\n",
              "      <td>1.283401</td>\n",
              "      <td>0.697278</td>\n",
              "      <td>6.068322</td>\n",
              "      <td>3.658595</td>\n",
              "      <td>3.108651</td>\n",
              "      <td>3.522574</td>\n",
              "    </tr>\n",
              "    <tr>\n",
              "      <th>min</th>\n",
              "      <td>18.000000</td>\n",
              "      <td>102.000000</td>\n",
              "      <td>1.000000</td>\n",
              "      <td>1.000000</td>\n",
              "      <td>1.0</td>\n",
              "      <td>1.000000</td>\n",
              "      <td>1.000000</td>\n",
              "      <td>30.000000</td>\n",
              "      <td>1.000000</td>\n",
              "      <td>1.000000</td>\n",
              "      <td>1.000000</td>\n",
              "      <td>1009.000000</td>\n",
              "      <td>2094.000000</td>\n",
              "      <td>0.000000</td>\n",
              "      <td>11.000000</td>\n",
              "      <td>3.000000</td>\n",
              "      <td>1.000000</td>\n",
              "      <td>80.0</td>\n",
              "      <td>0.000000</td>\n",
              "      <td>0.000000</td>\n",
              "      <td>0.000000</td>\n",
              "      <td>1.000000</td>\n",
              "      <td>0.000000</td>\n",
              "      <td>0.000000</td>\n",
              "      <td>0.000000</td>\n",
              "      <td>0.000000</td>\n",
              "    </tr>\n",
              "    <tr>\n",
              "      <th>25%</th>\n",
              "      <td>31.000000</td>\n",
              "      <td>458.250000</td>\n",
              "      <td>2.000000</td>\n",
              "      <td>2.000000</td>\n",
              "      <td>1.0</td>\n",
              "      <td>496.000000</td>\n",
              "      <td>2.000000</td>\n",
              "      <td>48.000000</td>\n",
              "      <td>2.000000</td>\n",
              "      <td>1.000000</td>\n",
              "      <td>2.000000</td>\n",
              "      <td>2814.000000</td>\n",
              "      <td>7950.000000</td>\n",
              "      <td>1.000000</td>\n",
              "      <td>12.000000</td>\n",
              "      <td>3.000000</td>\n",
              "      <td>2.000000</td>\n",
              "      <td>80.0</td>\n",
              "      <td>0.000000</td>\n",
              "      <td>6.000000</td>\n",
              "      <td>2.000000</td>\n",
              "      <td>2.000000</td>\n",
              "      <td>3.000000</td>\n",
              "      <td>2.000000</td>\n",
              "      <td>0.000000</td>\n",
              "      <td>2.000000</td>\n",
              "    </tr>\n",
              "    <tr>\n",
              "      <th>50%</th>\n",
              "      <td>37.000000</td>\n",
              "      <td>801.500000</td>\n",
              "      <td>8.000000</td>\n",
              "      <td>3.000000</td>\n",
              "      <td>1.0</td>\n",
              "      <td>1019.000000</td>\n",
              "      <td>3.000000</td>\n",
              "      <td>67.000000</td>\n",
              "      <td>3.000000</td>\n",
              "      <td>2.000000</td>\n",
              "      <td>3.000000</td>\n",
              "      <td>4735.000000</td>\n",
              "      <td>14295.000000</td>\n",
              "      <td>1.000000</td>\n",
              "      <td>14.000000</td>\n",
              "      <td>3.000000</td>\n",
              "      <td>3.000000</td>\n",
              "      <td>80.0</td>\n",
              "      <td>1.000000</td>\n",
              "      <td>10.000000</td>\n",
              "      <td>3.000000</td>\n",
              "      <td>3.000000</td>\n",
              "      <td>5.000000</td>\n",
              "      <td>3.000000</td>\n",
              "      <td>1.000000</td>\n",
              "      <td>3.000000</td>\n",
              "    </tr>\n",
              "    <tr>\n",
              "      <th>75%</th>\n",
              "      <td>44.000000</td>\n",
              "      <td>1162.000000</td>\n",
              "      <td>16.000000</td>\n",
              "      <td>4.000000</td>\n",
              "      <td>1.0</td>\n",
              "      <td>1553.000000</td>\n",
              "      <td>4.000000</td>\n",
              "      <td>84.000000</td>\n",
              "      <td>3.000000</td>\n",
              "      <td>3.000000</td>\n",
              "      <td>4.000000</td>\n",
              "      <td>8446.000000</td>\n",
              "      <td>20392.000000</td>\n",
              "      <td>4.000000</td>\n",
              "      <td>18.000000</td>\n",
              "      <td>3.000000</td>\n",
              "      <td>4.000000</td>\n",
              "      <td>80.0</td>\n",
              "      <td>1.000000</td>\n",
              "      <td>15.000000</td>\n",
              "      <td>3.000000</td>\n",
              "      <td>3.000000</td>\n",
              "      <td>10.000000</td>\n",
              "      <td>7.000000</td>\n",
              "      <td>2.000000</td>\n",
              "      <td>7.000000</td>\n",
              "    </tr>\n",
              "    <tr>\n",
              "      <th>max</th>\n",
              "      <td>60.000000</td>\n",
              "      <td>1496.000000</td>\n",
              "      <td>29.000000</td>\n",
              "      <td>5.000000</td>\n",
              "      <td>1.0</td>\n",
              "      <td>2068.000000</td>\n",
              "      <td>4.000000</td>\n",
              "      <td>100.000000</td>\n",
              "      <td>4.000000</td>\n",
              "      <td>5.000000</td>\n",
              "      <td>4.000000</td>\n",
              "      <td>19999.000000</td>\n",
              "      <td>26999.000000</td>\n",
              "      <td>9.000000</td>\n",
              "      <td>25.000000</td>\n",
              "      <td>4.000000</td>\n",
              "      <td>4.000000</td>\n",
              "      <td>80.0</td>\n",
              "      <td>3.000000</td>\n",
              "      <td>40.000000</td>\n",
              "      <td>6.000000</td>\n",
              "      <td>4.000000</td>\n",
              "      <td>37.000000</td>\n",
              "      <td>18.000000</td>\n",
              "      <td>15.000000</td>\n",
              "      <td>17.000000</td>\n",
              "    </tr>\n",
              "  </tbody>\n",
              "</table>\n",
              "</div>"
            ],
            "text/plain": [
              "              Age    DailyRate  ...  YearsSinceLastPromotion  YearsWithCurrManager\n",
              "count  893.000000  1002.000000  ...              1029.000000           1029.000000\n",
              "mean    37.930571   800.528942  ...                 2.119534              4.005831\n",
              "std      9.395978   408.109828  ...                 3.108651              3.522574\n",
              "min     18.000000   102.000000  ...                 0.000000              0.000000\n",
              "25%     31.000000   458.250000  ...                 0.000000              2.000000\n",
              "50%     37.000000   801.500000  ...                 1.000000              3.000000\n",
              "75%     44.000000  1162.000000  ...                 2.000000              7.000000\n",
              "max     60.000000  1496.000000  ...                15.000000             17.000000\n",
              "\n",
              "[8 rows x 26 columns]"
            ]
          },
          "metadata": {
            "tags": []
          },
          "execution_count": 10
        }
      ]
    },
    {
      "cell_type": "markdown",
      "metadata": {
        "id": "YmyYXMVde1Jr"
      },
      "source": [
        "**hh**"
      ]
    },
    {
      "cell_type": "code",
      "metadata": {
        "id": "uNSsGv9ZdaMY",
        "colab": {
          "base_uri": "https://localhost:8080/"
        },
        "outputId": "3ed93d34-eba1-42f8-e4e7-adc459d4f14f"
      },
      "source": [
        "hr_attrition_train_df.shape"
      ],
      "execution_count": null,
      "outputs": [
        {
          "output_type": "execute_result",
          "data": {
            "text/plain": [
              "(1029, 35)"
            ]
          },
          "metadata": {
            "tags": []
          },
          "execution_count": 11
        }
      ]
    },
    {
      "cell_type": "code",
      "metadata": {
        "id": "VdDUZwYY3DZe"
      },
      "source": [
        ""
      ],
      "execution_count": null,
      "outputs": []
    },
    {
      "cell_type": "code",
      "metadata": {
        "id": "TN0Mhocl3A1X"
      },
      "source": [
        ""
      ],
      "execution_count": null,
      "outputs": []
    },
    {
      "cell_type": "code",
      "metadata": {
        "colab": {
          "base_uri": "https://localhost:8080/",
          "height": 268
        },
        "id": "GQuCHehX1u7H",
        "outputId": "88d5349f-c615-4edc-bdb9-8137cbf1e4dc"
      },
      "source": [
        "# See the distribution of gender to recognize different distributions\n",
        "plt.subplots(figsize=(20,4))\n",
        "sns.countplot(x='Age', data=hr_attrition_train_df);\n",
        "plt.title('Distribution of Age');\n"
      ],
      "execution_count": null,
      "outputs": [
        {
          "output_type": "display_data",
          "data": {
            "image/png": "[encoded data removed]",
            "text/plain": [
              "<Figure size 1440x288 with 1 Axes>"
            ]
          },
          "metadata": {
            "tags": [],
            "needs_background": "light"
          }
        }
      ]
    },
    {
      "cell_type": "markdown",
      "metadata": {
        "id": "eyc_2lCI-KtY"
      },
      "source": [
        "#What Features Are Linked To Employee Attrition?\n"
      ]
    },
    {
      "cell_type": "code",
      "metadata": {
        "id": "A77_syc2-OWW"
      },
      "source": [
        "bins = [18, 25, 45, 60, np.inf]\n",
        "labels = ['Teenager', 'Young', 'adult', 'elder']\n",
        "age_groups = pd.cut(hr_attrition_train_df.Age, bins, labels=labels)\n",
        "hr_attrition_train_df['age_group'] = age_groups"
      ],
      "execution_count": null,
      "outputs": []
    },
    {
      "cell_type": "code",
      "metadata": {
        "colab": {
          "base_uri": "https://localhost:8080/",
          "height": 298
        },
        "id": "SvBGdm9MHcY9",
        "outputId": "9bad4555-d5a5-4f24-8f22-f9649286b676"
      },
      "source": [
        "sns.scatterplot(data=hr_attrition_train_df, x=\"Age\", y=\"DistanceFromHome\")\n",
        "\n"
      ],
      "execution_count": null,
      "outputs": [
        {
          "output_type": "execute_result",
          "data": {
            "text/plain": [
              "<matplotlib.axes._subplots.AxesSubplot at 0x7f800d29dc90>"
            ]
          },
          "metadata": {
            "tags": []
          },
          "execution_count": 15
        },
        {
          "output_type": "display_data",
          "data": {
            "image/png": "[encoded data removed]",
            "text/plain": [
              "<Figure size 432x288 with 1 Axes>"
            ]
          },
          "metadata": {
            "tags": [],
            "needs_background": "light"
          }
        }
      ]
    },
    {
      "cell_type": "code",
      "metadata": {
        "colab": {
          "base_uri": "https://localhost:8080/",
          "height": 271
        },
        "id": "h2Zv649GJ-ZJ",
        "outputId": "726b352c-ae3b-4b2d-a5a1-419841ba930b"
      },
      "source": [
        "plt.subplots(figsize=(20,4))\n",
        "sns.barplot(data=hr_attrition_train_df, x=\"Age\", y=\"HourlyRate\")\n"
      ],
      "execution_count": null,
      "outputs": [
        {
          "output_type": "execute_result",
          "data": {
            "text/plain": [
              "<matplotlib.axes._subplots.AxesSubplot at 0x7f800746ac90>"
            ]
          },
          "metadata": {
            "tags": []
          },
          "execution_count": 25
        },
        {
          "output_type": "display_data",
          "data": {
            "image/png": "[encoded data removed]",
            "text/plain": [
              "<Figure size 1440x288 with 1 Axes>"
            ]
          },
          "metadata": {
            "tags": [],
            "needs_background": "light"
          }
        }
      ]
    },
    {
      "cell_type": "code",
      "metadata": {
        "colab": {
          "base_uri": "https://localhost:8080/"
        },
        "id": "UzFG-EKwNE2u",
        "outputId": "a79fb47c-cfbe-4ba7-c585-690fe7f505b3"
      },
      "source": [
        "hr_attrition_train_df['Attrition'].value_counts()"
      ],
      "execution_count": null,
      "outputs": [
        {
          "output_type": "execute_result",
          "data": {
            "text/plain": [
              "No     853\n",
              "Yes    176\n",
              "Name: Attrition, dtype: int64"
            ]
          },
          "metadata": {
            "tags": []
          },
          "execution_count": 19
        }
      ]
    },
    {
      "cell_type": "code",
      "metadata": {
        "colab": {
          "base_uri": "https://localhost:8080/",
          "height": 296
        },
        "id": "ywTl18LhNPJz",
        "outputId": "4bc9bce0-5691-4454-c43f-7ed3de6198d2"
      },
      "source": [
        "#visualize number of number of employees who have left the company\n",
        "plt.subplots(figsize=(18,4))\n",
        "sns.countplot(x=\"Age\", hue=\"Attrition\",data=hr_attrition_train_df,palette='colorblind')\n"
      ],
      "execution_count": null,
      "outputs": [
        {
          "output_type": "execute_result",
          "data": {
            "text/plain": [
              "<matplotlib.axes._subplots.AxesSubplot at 0x7f7fffbf8710>"
            ]
          },
          "metadata": {
            "tags": []
          },
          "execution_count": 27
        },
        {
          "output_type": "display_data",
          "data": {
            "image/png": "[encoded data removed]",
            "text/plain": [
              "<Figure size 1296x288 with 1 Axes>"
            ]
          },
          "metadata": {
            "tags": [],
            "needs_background": "light"
          }
        }
      ]
    },
    {
      "cell_type": "code",
      "metadata": {
        "colab": {
          "base_uri": "https://localhost:8080/"
        },
        "id": "aKAbJsKnYeEW",
        "outputId": "34393721-da5e-4fa3-da16-471d976379b6"
      },
      "source": [
        "#print all the data types and thier unique values\n",
        "for column in hr_attrition_train_df.columns:\n",
        "  if hr_attrition_train_df[column].dtype==object:\n",
        "    print(str(column)+':'+str(hr_attrition_train_df[column].unique()))\n",
        "    print(hr_attrition_train_df[column].value_counts())\n",
        "    print('+++++++++++++++++++++++++++++++++++++++++++++++++++++++++++')"
      ],
      "execution_count": null,
      "outputs": [
        {
          "output_type": "stream",
          "text": [
            "Attrition:['No' 'Yes']\n",
            "No     853\n",
            "Yes    176\n",
            "Name: Attrition, dtype: int64\n",
            "+++++++++++++++++++++++++++++++++++++++++++++++++++++++++++\n",
            "BusinessTravel:['Travel_Rarely' 'Travel_Frequently' 'Non-Travel' nan]\n",
            "Travel_Rarely        723\n",
            "Travel_Frequently    199\n",
            "Non-Travel           102\n",
            "Name: BusinessTravel, dtype: int64\n",
            "+++++++++++++++++++++++++++++++++++++++++++++++++++++++++++\n",
            "Department:['Research & Development' 'Sales' 'Human Resources']\n",
            "Research & Development    676\n",
            "Sales                     311\n",
            "Human Resources            42\n",
            "Name: Department, dtype: int64\n",
            "+++++++++++++++++++++++++++++++++++++++++++++++++++++++++++\n",
            "EducationField:['Medical' 'Marketing' 'Life Sciences' 'Technical Degree'\n",
            " 'Human Resources' 'Other']\n",
            "Life Sciences       426\n",
            "Medical             328\n",
            "Marketing           110\n",
            "Technical Degree     82\n",
            "Other                66\n",
            "Human Resources      17\n",
            "Name: EducationField, dtype: int64\n",
            "+++++++++++++++++++++++++++++++++++++++++++++++++++++++++++\n",
            "Gender:['Male' 'Female']\n",
            "Male      617\n",
            "Female    412\n",
            "Name: Gender, dtype: int64\n",
            "+++++++++++++++++++++++++++++++++++++++++++++++++++++++++++\n",
            "JobRole:['Research Director' 'Manufacturing Director' 'Sales Representative'\n",
            " 'Manager' 'Healthcare Representative' 'Research Scientist'\n",
            " 'Sales Executive' 'Laboratory Technician' 'Human Resources']\n",
            "Sales Executive              217\n",
            "Research Scientist           214\n",
            "Laboratory Technician        179\n",
            "Manufacturing Director        95\n",
            "Healthcare Representative     89\n",
            "Manager                       73\n",
            "Sales Representative          66\n",
            "Research Director             62\n",
            "Human Resources               34\n",
            "Name: JobRole, dtype: int64\n",
            "+++++++++++++++++++++++++++++++++++++++++++++++++++++++++++\n",
            "MaritalStatus:['Divorced' 'Single' 'Married' nan]\n",
            "Married     474\n",
            "Single      320\n",
            "Divorced    230\n",
            "Name: MaritalStatus, dtype: int64\n",
            "+++++++++++++++++++++++++++++++++++++++++++++++++++++++++++\n",
            "Over18:['Y']\n",
            "Y    1029\n",
            "Name: Over18, dtype: int64\n",
            "+++++++++++++++++++++++++++++++++++++++++++++++++++++++++++\n",
            "OverTime:['No' 'Yes']\n",
            "No     731\n",
            "Yes    298\n",
            "Name: OverTime, dtype: int64\n",
            "+++++++++++++++++++++++++++++++++++++++++++++++++++++++++++\n"
          ],
          "name": "stdout"
        }
      ]
    },
    {
      "cell_type": "code",
      "metadata": {
        "id": "mgDzbBL4a6vu"
      },
      "source": [
        "#remove undeeded columns \n"
      ],
      "execution_count": null,
      "outputs": []
    }
  ]
}