{
  "nbformat": 4,
  "nbformat_minor": 0,
  "metadata": {
    "colab": {
      "name": "preprocesssing_data_ML.ipynb",
      "provenance": [],
      "authorship_tag": "ABX9TyP8Xkz88Lr7w+M2UYcZXEB5",
      "include_colab_link": true
    },
    "kernelspec": {
      "name": "python3",
      "display_name": "Python 3"
    },
    "language_info": {
      "name": "python"
    }
  },
  "cells": [
    {
      "cell_type": "markdown",
      "metadata": {
        "id": "view-in-github",
        "colab_type": "text"
      },
      "source": [
        "<a href=\"https://colab.research.google.com/github/lakesidetech/machine_learning/blob/main/preprocesssing_data_ML.ipynb\" target=\"_parent\"><img src=\"https://colab.research.google.com/assets/colab-badge.svg\" alt=\"Open In Colab\"/></a>"
      ]
    },
    {
      "cell_type": "code",
      "metadata": {
        "id": "SkiGbU-d2leT"
      },
      "source": [
        "#Python can create a decision tree that can be used to decide if any new shows are worth attending to\n",
        "#import libraries\n",
        "import pandas as pd\n",
        "import numpy as np  \n",
        "\n",
        "from sklearn import tree\n",
        "from pandas import read_csv\n",
        "from sklearn.tree import DecisionTreeClassifier\n",
        "\n",
        "import pydotplus\n",
        "import matplotlib.pyplot as plt\n",
        "import matplotlib.image as pltimg\n",
        "\n"
      ],
      "execution_count": 1,
      "outputs": []
    },
    {
      "cell_type": "code",
      "metadata": {
        "colab": {
          "base_uri": "https://localhost:8080/",
          "height": 439
        },
        "id": "yq33Efzu2nbH",
        "outputId": "e246262c-be1a-467c-e5f0-c3d7e8d5901b"
      },
      "source": [
        "#data preprocessing\n",
        "#1 get the dataset\n",
        "show_df=pd.read_csv('/content/shows_2.csv')\n",
        "show_df"
      ],
      "execution_count": 3,
      "outputs": [
        {
          "output_type": "execute_result",
          "data": {
            "text/html": [
              "<div>\n",
              "<style scoped>\n",
              "    .dataframe tbody tr th:only-of-type {\n",
              "        vertical-align: middle;\n",
              "    }\n",
              "\n",
              "    .dataframe tbody tr th {\n",
              "        vertical-align: top;\n",
              "    }\n",
              "\n",
              "    .dataframe thead th {\n",
              "        text-align: right;\n",
              "    }\n",
              "</style>\n",
              "<table border=\"1\" class=\"dataframe\">\n",
              "  <thead>\n",
              "    <tr style=\"text-align: right;\">\n",
              "      <th></th>\n",
              "      <th>Age</th>\n",
              "      <th>Experience</th>\n",
              "      <th>Rank</th>\n",
              "      <th>Nationality</th>\n",
              "      <th>Go</th>\n",
              "    </tr>\n",
              "  </thead>\n",
              "  <tbody>\n",
              "    <tr>\n",
              "      <th>0</th>\n",
              "      <td>36</td>\n",
              "      <td>10.0</td>\n",
              "      <td>9</td>\n",
              "      <td>UK</td>\n",
              "      <td>NO</td>\n",
              "    </tr>\n",
              "    <tr>\n",
              "      <th>1</th>\n",
              "      <td>42</td>\n",
              "      <td>12.0</td>\n",
              "      <td>4</td>\n",
              "      <td>USA</td>\n",
              "      <td>NO</td>\n",
              "    </tr>\n",
              "    <tr>\n",
              "      <th>2</th>\n",
              "      <td>23</td>\n",
              "      <td>4.0</td>\n",
              "      <td>6</td>\n",
              "      <td>N</td>\n",
              "      <td>NO</td>\n",
              "    </tr>\n",
              "    <tr>\n",
              "      <th>3</th>\n",
              "      <td>52</td>\n",
              "      <td>NaN</td>\n",
              "      <td>4</td>\n",
              "      <td>USA</td>\n",
              "      <td>NO</td>\n",
              "    </tr>\n",
              "    <tr>\n",
              "      <th>4</th>\n",
              "      <td>43</td>\n",
              "      <td>21.0</td>\n",
              "      <td>8</td>\n",
              "      <td>USA</td>\n",
              "      <td>YES</td>\n",
              "    </tr>\n",
              "    <tr>\n",
              "      <th>5</th>\n",
              "      <td>44</td>\n",
              "      <td>14.0</td>\n",
              "      <td>5</td>\n",
              "      <td>UK</td>\n",
              "      <td>NO</td>\n",
              "    </tr>\n",
              "    <tr>\n",
              "      <th>6</th>\n",
              "      <td>66</td>\n",
              "      <td>3.0</td>\n",
              "      <td>7</td>\n",
              "      <td>N</td>\n",
              "      <td>YES</td>\n",
              "    </tr>\n",
              "    <tr>\n",
              "      <th>7</th>\n",
              "      <td>35</td>\n",
              "      <td>14.0</td>\n",
              "      <td>9</td>\n",
              "      <td>UK</td>\n",
              "      <td>YES</td>\n",
              "    </tr>\n",
              "    <tr>\n",
              "      <th>8</th>\n",
              "      <td>52</td>\n",
              "      <td>NaN</td>\n",
              "      <td>7</td>\n",
              "      <td>N</td>\n",
              "      <td>YES</td>\n",
              "    </tr>\n",
              "    <tr>\n",
              "      <th>9</th>\n",
              "      <td>35</td>\n",
              "      <td>5.0</td>\n",
              "      <td>9</td>\n",
              "      <td>N</td>\n",
              "      <td>YES</td>\n",
              "    </tr>\n",
              "    <tr>\n",
              "      <th>10</th>\n",
              "      <td>24</td>\n",
              "      <td>3.0</td>\n",
              "      <td>5</td>\n",
              "      <td>USA</td>\n",
              "      <td>NO</td>\n",
              "    </tr>\n",
              "    <tr>\n",
              "      <th>11</th>\n",
              "      <td>18</td>\n",
              "      <td>3.0</td>\n",
              "      <td>7</td>\n",
              "      <td>UK</td>\n",
              "      <td>YES</td>\n",
              "    </tr>\n",
              "    <tr>\n",
              "      <th>12</th>\n",
              "      <td>45</td>\n",
              "      <td>9.0</td>\n",
              "      <td>9</td>\n",
              "      <td>UK</td>\n",
              "      <td>YES</td>\n",
              "    </tr>\n",
              "  </tbody>\n",
              "</table>\n",
              "</div>"
            ],
            "text/plain": [
              "    Age  Experience  Rank Nationality   Go\n",
              "0    36        10.0     9          UK   NO\n",
              "1    42        12.0     4         USA   NO\n",
              "2    23         4.0     6           N   NO\n",
              "3    52         NaN     4         USA   NO\n",
              "4    43        21.0     8         USA  YES\n",
              "5    44        14.0     5          UK   NO\n",
              "6    66         3.0     7           N  YES\n",
              "7    35        14.0     9          UK  YES\n",
              "8    52         NaN     7           N  YES\n",
              "9    35         5.0     9           N  YES\n",
              "10   24         3.0     5         USA   NO\n",
              "11   18         3.0     7          UK  YES\n",
              "12   45         9.0     9          UK  YES"
            ]
          },
          "metadata": {
            "tags": []
          },
          "execution_count": 3
        }
      ]
    },
    {
      "cell_type": "code",
      "metadata": {
        "id": "Nq85s0O73_EY"
      },
      "source": [
        "#find missing data\n",
        "# handle 2 ways\n",
        "# delete the affected row\n",
        "# or calculate the mean\n"
      ],
      "execution_count": null,
      "outputs": []
    },
    {
      "cell_type": "code",
      "metadata": {
        "colab": {
          "base_uri": "https://localhost:8080/"
        },
        "id": "OgGcXLSt5wz_",
        "outputId": "e9c863be-1290-4631-b4fe-be7464215a85"
      },
      "source": [
        "#Extracting dependent and independent variables:\n",
        "#the first colon(:) is used to take all the rows, and the second colon(:) is for all the columns.-1 excludes the last column,\n",
        "#To extract independent variables, again, we will use Pandas .iloc[] method.\n",
        "x= show_df.iloc[:,:-1].values  \n",
        "print(x)\n",
        "#To extract dependent variables, again, we will use Pandas .iloc[] method.\n",
        "y=show_df.iloc[:,4].values\n",
        "print(y)"
      ],
      "execution_count": 8,
      "outputs": [
        {
          "output_type": "stream",
          "text": [
            "[[36 10.0 9 'UK']\n",
            " [42 12.0 4 'USA']\n",
            " [23 4.0 6 'N']\n",
            " [52 nan 4 'USA']\n",
            " [43 21.0 8 'USA']\n",
            " [44 14.0 5 'UK']\n",
            " [66 3.0 7 'N']\n",
            " [35 14.0 9 'UK']\n",
            " [52 nan 7 'N']\n",
            " [35 5.0 9 'N']\n",
            " [24 3.0 5 'USA']\n",
            " [18 3.0 7 'UK']\n",
            " [45 9.0 9 'UK']]\n",
            "['NO' 'NO' 'NO' 'NO' 'YES' 'NO' 'YES' 'YES' 'YES' 'YES' 'NO' 'YES' 'YES']\n"
          ],
          "name": "stdout"
        }
      ]
    }
  ]
}