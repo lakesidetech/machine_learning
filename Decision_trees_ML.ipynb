{
  "nbformat": 4,
  "nbformat_minor": 0,
  "metadata": {
    "colab": {
      "name": "Decision_trees_ML.ipynb",
      "provenance": [],
      "authorship_tag": "ABX9TyPw7D3xbJO9879jZv7wwv+t",
      "include_colab_link": true
    },
    "kernelspec": {
      "name": "python3",
      "display_name": "Python 3"
    },
    "language_info": {
      "name": "python"
    }
  },
  "cells": [
    {
      "cell_type": "markdown",
      "metadata": {
        "id": "view-in-github",
        "colab_type": "text"
      },
      "source": [
        "<a href=\"https://colab.research.google.com/github/lakesidetech/machine_learning/blob/main/Decision_trees_ML.ipynb\" target=\"_parent\"><img src=\"https://colab.research.google.com/assets/colab-badge.svg\" alt=\"Open In Colab\"/></a>"
      ]
    },
    {
      "cell_type": "markdown",
      "metadata": {
        "id": "H5D1tw6nO97I"
      },
      "source": [
        "\n",
        "\n",
        "*   Data Pre-processing step\n",
        "\n",
        "*   Fitting a Decision-Tree algorithm to the Training set\n",
        "\n",
        "*   Predicting the test result\n",
        "\n",
        "*   Test accuracy of the result(Creation of Confusion matrix)\n",
        "\n",
        "\n",
        "*   Visualizing the test set result."
      ]
    },
    {
      "cell_type": "code",
      "metadata": {
        "id": "7YSm42I8O7R0"
      },
      "source": [
        "#Python can create a decision tree that can be used to decide if any new shows are worth attending to\n",
        "import pandas as pd\n",
        "from sklearn import tree\n",
        "from pandas import read_csv\n",
        "from sklearn.tree import DecisionTreeClassifier\n"
      ],
      "execution_count": null,
      "outputs": []
    },
    {
      "cell_type": "markdown",
      "metadata": {
        "id": "HXRSj3iOOwQ_"
      },
      "source": [
        "Load the show dataset"
      ]
    },
    {
      "cell_type": "code",
      "metadata": {
        "colab": {
          "base_uri": "https://localhost:8080/",
          "height": 198
        },
        "id": "7tqA2CtiDGhN",
        "outputId": "51a1db18-b796-46a8-9b8b-5783d10662ee"
      },
      "source": [
        "shows_df=pd.read_csv('/content/shows.csv')\n",
        "shows_df.head()"
      ],
      "execution_count": 5,
      "outputs": [
        {
          "output_type": "execute_result",
          "data": {
            "text/html": [
              "<div>\n",
              "<style scoped>\n",
              "    .dataframe tbody tr th:only-of-type {\n",
              "        vertical-align: middle;\n",
              "    }\n",
              "\n",
              "    .dataframe tbody tr th {\n",
              "        vertical-align: top;\n",
              "    }\n",
              "\n",
              "    .dataframe thead th {\n",
              "        text-align: right;\n",
              "    }\n",
              "</style>\n",
              "<table border=\"1\" class=\"dataframe\">\n",
              "  <thead>\n",
              "    <tr style=\"text-align: right;\">\n",
              "      <th></th>\n",
              "      <th>Age</th>\n",
              "      <th>Experience</th>\n",
              "      <th>Rank</th>\n",
              "      <th>Nationality</th>\n",
              "      <th>Go</th>\n",
              "    </tr>\n",
              "  </thead>\n",
              "  <tbody>\n",
              "    <tr>\n",
              "      <th>0</th>\n",
              "      <td>36</td>\n",
              "      <td>10</td>\n",
              "      <td>9</td>\n",
              "      <td>UK</td>\n",
              "      <td>NO</td>\n",
              "    </tr>\n",
              "    <tr>\n",
              "      <th>1</th>\n",
              "      <td>42</td>\n",
              "      <td>12</td>\n",
              "      <td>4</td>\n",
              "      <td>USA</td>\n",
              "      <td>NO</td>\n",
              "    </tr>\n",
              "    <tr>\n",
              "      <th>2</th>\n",
              "      <td>23</td>\n",
              "      <td>4</td>\n",
              "      <td>6</td>\n",
              "      <td>N</td>\n",
              "      <td>NO</td>\n",
              "    </tr>\n",
              "    <tr>\n",
              "      <th>3</th>\n",
              "      <td>52</td>\n",
              "      <td>4</td>\n",
              "      <td>4</td>\n",
              "      <td>USA</td>\n",
              "      <td>NO</td>\n",
              "    </tr>\n",
              "    <tr>\n",
              "      <th>4</th>\n",
              "      <td>43</td>\n",
              "      <td>21</td>\n",
              "      <td>8</td>\n",
              "      <td>USA</td>\n",
              "      <td>YES</td>\n",
              "    </tr>\n",
              "  </tbody>\n",
              "</table>\n",
              "</div>"
            ],
            "text/plain": [
              "   Age  Experience  Rank Nationality   Go\n",
              "0   36          10     9          UK   NO\n",
              "1   42          12     4         USA   NO\n",
              "2   23           4     6           N   NO\n",
              "3   52           4     4         USA   NO\n",
              "4   43          21     8         USA  YES"
            ]
          },
          "metadata": {
            "tags": []
          },
          "execution_count": 5
        }
      ]
    },
    {
      "cell_type": "code",
      "metadata": {
        "colab": {
          "base_uri": "https://localhost:8080/"
        },
        "id": "Hz4iBxUuQJmZ",
        "outputId": "e0f50d7a-30f0-4a4f-d220-97f25e9f5c17"
      },
      "source": [
        "shows_df.shape"
      ],
      "execution_count": 6,
      "outputs": [
        {
          "output_type": "execute_result",
          "data": {
            "text/plain": [
              "(13, 5)"
            ]
          },
          "metadata": {
            "tags": []
          },
          "execution_count": 6
        }
      ]
    },
    {
      "cell_type": "code",
      "metadata": {
        "id": "zidwAxmKSM24"
      },
      "source": [
        "d = {'UK': 0, 'USA': 1, 'N': 2}\n",
        "shows_df['Nationality'] = shows_df['Nationality'].map(d)\n",
        "d = {'YES': 1, 'NO': 0}\n",
        "shows_df['Go'] = shows_df['Go'].map(d)\n"
      ],
      "execution_count": 12,
      "outputs": []
    },
    {
      "cell_type": "code",
      "metadata": {
        "colab": {
          "base_uri": "https://localhost:8080/"
        },
        "id": "xHIC48OmQAGt",
        "outputId": "a4613ad0-50a3-4563-e415-01896696df37"
      },
      "source": [
        "#Extracting Independent and dependent Variable  \n",
        "#all rows plus 1st,2nd and 3rd columns of data  \n",
        "x= shows_df.iloc[:, [0,2,3]].values\n",
        "#all rows plus last column of data  \n",
        "y= shows_df.iloc[:, -1].values  \n",
        "print(x)\n",
        "print(y)\n"
      ],
      "execution_count": 23,
      "outputs": [
        {
          "output_type": "stream",
          "text": [
            "[[36  9  0]\n",
            " [42  4  1]\n",
            " [23  6  2]\n",
            " [52  4  1]\n",
            " [43  8  1]\n",
            " [44  5  0]\n",
            " [66  7  2]\n",
            " [35  9  0]\n",
            " [52  7  2]\n",
            " [35  9  2]\n",
            " [24  5  1]\n",
            " [18  7  0]\n",
            " [45  9  0]]\n",
            "[0 0 0 0 1 0 1 1 1 1 0 1 1]\n"
          ],
          "name": "stdout"
        }
      ]
    },
    {
      "cell_type": "code",
      "metadata": {
        "colab": {
          "base_uri": "https://localhost:8080/"
        },
        "id": "ysCLN_9IVHkI",
        "outputId": "7608ba85-190a-4b3d-91df-d28d6638a145"
      },
      "source": [
        "features = ['Age', 'Experience', 'Rank', 'Nationality']\n",
        "\n",
        "X = shows_df[features]\n",
        "y = shows_df['Go']\n",
        "print(X)\n",
        "print(y)\n"
      ],
      "execution_count": 22,
      "outputs": [
        {
          "output_type": "stream",
          "text": [
            "    Age  Experience  Rank  Nationality\n",
            "0    36          10     9            0\n",
            "1    42          12     4            1\n",
            "2    23           4     6            2\n",
            "3    52           4     4            1\n",
            "4    43          21     8            1\n",
            "5    44          14     5            0\n",
            "6    66           3     7            2\n",
            "7    35          14     9            0\n",
            "8    52          13     7            2\n",
            "9    35           5     9            2\n",
            "10   24           3     5            1\n",
            "11   18           3     7            0\n",
            "12   45           9     9            0\n",
            "0     0\n",
            "1     0\n",
            "2     0\n",
            "3     0\n",
            "4     1\n",
            "5     0\n",
            "6     1\n",
            "7     1\n",
            "8     1\n",
            "9     1\n",
            "10    0\n",
            "11    1\n",
            "12    1\n",
            "Name: Go, dtype: int64\n"
          ],
          "name": "stdout"
        }
      ]
    },
    {
      "cell_type": "code",
      "metadata": {
        "id": "ITMfoN5fQ2Bk"
      },
      "source": [
        "# Splitting the dataset into training and test set.  \n",
        "from sklearn.model_selection import train_test_split  \n",
        "x_train, x_test, y_train, y_test= train_test_split(x, y, test_size= 0.25, random_state=0)  \n"
      ],
      "execution_count": 18,
      "outputs": []
    },
    {
      "cell_type": "code",
      "metadata": {
        "id": "6jKwiqp5Q6um"
      },
      "source": [
        "#feature Scaling  \n",
        "from sklearn.preprocessing import StandardScaler    \n",
        "st_x= StandardScaler()  \n",
        "x_train= st_x.fit_transform(x_train)    \n",
        "x_test= st_x.transform(x_test)"
      ],
      "execution_count": 19,
      "outputs": []
    }
  ]
}